{
 "cells": [
  {
   "cell_type": "code",
   "execution_count": 4,
   "metadata": {},
   "outputs": [
    {
     "data": {
      "application/vnd.plotly.v1+json": {
       "config": {
        "plotlyServerURL": "https://plot.ly"
       },
       "data": [
        {
         "name": "ts1",
         "text": [
          "85.77%",
          "84.65%",
          "85.60%",
          "84.63%",
          "82.76%",
          "100.00%"
         ],
         "texttemplate": "%{text}",
         "type": "bar",
         "x": [
          2008,
          2009,
          2010,
          2011,
          2012,
          2013
         ],
         "y": [
          0.8577185792349726,
          0.8464573820395738,
          0.8559931506849315,
          0.8463089802130898,
          0.8275766545233758,
          1
         ]
        },
        {
         "name": "ts2",
         "text": [
          "29.09%",
          "29.26%",
          "28.60%",
          "28.56%",
          "28.54%",
          "0.00%"
         ],
         "texttemplate": "%{text}",
         "type": "bar",
         "x": [
          2008,
          2009,
          2010,
          2011,
          2012,
          2013
         ],
         "y": [
          0.2908773527625987,
          0.29255707762557076,
          0.28598934550989347,
          0.2855669710806697,
          0.28541287188828174,
          0
         ]
        }
       ],
       "layout": {
        "template": {
         "data": {
          "bar": [
           {
            "error_x": {
             "color": "#2a3f5f"
            },
            "error_y": {
             "color": "#2a3f5f"
            },
            "marker": {
             "line": {
              "color": "#E5ECF6",
              "width": 0.5
             },
             "pattern": {
              "fillmode": "overlay",
              "size": 10,
              "solidity": 0.2
             }
            },
            "type": "bar"
           }
          ],
          "barpolar": [
           {
            "marker": {
             "line": {
              "color": "#E5ECF6",
              "width": 0.5
             },
             "pattern": {
              "fillmode": "overlay",
              "size": 10,
              "solidity": 0.2
             }
            },
            "type": "barpolar"
           }
          ],
          "carpet": [
           {
            "aaxis": {
             "endlinecolor": "#2a3f5f",
             "gridcolor": "white",
             "linecolor": "white",
             "minorgridcolor": "white",
             "startlinecolor": "#2a3f5f"
            },
            "baxis": {
             "endlinecolor": "#2a3f5f",
             "gridcolor": "white",
             "linecolor": "white",
             "minorgridcolor": "white",
             "startlinecolor": "#2a3f5f"
            },
            "type": "carpet"
           }
          ],
          "choropleth": [
           {
            "colorbar": {
             "outlinewidth": 0,
             "ticks": ""
            },
            "type": "choropleth"
           }
          ],
          "contour": [
           {
            "colorbar": {
             "outlinewidth": 0,
             "ticks": ""
            },
            "colorscale": [
             [
              0,
              "#0d0887"
             ],
             [
              0.1111111111111111,
              "#46039f"
             ],
             [
              0.2222222222222222,
              "#7201a8"
             ],
             [
              0.3333333333333333,
              "#9c179e"
             ],
             [
              0.4444444444444444,
              "#bd3786"
             ],
             [
              0.5555555555555556,
              "#d8576b"
             ],
             [
              0.6666666666666666,
              "#ed7953"
             ],
             [
              0.7777777777777778,
              "#fb9f3a"
             ],
             [
              0.8888888888888888,
              "#fdca26"
             ],
             [
              1,
              "#f0f921"
             ]
            ],
            "type": "contour"
           }
          ],
          "contourcarpet": [
           {
            "colorbar": {
             "outlinewidth": 0,
             "ticks": ""
            },
            "type": "contourcarpet"
           }
          ],
          "heatmap": [
           {
            "colorbar": {
             "outlinewidth": 0,
             "ticks": ""
            },
            "colorscale": [
             [
              0,
              "#0d0887"
             ],
             [
              0.1111111111111111,
              "#46039f"
             ],
             [
              0.2222222222222222,
              "#7201a8"
             ],
             [
              0.3333333333333333,
              "#9c179e"
             ],
             [
              0.4444444444444444,
              "#bd3786"
             ],
             [
              0.5555555555555556,
              "#d8576b"
             ],
             [
              0.6666666666666666,
              "#ed7953"
             ],
             [
              0.7777777777777778,
              "#fb9f3a"
             ],
             [
              0.8888888888888888,
              "#fdca26"
             ],
             [
              1,
              "#f0f921"
             ]
            ],
            "type": "heatmap"
           }
          ],
          "heatmapgl": [
           {
            "colorbar": {
             "outlinewidth": 0,
             "ticks": ""
            },
            "colorscale": [
             [
              0,
              "#0d0887"
             ],
             [
              0.1111111111111111,
              "#46039f"
             ],
             [
              0.2222222222222222,
              "#7201a8"
             ],
             [
              0.3333333333333333,
              "#9c179e"
             ],
             [
              0.4444444444444444,
              "#bd3786"
             ],
             [
              0.5555555555555556,
              "#d8576b"
             ],
             [
              0.6666666666666666,
              "#ed7953"
             ],
             [
              0.7777777777777778,
              "#fb9f3a"
             ],
             [
              0.8888888888888888,
              "#fdca26"
             ],
             [
              1,
              "#f0f921"
             ]
            ],
            "type": "heatmapgl"
           }
          ],
          "histogram": [
           {
            "marker": {
             "pattern": {
              "fillmode": "overlay",
              "size": 10,
              "solidity": 0.2
             }
            },
            "type": "histogram"
           }
          ],
          "histogram2d": [
           {
            "colorbar": {
             "outlinewidth": 0,
             "ticks": ""
            },
            "colorscale": [
             [
              0,
              "#0d0887"
             ],
             [
              0.1111111111111111,
              "#46039f"
             ],
             [
              0.2222222222222222,
              "#7201a8"
             ],
             [
              0.3333333333333333,
              "#9c179e"
             ],
             [
              0.4444444444444444,
              "#bd3786"
             ],
             [
              0.5555555555555556,
              "#d8576b"
             ],
             [
              0.6666666666666666,
              "#ed7953"
             ],
             [
              0.7777777777777778,
              "#fb9f3a"
             ],
             [
              0.8888888888888888,
              "#fdca26"
             ],
             [
              1,
              "#f0f921"
             ]
            ],
            "type": "histogram2d"
           }
          ],
          "histogram2dcontour": [
           {
            "colorbar": {
             "outlinewidth": 0,
             "ticks": ""
            },
            "colorscale": [
             [
              0,
              "#0d0887"
             ],
             [
              0.1111111111111111,
              "#46039f"
             ],
             [
              0.2222222222222222,
              "#7201a8"
             ],
             [
              0.3333333333333333,
              "#9c179e"
             ],
             [
              0.4444444444444444,
              "#bd3786"
             ],
             [
              0.5555555555555556,
              "#d8576b"
             ],
             [
              0.6666666666666666,
              "#ed7953"
             ],
             [
              0.7777777777777778,
              "#fb9f3a"
             ],
             [
              0.8888888888888888,
              "#fdca26"
             ],
             [
              1,
              "#f0f921"
             ]
            ],
            "type": "histogram2dcontour"
           }
          ],
          "mesh3d": [
           {
            "colorbar": {
             "outlinewidth": 0,
             "ticks": ""
            },
            "type": "mesh3d"
           }
          ],
          "parcoords": [
           {
            "line": {
             "colorbar": {
              "outlinewidth": 0,
              "ticks": ""
             }
            },
            "type": "parcoords"
           }
          ],
          "pie": [
           {
            "automargin": true,
            "type": "pie"
           }
          ],
          "scatter": [
           {
            "fillpattern": {
             "fillmode": "overlay",
             "size": 10,
             "solidity": 0.2
            },
            "type": "scatter"
           }
          ],
          "scatter3d": [
           {
            "line": {
             "colorbar": {
              "outlinewidth": 0,
              "ticks": ""
             }
            },
            "marker": {
             "colorbar": {
              "outlinewidth": 0,
              "ticks": ""
             }
            },
            "type": "scatter3d"
           }
          ],
          "scattercarpet": [
           {
            "marker": {
             "colorbar": {
              "outlinewidth": 0,
              "ticks": ""
             }
            },
            "type": "scattercarpet"
           }
          ],
          "scattergeo": [
           {
            "marker": {
             "colorbar": {
              "outlinewidth": 0,
              "ticks": ""
             }
            },
            "type": "scattergeo"
           }
          ],
          "scattergl": [
           {
            "marker": {
             "colorbar": {
              "outlinewidth": 0,
              "ticks": ""
             }
            },
            "type": "scattergl"
           }
          ],
          "scattermapbox": [
           {
            "marker": {
             "colorbar": {
              "outlinewidth": 0,
              "ticks": ""
             }
            },
            "type": "scattermapbox"
           }
          ],
          "scatterpolar": [
           {
            "marker": {
             "colorbar": {
              "outlinewidth": 0,
              "ticks": ""
             }
            },
            "type": "scatterpolar"
           }
          ],
          "scatterpolargl": [
           {
            "marker": {
             "colorbar": {
              "outlinewidth": 0,
              "ticks": ""
             }
            },
            "type": "scatterpolargl"
           }
          ],
          "scatterternary": [
           {
            "marker": {
             "colorbar": {
              "outlinewidth": 0,
              "ticks": ""
             }
            },
            "type": "scatterternary"
           }
          ],
          "surface": [
           {
            "colorbar": {
             "outlinewidth": 0,
             "ticks": ""
            },
            "colorscale": [
             [
              0,
              "#0d0887"
             ],
             [
              0.1111111111111111,
              "#46039f"
             ],
             [
              0.2222222222222222,
              "#7201a8"
             ],
             [
              0.3333333333333333,
              "#9c179e"
             ],
             [
              0.4444444444444444,
              "#bd3786"
             ],
             [
              0.5555555555555556,
              "#d8576b"
             ],
             [
              0.6666666666666666,
              "#ed7953"
             ],
             [
              0.7777777777777778,
              "#fb9f3a"
             ],
             [
              0.8888888888888888,
              "#fdca26"
             ],
             [
              1,
              "#f0f921"
             ]
            ],
            "type": "surface"
           }
          ],
          "table": [
           {
            "cells": {
             "fill": {
              "color": "#EBF0F8"
             },
             "line": {
              "color": "white"
             }
            },
            "header": {
             "fill": {
              "color": "#C8D4E3"
             },
             "line": {
              "color": "white"
             }
            },
            "type": "table"
           }
          ]
         },
         "layout": {
          "annotationdefaults": {
           "arrowcolor": "#2a3f5f",
           "arrowhead": 0,
           "arrowwidth": 1
          },
          "autotypenumbers": "strict",
          "coloraxis": {
           "colorbar": {
            "outlinewidth": 0,
            "ticks": ""
           }
          },
          "colorscale": {
           "diverging": [
            [
             0,
             "#8e0152"
            ],
            [
             0.1,
             "#c51b7d"
            ],
            [
             0.2,
             "#de77ae"
            ],
            [
             0.3,
             "#f1b6da"
            ],
            [
             0.4,
             "#fde0ef"
            ],
            [
             0.5,
             "#f7f7f7"
            ],
            [
             0.6,
             "#e6f5d0"
            ],
            [
             0.7,
             "#b8e186"
            ],
            [
             0.8,
             "#7fbc41"
            ],
            [
             0.9,
             "#4d9221"
            ],
            [
             1,
             "#276419"
            ]
           ],
           "sequential": [
            [
             0,
             "#0d0887"
            ],
            [
             0.1111111111111111,
             "#46039f"
            ],
            [
             0.2222222222222222,
             "#7201a8"
            ],
            [
             0.3333333333333333,
             "#9c179e"
            ],
            [
             0.4444444444444444,
             "#bd3786"
            ],
            [
             0.5555555555555556,
             "#d8576b"
            ],
            [
             0.6666666666666666,
             "#ed7953"
            ],
            [
             0.7777777777777778,
             "#fb9f3a"
            ],
            [
             0.8888888888888888,
             "#fdca26"
            ],
            [
             1,
             "#f0f921"
            ]
           ],
           "sequentialminus": [
            [
             0,
             "#0d0887"
            ],
            [
             0.1111111111111111,
             "#46039f"
            ],
            [
             0.2222222222222222,
             "#7201a8"
            ],
            [
             0.3333333333333333,
             "#9c179e"
            ],
            [
             0.4444444444444444,
             "#bd3786"
            ],
            [
             0.5555555555555556,
             "#d8576b"
            ],
            [
             0.6666666666666666,
             "#ed7953"
            ],
            [
             0.7777777777777778,
             "#fb9f3a"
            ],
            [
             0.8888888888888888,
             "#fdca26"
            ],
            [
             1,
             "#f0f921"
            ]
           ]
          },
          "colorway": [
           "#636efa",
           "#EF553B",
           "#00cc96",
           "#ab63fa",
           "#FFA15A",
           "#19d3f3",
           "#FF6692",
           "#B6E880",
           "#FF97FF",
           "#FECB52"
          ],
          "font": {
           "color": "#2a3f5f"
          },
          "geo": {
           "bgcolor": "white",
           "lakecolor": "white",
           "landcolor": "#E5ECF6",
           "showlakes": true,
           "showland": true,
           "subunitcolor": "white"
          },
          "hoverlabel": {
           "align": "left"
          },
          "hovermode": "closest",
          "mapbox": {
           "style": "light"
          },
          "paper_bgcolor": "white",
          "plot_bgcolor": "#E5ECF6",
          "polar": {
           "angularaxis": {
            "gridcolor": "white",
            "linecolor": "white",
            "ticks": ""
           },
           "bgcolor": "#E5ECF6",
           "radialaxis": {
            "gridcolor": "white",
            "linecolor": "white",
            "ticks": ""
           }
          },
          "scene": {
           "xaxis": {
            "backgroundcolor": "#E5ECF6",
            "gridcolor": "white",
            "gridwidth": 2,
            "linecolor": "white",
            "showbackground": true,
            "ticks": "",
            "zerolinecolor": "white"
           },
           "yaxis": {
            "backgroundcolor": "#E5ECF6",
            "gridcolor": "white",
            "gridwidth": 2,
            "linecolor": "white",
            "showbackground": true,
            "ticks": "",
            "zerolinecolor": "white"
           },
           "zaxis": {
            "backgroundcolor": "#E5ECF6",
            "gridcolor": "white",
            "gridwidth": 2,
            "linecolor": "white",
            "showbackground": true,
            "ticks": "",
            "zerolinecolor": "white"
           }
          },
          "shapedefaults": {
           "line": {
            "color": "#2a3f5f"
           }
          },
          "ternary": {
           "aaxis": {
            "gridcolor": "white",
            "linecolor": "white",
            "ticks": ""
           },
           "baxis": {
            "gridcolor": "white",
            "linecolor": "white",
            "ticks": ""
           },
           "bgcolor": "#E5ECF6",
           "caxis": {
            "gridcolor": "white",
            "linecolor": "white",
            "ticks": ""
           }
          },
          "title": {
           "x": 0.05
          },
          "xaxis": {
           "automargin": true,
           "gridcolor": "white",
           "linecolor": "white",
           "ticks": "",
           "title": {
            "standoff": 15
           },
           "zerolinecolor": "white",
           "zerolinewidth": 2
          },
          "yaxis": {
           "automargin": true,
           "gridcolor": "white",
           "linecolor": "white",
           "ticks": "",
           "title": {
            "standoff": 15
           },
           "zerolinecolor": "white",
           "zerolinewidth": 2
          }
         }
        },
        "title": {
         "text": "Histograms for % of missing data of ts1 and ts2 by YEAR"
        },
        "xaxis": {
         "title": {
          "text": "Year"
         }
        },
        "yaxis": {
         "title": {
          "text": "% Missing Data"
         }
        }
       }
      },
      "text/html": [
       "<div>                            <div id=\"92d1ab53-8c14-426c-b168-51c3889cf3e0\" class=\"plotly-graph-div\" style=\"height:525px; width:100%;\"></div>            <script type=\"text/javascript\">                require([\"plotly\"], function(Plotly) {                    window.PLOTLYENV=window.PLOTLYENV || {};                                    if (document.getElementById(\"92d1ab53-8c14-426c-b168-51c3889cf3e0\")) {                    Plotly.newPlot(                        \"92d1ab53-8c14-426c-b168-51c3889cf3e0\",                        [{\"name\":\"ts1\",\"text\":[\"85.77%\",\"84.65%\",\"85.60%\",\"84.63%\",\"82.76%\",\"100.00%\"],\"texttemplate\":\"%{text}\",\"x\":[2008,2009,2010,2011,2012,2013],\"y\":[0.8577185792349726,0.8464573820395738,0.8559931506849315,0.8463089802130898,0.8275766545233758,1.0],\"type\":\"bar\"},{\"name\":\"ts2\",\"text\":[\"29.09%\",\"29.26%\",\"28.60%\",\"28.56%\",\"28.54%\",\"0.00%\"],\"texttemplate\":\"%{text}\",\"x\":[2008,2009,2010,2011,2012,2013],\"y\":[0.2908773527625987,0.29255707762557076,0.28598934550989347,0.2855669710806697,0.28541287188828174,0.0],\"type\":\"bar\"}],                        {\"template\":{\"data\":{\"histogram2dcontour\":[{\"type\":\"histogram2dcontour\",\"colorbar\":{\"outlinewidth\":0,\"ticks\":\"\"},\"colorscale\":[[0.0,\"#0d0887\"],[0.1111111111111111,\"#46039f\"],[0.2222222222222222,\"#7201a8\"],[0.3333333333333333,\"#9c179e\"],[0.4444444444444444,\"#bd3786\"],[0.5555555555555556,\"#d8576b\"],[0.6666666666666666,\"#ed7953\"],[0.7777777777777778,\"#fb9f3a\"],[0.8888888888888888,\"#fdca26\"],[1.0,\"#f0f921\"]]}],\"choropleth\":[{\"type\":\"choropleth\",\"colorbar\":{\"outlinewidth\":0,\"ticks\":\"\"}}],\"histogram2d\":[{\"type\":\"histogram2d\",\"colorbar\":{\"outlinewidth\":0,\"ticks\":\"\"},\"colorscale\":[[0.0,\"#0d0887\"],[0.1111111111111111,\"#46039f\"],[0.2222222222222222,\"#7201a8\"],[0.3333333333333333,\"#9c179e\"],[0.4444444444444444,\"#bd3786\"],[0.5555555555555556,\"#d8576b\"],[0.6666666666666666,\"#ed7953\"],[0.7777777777777778,\"#fb9f3a\"],[0.8888888888888888,\"#fdca26\"],[1.0,\"#f0f921\"]]}],\"heatmap\":[{\"type\":\"heatmap\",\"colorbar\":{\"outlinewidth\":0,\"ticks\":\"\"},\"colorscale\":[[0.0,\"#0d0887\"],[0.1111111111111111,\"#46039f\"],[0.2222222222222222,\"#7201a8\"],[0.3333333333333333,\"#9c179e\"],[0.4444444444444444,\"#bd3786\"],[0.5555555555555556,\"#d8576b\"],[0.6666666666666666,\"#ed7953\"],[0.7777777777777778,\"#fb9f3a\"],[0.8888888888888888,\"#fdca26\"],[1.0,\"#f0f921\"]]}],\"heatmapgl\":[{\"type\":\"heatmapgl\",\"colorbar\":{\"outlinewidth\":0,\"ticks\":\"\"},\"colorscale\":[[0.0,\"#0d0887\"],[0.1111111111111111,\"#46039f\"],[0.2222222222222222,\"#7201a8\"],[0.3333333333333333,\"#9c179e\"],[0.4444444444444444,\"#bd3786\"],[0.5555555555555556,\"#d8576b\"],[0.6666666666666666,\"#ed7953\"],[0.7777777777777778,\"#fb9f3a\"],[0.8888888888888888,\"#fdca26\"],[1.0,\"#f0f921\"]]}],\"contourcarpet\":[{\"type\":\"contourcarpet\",\"colorbar\":{\"outlinewidth\":0,\"ticks\":\"\"}}],\"contour\":[{\"type\":\"contour\",\"colorbar\":{\"outlinewidth\":0,\"ticks\":\"\"},\"colorscale\":[[0.0,\"#0d0887\"],[0.1111111111111111,\"#46039f\"],[0.2222222222222222,\"#7201a8\"],[0.3333333333333333,\"#9c179e\"],[0.4444444444444444,\"#bd3786\"],[0.5555555555555556,\"#d8576b\"],[0.6666666666666666,\"#ed7953\"],[0.7777777777777778,\"#fb9f3a\"],[0.8888888888888888,\"#fdca26\"],[1.0,\"#f0f921\"]]}],\"surface\":[{\"type\":\"surface\",\"colorbar\":{\"outlinewidth\":0,\"ticks\":\"\"},\"colorscale\":[[0.0,\"#0d0887\"],[0.1111111111111111,\"#46039f\"],[0.2222222222222222,\"#7201a8\"],[0.3333333333333333,\"#9c179e\"],[0.4444444444444444,\"#bd3786\"],[0.5555555555555556,\"#d8576b\"],[0.6666666666666666,\"#ed7953\"],[0.7777777777777778,\"#fb9f3a\"],[0.8888888888888888,\"#fdca26\"],[1.0,\"#f0f921\"]]}],\"mesh3d\":[{\"type\":\"mesh3d\",\"colorbar\":{\"outlinewidth\":0,\"ticks\":\"\"}}],\"scatter\":[{\"fillpattern\":{\"fillmode\":\"overlay\",\"size\":10,\"solidity\":0.2},\"type\":\"scatter\"}],\"parcoords\":[{\"type\":\"parcoords\",\"line\":{\"colorbar\":{\"outlinewidth\":0,\"ticks\":\"\"}}}],\"scatterpolargl\":[{\"type\":\"scatterpolargl\",\"marker\":{\"colorbar\":{\"outlinewidth\":0,\"ticks\":\"\"}}}],\"bar\":[{\"error_x\":{\"color\":\"#2a3f5f\"},\"error_y\":{\"color\":\"#2a3f5f\"},\"marker\":{\"line\":{\"color\":\"#E5ECF6\",\"width\":0.5},\"pattern\":{\"fillmode\":\"overlay\",\"size\":10,\"solidity\":0.2}},\"type\":\"bar\"}],\"scattergeo\":[{\"type\":\"scattergeo\",\"marker\":{\"colorbar\":{\"outlinewidth\":0,\"ticks\":\"\"}}}],\"scatterpolar\":[{\"type\":\"scatterpolar\",\"marker\":{\"colorbar\":{\"outlinewidth\":0,\"ticks\":\"\"}}}],\"histogram\":[{\"marker\":{\"pattern\":{\"fillmode\":\"overlay\",\"size\":10,\"solidity\":0.2}},\"type\":\"histogram\"}],\"scattergl\":[{\"type\":\"scattergl\",\"marker\":{\"colorbar\":{\"outlinewidth\":0,\"ticks\":\"\"}}}],\"scatter3d\":[{\"type\":\"scatter3d\",\"line\":{\"colorbar\":{\"outlinewidth\":0,\"ticks\":\"\"}},\"marker\":{\"colorbar\":{\"outlinewidth\":0,\"ticks\":\"\"}}}],\"scattermapbox\":[{\"type\":\"scattermapbox\",\"marker\":{\"colorbar\":{\"outlinewidth\":0,\"ticks\":\"\"}}}],\"scatterternary\":[{\"type\":\"scatterternary\",\"marker\":{\"colorbar\":{\"outlinewidth\":0,\"ticks\":\"\"}}}],\"scattercarpet\":[{\"type\":\"scattercarpet\",\"marker\":{\"colorbar\":{\"outlinewidth\":0,\"ticks\":\"\"}}}],\"carpet\":[{\"aaxis\":{\"endlinecolor\":\"#2a3f5f\",\"gridcolor\":\"white\",\"linecolor\":\"white\",\"minorgridcolor\":\"white\",\"startlinecolor\":\"#2a3f5f\"},\"baxis\":{\"endlinecolor\":\"#2a3f5f\",\"gridcolor\":\"white\",\"linecolor\":\"white\",\"minorgridcolor\":\"white\",\"startlinecolor\":\"#2a3f5f\"},\"type\":\"carpet\"}],\"table\":[{\"cells\":{\"fill\":{\"color\":\"#EBF0F8\"},\"line\":{\"color\":\"white\"}},\"header\":{\"fill\":{\"color\":\"#C8D4E3\"},\"line\":{\"color\":\"white\"}},\"type\":\"table\"}],\"barpolar\":[{\"marker\":{\"line\":{\"color\":\"#E5ECF6\",\"width\":0.5},\"pattern\":{\"fillmode\":\"overlay\",\"size\":10,\"solidity\":0.2}},\"type\":\"barpolar\"}],\"pie\":[{\"automargin\":true,\"type\":\"pie\"}]},\"layout\":{\"autotypenumbers\":\"strict\",\"colorway\":[\"#636efa\",\"#EF553B\",\"#00cc96\",\"#ab63fa\",\"#FFA15A\",\"#19d3f3\",\"#FF6692\",\"#B6E880\",\"#FF97FF\",\"#FECB52\"],\"font\":{\"color\":\"#2a3f5f\"},\"hovermode\":\"closest\",\"hoverlabel\":{\"align\":\"left\"},\"paper_bgcolor\":\"white\",\"plot_bgcolor\":\"#E5ECF6\",\"polar\":{\"bgcolor\":\"#E5ECF6\",\"angularaxis\":{\"gridcolor\":\"white\",\"linecolor\":\"white\",\"ticks\":\"\"},\"radialaxis\":{\"gridcolor\":\"white\",\"linecolor\":\"white\",\"ticks\":\"\"}},\"ternary\":{\"bgcolor\":\"#E5ECF6\",\"aaxis\":{\"gridcolor\":\"white\",\"linecolor\":\"white\",\"ticks\":\"\"},\"baxis\":{\"gridcolor\":\"white\",\"linecolor\":\"white\",\"ticks\":\"\"},\"caxis\":{\"gridcolor\":\"white\",\"linecolor\":\"white\",\"ticks\":\"\"}},\"coloraxis\":{\"colorbar\":{\"outlinewidth\":0,\"ticks\":\"\"}},\"colorscale\":{\"sequential\":[[0.0,\"#0d0887\"],[0.1111111111111111,\"#46039f\"],[0.2222222222222222,\"#7201a8\"],[0.3333333333333333,\"#9c179e\"],[0.4444444444444444,\"#bd3786\"],[0.5555555555555556,\"#d8576b\"],[0.6666666666666666,\"#ed7953\"],[0.7777777777777778,\"#fb9f3a\"],[0.8888888888888888,\"#fdca26\"],[1.0,\"#f0f921\"]],\"sequentialminus\":[[0.0,\"#0d0887\"],[0.1111111111111111,\"#46039f\"],[0.2222222222222222,\"#7201a8\"],[0.3333333333333333,\"#9c179e\"],[0.4444444444444444,\"#bd3786\"],[0.5555555555555556,\"#d8576b\"],[0.6666666666666666,\"#ed7953\"],[0.7777777777777778,\"#fb9f3a\"],[0.8888888888888888,\"#fdca26\"],[1.0,\"#f0f921\"]],\"diverging\":[[0,\"#8e0152\"],[0.1,\"#c51b7d\"],[0.2,\"#de77ae\"],[0.3,\"#f1b6da\"],[0.4,\"#fde0ef\"],[0.5,\"#f7f7f7\"],[0.6,\"#e6f5d0\"],[0.7,\"#b8e186\"],[0.8,\"#7fbc41\"],[0.9,\"#4d9221\"],[1,\"#276419\"]]},\"xaxis\":{\"gridcolor\":\"white\",\"linecolor\":\"white\",\"ticks\":\"\",\"title\":{\"standoff\":15},\"zerolinecolor\":\"white\",\"automargin\":true,\"zerolinewidth\":2},\"yaxis\":{\"gridcolor\":\"white\",\"linecolor\":\"white\",\"ticks\":\"\",\"title\":{\"standoff\":15},\"zerolinecolor\":\"white\",\"automargin\":true,\"zerolinewidth\":2},\"scene\":{\"xaxis\":{\"backgroundcolor\":\"#E5ECF6\",\"gridcolor\":\"white\",\"linecolor\":\"white\",\"showbackground\":true,\"ticks\":\"\",\"zerolinecolor\":\"white\",\"gridwidth\":2},\"yaxis\":{\"backgroundcolor\":\"#E5ECF6\",\"gridcolor\":\"white\",\"linecolor\":\"white\",\"showbackground\":true,\"ticks\":\"\",\"zerolinecolor\":\"white\",\"gridwidth\":2},\"zaxis\":{\"backgroundcolor\":\"#E5ECF6\",\"gridcolor\":\"white\",\"linecolor\":\"white\",\"showbackground\":true,\"ticks\":\"\",\"zerolinecolor\":\"white\",\"gridwidth\":2}},\"shapedefaults\":{\"line\":{\"color\":\"#2a3f5f\"}},\"annotationdefaults\":{\"arrowcolor\":\"#2a3f5f\",\"arrowhead\":0,\"arrowwidth\":1},\"geo\":{\"bgcolor\":\"white\",\"landcolor\":\"#E5ECF6\",\"subunitcolor\":\"white\",\"showland\":true,\"showlakes\":true,\"lakecolor\":\"white\"},\"title\":{\"x\":0.05},\"mapbox\":{\"style\":\"light\"}}},\"title\":{\"text\":\"Histograms for % of missing data of ts1 and ts2 by YEAR\"},\"xaxis\":{\"title\":{\"text\":\"Year\"}},\"yaxis\":{\"title\":{\"text\":\"% Missing Data\"}}},                        {\"responsive\": true}                    ).then(function(){\n",
       "                            \n",
       "var gd = document.getElementById('92d1ab53-8c14-426c-b168-51c3889cf3e0');\n",
       "var x = new MutationObserver(function (mutations, observer) {{\n",
       "        var display = window.getComputedStyle(gd).display;\n",
       "        if (!display || display === 'none') {{\n",
       "            console.log([gd, 'removed!']);\n",
       "            Plotly.purge(gd);\n",
       "            observer.disconnect();\n",
       "        }}\n",
       "}});\n",
       "\n",
       "// Listen for the removal of the full notebook cells\n",
       "var notebookContainer = gd.closest('#notebook-container');\n",
       "if (notebookContainer) {{\n",
       "    x.observe(notebookContainer, {childList: true});\n",
       "}}\n",
       "\n",
       "// Listen for the clearing of the current output cell\n",
       "var outputEl = gd.closest('.output');\n",
       "if (outputEl) {{\n",
       "    x.observe(outputEl, {childList: true});\n",
       "}}\n",
       "\n",
       "                        })                };                });            </script>        </div>"
      ]
     },
     "metadata": {},
     "output_type": "display_data"
    },
    {
     "data": {
      "application/vnd.plotly.v1+json": {
       "config": {
        "plotlyServerURL": "https://plot.ly"
       },
       "data": [
        {
         "name": "ts1",
         "text": [
          "64.88%",
          "68.19%",
          "72.98%",
          "70.67%",
          "69.00%",
          "75.98%",
          "86.18%",
          "85.09%",
          "86.96%",
          "89.14%",
          "90.37%",
          "90.45%",
          "89.42%",
          "89.61%",
          "90.44%",
          "92.58%",
          "95.24%",
          "96.76%",
          "96.94%",
          "96.42%",
          "98.32%",
          "92.25%",
          "76.48%",
          "68.00%"
         ],
         "texttemplate": "%{text}",
         "type": "bar",
         "x": [
          0,
          1,
          2,
          3,
          4,
          5,
          6,
          7,
          8,
          9,
          10,
          11,
          12,
          13,
          14,
          15,
          16,
          17,
          18,
          19,
          20,
          21,
          22,
          23
         ],
         "y": [
          0.6487931254675157,
          0.6818646232439336,
          0.7297938332421091,
          0.7067323481116584,
          0.689983579638752,
          0.7598066046341908,
          0.8617952928297756,
          0.8508666301769751,
          0.8696405765371282,
          0.891351943076081,
          0.9037219485495348,
          0.904488232074439,
          0.8942346287173873,
          0.8960591133004926,
          0.9044334975369458,
          0.9257799671592775,
          0.9523809523809523,
          0.9675789089582193,
          0.9694033935413245,
          0.9641853676336435,
          0.9831964969896004,
          0.9225141397555191,
          0.7647509578544062,
          0.6800036489691662
         ]
        },
        {
         "name": "ts2",
         "text": [
          "28.81%",
          "28.83%",
          "28.87%",
          "28.91%",
          "28.89%",
          "28.85%",
          "28.78%",
          "28.81%",
          "28.85%",
          "28.88%",
          "28.94%",
          "28.93%",
          "28.91%",
          "28.92%",
          "28.94%",
          "28.93%",
          "28.95%",
          "28.98%",
          "29.00%",
          "29.14%",
          "29.24%",
          "25.50%",
          "29.46%",
          "29.05%"
         ],
         "texttemplate": "%{text}",
         "type": "bar",
         "x": [
          0,
          1,
          2,
          3,
          4,
          5,
          6,
          7,
          8,
          9,
          10,
          11,
          12,
          13,
          14,
          15,
          16,
          17,
          18,
          19,
          20,
          21,
          22,
          23
         ],
         "y": [
          0.2880626151684881,
          0.2883232986681262,
          0.28872468527640943,
          0.2891260718846926,
          0.288943623426382,
          0.2885422368180989,
          0.28781244298485675,
          0.28812260536398465,
          0.28852399197226786,
          0.2888159095055647,
          0.2893997445721584,
          0.2892537858055099,
          0.2891078270388615,
          0.2892355409596789,
          0.2894362342638205,
          0.2892537858055099,
          0.28950921364714466,
          0.28983762087210363,
          0.28998357963875204,
          0.2914431673052363,
          0.2923554095967889,
          0.255008210180624,
          0.29461777047983945,
          0.2904944353220215
         ]
        }
       ],
       "layout": {
        "template": {
         "data": {
          "bar": [
           {
            "error_x": {
             "color": "#2a3f5f"
            },
            "error_y": {
             "color": "#2a3f5f"
            },
            "marker": {
             "line": {
              "color": "#E5ECF6",
              "width": 0.5
             },
             "pattern": {
              "fillmode": "overlay",
              "size": 10,
              "solidity": 0.2
             }
            },
            "type": "bar"
           }
          ],
          "barpolar": [
           {
            "marker": {
             "line": {
              "color": "#E5ECF6",
              "width": 0.5
             },
             "pattern": {
              "fillmode": "overlay",
              "size": 10,
              "solidity": 0.2
             }
            },
            "type": "barpolar"
           }
          ],
          "carpet": [
           {
            "aaxis": {
             "endlinecolor": "#2a3f5f",
             "gridcolor": "white",
             "linecolor": "white",
             "minorgridcolor": "white",
             "startlinecolor": "#2a3f5f"
            },
            "baxis": {
             "endlinecolor": "#2a3f5f",
             "gridcolor": "white",
             "linecolor": "white",
             "minorgridcolor": "white",
             "startlinecolor": "#2a3f5f"
            },
            "type": "carpet"
           }
          ],
          "choropleth": [
           {
            "colorbar": {
             "outlinewidth": 0,
             "ticks": ""
            },
            "type": "choropleth"
           }
          ],
          "contour": [
           {
            "colorbar": {
             "outlinewidth": 0,
             "ticks": ""
            },
            "colorscale": [
             [
              0,
              "#0d0887"
             ],
             [
              0.1111111111111111,
              "#46039f"
             ],
             [
              0.2222222222222222,
              "#7201a8"
             ],
             [
              0.3333333333333333,
              "#9c179e"
             ],
             [
              0.4444444444444444,
              "#bd3786"
             ],
             [
              0.5555555555555556,
              "#d8576b"
             ],
             [
              0.6666666666666666,
              "#ed7953"
             ],
             [
              0.7777777777777778,
              "#fb9f3a"
             ],
             [
              0.8888888888888888,
              "#fdca26"
             ],
             [
              1,
              "#f0f921"
             ]
            ],
            "type": "contour"
           }
          ],
          "contourcarpet": [
           {
            "colorbar": {
             "outlinewidth": 0,
             "ticks": ""
            },
            "type": "contourcarpet"
           }
          ],
          "heatmap": [
           {
            "colorbar": {
             "outlinewidth": 0,
             "ticks": ""
            },
            "colorscale": [
             [
              0,
              "#0d0887"
             ],
             [
              0.1111111111111111,
              "#46039f"
             ],
             [
              0.2222222222222222,
              "#7201a8"
             ],
             [
              0.3333333333333333,
              "#9c179e"
             ],
             [
              0.4444444444444444,
              "#bd3786"
             ],
             [
              0.5555555555555556,
              "#d8576b"
             ],
             [
              0.6666666666666666,
              "#ed7953"
             ],
             [
              0.7777777777777778,
              "#fb9f3a"
             ],
             [
              0.8888888888888888,
              "#fdca26"
             ],
             [
              1,
              "#f0f921"
             ]
            ],
            "type": "heatmap"
           }
          ],
          "heatmapgl": [
           {
            "colorbar": {
             "outlinewidth": 0,
             "ticks": ""
            },
            "colorscale": [
             [
              0,
              "#0d0887"
             ],
             [
              0.1111111111111111,
              "#46039f"
             ],
             [
              0.2222222222222222,
              "#7201a8"
             ],
             [
              0.3333333333333333,
              "#9c179e"
             ],
             [
              0.4444444444444444,
              "#bd3786"
             ],
             [
              0.5555555555555556,
              "#d8576b"
             ],
             [
              0.6666666666666666,
              "#ed7953"
             ],
             [
              0.7777777777777778,
              "#fb9f3a"
             ],
             [
              0.8888888888888888,
              "#fdca26"
             ],
             [
              1,
              "#f0f921"
             ]
            ],
            "type": "heatmapgl"
           }
          ],
          "histogram": [
           {
            "marker": {
             "pattern": {
              "fillmode": "overlay",
              "size": 10,
              "solidity": 0.2
             }
            },
            "type": "histogram"
           }
          ],
          "histogram2d": [
           {
            "colorbar": {
             "outlinewidth": 0,
             "ticks": ""
            },
            "colorscale": [
             [
              0,
              "#0d0887"
             ],
             [
              0.1111111111111111,
              "#46039f"
             ],
             [
              0.2222222222222222,
              "#7201a8"
             ],
             [
              0.3333333333333333,
              "#9c179e"
             ],
             [
              0.4444444444444444,
              "#bd3786"
             ],
             [
              0.5555555555555556,
              "#d8576b"
             ],
             [
              0.6666666666666666,
              "#ed7953"
             ],
             [
              0.7777777777777778,
              "#fb9f3a"
             ],
             [
              0.8888888888888888,
              "#fdca26"
             ],
             [
              1,
              "#f0f921"
             ]
            ],
            "type": "histogram2d"
           }
          ],
          "histogram2dcontour": [
           {
            "colorbar": {
             "outlinewidth": 0,
             "ticks": ""
            },
            "colorscale": [
             [
              0,
              "#0d0887"
             ],
             [
              0.1111111111111111,
              "#46039f"
             ],
             [
              0.2222222222222222,
              "#7201a8"
             ],
             [
              0.3333333333333333,
              "#9c179e"
             ],
             [
              0.4444444444444444,
              "#bd3786"
             ],
             [
              0.5555555555555556,
              "#d8576b"
             ],
             [
              0.6666666666666666,
              "#ed7953"
             ],
             [
              0.7777777777777778,
              "#fb9f3a"
             ],
             [
              0.8888888888888888,
              "#fdca26"
             ],
             [
              1,
              "#f0f921"
             ]
            ],
            "type": "histogram2dcontour"
           }
          ],
          "mesh3d": [
           {
            "colorbar": {
             "outlinewidth": 0,
             "ticks": ""
            },
            "type": "mesh3d"
           }
          ],
          "parcoords": [
           {
            "line": {
             "colorbar": {
              "outlinewidth": 0,
              "ticks": ""
             }
            },
            "type": "parcoords"
           }
          ],
          "pie": [
           {
            "automargin": true,
            "type": "pie"
           }
          ],
          "scatter": [
           {
            "fillpattern": {
             "fillmode": "overlay",
             "size": 10,
             "solidity": 0.2
            },
            "type": "scatter"
           }
          ],
          "scatter3d": [
           {
            "line": {
             "colorbar": {
              "outlinewidth": 0,
              "ticks": ""
             }
            },
            "marker": {
             "colorbar": {
              "outlinewidth": 0,
              "ticks": ""
             }
            },
            "type": "scatter3d"
           }
          ],
          "scattercarpet": [
           {
            "marker": {
             "colorbar": {
              "outlinewidth": 0,
              "ticks": ""
             }
            },
            "type": "scattercarpet"
           }
          ],
          "scattergeo": [
           {
            "marker": {
             "colorbar": {
              "outlinewidth": 0,
              "ticks": ""
             }
            },
            "type": "scattergeo"
           }
          ],
          "scattergl": [
           {
            "marker": {
             "colorbar": {
              "outlinewidth": 0,
              "ticks": ""
             }
            },
            "type": "scattergl"
           }
          ],
          "scattermapbox": [
           {
            "marker": {
             "colorbar": {
              "outlinewidth": 0,
              "ticks": ""
             }
            },
            "type": "scattermapbox"
           }
          ],
          "scatterpolar": [
           {
            "marker": {
             "colorbar": {
              "outlinewidth": 0,
              "ticks": ""
             }
            },
            "type": "scatterpolar"
           }
          ],
          "scatterpolargl": [
           {
            "marker": {
             "colorbar": {
              "outlinewidth": 0,
              "ticks": ""
             }
            },
            "type": "scatterpolargl"
           }
          ],
          "scatterternary": [
           {
            "marker": {
             "colorbar": {
              "outlinewidth": 0,
              "ticks": ""
             }
            },
            "type": "scatterternary"
           }
          ],
          "surface": [
           {
            "colorbar": {
             "outlinewidth": 0,
             "ticks": ""
            },
            "colorscale": [
             [
              0,
              "#0d0887"
             ],
             [
              0.1111111111111111,
              "#46039f"
             ],
             [
              0.2222222222222222,
              "#7201a8"
             ],
             [
              0.3333333333333333,
              "#9c179e"
             ],
             [
              0.4444444444444444,
              "#bd3786"
             ],
             [
              0.5555555555555556,
              "#d8576b"
             ],
             [
              0.6666666666666666,
              "#ed7953"
             ],
             [
              0.7777777777777778,
              "#fb9f3a"
             ],
             [
              0.8888888888888888,
              "#fdca26"
             ],
             [
              1,
              "#f0f921"
             ]
            ],
            "type": "surface"
           }
          ],
          "table": [
           {
            "cells": {
             "fill": {
              "color": "#EBF0F8"
             },
             "line": {
              "color": "white"
             }
            },
            "header": {
             "fill": {
              "color": "#C8D4E3"
             },
             "line": {
              "color": "white"
             }
            },
            "type": "table"
           }
          ]
         },
         "layout": {
          "annotationdefaults": {
           "arrowcolor": "#2a3f5f",
           "arrowhead": 0,
           "arrowwidth": 1
          },
          "autotypenumbers": "strict",
          "coloraxis": {
           "colorbar": {
            "outlinewidth": 0,
            "ticks": ""
           }
          },
          "colorscale": {
           "diverging": [
            [
             0,
             "#8e0152"
            ],
            [
             0.1,
             "#c51b7d"
            ],
            [
             0.2,
             "#de77ae"
            ],
            [
             0.3,
             "#f1b6da"
            ],
            [
             0.4,
             "#fde0ef"
            ],
            [
             0.5,
             "#f7f7f7"
            ],
            [
             0.6,
             "#e6f5d0"
            ],
            [
             0.7,
             "#b8e186"
            ],
            [
             0.8,
             "#7fbc41"
            ],
            [
             0.9,
             "#4d9221"
            ],
            [
             1,
             "#276419"
            ]
           ],
           "sequential": [
            [
             0,
             "#0d0887"
            ],
            [
             0.1111111111111111,
             "#46039f"
            ],
            [
             0.2222222222222222,
             "#7201a8"
            ],
            [
             0.3333333333333333,
             "#9c179e"
            ],
            [
             0.4444444444444444,
             "#bd3786"
            ],
            [
             0.5555555555555556,
             "#d8576b"
            ],
            [
             0.6666666666666666,
             "#ed7953"
            ],
            [
             0.7777777777777778,
             "#fb9f3a"
            ],
            [
             0.8888888888888888,
             "#fdca26"
            ],
            [
             1,
             "#f0f921"
            ]
           ],
           "sequentialminus": [
            [
             0,
             "#0d0887"
            ],
            [
             0.1111111111111111,
             "#46039f"
            ],
            [
             0.2222222222222222,
             "#7201a8"
            ],
            [
             0.3333333333333333,
             "#9c179e"
            ],
            [
             0.4444444444444444,
             "#bd3786"
            ],
            [
             0.5555555555555556,
             "#d8576b"
            ],
            [
             0.6666666666666666,
             "#ed7953"
            ],
            [
             0.7777777777777778,
             "#fb9f3a"
            ],
            [
             0.8888888888888888,
             "#fdca26"
            ],
            [
             1,
             "#f0f921"
            ]
           ]
          },
          "colorway": [
           "#636efa",
           "#EF553B",
           "#00cc96",
           "#ab63fa",
           "#FFA15A",
           "#19d3f3",
           "#FF6692",
           "#B6E880",
           "#FF97FF",
           "#FECB52"
          ],
          "font": {
           "color": "#2a3f5f"
          },
          "geo": {
           "bgcolor": "white",
           "lakecolor": "white",
           "landcolor": "#E5ECF6",
           "showlakes": true,
           "showland": true,
           "subunitcolor": "white"
          },
          "hoverlabel": {
           "align": "left"
          },
          "hovermode": "closest",
          "mapbox": {
           "style": "light"
          },
          "paper_bgcolor": "white",
          "plot_bgcolor": "#E5ECF6",
          "polar": {
           "angularaxis": {
            "gridcolor": "white",
            "linecolor": "white",
            "ticks": ""
           },
           "bgcolor": "#E5ECF6",
           "radialaxis": {
            "gridcolor": "white",
            "linecolor": "white",
            "ticks": ""
           }
          },
          "scene": {
           "xaxis": {
            "backgroundcolor": "#E5ECF6",
            "gridcolor": "white",
            "gridwidth": 2,
            "linecolor": "white",
            "showbackground": true,
            "ticks": "",
            "zerolinecolor": "white"
           },
           "yaxis": {
            "backgroundcolor": "#E5ECF6",
            "gridcolor": "white",
            "gridwidth": 2,
            "linecolor": "white",
            "showbackground": true,
            "ticks": "",
            "zerolinecolor": "white"
           },
           "zaxis": {
            "backgroundcolor": "#E5ECF6",
            "gridcolor": "white",
            "gridwidth": 2,
            "linecolor": "white",
            "showbackground": true,
            "ticks": "",
            "zerolinecolor": "white"
           }
          },
          "shapedefaults": {
           "line": {
            "color": "#2a3f5f"
           }
          },
          "ternary": {
           "aaxis": {
            "gridcolor": "white",
            "linecolor": "white",
            "ticks": ""
           },
           "baxis": {
            "gridcolor": "white",
            "linecolor": "white",
            "ticks": ""
           },
           "bgcolor": "#E5ECF6",
           "caxis": {
            "gridcolor": "white",
            "linecolor": "white",
            "ticks": ""
           }
          },
          "title": {
           "x": 0.05
          },
          "xaxis": {
           "automargin": true,
           "gridcolor": "white",
           "linecolor": "white",
           "ticks": "",
           "title": {
            "standoff": 15
           },
           "zerolinecolor": "white",
           "zerolinewidth": 2
          },
          "yaxis": {
           "automargin": true,
           "gridcolor": "white",
           "linecolor": "white",
           "ticks": "",
           "title": {
            "standoff": 15
           },
           "zerolinecolor": "white",
           "zerolinewidth": 2
          }
         }
        },
        "title": {
         "text": "Histograms for % of missing data of ts1 and ts2 by Hour of the Day"
        },
        "xaxis": {
         "automargin": false,
         "dtick": 1,
         "tickangle": 45,
         "title": {
          "text": "Hour of the Day"
         }
        },
        "yaxis": {
         "title": {
          "text": "% Missing Data"
         }
        }
       }
      },
      "text/html": [
       "<div>                            <div id=\"246d01b6-4697-4ce6-bd19-45e2c42c0b32\" class=\"plotly-graph-div\" style=\"height:525px; width:100%;\"></div>            <script type=\"text/javascript\">                require([\"plotly\"], function(Plotly) {                    window.PLOTLYENV=window.PLOTLYENV || {};                                    if (document.getElementById(\"246d01b6-4697-4ce6-bd19-45e2c42c0b32\")) {                    Plotly.newPlot(                        \"246d01b6-4697-4ce6-bd19-45e2c42c0b32\",                        [{\"name\":\"ts1\",\"text\":[\"64.88%\",\"68.19%\",\"72.98%\",\"70.67%\",\"69.00%\",\"75.98%\",\"86.18%\",\"85.09%\",\"86.96%\",\"89.14%\",\"90.37%\",\"90.45%\",\"89.42%\",\"89.61%\",\"90.44%\",\"92.58%\",\"95.24%\",\"96.76%\",\"96.94%\",\"96.42%\",\"98.32%\",\"92.25%\",\"76.48%\",\"68.00%\"],\"texttemplate\":\"%{text}\",\"x\":[0,1,2,3,4,5,6,7,8,9,10,11,12,13,14,15,16,17,18,19,20,21,22,23],\"y\":[0.6487931254675157,0.6818646232439336,0.7297938332421091,0.7067323481116584,0.689983579638752,0.7598066046341908,0.8617952928297756,0.8508666301769751,0.8696405765371282,0.891351943076081,0.9037219485495348,0.904488232074439,0.8942346287173873,0.8960591133004926,0.9044334975369458,0.9257799671592775,0.9523809523809523,0.9675789089582193,0.9694033935413245,0.9641853676336435,0.9831964969896004,0.9225141397555191,0.7647509578544062,0.6800036489691662],\"type\":\"bar\"},{\"name\":\"ts2\",\"text\":[\"28.81%\",\"28.83%\",\"28.87%\",\"28.91%\",\"28.89%\",\"28.85%\",\"28.78%\",\"28.81%\",\"28.85%\",\"28.88%\",\"28.94%\",\"28.93%\",\"28.91%\",\"28.92%\",\"28.94%\",\"28.93%\",\"28.95%\",\"28.98%\",\"29.00%\",\"29.14%\",\"29.24%\",\"25.50%\",\"29.46%\",\"29.05%\"],\"texttemplate\":\"%{text}\",\"x\":[0,1,2,3,4,5,6,7,8,9,10,11,12,13,14,15,16,17,18,19,20,21,22,23],\"y\":[0.2880626151684881,0.2883232986681262,0.28872468527640943,0.2891260718846926,0.288943623426382,0.2885422368180989,0.28781244298485675,0.28812260536398465,0.28852399197226786,0.2888159095055647,0.2893997445721584,0.2892537858055099,0.2891078270388615,0.2892355409596789,0.2894362342638205,0.2892537858055099,0.28950921364714466,0.28983762087210363,0.28998357963875204,0.2914431673052363,0.2923554095967889,0.255008210180624,0.29461777047983945,0.2904944353220215],\"type\":\"bar\"}],                        {\"template\":{\"data\":{\"histogram2dcontour\":[{\"type\":\"histogram2dcontour\",\"colorbar\":{\"outlinewidth\":0,\"ticks\":\"\"},\"colorscale\":[[0.0,\"#0d0887\"],[0.1111111111111111,\"#46039f\"],[0.2222222222222222,\"#7201a8\"],[0.3333333333333333,\"#9c179e\"],[0.4444444444444444,\"#bd3786\"],[0.5555555555555556,\"#d8576b\"],[0.6666666666666666,\"#ed7953\"],[0.7777777777777778,\"#fb9f3a\"],[0.8888888888888888,\"#fdca26\"],[1.0,\"#f0f921\"]]}],\"choropleth\":[{\"type\":\"choropleth\",\"colorbar\":{\"outlinewidth\":0,\"ticks\":\"\"}}],\"histogram2d\":[{\"type\":\"histogram2d\",\"colorbar\":{\"outlinewidth\":0,\"ticks\":\"\"},\"colorscale\":[[0.0,\"#0d0887\"],[0.1111111111111111,\"#46039f\"],[0.2222222222222222,\"#7201a8\"],[0.3333333333333333,\"#9c179e\"],[0.4444444444444444,\"#bd3786\"],[0.5555555555555556,\"#d8576b\"],[0.6666666666666666,\"#ed7953\"],[0.7777777777777778,\"#fb9f3a\"],[0.8888888888888888,\"#fdca26\"],[1.0,\"#f0f921\"]]}],\"heatmap\":[{\"type\":\"heatmap\",\"colorbar\":{\"outlinewidth\":0,\"ticks\":\"\"},\"colorscale\":[[0.0,\"#0d0887\"],[0.1111111111111111,\"#46039f\"],[0.2222222222222222,\"#7201a8\"],[0.3333333333333333,\"#9c179e\"],[0.4444444444444444,\"#bd3786\"],[0.5555555555555556,\"#d8576b\"],[0.6666666666666666,\"#ed7953\"],[0.7777777777777778,\"#fb9f3a\"],[0.8888888888888888,\"#fdca26\"],[1.0,\"#f0f921\"]]}],\"heatmapgl\":[{\"type\":\"heatmapgl\",\"colorbar\":{\"outlinewidth\":0,\"ticks\":\"\"},\"colorscale\":[[0.0,\"#0d0887\"],[0.1111111111111111,\"#46039f\"],[0.2222222222222222,\"#7201a8\"],[0.3333333333333333,\"#9c179e\"],[0.4444444444444444,\"#bd3786\"],[0.5555555555555556,\"#d8576b\"],[0.6666666666666666,\"#ed7953\"],[0.7777777777777778,\"#fb9f3a\"],[0.8888888888888888,\"#fdca26\"],[1.0,\"#f0f921\"]]}],\"contourcarpet\":[{\"type\":\"contourcarpet\",\"colorbar\":{\"outlinewidth\":0,\"ticks\":\"\"}}],\"contour\":[{\"type\":\"contour\",\"colorbar\":{\"outlinewidth\":0,\"ticks\":\"\"},\"colorscale\":[[0.0,\"#0d0887\"],[0.1111111111111111,\"#46039f\"],[0.2222222222222222,\"#7201a8\"],[0.3333333333333333,\"#9c179e\"],[0.4444444444444444,\"#bd3786\"],[0.5555555555555556,\"#d8576b\"],[0.6666666666666666,\"#ed7953\"],[0.7777777777777778,\"#fb9f3a\"],[0.8888888888888888,\"#fdca26\"],[1.0,\"#f0f921\"]]}],\"surface\":[{\"type\":\"surface\",\"colorbar\":{\"outlinewidth\":0,\"ticks\":\"\"},\"colorscale\":[[0.0,\"#0d0887\"],[0.1111111111111111,\"#46039f\"],[0.2222222222222222,\"#7201a8\"],[0.3333333333333333,\"#9c179e\"],[0.4444444444444444,\"#bd3786\"],[0.5555555555555556,\"#d8576b\"],[0.6666666666666666,\"#ed7953\"],[0.7777777777777778,\"#fb9f3a\"],[0.8888888888888888,\"#fdca26\"],[1.0,\"#f0f921\"]]}],\"mesh3d\":[{\"type\":\"mesh3d\",\"colorbar\":{\"outlinewidth\":0,\"ticks\":\"\"}}],\"scatter\":[{\"fillpattern\":{\"fillmode\":\"overlay\",\"size\":10,\"solidity\":0.2},\"type\":\"scatter\"}],\"parcoords\":[{\"type\":\"parcoords\",\"line\":{\"colorbar\":{\"outlinewidth\":0,\"ticks\":\"\"}}}],\"scatterpolargl\":[{\"type\":\"scatterpolargl\",\"marker\":{\"colorbar\":{\"outlinewidth\":0,\"ticks\":\"\"}}}],\"bar\":[{\"error_x\":{\"color\":\"#2a3f5f\"},\"error_y\":{\"color\":\"#2a3f5f\"},\"marker\":{\"line\":{\"color\":\"#E5ECF6\",\"width\":0.5},\"pattern\":{\"fillmode\":\"overlay\",\"size\":10,\"solidity\":0.2}},\"type\":\"bar\"}],\"scattergeo\":[{\"type\":\"scattergeo\",\"marker\":{\"colorbar\":{\"outlinewidth\":0,\"ticks\":\"\"}}}],\"scatterpolar\":[{\"type\":\"scatterpolar\",\"marker\":{\"colorbar\":{\"outlinewidth\":0,\"ticks\":\"\"}}}],\"histogram\":[{\"marker\":{\"pattern\":{\"fillmode\":\"overlay\",\"size\":10,\"solidity\":0.2}},\"type\":\"histogram\"}],\"scattergl\":[{\"type\":\"scattergl\",\"marker\":{\"colorbar\":{\"outlinewidth\":0,\"ticks\":\"\"}}}],\"scatter3d\":[{\"type\":\"scatter3d\",\"line\":{\"colorbar\":{\"outlinewidth\":0,\"ticks\":\"\"}},\"marker\":{\"colorbar\":{\"outlinewidth\":0,\"ticks\":\"\"}}}],\"scattermapbox\":[{\"type\":\"scattermapbox\",\"marker\":{\"colorbar\":{\"outlinewidth\":0,\"ticks\":\"\"}}}],\"scatterternary\":[{\"type\":\"scatterternary\",\"marker\":{\"colorbar\":{\"outlinewidth\":0,\"ticks\":\"\"}}}],\"scattercarpet\":[{\"type\":\"scattercarpet\",\"marker\":{\"colorbar\":{\"outlinewidth\":0,\"ticks\":\"\"}}}],\"carpet\":[{\"aaxis\":{\"endlinecolor\":\"#2a3f5f\",\"gridcolor\":\"white\",\"linecolor\":\"white\",\"minorgridcolor\":\"white\",\"startlinecolor\":\"#2a3f5f\"},\"baxis\":{\"endlinecolor\":\"#2a3f5f\",\"gridcolor\":\"white\",\"linecolor\":\"white\",\"minorgridcolor\":\"white\",\"startlinecolor\":\"#2a3f5f\"},\"type\":\"carpet\"}],\"table\":[{\"cells\":{\"fill\":{\"color\":\"#EBF0F8\"},\"line\":{\"color\":\"white\"}},\"header\":{\"fill\":{\"color\":\"#C8D4E3\"},\"line\":{\"color\":\"white\"}},\"type\":\"table\"}],\"barpolar\":[{\"marker\":{\"line\":{\"color\":\"#E5ECF6\",\"width\":0.5},\"pattern\":{\"fillmode\":\"overlay\",\"size\":10,\"solidity\":0.2}},\"type\":\"barpolar\"}],\"pie\":[{\"automargin\":true,\"type\":\"pie\"}]},\"layout\":{\"autotypenumbers\":\"strict\",\"colorway\":[\"#636efa\",\"#EF553B\",\"#00cc96\",\"#ab63fa\",\"#FFA15A\",\"#19d3f3\",\"#FF6692\",\"#B6E880\",\"#FF97FF\",\"#FECB52\"],\"font\":{\"color\":\"#2a3f5f\"},\"hovermode\":\"closest\",\"hoverlabel\":{\"align\":\"left\"},\"paper_bgcolor\":\"white\",\"plot_bgcolor\":\"#E5ECF6\",\"polar\":{\"bgcolor\":\"#E5ECF6\",\"angularaxis\":{\"gridcolor\":\"white\",\"linecolor\":\"white\",\"ticks\":\"\"},\"radialaxis\":{\"gridcolor\":\"white\",\"linecolor\":\"white\",\"ticks\":\"\"}},\"ternary\":{\"bgcolor\":\"#E5ECF6\",\"aaxis\":{\"gridcolor\":\"white\",\"linecolor\":\"white\",\"ticks\":\"\"},\"baxis\":{\"gridcolor\":\"white\",\"linecolor\":\"white\",\"ticks\":\"\"},\"caxis\":{\"gridcolor\":\"white\",\"linecolor\":\"white\",\"ticks\":\"\"}},\"coloraxis\":{\"colorbar\":{\"outlinewidth\":0,\"ticks\":\"\"}},\"colorscale\":{\"sequential\":[[0.0,\"#0d0887\"],[0.1111111111111111,\"#46039f\"],[0.2222222222222222,\"#7201a8\"],[0.3333333333333333,\"#9c179e\"],[0.4444444444444444,\"#bd3786\"],[0.5555555555555556,\"#d8576b\"],[0.6666666666666666,\"#ed7953\"],[0.7777777777777778,\"#fb9f3a\"],[0.8888888888888888,\"#fdca26\"],[1.0,\"#f0f921\"]],\"sequentialminus\":[[0.0,\"#0d0887\"],[0.1111111111111111,\"#46039f\"],[0.2222222222222222,\"#7201a8\"],[0.3333333333333333,\"#9c179e\"],[0.4444444444444444,\"#bd3786\"],[0.5555555555555556,\"#d8576b\"],[0.6666666666666666,\"#ed7953\"],[0.7777777777777778,\"#fb9f3a\"],[0.8888888888888888,\"#fdca26\"],[1.0,\"#f0f921\"]],\"diverging\":[[0,\"#8e0152\"],[0.1,\"#c51b7d\"],[0.2,\"#de77ae\"],[0.3,\"#f1b6da\"],[0.4,\"#fde0ef\"],[0.5,\"#f7f7f7\"],[0.6,\"#e6f5d0\"],[0.7,\"#b8e186\"],[0.8,\"#7fbc41\"],[0.9,\"#4d9221\"],[1,\"#276419\"]]},\"xaxis\":{\"gridcolor\":\"white\",\"linecolor\":\"white\",\"ticks\":\"\",\"title\":{\"standoff\":15},\"zerolinecolor\":\"white\",\"automargin\":true,\"zerolinewidth\":2},\"yaxis\":{\"gridcolor\":\"white\",\"linecolor\":\"white\",\"ticks\":\"\",\"title\":{\"standoff\":15},\"zerolinecolor\":\"white\",\"automargin\":true,\"zerolinewidth\":2},\"scene\":{\"xaxis\":{\"backgroundcolor\":\"#E5ECF6\",\"gridcolor\":\"white\",\"linecolor\":\"white\",\"showbackground\":true,\"ticks\":\"\",\"zerolinecolor\":\"white\",\"gridwidth\":2},\"yaxis\":{\"backgroundcolor\":\"#E5ECF6\",\"gridcolor\":\"white\",\"linecolor\":\"white\",\"showbackground\":true,\"ticks\":\"\",\"zerolinecolor\":\"white\",\"gridwidth\":2},\"zaxis\":{\"backgroundcolor\":\"#E5ECF6\",\"gridcolor\":\"white\",\"linecolor\":\"white\",\"showbackground\":true,\"ticks\":\"\",\"zerolinecolor\":\"white\",\"gridwidth\":2}},\"shapedefaults\":{\"line\":{\"color\":\"#2a3f5f\"}},\"annotationdefaults\":{\"arrowcolor\":\"#2a3f5f\",\"arrowhead\":0,\"arrowwidth\":1},\"geo\":{\"bgcolor\":\"white\",\"landcolor\":\"#E5ECF6\",\"subunitcolor\":\"white\",\"showland\":true,\"showlakes\":true,\"lakecolor\":\"white\"},\"title\":{\"x\":0.05},\"mapbox\":{\"style\":\"light\"}}},\"xaxis\":{\"title\":{\"text\":\"Hour of the Day\"},\"automargin\":false,\"tickangle\":45,\"dtick\":1},\"title\":{\"text\":\"Histograms for % of missing data of ts1 and ts2 by Hour of the Day\"},\"yaxis\":{\"title\":{\"text\":\"% Missing Data\"}}},                        {\"responsive\": true}                    ).then(function(){\n",
       "                            \n",
       "var gd = document.getElementById('246d01b6-4697-4ce6-bd19-45e2c42c0b32');\n",
       "var x = new MutationObserver(function (mutations, observer) {{\n",
       "        var display = window.getComputedStyle(gd).display;\n",
       "        if (!display || display === 'none') {{\n",
       "            console.log([gd, 'removed!']);\n",
       "            Plotly.purge(gd);\n",
       "            observer.disconnect();\n",
       "        }}\n",
       "}});\n",
       "\n",
       "// Listen for the removal of the full notebook cells\n",
       "var notebookContainer = gd.closest('#notebook-container');\n",
       "if (notebookContainer) {{\n",
       "    x.observe(notebookContainer, {childList: true});\n",
       "}}\n",
       "\n",
       "// Listen for the clearing of the current output cell\n",
       "var outputEl = gd.closest('.output');\n",
       "if (outputEl) {{\n",
       "    x.observe(outputEl, {childList: true});\n",
       "}}\n",
       "\n",
       "                        })                };                });            </script>        </div>"
      ]
     },
     "metadata": {},
     "output_type": "display_data"
    },
    {
     "name": "stdout",
     "output_type": "stream",
     "text": [
      "-0.16241017030791316 0.0\n"
     ]
    }
   ],
   "source": [
    "# this data Validation module will check missing data and invalid data\n",
    "# calculate some statistic number on Missing data \n",
    "# calculate simple correlation of the 1 period return\n",
    "#%%  \n",
    "import pandas as pd\n",
    "import numpy as np\n",
    "import datetime\n",
    "import scipy.stats as stats\n",
    "import plotly.graph_objects as go\n",
    "\n",
    "# read the trading data into a pandas data frame\n",
    "df = pd.read_csv('quantTest_data.csv',header = None, names = ['date','ts1','ts2'], index_col = 0)\n",
    "\n",
    "# Convert date col to readarble date time\n",
    "df['date_time'] = [(datetime.datetime(1,1,1)+ datetime.timedelta(epoch_time)- datetime.timedelta(days=367)).strftime('%Y%m%d %H:%M:%S') for epoch_time in df.index]\n",
    "df['m_ts1'] = pd.Series()\n",
    "df['m_ts2'] = pd.Series()\n",
    "# check for missing data and count the number of missing values in each column\n",
    "df[['m_ts1', 'm_ts2']]= df[['ts1', 'ts2']].isnull()\n",
    "df['date_time'] = pd.to_datetime(df['date_time'])\n",
    "# group data in year and count % missing value of each column \n",
    "yearly_data = df.groupby(df['date_time'].dt.year).mean()\n",
    "# group data in hour and count % missing value of each column\n",
    "hourly_data = df.groupby(df['date_time'].dt.hour).mean()\n",
    "\n",
    "#print(yearly_data)\n",
    "fig = go.Figure()\n",
    "fig.add_trace(go.Bar(x = yearly_data.index, y =yearly_data['m_ts1'], name='ts1', text=[f\"{val:.2%}\" for val in yearly_data['m_ts1']],  texttemplate='%{text}',)) #, x= yearly_data.index, y= 'm_ts1', labels={'x':'Year', 'y':'% of Missing Data'}))\n",
    "fig.add_trace(go.Bar(x = yearly_data.index, y =yearly_data['m_ts2'], name='ts2', text=[f\"{val:.2%}\" for val in yearly_data['m_ts2']],  texttemplate='%{text}',)) \n",
    "\n",
    "# Set the layout of the figure\n",
    "fig.update_layout(\n",
    "    title='Histograms for % of missing data of ts1 and ts2 by YEAR',\n",
    "    xaxis_title='Year',\n",
    "    yaxis_title='% Missing Data'\n",
    ")\n",
    "# Show the plot\n",
    "fig.show()\n",
    "\n",
    "fig2 = go.Figure()\n",
    "fig2.add_trace(go.Bar(x = hourly_data.index, y =hourly_data['m_ts1'], name='ts1', text=[f\"{val:.2%}\" for val in hourly_data['m_ts1']],  texttemplate='%{text}',)) #, x= yearly_data.index, y= 'm_ts1', labels={'x':'Year', 'y':'% of Missing Data'}))\n",
    "fig2.add_trace(go.Bar(x = hourly_data.index, y =hourly_data['m_ts2'], name='ts2', text=[f\"{val:.2%}\" for val in hourly_data['m_ts2']],  texttemplate='%{text}',)) \n",
    "\n",
    "# Set the layout of the figure\n",
    "fig2.update_layout(\n",
    "    title='Histograms for % of missing data of ts1 and ts2 by Hour of the Day',\n",
    "    xaxis=dict(\n",
    "        title = 'Hour of the Day',\n",
    "        automargin=False,\n",
    "        tickangle=45,\n",
    "        dtick = 1\n",
    "        ),\n",
    "    yaxis_title='% Missing Data'\n",
    ")\n",
    "# Show the plot\n",
    "fig2.show()\n",
    "# print(yearly_data, hourly_data)\n",
    "\n",
    "\n",
    "df['r_ts1'] = np.log(df['ts1']/df['ts1'].shift(1))\n",
    "df['r_ts2'] = np.log(df['ts2']/df['ts2'].shift(1))\n",
    "\n",
    "df = df.dropna()\n",
    "# calculate the Pearson correlation coefficient and the p-value\n",
    "tcorr, p_value = stats.pearsonr(df['r_ts1'], df['r_ts2'])\n",
    "print(tcorr, p_value)\n",
    "\n",
    "# %%\n"
   ]
  },
  {
   "cell_type": "code",
   "execution_count": 5,
   "metadata": {
    "scrolled": false
   },
   "outputs": [
    {
     "data": {
      "application/vnd.plotly.v1+json": {
       "config": {
        "plotlyServerURL": "https://plot.ly"
       },
       "data": [
        {
         "hovertemplate": "lookback_period=%{x}<br>corr=%{y}<extra></extra>",
         "legendgroup": "",
         "marker": {
          "color": "#636efa",
          "symbol": "circle"
         },
         "mode": "markers",
         "name": "",
         "orientation": "v",
         "showlegend": false,
         "type": "scatter",
         "x": [
          200,
          400,
          600,
          800,
          1000,
          1200,
          1400,
          1600,
          1800,
          2000,
          2200,
          2400,
          2600,
          2800,
          3000,
          3200,
          3400,
          3600,
          3800,
          4000,
          4200,
          4400,
          4600,
          4800,
          5000,
          5200,
          5400,
          5600,
          5800,
          6000,
          6200,
          6400,
          6600,
          6800,
          7000,
          7200,
          7400,
          7600,
          7800,
          8000,
          8200,
          8400,
          8600,
          8800,
          9000,
          9200,
          9400,
          9600,
          9800
         ],
         "xaxis": "x",
         "y": [
          -0.37149515069025263,
          -0.41480401791447274,
          -0.5313944749423747,
          -0.5565629536116226,
          -0.5700955555407938,
          -0.5882956217107884,
          -0.6055728904217028,
          -0.6196116659266041,
          -0.651055106251333,
          -0.6456765439977384,
          -0.6338098913137941,
          -0.6374137371935312,
          -0.6429592829853565,
          -0.643053806398615,
          -0.65085315939397,
          -0.6285373827807117,
          -0.6111129044354175,
          -0.597265415285408,
          -0.6462121535733246,
          -0.6309168948182265,
          -0.6279704925063556,
          -0.6334621514461033,
          -0.6462782942666012,
          -0.666604618400125,
          -0.6459307500649529,
          -0.6452477649790536,
          -0.6590079443712599,
          -0.6487272213018833,
          -0.640471191527699,
          -0.6994447282220488,
          -0.6756095479821036,
          -0.6675042073947948,
          -0.6770134856418237,
          -0.7009791171236945,
          -0.7033557971101808,
          -0.6628911638617118,
          -0.6553538846579521,
          -0.6488175350077751,
          -0.6821269456671513,
          -0.6918206449799801,
          -0.6856989315104947,
          -0.6653241668166676,
          -0.6572571316957342,
          -0.67207293732379,
          -0.6870386155077676,
          -0.682453886546938,
          -0.6675559264066996,
          -0.7042407727877104,
          -0.6757907827498496
         ],
         "yaxis": "y"
        }
       ],
       "layout": {
        "legend": {
         "tracegroupgap": 0
        },
        "template": {
         "data": {
          "bar": [
           {
            "error_x": {
             "color": "#2a3f5f"
            },
            "error_y": {
             "color": "#2a3f5f"
            },
            "marker": {
             "line": {
              "color": "#E5ECF6",
              "width": 0.5
             },
             "pattern": {
              "fillmode": "overlay",
              "size": 10,
              "solidity": 0.2
             }
            },
            "type": "bar"
           }
          ],
          "barpolar": [
           {
            "marker": {
             "line": {
              "color": "#E5ECF6",
              "width": 0.5
             },
             "pattern": {
              "fillmode": "overlay",
              "size": 10,
              "solidity": 0.2
             }
            },
            "type": "barpolar"
           }
          ],
          "carpet": [
           {
            "aaxis": {
             "endlinecolor": "#2a3f5f",
             "gridcolor": "white",
             "linecolor": "white",
             "minorgridcolor": "white",
             "startlinecolor": "#2a3f5f"
            },
            "baxis": {
             "endlinecolor": "#2a3f5f",
             "gridcolor": "white",
             "linecolor": "white",
             "minorgridcolor": "white",
             "startlinecolor": "#2a3f5f"
            },
            "type": "carpet"
           }
          ],
          "choropleth": [
           {
            "colorbar": {
             "outlinewidth": 0,
             "ticks": ""
            },
            "type": "choropleth"
           }
          ],
          "contour": [
           {
            "colorbar": {
             "outlinewidth": 0,
             "ticks": ""
            },
            "colorscale": [
             [
              0,
              "#0d0887"
             ],
             [
              0.1111111111111111,
              "#46039f"
             ],
             [
              0.2222222222222222,
              "#7201a8"
             ],
             [
              0.3333333333333333,
              "#9c179e"
             ],
             [
              0.4444444444444444,
              "#bd3786"
             ],
             [
              0.5555555555555556,
              "#d8576b"
             ],
             [
              0.6666666666666666,
              "#ed7953"
             ],
             [
              0.7777777777777778,
              "#fb9f3a"
             ],
             [
              0.8888888888888888,
              "#fdca26"
             ],
             [
              1,
              "#f0f921"
             ]
            ],
            "type": "contour"
           }
          ],
          "contourcarpet": [
           {
            "colorbar": {
             "outlinewidth": 0,
             "ticks": ""
            },
            "type": "contourcarpet"
           }
          ],
          "heatmap": [
           {
            "colorbar": {
             "outlinewidth": 0,
             "ticks": ""
            },
            "colorscale": [
             [
              0,
              "#0d0887"
             ],
             [
              0.1111111111111111,
              "#46039f"
             ],
             [
              0.2222222222222222,
              "#7201a8"
             ],
             [
              0.3333333333333333,
              "#9c179e"
             ],
             [
              0.4444444444444444,
              "#bd3786"
             ],
             [
              0.5555555555555556,
              "#d8576b"
             ],
             [
              0.6666666666666666,
              "#ed7953"
             ],
             [
              0.7777777777777778,
              "#fb9f3a"
             ],
             [
              0.8888888888888888,
              "#fdca26"
             ],
             [
              1,
              "#f0f921"
             ]
            ],
            "type": "heatmap"
           }
          ],
          "heatmapgl": [
           {
            "colorbar": {
             "outlinewidth": 0,
             "ticks": ""
            },
            "colorscale": [
             [
              0,
              "#0d0887"
             ],
             [
              0.1111111111111111,
              "#46039f"
             ],
             [
              0.2222222222222222,
              "#7201a8"
             ],
             [
              0.3333333333333333,
              "#9c179e"
             ],
             [
              0.4444444444444444,
              "#bd3786"
             ],
             [
              0.5555555555555556,
              "#d8576b"
             ],
             [
              0.6666666666666666,
              "#ed7953"
             ],
             [
              0.7777777777777778,
              "#fb9f3a"
             ],
             [
              0.8888888888888888,
              "#fdca26"
             ],
             [
              1,
              "#f0f921"
             ]
            ],
            "type": "heatmapgl"
           }
          ],
          "histogram": [
           {
            "marker": {
             "pattern": {
              "fillmode": "overlay",
              "size": 10,
              "solidity": 0.2
             }
            },
            "type": "histogram"
           }
          ],
          "histogram2d": [
           {
            "colorbar": {
             "outlinewidth": 0,
             "ticks": ""
            },
            "colorscale": [
             [
              0,
              "#0d0887"
             ],
             [
              0.1111111111111111,
              "#46039f"
             ],
             [
              0.2222222222222222,
              "#7201a8"
             ],
             [
              0.3333333333333333,
              "#9c179e"
             ],
             [
              0.4444444444444444,
              "#bd3786"
             ],
             [
              0.5555555555555556,
              "#d8576b"
             ],
             [
              0.6666666666666666,
              "#ed7953"
             ],
             [
              0.7777777777777778,
              "#fb9f3a"
             ],
             [
              0.8888888888888888,
              "#fdca26"
             ],
             [
              1,
              "#f0f921"
             ]
            ],
            "type": "histogram2d"
           }
          ],
          "histogram2dcontour": [
           {
            "colorbar": {
             "outlinewidth": 0,
             "ticks": ""
            },
            "colorscale": [
             [
              0,
              "#0d0887"
             ],
             [
              0.1111111111111111,
              "#46039f"
             ],
             [
              0.2222222222222222,
              "#7201a8"
             ],
             [
              0.3333333333333333,
              "#9c179e"
             ],
             [
              0.4444444444444444,
              "#bd3786"
             ],
             [
              0.5555555555555556,
              "#d8576b"
             ],
             [
              0.6666666666666666,
              "#ed7953"
             ],
             [
              0.7777777777777778,
              "#fb9f3a"
             ],
             [
              0.8888888888888888,
              "#fdca26"
             ],
             [
              1,
              "#f0f921"
             ]
            ],
            "type": "histogram2dcontour"
           }
          ],
          "mesh3d": [
           {
            "colorbar": {
             "outlinewidth": 0,
             "ticks": ""
            },
            "type": "mesh3d"
           }
          ],
          "parcoords": [
           {
            "line": {
             "colorbar": {
              "outlinewidth": 0,
              "ticks": ""
             }
            },
            "type": "parcoords"
           }
          ],
          "pie": [
           {
            "automargin": true,
            "type": "pie"
           }
          ],
          "scatter": [
           {
            "fillpattern": {
             "fillmode": "overlay",
             "size": 10,
             "solidity": 0.2
            },
            "type": "scatter"
           }
          ],
          "scatter3d": [
           {
            "line": {
             "colorbar": {
              "outlinewidth": 0,
              "ticks": ""
             }
            },
            "marker": {
             "colorbar": {
              "outlinewidth": 0,
              "ticks": ""
             }
            },
            "type": "scatter3d"
           }
          ],
          "scattercarpet": [
           {
            "marker": {
             "colorbar": {
              "outlinewidth": 0,
              "ticks": ""
             }
            },
            "type": "scattercarpet"
           }
          ],
          "scattergeo": [
           {
            "marker": {
             "colorbar": {
              "outlinewidth": 0,
              "ticks": ""
             }
            },
            "type": "scattergeo"
           }
          ],
          "scattergl": [
           {
            "marker": {
             "colorbar": {
              "outlinewidth": 0,
              "ticks": ""
             }
            },
            "type": "scattergl"
           }
          ],
          "scattermapbox": [
           {
            "marker": {
             "colorbar": {
              "outlinewidth": 0,
              "ticks": ""
             }
            },
            "type": "scattermapbox"
           }
          ],
          "scatterpolar": [
           {
            "marker": {
             "colorbar": {
              "outlinewidth": 0,
              "ticks": ""
             }
            },
            "type": "scatterpolar"
           }
          ],
          "scatterpolargl": [
           {
            "marker": {
             "colorbar": {
              "outlinewidth": 0,
              "ticks": ""
             }
            },
            "type": "scatterpolargl"
           }
          ],
          "scatterternary": [
           {
            "marker": {
             "colorbar": {
              "outlinewidth": 0,
              "ticks": ""
             }
            },
            "type": "scatterternary"
           }
          ],
          "surface": [
           {
            "colorbar": {
             "outlinewidth": 0,
             "ticks": ""
            },
            "colorscale": [
             [
              0,
              "#0d0887"
             ],
             [
              0.1111111111111111,
              "#46039f"
             ],
             [
              0.2222222222222222,
              "#7201a8"
             ],
             [
              0.3333333333333333,
              "#9c179e"
             ],
             [
              0.4444444444444444,
              "#bd3786"
             ],
             [
              0.5555555555555556,
              "#d8576b"
             ],
             [
              0.6666666666666666,
              "#ed7953"
             ],
             [
              0.7777777777777778,
              "#fb9f3a"
             ],
             [
              0.8888888888888888,
              "#fdca26"
             ],
             [
              1,
              "#f0f921"
             ]
            ],
            "type": "surface"
           }
          ],
          "table": [
           {
            "cells": {
             "fill": {
              "color": "#EBF0F8"
             },
             "line": {
              "color": "white"
             }
            },
            "header": {
             "fill": {
              "color": "#C8D4E3"
             },
             "line": {
              "color": "white"
             }
            },
            "type": "table"
           }
          ]
         },
         "layout": {
          "annotationdefaults": {
           "arrowcolor": "#2a3f5f",
           "arrowhead": 0,
           "arrowwidth": 1
          },
          "autotypenumbers": "strict",
          "coloraxis": {
           "colorbar": {
            "outlinewidth": 0,
            "ticks": ""
           }
          },
          "colorscale": {
           "diverging": [
            [
             0,
             "#8e0152"
            ],
            [
             0.1,
             "#c51b7d"
            ],
            [
             0.2,
             "#de77ae"
            ],
            [
             0.3,
             "#f1b6da"
            ],
            [
             0.4,
             "#fde0ef"
            ],
            [
             0.5,
             "#f7f7f7"
            ],
            [
             0.6,
             "#e6f5d0"
            ],
            [
             0.7,
             "#b8e186"
            ],
            [
             0.8,
             "#7fbc41"
            ],
            [
             0.9,
             "#4d9221"
            ],
            [
             1,
             "#276419"
            ]
           ],
           "sequential": [
            [
             0,
             "#0d0887"
            ],
            [
             0.1111111111111111,
             "#46039f"
            ],
            [
             0.2222222222222222,
             "#7201a8"
            ],
            [
             0.3333333333333333,
             "#9c179e"
            ],
            [
             0.4444444444444444,
             "#bd3786"
            ],
            [
             0.5555555555555556,
             "#d8576b"
            ],
            [
             0.6666666666666666,
             "#ed7953"
            ],
            [
             0.7777777777777778,
             "#fb9f3a"
            ],
            [
             0.8888888888888888,
             "#fdca26"
            ],
            [
             1,
             "#f0f921"
            ]
           ],
           "sequentialminus": [
            [
             0,
             "#0d0887"
            ],
            [
             0.1111111111111111,
             "#46039f"
            ],
            [
             0.2222222222222222,
             "#7201a8"
            ],
            [
             0.3333333333333333,
             "#9c179e"
            ],
            [
             0.4444444444444444,
             "#bd3786"
            ],
            [
             0.5555555555555556,
             "#d8576b"
            ],
            [
             0.6666666666666666,
             "#ed7953"
            ],
            [
             0.7777777777777778,
             "#fb9f3a"
            ],
            [
             0.8888888888888888,
             "#fdca26"
            ],
            [
             1,
             "#f0f921"
            ]
           ]
          },
          "colorway": [
           "#636efa",
           "#EF553B",
           "#00cc96",
           "#ab63fa",
           "#FFA15A",
           "#19d3f3",
           "#FF6692",
           "#B6E880",
           "#FF97FF",
           "#FECB52"
          ],
          "font": {
           "color": "#2a3f5f"
          },
          "geo": {
           "bgcolor": "white",
           "lakecolor": "white",
           "landcolor": "#E5ECF6",
           "showlakes": true,
           "showland": true,
           "subunitcolor": "white"
          },
          "hoverlabel": {
           "align": "left"
          },
          "hovermode": "closest",
          "mapbox": {
           "style": "light"
          },
          "paper_bgcolor": "white",
          "plot_bgcolor": "#E5ECF6",
          "polar": {
           "angularaxis": {
            "gridcolor": "white",
            "linecolor": "white",
            "ticks": ""
           },
           "bgcolor": "#E5ECF6",
           "radialaxis": {
            "gridcolor": "white",
            "linecolor": "white",
            "ticks": ""
           }
          },
          "scene": {
           "xaxis": {
            "backgroundcolor": "#E5ECF6",
            "gridcolor": "white",
            "gridwidth": 2,
            "linecolor": "white",
            "showbackground": true,
            "ticks": "",
            "zerolinecolor": "white"
           },
           "yaxis": {
            "backgroundcolor": "#E5ECF6",
            "gridcolor": "white",
            "gridwidth": 2,
            "linecolor": "white",
            "showbackground": true,
            "ticks": "",
            "zerolinecolor": "white"
           },
           "zaxis": {
            "backgroundcolor": "#E5ECF6",
            "gridcolor": "white",
            "gridwidth": 2,
            "linecolor": "white",
            "showbackground": true,
            "ticks": "",
            "zerolinecolor": "white"
           }
          },
          "shapedefaults": {
           "line": {
            "color": "#2a3f5f"
           }
          },
          "ternary": {
           "aaxis": {
            "gridcolor": "white",
            "linecolor": "white",
            "ticks": ""
           },
           "baxis": {
            "gridcolor": "white",
            "linecolor": "white",
            "ticks": ""
           },
           "bgcolor": "#E5ECF6",
           "caxis": {
            "gridcolor": "white",
            "linecolor": "white",
            "ticks": ""
           }
          },
          "title": {
           "x": 0.05
          },
          "xaxis": {
           "automargin": true,
           "gridcolor": "white",
           "linecolor": "white",
           "ticks": "",
           "title": {
            "standoff": 15
           },
           "zerolinecolor": "white",
           "zerolinewidth": 2
          },
          "yaxis": {
           "automargin": true,
           "gridcolor": "white",
           "linecolor": "white",
           "ticks": "",
           "title": {
            "standoff": 15
           },
           "zerolinecolor": "white",
           "zerolinewidth": 2
          }
         }
        },
        "title": {
         "text": "Correlation between ts1 vs ts2 based on X period rolling return"
        },
        "xaxis": {
         "anchor": "y",
         "domain": [
          0,
          1
         ],
         "title": {
          "text": "Return look back periods"
         }
        },
        "yaxis": {
         "anchor": "x",
         "domain": [
          0,
          1
         ],
         "title": {
          "text": "corr"
         }
        }
       }
      },
      "text/html": [
       "<div>                            <div id=\"05497d09-c2c0-4925-85fc-8505432e8041\" class=\"plotly-graph-div\" style=\"height:525px; width:100%;\"></div>            <script type=\"text/javascript\">                require([\"plotly\"], function(Plotly) {                    window.PLOTLYENV=window.PLOTLYENV || {};                                    if (document.getElementById(\"05497d09-c2c0-4925-85fc-8505432e8041\")) {                    Plotly.newPlot(                        \"05497d09-c2c0-4925-85fc-8505432e8041\",                        [{\"hovertemplate\":\"lookback_period=%{x}<br>corr=%{y}<extra></extra>\",\"legendgroup\":\"\",\"marker\":{\"color\":\"#636efa\",\"symbol\":\"circle\"},\"mode\":\"markers\",\"name\":\"\",\"orientation\":\"v\",\"showlegend\":false,\"x\":[200.0,400.0,600.0,800.0,1000.0,1200.0,1400.0,1600.0,1800.0,2000.0,2200.0,2400.0,2600.0,2800.0,3000.0,3200.0,3400.0,3600.0,3800.0,4000.0,4200.0,4400.0,4600.0,4800.0,5000.0,5200.0,5400.0,5600.0,5800.0,6000.0,6200.0,6400.0,6600.0,6800.0,7000.0,7200.0,7400.0,7600.0,7800.0,8000.0,8200.0,8400.0,8600.0,8800.0,9000.0,9200.0,9400.0,9600.0,9800.0],\"xaxis\":\"x\",\"y\":[-0.37149515069025263,-0.41480401791447274,-0.5313944749423747,-0.5565629536116226,-0.5700955555407938,-0.5882956217107884,-0.6055728904217028,-0.6196116659266041,-0.651055106251333,-0.6456765439977384,-0.6338098913137941,-0.6374137371935312,-0.6429592829853565,-0.643053806398615,-0.65085315939397,-0.6285373827807117,-0.6111129044354175,-0.597265415285408,-0.6462121535733246,-0.6309168948182265,-0.6279704925063556,-0.6334621514461033,-0.6462782942666012,-0.666604618400125,-0.6459307500649529,-0.6452477649790536,-0.6590079443712599,-0.6487272213018833,-0.640471191527699,-0.6994447282220488,-0.6756095479821036,-0.6675042073947948,-0.6770134856418237,-0.7009791171236945,-0.7033557971101808,-0.6628911638617118,-0.6553538846579521,-0.6488175350077751,-0.6821269456671513,-0.6918206449799801,-0.6856989315104947,-0.6653241668166676,-0.6572571316957342,-0.67207293732379,-0.6870386155077676,-0.682453886546938,-0.6675559264066996,-0.7042407727877104,-0.6757907827498496],\"yaxis\":\"y\",\"type\":\"scatter\"}],                        {\"template\":{\"data\":{\"histogram2dcontour\":[{\"type\":\"histogram2dcontour\",\"colorbar\":{\"outlinewidth\":0,\"ticks\":\"\"},\"colorscale\":[[0.0,\"#0d0887\"],[0.1111111111111111,\"#46039f\"],[0.2222222222222222,\"#7201a8\"],[0.3333333333333333,\"#9c179e\"],[0.4444444444444444,\"#bd3786\"],[0.5555555555555556,\"#d8576b\"],[0.6666666666666666,\"#ed7953\"],[0.7777777777777778,\"#fb9f3a\"],[0.8888888888888888,\"#fdca26\"],[1.0,\"#f0f921\"]]}],\"choropleth\":[{\"type\":\"choropleth\",\"colorbar\":{\"outlinewidth\":0,\"ticks\":\"\"}}],\"histogram2d\":[{\"type\":\"histogram2d\",\"colorbar\":{\"outlinewidth\":0,\"ticks\":\"\"},\"colorscale\":[[0.0,\"#0d0887\"],[0.1111111111111111,\"#46039f\"],[0.2222222222222222,\"#7201a8\"],[0.3333333333333333,\"#9c179e\"],[0.4444444444444444,\"#bd3786\"],[0.5555555555555556,\"#d8576b\"],[0.6666666666666666,\"#ed7953\"],[0.7777777777777778,\"#fb9f3a\"],[0.8888888888888888,\"#fdca26\"],[1.0,\"#f0f921\"]]}],\"heatmap\":[{\"type\":\"heatmap\",\"colorbar\":{\"outlinewidth\":0,\"ticks\":\"\"},\"colorscale\":[[0.0,\"#0d0887\"],[0.1111111111111111,\"#46039f\"],[0.2222222222222222,\"#7201a8\"],[0.3333333333333333,\"#9c179e\"],[0.4444444444444444,\"#bd3786\"],[0.5555555555555556,\"#d8576b\"],[0.6666666666666666,\"#ed7953\"],[0.7777777777777778,\"#fb9f3a\"],[0.8888888888888888,\"#fdca26\"],[1.0,\"#f0f921\"]]}],\"heatmapgl\":[{\"type\":\"heatmapgl\",\"colorbar\":{\"outlinewidth\":0,\"ticks\":\"\"},\"colorscale\":[[0.0,\"#0d0887\"],[0.1111111111111111,\"#46039f\"],[0.2222222222222222,\"#7201a8\"],[0.3333333333333333,\"#9c179e\"],[0.4444444444444444,\"#bd3786\"],[0.5555555555555556,\"#d8576b\"],[0.6666666666666666,\"#ed7953\"],[0.7777777777777778,\"#fb9f3a\"],[0.8888888888888888,\"#fdca26\"],[1.0,\"#f0f921\"]]}],\"contourcarpet\":[{\"type\":\"contourcarpet\",\"colorbar\":{\"outlinewidth\":0,\"ticks\":\"\"}}],\"contour\":[{\"type\":\"contour\",\"colorbar\":{\"outlinewidth\":0,\"ticks\":\"\"},\"colorscale\":[[0.0,\"#0d0887\"],[0.1111111111111111,\"#46039f\"],[0.2222222222222222,\"#7201a8\"],[0.3333333333333333,\"#9c179e\"],[0.4444444444444444,\"#bd3786\"],[0.5555555555555556,\"#d8576b\"],[0.6666666666666666,\"#ed7953\"],[0.7777777777777778,\"#fb9f3a\"],[0.8888888888888888,\"#fdca26\"],[1.0,\"#f0f921\"]]}],\"surface\":[{\"type\":\"surface\",\"colorbar\":{\"outlinewidth\":0,\"ticks\":\"\"},\"colorscale\":[[0.0,\"#0d0887\"],[0.1111111111111111,\"#46039f\"],[0.2222222222222222,\"#7201a8\"],[0.3333333333333333,\"#9c179e\"],[0.4444444444444444,\"#bd3786\"],[0.5555555555555556,\"#d8576b\"],[0.6666666666666666,\"#ed7953\"],[0.7777777777777778,\"#fb9f3a\"],[0.8888888888888888,\"#fdca26\"],[1.0,\"#f0f921\"]]}],\"mesh3d\":[{\"type\":\"mesh3d\",\"colorbar\":{\"outlinewidth\":0,\"ticks\":\"\"}}],\"scatter\":[{\"fillpattern\":{\"fillmode\":\"overlay\",\"size\":10,\"solidity\":0.2},\"type\":\"scatter\"}],\"parcoords\":[{\"type\":\"parcoords\",\"line\":{\"colorbar\":{\"outlinewidth\":0,\"ticks\":\"\"}}}],\"scatterpolargl\":[{\"type\":\"scatterpolargl\",\"marker\":{\"colorbar\":{\"outlinewidth\":0,\"ticks\":\"\"}}}],\"bar\":[{\"error_x\":{\"color\":\"#2a3f5f\"},\"error_y\":{\"color\":\"#2a3f5f\"},\"marker\":{\"line\":{\"color\":\"#E5ECF6\",\"width\":0.5},\"pattern\":{\"fillmode\":\"overlay\",\"size\":10,\"solidity\":0.2}},\"type\":\"bar\"}],\"scattergeo\":[{\"type\":\"scattergeo\",\"marker\":{\"colorbar\":{\"outlinewidth\":0,\"ticks\":\"\"}}}],\"scatterpolar\":[{\"type\":\"scatterpolar\",\"marker\":{\"colorbar\":{\"outlinewidth\":0,\"ticks\":\"\"}}}],\"histogram\":[{\"marker\":{\"pattern\":{\"fillmode\":\"overlay\",\"size\":10,\"solidity\":0.2}},\"type\":\"histogram\"}],\"scattergl\":[{\"type\":\"scattergl\",\"marker\":{\"colorbar\":{\"outlinewidth\":0,\"ticks\":\"\"}}}],\"scatter3d\":[{\"type\":\"scatter3d\",\"line\":{\"colorbar\":{\"outlinewidth\":0,\"ticks\":\"\"}},\"marker\":{\"colorbar\":{\"outlinewidth\":0,\"ticks\":\"\"}}}],\"scattermapbox\":[{\"type\":\"scattermapbox\",\"marker\":{\"colorbar\":{\"outlinewidth\":0,\"ticks\":\"\"}}}],\"scatterternary\":[{\"type\":\"scatterternary\",\"marker\":{\"colorbar\":{\"outlinewidth\":0,\"ticks\":\"\"}}}],\"scattercarpet\":[{\"type\":\"scattercarpet\",\"marker\":{\"colorbar\":{\"outlinewidth\":0,\"ticks\":\"\"}}}],\"carpet\":[{\"aaxis\":{\"endlinecolor\":\"#2a3f5f\",\"gridcolor\":\"white\",\"linecolor\":\"white\",\"minorgridcolor\":\"white\",\"startlinecolor\":\"#2a3f5f\"},\"baxis\":{\"endlinecolor\":\"#2a3f5f\",\"gridcolor\":\"white\",\"linecolor\":\"white\",\"minorgridcolor\":\"white\",\"startlinecolor\":\"#2a3f5f\"},\"type\":\"carpet\"}],\"table\":[{\"cells\":{\"fill\":{\"color\":\"#EBF0F8\"},\"line\":{\"color\":\"white\"}},\"header\":{\"fill\":{\"color\":\"#C8D4E3\"},\"line\":{\"color\":\"white\"}},\"type\":\"table\"}],\"barpolar\":[{\"marker\":{\"line\":{\"color\":\"#E5ECF6\",\"width\":0.5},\"pattern\":{\"fillmode\":\"overlay\",\"size\":10,\"solidity\":0.2}},\"type\":\"barpolar\"}],\"pie\":[{\"automargin\":true,\"type\":\"pie\"}]},\"layout\":{\"autotypenumbers\":\"strict\",\"colorway\":[\"#636efa\",\"#EF553B\",\"#00cc96\",\"#ab63fa\",\"#FFA15A\",\"#19d3f3\",\"#FF6692\",\"#B6E880\",\"#FF97FF\",\"#FECB52\"],\"font\":{\"color\":\"#2a3f5f\"},\"hovermode\":\"closest\",\"hoverlabel\":{\"align\":\"left\"},\"paper_bgcolor\":\"white\",\"plot_bgcolor\":\"#E5ECF6\",\"polar\":{\"bgcolor\":\"#E5ECF6\",\"angularaxis\":{\"gridcolor\":\"white\",\"linecolor\":\"white\",\"ticks\":\"\"},\"radialaxis\":{\"gridcolor\":\"white\",\"linecolor\":\"white\",\"ticks\":\"\"}},\"ternary\":{\"bgcolor\":\"#E5ECF6\",\"aaxis\":{\"gridcolor\":\"white\",\"linecolor\":\"white\",\"ticks\":\"\"},\"baxis\":{\"gridcolor\":\"white\",\"linecolor\":\"white\",\"ticks\":\"\"},\"caxis\":{\"gridcolor\":\"white\",\"linecolor\":\"white\",\"ticks\":\"\"}},\"coloraxis\":{\"colorbar\":{\"outlinewidth\":0,\"ticks\":\"\"}},\"colorscale\":{\"sequential\":[[0.0,\"#0d0887\"],[0.1111111111111111,\"#46039f\"],[0.2222222222222222,\"#7201a8\"],[0.3333333333333333,\"#9c179e\"],[0.4444444444444444,\"#bd3786\"],[0.5555555555555556,\"#d8576b\"],[0.6666666666666666,\"#ed7953\"],[0.7777777777777778,\"#fb9f3a\"],[0.8888888888888888,\"#fdca26\"],[1.0,\"#f0f921\"]],\"sequentialminus\":[[0.0,\"#0d0887\"],[0.1111111111111111,\"#46039f\"],[0.2222222222222222,\"#7201a8\"],[0.3333333333333333,\"#9c179e\"],[0.4444444444444444,\"#bd3786\"],[0.5555555555555556,\"#d8576b\"],[0.6666666666666666,\"#ed7953\"],[0.7777777777777778,\"#fb9f3a\"],[0.8888888888888888,\"#fdca26\"],[1.0,\"#f0f921\"]],\"diverging\":[[0,\"#8e0152\"],[0.1,\"#c51b7d\"],[0.2,\"#de77ae\"],[0.3,\"#f1b6da\"],[0.4,\"#fde0ef\"],[0.5,\"#f7f7f7\"],[0.6,\"#e6f5d0\"],[0.7,\"#b8e186\"],[0.8,\"#7fbc41\"],[0.9,\"#4d9221\"],[1,\"#276419\"]]},\"xaxis\":{\"gridcolor\":\"white\",\"linecolor\":\"white\",\"ticks\":\"\",\"title\":{\"standoff\":15},\"zerolinecolor\":\"white\",\"automargin\":true,\"zerolinewidth\":2},\"yaxis\":{\"gridcolor\":\"white\",\"linecolor\":\"white\",\"ticks\":\"\",\"title\":{\"standoff\":15},\"zerolinecolor\":\"white\",\"automargin\":true,\"zerolinewidth\":2},\"scene\":{\"xaxis\":{\"backgroundcolor\":\"#E5ECF6\",\"gridcolor\":\"white\",\"linecolor\":\"white\",\"showbackground\":true,\"ticks\":\"\",\"zerolinecolor\":\"white\",\"gridwidth\":2},\"yaxis\":{\"backgroundcolor\":\"#E5ECF6\",\"gridcolor\":\"white\",\"linecolor\":\"white\",\"showbackground\":true,\"ticks\":\"\",\"zerolinecolor\":\"white\",\"gridwidth\":2},\"zaxis\":{\"backgroundcolor\":\"#E5ECF6\",\"gridcolor\":\"white\",\"linecolor\":\"white\",\"showbackground\":true,\"ticks\":\"\",\"zerolinecolor\":\"white\",\"gridwidth\":2}},\"shapedefaults\":{\"line\":{\"color\":\"#2a3f5f\"}},\"annotationdefaults\":{\"arrowcolor\":\"#2a3f5f\",\"arrowhead\":0,\"arrowwidth\":1},\"geo\":{\"bgcolor\":\"white\",\"landcolor\":\"#E5ECF6\",\"subunitcolor\":\"white\",\"showland\":true,\"showlakes\":true,\"lakecolor\":\"white\"},\"title\":{\"x\":0.05},\"mapbox\":{\"style\":\"light\"}}},\"xaxis\":{\"anchor\":\"y\",\"domain\":[0.0,1.0],\"title\":{\"text\":\"Return look back periods\"}},\"yaxis\":{\"anchor\":\"x\",\"domain\":[0.0,1.0],\"title\":{\"text\":\"corr\"}},\"legend\":{\"tracegroupgap\":0},\"title\":{\"text\":\"Correlation between ts1 vs ts2 based on X period rolling return\"}},                        {\"responsive\": true}                    ).then(function(){\n",
       "                            \n",
       "var gd = document.getElementById('05497d09-c2c0-4925-85fc-8505432e8041');\n",
       "var x = new MutationObserver(function (mutations, observer) {{\n",
       "        var display = window.getComputedStyle(gd).display;\n",
       "        if (!display || display === 'none') {{\n",
       "            console.log([gd, 'removed!']);\n",
       "            Plotly.purge(gd);\n",
       "            observer.disconnect();\n",
       "        }}\n",
       "}});\n",
       "\n",
       "// Listen for the removal of the full notebook cells\n",
       "var notebookContainer = gd.closest('#notebook-container');\n",
       "if (notebookContainer) {{\n",
       "    x.observe(notebookContainer, {childList: true});\n",
       "}}\n",
       "\n",
       "// Listen for the clearing of the current output cell\n",
       "var outputEl = gd.closest('.output');\n",
       "if (outputEl) {{\n",
       "    x.observe(outputEl, {childList: true});\n",
       "}}\n",
       "\n",
       "                        })                };                });            </script>        </div>"
      ]
     },
     "metadata": {},
     "output_type": "display_data"
    },
    {
     "data": {
      "application/vnd.plotly.v1+json": {
       "config": {
        "plotlyServerURL": "https://plot.ly"
       },
       "data": [
        {
         "hovertemplate": "predict_period=%{x}<br>lookback_period=%{marker.color}<br>corr=%{z}<extra></extra>",
         "legendgroup": "",
         "marker": {
          "color": [
           500,
           1000,
           1500,
           2000,
           2500,
           3000,
           3500,
           4000,
           4500,
           5000,
           5500,
           6000,
           6500,
           7000,
           7500,
           8000,
           8500,
           9000,
           9500,
           500,
           1000,
           1500,
           2000,
           2500,
           3000,
           3500,
           4000,
           4500,
           5000,
           5500,
           6000,
           6500,
           7000,
           7500,
           8000,
           8500,
           9000,
           9500,
           500,
           1000,
           1500,
           2000,
           2500,
           3000,
           3500,
           4000,
           4500,
           5000,
           5500,
           6000,
           6500,
           7000,
           7500,
           8000,
           8500,
           9000,
           9500,
           500,
           1000,
           1500,
           2000,
           2500,
           3000,
           3500,
           4000,
           4500,
           5000,
           5500,
           6000,
           6500,
           7000,
           7500,
           8000,
           8500,
           9000,
           9500,
           500,
           1000,
           1500,
           2000,
           2500,
           3000,
           3500,
           4000,
           4500,
           5000,
           5500,
           6000,
           6500,
           7000,
           7500,
           8000,
           8500,
           9000,
           9500,
           500,
           1000,
           1500,
           2000,
           2500,
           3000,
           3500,
           4000,
           4500,
           5000,
           5500,
           6000,
           6500,
           7000,
           7500,
           8000,
           8500,
           9000,
           9500,
           500,
           1000,
           1500,
           2000,
           2500,
           3000,
           3500,
           4000,
           4500,
           5000,
           5500,
           6000,
           6500,
           7000,
           7500,
           8000,
           8500,
           9000,
           9500,
           500,
           1000,
           1500,
           2000,
           2500,
           3000,
           3500,
           4000,
           4500,
           5000,
           5500,
           6000,
           6500,
           7000,
           7500,
           8000,
           8500,
           9000,
           9500,
           500,
           1000,
           1500,
           2000,
           2500,
           3000,
           3500,
           4000,
           4500,
           5000,
           5500,
           6000,
           6500,
           7000,
           7500,
           8000,
           8500,
           9000,
           9500,
           500,
           1000,
           1500,
           2000,
           2500,
           3000,
           3500,
           4000,
           4500,
           5000,
           5500,
           6000,
           6500,
           7000,
           7500,
           8000,
           8500,
           9000,
           9500,
           500,
           1000,
           1500,
           2000,
           2500,
           3000,
           3500,
           4000,
           4500,
           5000,
           5500,
           6000,
           6500,
           7000,
           7500,
           8000,
           8500,
           9000,
           9500,
           500,
           1000,
           1500,
           2000,
           2500,
           3000,
           3500,
           4000,
           4500,
           5000,
           5500,
           6000,
           6500,
           7000,
           7500,
           8000,
           8500,
           9000,
           9500,
           500,
           1000,
           1500,
           2000,
           2500,
           3000,
           3500,
           4000,
           4500,
           5000,
           5500,
           6000,
           6500,
           7000,
           7500,
           8000,
           8500,
           9000,
           9500,
           500,
           1000,
           1500,
           2000,
           2500,
           3000,
           3500,
           4000,
           4500,
           5000,
           5500,
           6000,
           6500,
           7000,
           7500,
           8000,
           8500,
           9000,
           9500,
           500,
           1000,
           1500,
           2000,
           2500,
           3000,
           3500,
           4000,
           4500,
           5000,
           5500,
           6000,
           6500,
           7000,
           7500,
           8000,
           8500,
           9000,
           9500,
           500,
           1000,
           1500,
           2000,
           2500,
           3000,
           3500,
           4000,
           4500,
           5000,
           5500,
           6000,
           6500,
           7000,
           7500,
           8000,
           8500,
           9000,
           9500,
           500,
           1000,
           1500,
           2000,
           2500,
           3000,
           3500,
           4000,
           4500,
           5000,
           5500,
           6000,
           6500,
           7000,
           7500,
           8000,
           8500,
           9000,
           9500,
           500,
           1000,
           1500,
           2000,
           2500,
           3000,
           3500,
           4000,
           4500,
           5000,
           5500,
           6000,
           6500,
           7000,
           7500,
           8000,
           8500,
           9000,
           9500,
           500,
           1000,
           1500,
           2000,
           2500,
           3000,
           3500,
           4000,
           4500,
           5000,
           5500,
           6000,
           6500,
           7000,
           7500,
           8000,
           8500,
           9000,
           9500
          ],
          "coloraxis": "coloraxis",
          "symbol": "circle"
         },
         "mode": "markers",
         "name": "",
         "scene": "scene",
         "showlegend": false,
         "type": "scatter3d",
         "x": [
          500,
          500,
          500,
          500,
          500,
          500,
          500,
          500,
          500,
          500,
          500,
          500,
          500,
          500,
          500,
          500,
          500,
          500,
          500,
          1000,
          1000,
          1000,
          1000,
          1000,
          1000,
          1000,
          1000,
          1000,
          1000,
          1000,
          1000,
          1000,
          1000,
          1000,
          1000,
          1000,
          1000,
          1000,
          1500,
          1500,
          1500,
          1500,
          1500,
          1500,
          1500,
          1500,
          1500,
          1500,
          1500,
          1500,
          1500,
          1500,
          1500,
          1500,
          1500,
          1500,
          1500,
          2000,
          2000,
          2000,
          2000,
          2000,
          2000,
          2000,
          2000,
          2000,
          2000,
          2000,
          2000,
          2000,
          2000,
          2000,
          2000,
          2000,
          2000,
          2000,
          2500,
          2500,
          2500,
          2500,
          2500,
          2500,
          2500,
          2500,
          2500,
          2500,
          2500,
          2500,
          2500,
          2500,
          2500,
          2500,
          2500,
          2500,
          2500,
          3000,
          3000,
          3000,
          3000,
          3000,
          3000,
          3000,
          3000,
          3000,
          3000,
          3000,
          3000,
          3000,
          3000,
          3000,
          3000,
          3000,
          3000,
          3000,
          3500,
          3500,
          3500,
          3500,
          3500,
          3500,
          3500,
          3500,
          3500,
          3500,
          3500,
          3500,
          3500,
          3500,
          3500,
          3500,
          3500,
          3500,
          3500,
          4000,
          4000,
          4000,
          4000,
          4000,
          4000,
          4000,
          4000,
          4000,
          4000,
          4000,
          4000,
          4000,
          4000,
          4000,
          4000,
          4000,
          4000,
          4000,
          4500,
          4500,
          4500,
          4500,
          4500,
          4500,
          4500,
          4500,
          4500,
          4500,
          4500,
          4500,
          4500,
          4500,
          4500,
          4500,
          4500,
          4500,
          4500,
          5000,
          5000,
          5000,
          5000,
          5000,
          5000,
          5000,
          5000,
          5000,
          5000,
          5000,
          5000,
          5000,
          5000,
          5000,
          5000,
          5000,
          5000,
          5000,
          5500,
          5500,
          5500,
          5500,
          5500,
          5500,
          5500,
          5500,
          5500,
          5500,
          5500,
          5500,
          5500,
          5500,
          5500,
          5500,
          5500,
          5500,
          5500,
          6000,
          6000,
          6000,
          6000,
          6000,
          6000,
          6000,
          6000,
          6000,
          6000,
          6000,
          6000,
          6000,
          6000,
          6000,
          6000,
          6000,
          6000,
          6000,
          6500,
          6500,
          6500,
          6500,
          6500,
          6500,
          6500,
          6500,
          6500,
          6500,
          6500,
          6500,
          6500,
          6500,
          6500,
          6500,
          6500,
          6500,
          6500,
          7000,
          7000,
          7000,
          7000,
          7000,
          7000,
          7000,
          7000,
          7000,
          7000,
          7000,
          7000,
          7000,
          7000,
          7000,
          7000,
          7000,
          7000,
          7000,
          7500,
          7500,
          7500,
          7500,
          7500,
          7500,
          7500,
          7500,
          7500,
          7500,
          7500,
          7500,
          7500,
          7500,
          7500,
          7500,
          7500,
          7500,
          7500,
          8000,
          8000,
          8000,
          8000,
          8000,
          8000,
          8000,
          8000,
          8000,
          8000,
          8000,
          8000,
          8000,
          8000,
          8000,
          8000,
          8000,
          8000,
          8000,
          8500,
          8500,
          8500,
          8500,
          8500,
          8500,
          8500,
          8500,
          8500,
          8500,
          8500,
          8500,
          8500,
          8500,
          8500,
          8500,
          8500,
          8500,
          8500,
          9000,
          9000,
          9000,
          9000,
          9000,
          9000,
          9000,
          9000,
          9000,
          9000,
          9000,
          9000,
          9000,
          9000,
          9000,
          9000,
          9000,
          9000,
          9000,
          9500,
          9500,
          9500,
          9500,
          9500,
          9500,
          9500,
          9500,
          9500,
          9500,
          9500,
          9500,
          9500,
          9500,
          9500,
          9500,
          9500,
          9500,
          9500
         ],
         "y": [
          500,
          1000,
          1500,
          2000,
          2500,
          3000,
          3500,
          4000,
          4500,
          5000,
          5500,
          6000,
          6500,
          7000,
          7500,
          8000,
          8500,
          9000,
          9500,
          500,
          1000,
          1500,
          2000,
          2500,
          3000,
          3500,
          4000,
          4500,
          5000,
          5500,
          6000,
          6500,
          7000,
          7500,
          8000,
          8500,
          9000,
          9500,
          500,
          1000,
          1500,
          2000,
          2500,
          3000,
          3500,
          4000,
          4500,
          5000,
          5500,
          6000,
          6500,
          7000,
          7500,
          8000,
          8500,
          9000,
          9500,
          500,
          1000,
          1500,
          2000,
          2500,
          3000,
          3500,
          4000,
          4500,
          5000,
          5500,
          6000,
          6500,
          7000,
          7500,
          8000,
          8500,
          9000,
          9500,
          500,
          1000,
          1500,
          2000,
          2500,
          3000,
          3500,
          4000,
          4500,
          5000,
          5500,
          6000,
          6500,
          7000,
          7500,
          8000,
          8500,
          9000,
          9500,
          500,
          1000,
          1500,
          2000,
          2500,
          3000,
          3500,
          4000,
          4500,
          5000,
          5500,
          6000,
          6500,
          7000,
          7500,
          8000,
          8500,
          9000,
          9500,
          500,
          1000,
          1500,
          2000,
          2500,
          3000,
          3500,
          4000,
          4500,
          5000,
          5500,
          6000,
          6500,
          7000,
          7500,
          8000,
          8500,
          9000,
          9500,
          500,
          1000,
          1500,
          2000,
          2500,
          3000,
          3500,
          4000,
          4500,
          5000,
          5500,
          6000,
          6500,
          7000,
          7500,
          8000,
          8500,
          9000,
          9500,
          500,
          1000,
          1500,
          2000,
          2500,
          3000,
          3500,
          4000,
          4500,
          5000,
          5500,
          6000,
          6500,
          7000,
          7500,
          8000,
          8500,
          9000,
          9500,
          500,
          1000,
          1500,
          2000,
          2500,
          3000,
          3500,
          4000,
          4500,
          5000,
          5500,
          6000,
          6500,
          7000,
          7500,
          8000,
          8500,
          9000,
          9500,
          500,
          1000,
          1500,
          2000,
          2500,
          3000,
          3500,
          4000,
          4500,
          5000,
          5500,
          6000,
          6500,
          7000,
          7500,
          8000,
          8500,
          9000,
          9500,
          500,
          1000,
          1500,
          2000,
          2500,
          3000,
          3500,
          4000,
          4500,
          5000,
          5500,
          6000,
          6500,
          7000,
          7500,
          8000,
          8500,
          9000,
          9500,
          500,
          1000,
          1500,
          2000,
          2500,
          3000,
          3500,
          4000,
          4500,
          5000,
          5500,
          6000,
          6500,
          7000,
          7500,
          8000,
          8500,
          9000,
          9500,
          500,
          1000,
          1500,
          2000,
          2500,
          3000,
          3500,
          4000,
          4500,
          5000,
          5500,
          6000,
          6500,
          7000,
          7500,
          8000,
          8500,
          9000,
          9500,
          500,
          1000,
          1500,
          2000,
          2500,
          3000,
          3500,
          4000,
          4500,
          5000,
          5500,
          6000,
          6500,
          7000,
          7500,
          8000,
          8500,
          9000,
          9500,
          500,
          1000,
          1500,
          2000,
          2500,
          3000,
          3500,
          4000,
          4500,
          5000,
          5500,
          6000,
          6500,
          7000,
          7500,
          8000,
          8500,
          9000,
          9500,
          500,
          1000,
          1500,
          2000,
          2500,
          3000,
          3500,
          4000,
          4500,
          5000,
          5500,
          6000,
          6500,
          7000,
          7500,
          8000,
          8500,
          9000,
          9500,
          500,
          1000,
          1500,
          2000,
          2500,
          3000,
          3500,
          4000,
          4500,
          5000,
          5500,
          6000,
          6500,
          7000,
          7500,
          8000,
          8500,
          9000,
          9500,
          500,
          1000,
          1500,
          2000,
          2500,
          3000,
          3500,
          4000,
          4500,
          5000,
          5500,
          6000,
          6500,
          7000,
          7500,
          8000,
          8500,
          9000,
          9500
         ],
         "z": [
          -0.03925617695362384,
          -0.13104286529687045,
          -0.09259121812417875,
          -0.09767304310588278,
          -0.18832978636798808,
          -0.07376164963082377,
          -0.09808833238727864,
          -0.040375136922795415,
          -0.07295319539997003,
          -0.08720375796508853,
          -0.05326468558965032,
          -0.14529512158401792,
          -0.10591422749956335,
          0.009037336867764565,
          -0.09328648613099177,
          -0.06280247025167503,
          -0.203027300917102,
          -0.06023233353298513,
          -0.0870968119033342,
          -0.143283504647841,
          -0.1938490547396664,
          -0.16203533332244324,
          -0.16916286904435396,
          -0.06312698773654825,
          -0.12082467892214274,
          -0.03799889966066031,
          -0.06135559780346204,
          -0.08219445231268031,
          -0.08170693608127405,
          -0.11890033490097819,
          -0.21848732427667633,
          -0.06648280042245291,
          0.037971046516690504,
          -0.03944777030089865,
          -0.18211782840939914,
          -0.15560614421737112,
          -0.09482177243321366,
          -0.16041385566034333,
          -0.12959481804557982,
          -0.2919528522894816,
          -0.2960394092773156,
          -0.07500020118867824,
          0.020317911058036334,
          -0.007616344127944161,
          -0.08734314672733116,
          -0.07172241393102316,
          -0.06493153359948818,
          -0.13849570526297278,
          -0.20938271223718352,
          -0.2201389125064404,
          -0.254015591132233,
          0.005481978145397284,
          -0.09759826331364921,
          -0.142631448515464,
          -0.18983103782565058,
          -0.1746443316635789,
          -0.18484047545618124,
          -0.16412583507236542,
          -0.3342206105449867,
          -0.16273751227610533,
          -0.03792936735658135,
          -0.020228387490284945,
          -0.07754226574790826,
          -0.07780468253732141,
          -0.06129186502213767,
          -0.14815272103563817,
          -0.13543223292987375,
          -0.16213455233414664,
          -0.24112069203665493,
          -0.11129605921308372,
          -0.055913632856202475,
          -0.023671329601480228,
          -0.13813273595289036,
          -0.21369530995894884,
          -0.20265409125338119,
          -0.23824563717248243,
          -0.14156400120120385,
          -0.188176172297638,
          -0.05985511172811369,
          -0.08550527399418144,
          -0.02264008432051961,
          -0.042096592181215024,
          0.036672015951983106,
          0.010806238032980054,
          -0.09035475090049865,
          -0.05452077416180512,
          -0.08169568185958563,
          -0.1268080168841291,
          0.027704445129076022,
          0.0036942252499944654,
          0.009956717607090616,
          -0.09115608296233096,
          -0.16897872663888502,
          -0.1371991571369738,
          -0.2132097897511589,
          -0.05328666553527687,
          -0.035968381579394915,
          -0.10248039041096872,
          -0.07141344375832298,
          0.025331252672279758,
          0.009437002416348077,
          0.009078945332337706,
          -0.013631800742248765,
          -0.0003375811110865477,
          0.025280164551338066,
          0.022295712761735,
          0.06151155451367138,
          0.10584541015715937,
          0.126215390953506,
          0.036133472923022464,
          0.02649241505536931,
          -0.12584049244013182,
          -0.0811722572086427,
          -0.11444594015783788,
          -0.036962003482030714,
          -0.11014812605949326,
          -0.09549419819419203,
          -0.03491126295546018,
          0.014806174094528992,
          -0.006629316145993698,
          -0.08039396872968939,
          -0.012626765167274324,
          -0.029824028421284753,
          0.008728351637203563,
          0.013001664335296623,
          0.01075094535616265,
          0.05058400340277771,
          0.134578202119525,
          0.060954821121941845,
          0.09762586812782972,
          -0.12197103782037769,
          -0.03731279194716483,
          -0.0717087805907323,
          -0.140397181738014,
          -0.17070413663860773,
          -0.11441177720477444,
          -0.06770790686820423,
          -0.10609772288530284,
          -0.15480267306252188,
          -0.12691323352667921,
          -0.030707014772733375,
          -0.06357050936095648,
          -0.07258852411680826,
          -0.0361905421852298,
          -0.06348042987182828,
          -0.007762772857311683,
          0.11293205546796177,
          -0.030453905731462415,
          -0.07895442823556593,
          -0.17065220386509294,
          -0.04365053781093557,
          -0.08196102592107855,
          -0.10223022210963087,
          -0.12800406894926705,
          -0.10797827067593435,
          -0.11587611187698356,
          -0.06962767294343743,
          -0.04630460942515124,
          0.021739508210990896,
          0.005936843981793527,
          -0.06920344311839255,
          -0.05890967533917295,
          -0.038707492454166395,
          -0.06516708160831836,
          -0.044670763046309,
          0.014137152797024408,
          -0.04922272348114338,
          -0.08424219839565923,
          -0.11082634026384663,
          -0.05051525780121602,
          -0.10875159095519928,
          -0.03337497098026063,
          -0.09995721532162306,
          -0.14608358666052867,
          -0.10861473040712546,
          -0.003613190532985774,
          0.013547079871254659,
          0.02042444861552975,
          -0.006818264965546438,
          -0.04158091387003625,
          -0.05025740630804612,
          -0.06090362493481099,
          -0.09252132159120044,
          -0.09673618185905514,
          -0.019159245856186356,
          -0.06340562564431863,
          -0.0638944361814393,
          -0.10423526434428573,
          -0.0711712020451368,
          -0.12564240850998257,
          -0.07486185610532814,
          -0.20674290461800918,
          -0.18024513125709352,
          -0.09347525369346496,
          0.013276355521736033,
          0.01084204175339765,
          -0.029480244145856,
          -0.038154168137928504,
          -0.07885626598675906,
          -0.07723511091822999,
          -0.10750686119566699,
          -0.16302681909837974,
          -0.13094117293738586,
          -0.03596180272428341,
          -0.06886208831942423,
          -0.07204319047054128,
          -0.12179991066692171,
          -0.11459828950513302,
          -0.15019097322483835,
          -0.11452290623526562,
          -0.23936109976557232,
          -0.22687477326335348,
          -0.08765185301393824,
          0.0419351186858808,
          -0.01923296905158481,
          -0.06544011493434114,
          -0.06895324297694382,
          -0.10940715384979513,
          -0.12299982326203063,
          -0.13680351915959138,
          -0.1909120944404025,
          -0.18594547931891442,
          -0.040437860082905126,
          -0.06160806420326072,
          -0.12005913972040981,
          -0.1693666028268142,
          -0.14542076085708314,
          -0.16852913379772122,
          -0.15049112773916057,
          -0.26199088033406026,
          -0.23700492038123072,
          0.03399643014596292,
          0.056577327832888366,
          -0.07084379731951047,
          -0.08173288705515258,
          -0.08621580451520534,
          -0.14957515484939313,
          -0.13463231395135156,
          -0.15514783263389845,
          -0.24305245764627864,
          -0.24000382850238136,
          -0.013171086615128216,
          -0.08190914498145144,
          -0.17599691093778871,
          -0.1864567739361819,
          -0.1553086178783144,
          -0.19520359610079846,
          -0.09455925845058104,
          -0.13673682092140504,
          -0.11397686323571686,
          0.024751154448673228,
          0.053887293589432055,
          -0.05680337457065448,
          -0.08149083281358802,
          -0.09460814048653177,
          -0.11690873767123572,
          -0.11895667456589723,
          -0.16850897700306586,
          -0.21592098672491392,
          -0.20988187282985515,
          -0.042615869515156876,
          -0.09005181090816387,
          -0.14907339141548906,
          -0.19241662528625691,
          -0.16607761852633024,
          -0.1683111822716363,
          -0.01404735475475128,
          -0.024460025560261774,
          0.015063530639610379,
          -0.013175593168400453,
          0.016726708554981103,
          -0.0510117723879778,
          -0.06202248402124314,
          -0.04091106043821801,
          -0.11674613888418861,
          -0.08626590805425596,
          -0.15497790396981528,
          -0.13173015730484572,
          -0.05110853432964343,
          -0.06113213828427272,
          -0.11370369954236333,
          -0.14459567657940828,
          -0.18151937345890015,
          -0.15156849590275678,
          -0.18072877360668943,
          0.00875074916416239,
          -0.015865773514901454,
          -0.05652748428910835,
          -0.046746366446814146,
          -0.01992064900229119,
          -0.06073909747675536,
          -0.09909335403625816,
          -0.08502934696745854,
          -0.10831652709667375,
          -0.09464844811570769,
          -0.08735782734099526,
          -0.06295668215814014,
          -0.07226006864745209,
          -0.07454880874766925,
          -0.10336558845820593,
          -0.10023682683633105,
          -0.13889565614545513,
          -0.15128995600675935,
          -0.1517905512821243,
          -0.03707678547500532,
          -0.06639177519723917,
          -0.09455154460400603,
          -0.04471912381987495,
          -0.06111150941969932,
          -0.03998979100620541,
          -0.13004770892540946,
          -0.09658886516951626,
          -0.16029910726845792,
          -0.12048142082639605,
          -0.07517517274852412,
          -0.08854353218410367,
          -0.09218619995855871,
          -0.0743844062781877,
          -0.08800250533519385,
          -0.08226146181044976,
          -0.2335798179618456,
          -0.1574079917504769,
          -0.17388391956177243,
          -0.06382484656789625,
          -0.09383871747723578,
          -0.10347276949136708,
          -0.08285024299800423,
          -0.0657703151406818,
          -0.057650523943696366,
          -0.12370856211342664,
          -0.11552528857429438,
          -0.13050155760120202,
          -0.12744082687407124,
          -0.10495875928899454,
          -0.132692050713951,
          -0.10376219355722244,
          -0.03785402417548193,
          -0.053393286320383794,
          -0.058069616591806976,
          -0.2840212716004673,
          -0.1654738863183099,
          -0.16758519194428106,
          -0.058808844601829856,
          -0.1223996056668023,
          -0.12310911664500329,
          -0.10468490212355874,
          -0.062260342701382504,
          -0.07440641725375156,
          -0.08934654139821058,
          -0.08380095213935307,
          -0.13496270056715987,
          -0.1280155114362594,
          -0.1209800461751185,
          -0.15593666269335257,
          -0.10088202178680701,
          -0.04558029993375546,
          -0.08597051730301973,
          -0.13657888775988808,
          -0.23993355822372994,
          -0.1702585299067017,
          -0.1778888843396058
         ]
        }
       ],
       "layout": {
        "coloraxis": {
         "colorbar": {
          "title": {
           "text": "lookback_period"
          }
         },
         "colorscale": [
          [
           0,
           "#0d0887"
          ],
          [
           0.1111111111111111,
           "#46039f"
          ],
          [
           0.2222222222222222,
           "#7201a8"
          ],
          [
           0.3333333333333333,
           "#9c179e"
          ],
          [
           0.4444444444444444,
           "#bd3786"
          ],
          [
           0.5555555555555556,
           "#d8576b"
          ],
          [
           0.6666666666666666,
           "#ed7953"
          ],
          [
           0.7777777777777778,
           "#fb9f3a"
          ],
          [
           0.8888888888888888,
           "#fdca26"
          ],
          [
           1,
           "#f0f921"
          ]
         ]
        },
        "legend": {
         "tracegroupgap": 0
        },
        "margin": {
         "t": 60
        },
        "scene": {
         "domain": {
          "x": [
           0,
           1
          ],
          "y": [
           0,
           1
          ]
         },
         "xaxis": {
          "title": {
           "text": "predict_period"
          }
         },
         "yaxis": {
          "title": {
           "text": "lookback_period"
          }
         },
         "zaxis": {
          "title": {
           "text": "corr"
          }
         }
        },
        "template": {
         "data": {
          "bar": [
           {
            "error_x": {
             "color": "#2a3f5f"
            },
            "error_y": {
             "color": "#2a3f5f"
            },
            "marker": {
             "line": {
              "color": "#E5ECF6",
              "width": 0.5
             },
             "pattern": {
              "fillmode": "overlay",
              "size": 10,
              "solidity": 0.2
             }
            },
            "type": "bar"
           }
          ],
          "barpolar": [
           {
            "marker": {
             "line": {
              "color": "#E5ECF6",
              "width": 0.5
             },
             "pattern": {
              "fillmode": "overlay",
              "size": 10,
              "solidity": 0.2
             }
            },
            "type": "barpolar"
           }
          ],
          "carpet": [
           {
            "aaxis": {
             "endlinecolor": "#2a3f5f",
             "gridcolor": "white",
             "linecolor": "white",
             "minorgridcolor": "white",
             "startlinecolor": "#2a3f5f"
            },
            "baxis": {
             "endlinecolor": "#2a3f5f",
             "gridcolor": "white",
             "linecolor": "white",
             "minorgridcolor": "white",
             "startlinecolor": "#2a3f5f"
            },
            "type": "carpet"
           }
          ],
          "choropleth": [
           {
            "colorbar": {
             "outlinewidth": 0,
             "ticks": ""
            },
            "type": "choropleth"
           }
          ],
          "contour": [
           {
            "colorbar": {
             "outlinewidth": 0,
             "ticks": ""
            },
            "colorscale": [
             [
              0,
              "#0d0887"
             ],
             [
              0.1111111111111111,
              "#46039f"
             ],
             [
              0.2222222222222222,
              "#7201a8"
             ],
             [
              0.3333333333333333,
              "#9c179e"
             ],
             [
              0.4444444444444444,
              "#bd3786"
             ],
             [
              0.5555555555555556,
              "#d8576b"
             ],
             [
              0.6666666666666666,
              "#ed7953"
             ],
             [
              0.7777777777777778,
              "#fb9f3a"
             ],
             [
              0.8888888888888888,
              "#fdca26"
             ],
             [
              1,
              "#f0f921"
             ]
            ],
            "type": "contour"
           }
          ],
          "contourcarpet": [
           {
            "colorbar": {
             "outlinewidth": 0,
             "ticks": ""
            },
            "type": "contourcarpet"
           }
          ],
          "heatmap": [
           {
            "colorbar": {
             "outlinewidth": 0,
             "ticks": ""
            },
            "colorscale": [
             [
              0,
              "#0d0887"
             ],
             [
              0.1111111111111111,
              "#46039f"
             ],
             [
              0.2222222222222222,
              "#7201a8"
             ],
             [
              0.3333333333333333,
              "#9c179e"
             ],
             [
              0.4444444444444444,
              "#bd3786"
             ],
             [
              0.5555555555555556,
              "#d8576b"
             ],
             [
              0.6666666666666666,
              "#ed7953"
             ],
             [
              0.7777777777777778,
              "#fb9f3a"
             ],
             [
              0.8888888888888888,
              "#fdca26"
             ],
             [
              1,
              "#f0f921"
             ]
            ],
            "type": "heatmap"
           }
          ],
          "heatmapgl": [
           {
            "colorbar": {
             "outlinewidth": 0,
             "ticks": ""
            },
            "colorscale": [
             [
              0,
              "#0d0887"
             ],
             [
              0.1111111111111111,
              "#46039f"
             ],
             [
              0.2222222222222222,
              "#7201a8"
             ],
             [
              0.3333333333333333,
              "#9c179e"
             ],
             [
              0.4444444444444444,
              "#bd3786"
             ],
             [
              0.5555555555555556,
              "#d8576b"
             ],
             [
              0.6666666666666666,
              "#ed7953"
             ],
             [
              0.7777777777777778,
              "#fb9f3a"
             ],
             [
              0.8888888888888888,
              "#fdca26"
             ],
             [
              1,
              "#f0f921"
             ]
            ],
            "type": "heatmapgl"
           }
          ],
          "histogram": [
           {
            "marker": {
             "pattern": {
              "fillmode": "overlay",
              "size": 10,
              "solidity": 0.2
             }
            },
            "type": "histogram"
           }
          ],
          "histogram2d": [
           {
            "colorbar": {
             "outlinewidth": 0,
             "ticks": ""
            },
            "colorscale": [
             [
              0,
              "#0d0887"
             ],
             [
              0.1111111111111111,
              "#46039f"
             ],
             [
              0.2222222222222222,
              "#7201a8"
             ],
             [
              0.3333333333333333,
              "#9c179e"
             ],
             [
              0.4444444444444444,
              "#bd3786"
             ],
             [
              0.5555555555555556,
              "#d8576b"
             ],
             [
              0.6666666666666666,
              "#ed7953"
             ],
             [
              0.7777777777777778,
              "#fb9f3a"
             ],
             [
              0.8888888888888888,
              "#fdca26"
             ],
             [
              1,
              "#f0f921"
             ]
            ],
            "type": "histogram2d"
           }
          ],
          "histogram2dcontour": [
           {
            "colorbar": {
             "outlinewidth": 0,
             "ticks": ""
            },
            "colorscale": [
             [
              0,
              "#0d0887"
             ],
             [
              0.1111111111111111,
              "#46039f"
             ],
             [
              0.2222222222222222,
              "#7201a8"
             ],
             [
              0.3333333333333333,
              "#9c179e"
             ],
             [
              0.4444444444444444,
              "#bd3786"
             ],
             [
              0.5555555555555556,
              "#d8576b"
             ],
             [
              0.6666666666666666,
              "#ed7953"
             ],
             [
              0.7777777777777778,
              "#fb9f3a"
             ],
             [
              0.8888888888888888,
              "#fdca26"
             ],
             [
              1,
              "#f0f921"
             ]
            ],
            "type": "histogram2dcontour"
           }
          ],
          "mesh3d": [
           {
            "colorbar": {
             "outlinewidth": 0,
             "ticks": ""
            },
            "type": "mesh3d"
           }
          ],
          "parcoords": [
           {
            "line": {
             "colorbar": {
              "outlinewidth": 0,
              "ticks": ""
             }
            },
            "type": "parcoords"
           }
          ],
          "pie": [
           {
            "automargin": true,
            "type": "pie"
           }
          ],
          "scatter": [
           {
            "fillpattern": {
             "fillmode": "overlay",
             "size": 10,
             "solidity": 0.2
            },
            "type": "scatter"
           }
          ],
          "scatter3d": [
           {
            "line": {
             "colorbar": {
              "outlinewidth": 0,
              "ticks": ""
             }
            },
            "marker": {
             "colorbar": {
              "outlinewidth": 0,
              "ticks": ""
             }
            },
            "type": "scatter3d"
           }
          ],
          "scattercarpet": [
           {
            "marker": {
             "colorbar": {
              "outlinewidth": 0,
              "ticks": ""
             }
            },
            "type": "scattercarpet"
           }
          ],
          "scattergeo": [
           {
            "marker": {
             "colorbar": {
              "outlinewidth": 0,
              "ticks": ""
             }
            },
            "type": "scattergeo"
           }
          ],
          "scattergl": [
           {
            "marker": {
             "colorbar": {
              "outlinewidth": 0,
              "ticks": ""
             }
            },
            "type": "scattergl"
           }
          ],
          "scattermapbox": [
           {
            "marker": {
             "colorbar": {
              "outlinewidth": 0,
              "ticks": ""
             }
            },
            "type": "scattermapbox"
           }
          ],
          "scatterpolar": [
           {
            "marker": {
             "colorbar": {
              "outlinewidth": 0,
              "ticks": ""
             }
            },
            "type": "scatterpolar"
           }
          ],
          "scatterpolargl": [
           {
            "marker": {
             "colorbar": {
              "outlinewidth": 0,
              "ticks": ""
             }
            },
            "type": "scatterpolargl"
           }
          ],
          "scatterternary": [
           {
            "marker": {
             "colorbar": {
              "outlinewidth": 0,
              "ticks": ""
             }
            },
            "type": "scatterternary"
           }
          ],
          "surface": [
           {
            "colorbar": {
             "outlinewidth": 0,
             "ticks": ""
            },
            "colorscale": [
             [
              0,
              "#0d0887"
             ],
             [
              0.1111111111111111,
              "#46039f"
             ],
             [
              0.2222222222222222,
              "#7201a8"
             ],
             [
              0.3333333333333333,
              "#9c179e"
             ],
             [
              0.4444444444444444,
              "#bd3786"
             ],
             [
              0.5555555555555556,
              "#d8576b"
             ],
             [
              0.6666666666666666,
              "#ed7953"
             ],
             [
              0.7777777777777778,
              "#fb9f3a"
             ],
             [
              0.8888888888888888,
              "#fdca26"
             ],
             [
              1,
              "#f0f921"
             ]
            ],
            "type": "surface"
           }
          ],
          "table": [
           {
            "cells": {
             "fill": {
              "color": "#EBF0F8"
             },
             "line": {
              "color": "white"
             }
            },
            "header": {
             "fill": {
              "color": "#C8D4E3"
             },
             "line": {
              "color": "white"
             }
            },
            "type": "table"
           }
          ]
         },
         "layout": {
          "annotationdefaults": {
           "arrowcolor": "#2a3f5f",
           "arrowhead": 0,
           "arrowwidth": 1
          },
          "autotypenumbers": "strict",
          "coloraxis": {
           "colorbar": {
            "outlinewidth": 0,
            "ticks": ""
           }
          },
          "colorscale": {
           "diverging": [
            [
             0,
             "#8e0152"
            ],
            [
             0.1,
             "#c51b7d"
            ],
            [
             0.2,
             "#de77ae"
            ],
            [
             0.3,
             "#f1b6da"
            ],
            [
             0.4,
             "#fde0ef"
            ],
            [
             0.5,
             "#f7f7f7"
            ],
            [
             0.6,
             "#e6f5d0"
            ],
            [
             0.7,
             "#b8e186"
            ],
            [
             0.8,
             "#7fbc41"
            ],
            [
             0.9,
             "#4d9221"
            ],
            [
             1,
             "#276419"
            ]
           ],
           "sequential": [
            [
             0,
             "#0d0887"
            ],
            [
             0.1111111111111111,
             "#46039f"
            ],
            [
             0.2222222222222222,
             "#7201a8"
            ],
            [
             0.3333333333333333,
             "#9c179e"
            ],
            [
             0.4444444444444444,
             "#bd3786"
            ],
            [
             0.5555555555555556,
             "#d8576b"
            ],
            [
             0.6666666666666666,
             "#ed7953"
            ],
            [
             0.7777777777777778,
             "#fb9f3a"
            ],
            [
             0.8888888888888888,
             "#fdca26"
            ],
            [
             1,
             "#f0f921"
            ]
           ],
           "sequentialminus": [
            [
             0,
             "#0d0887"
            ],
            [
             0.1111111111111111,
             "#46039f"
            ],
            [
             0.2222222222222222,
             "#7201a8"
            ],
            [
             0.3333333333333333,
             "#9c179e"
            ],
            [
             0.4444444444444444,
             "#bd3786"
            ],
            [
             0.5555555555555556,
             "#d8576b"
            ],
            [
             0.6666666666666666,
             "#ed7953"
            ],
            [
             0.7777777777777778,
             "#fb9f3a"
            ],
            [
             0.8888888888888888,
             "#fdca26"
            ],
            [
             1,
             "#f0f921"
            ]
           ]
          },
          "colorway": [
           "#636efa",
           "#EF553B",
           "#00cc96",
           "#ab63fa",
           "#FFA15A",
           "#19d3f3",
           "#FF6692",
           "#B6E880",
           "#FF97FF",
           "#FECB52"
          ],
          "font": {
           "color": "#2a3f5f"
          },
          "geo": {
           "bgcolor": "white",
           "lakecolor": "white",
           "landcolor": "#E5ECF6",
           "showlakes": true,
           "showland": true,
           "subunitcolor": "white"
          },
          "hoverlabel": {
           "align": "left"
          },
          "hovermode": "closest",
          "mapbox": {
           "style": "light"
          },
          "paper_bgcolor": "white",
          "plot_bgcolor": "#E5ECF6",
          "polar": {
           "angularaxis": {
            "gridcolor": "white",
            "linecolor": "white",
            "ticks": ""
           },
           "bgcolor": "#E5ECF6",
           "radialaxis": {
            "gridcolor": "white",
            "linecolor": "white",
            "ticks": ""
           }
          },
          "scene": {
           "xaxis": {
            "backgroundcolor": "#E5ECF6",
            "gridcolor": "white",
            "gridwidth": 2,
            "linecolor": "white",
            "showbackground": true,
            "ticks": "",
            "zerolinecolor": "white"
           },
           "yaxis": {
            "backgroundcolor": "#E5ECF6",
            "gridcolor": "white",
            "gridwidth": 2,
            "linecolor": "white",
            "showbackground": true,
            "ticks": "",
            "zerolinecolor": "white"
           },
           "zaxis": {
            "backgroundcolor": "#E5ECF6",
            "gridcolor": "white",
            "gridwidth": 2,
            "linecolor": "white",
            "showbackground": true,
            "ticks": "",
            "zerolinecolor": "white"
           }
          },
          "shapedefaults": {
           "line": {
            "color": "#2a3f5f"
           }
          },
          "ternary": {
           "aaxis": {
            "gridcolor": "white",
            "linecolor": "white",
            "ticks": ""
           },
           "baxis": {
            "gridcolor": "white",
            "linecolor": "white",
            "ticks": ""
           },
           "bgcolor": "#E5ECF6",
           "caxis": {
            "gridcolor": "white",
            "linecolor": "white",
            "ticks": ""
           }
          },
          "title": {
           "x": 0.05
          },
          "xaxis": {
           "automargin": true,
           "gridcolor": "white",
           "linecolor": "white",
           "ticks": "",
           "title": {
            "standoff": 15
           },
           "zerolinecolor": "white",
           "zerolinewidth": 2
          },
          "yaxis": {
           "automargin": true,
           "gridcolor": "white",
           "linecolor": "white",
           "ticks": "",
           "title": {
            "standoff": 15
           },
           "zerolinecolor": "white",
           "zerolinewidth": 2
          }
         }
        }
       }
      },
      "text/html": [
       "<div>                            <div id=\"79245896-011a-4d0d-95f8-c91986803302\" class=\"plotly-graph-div\" style=\"height:525px; width:100%;\"></div>            <script type=\"text/javascript\">                require([\"plotly\"], function(Plotly) {                    window.PLOTLYENV=window.PLOTLYENV || {};                                    if (document.getElementById(\"79245896-011a-4d0d-95f8-c91986803302\")) {                    Plotly.newPlot(                        \"79245896-011a-4d0d-95f8-c91986803302\",                        [{\"hovertemplate\":\"predict_period=%{x}<br>lookback_period=%{marker.color}<br>corr=%{z}<extra></extra>\",\"legendgroup\":\"\",\"marker\":{\"color\":[500.0,1000.0,1500.0,2000.0,2500.0,3000.0,3500.0,4000.0,4500.0,5000.0,5500.0,6000.0,6500.0,7000.0,7500.0,8000.0,8500.0,9000.0,9500.0,500.0,1000.0,1500.0,2000.0,2500.0,3000.0,3500.0,4000.0,4500.0,5000.0,5500.0,6000.0,6500.0,7000.0,7500.0,8000.0,8500.0,9000.0,9500.0,500.0,1000.0,1500.0,2000.0,2500.0,3000.0,3500.0,4000.0,4500.0,5000.0,5500.0,6000.0,6500.0,7000.0,7500.0,8000.0,8500.0,9000.0,9500.0,500.0,1000.0,1500.0,2000.0,2500.0,3000.0,3500.0,4000.0,4500.0,5000.0,5500.0,6000.0,6500.0,7000.0,7500.0,8000.0,8500.0,9000.0,9500.0,500.0,1000.0,1500.0,2000.0,2500.0,3000.0,3500.0,4000.0,4500.0,5000.0,5500.0,6000.0,6500.0,7000.0,7500.0,8000.0,8500.0,9000.0,9500.0,500.0,1000.0,1500.0,2000.0,2500.0,3000.0,3500.0,4000.0,4500.0,5000.0,5500.0,6000.0,6500.0,7000.0,7500.0,8000.0,8500.0,9000.0,9500.0,500.0,1000.0,1500.0,2000.0,2500.0,3000.0,3500.0,4000.0,4500.0,5000.0,5500.0,6000.0,6500.0,7000.0,7500.0,8000.0,8500.0,9000.0,9500.0,500.0,1000.0,1500.0,2000.0,2500.0,3000.0,3500.0,4000.0,4500.0,5000.0,5500.0,6000.0,6500.0,7000.0,7500.0,8000.0,8500.0,9000.0,9500.0,500.0,1000.0,1500.0,2000.0,2500.0,3000.0,3500.0,4000.0,4500.0,5000.0,5500.0,6000.0,6500.0,7000.0,7500.0,8000.0,8500.0,9000.0,9500.0,500.0,1000.0,1500.0,2000.0,2500.0,3000.0,3500.0,4000.0,4500.0,5000.0,5500.0,6000.0,6500.0,7000.0,7500.0,8000.0,8500.0,9000.0,9500.0,500.0,1000.0,1500.0,2000.0,2500.0,3000.0,3500.0,4000.0,4500.0,5000.0,5500.0,6000.0,6500.0,7000.0,7500.0,8000.0,8500.0,9000.0,9500.0,500.0,1000.0,1500.0,2000.0,2500.0,3000.0,3500.0,4000.0,4500.0,5000.0,5500.0,6000.0,6500.0,7000.0,7500.0,8000.0,8500.0,9000.0,9500.0,500.0,1000.0,1500.0,2000.0,2500.0,3000.0,3500.0,4000.0,4500.0,5000.0,5500.0,6000.0,6500.0,7000.0,7500.0,8000.0,8500.0,9000.0,9500.0,500.0,1000.0,1500.0,2000.0,2500.0,3000.0,3500.0,4000.0,4500.0,5000.0,5500.0,6000.0,6500.0,7000.0,7500.0,8000.0,8500.0,9000.0,9500.0,500.0,1000.0,1500.0,2000.0,2500.0,3000.0,3500.0,4000.0,4500.0,5000.0,5500.0,6000.0,6500.0,7000.0,7500.0,8000.0,8500.0,9000.0,9500.0,500.0,1000.0,1500.0,2000.0,2500.0,3000.0,3500.0,4000.0,4500.0,5000.0,5500.0,6000.0,6500.0,7000.0,7500.0,8000.0,8500.0,9000.0,9500.0,500.0,1000.0,1500.0,2000.0,2500.0,3000.0,3500.0,4000.0,4500.0,5000.0,5500.0,6000.0,6500.0,7000.0,7500.0,8000.0,8500.0,9000.0,9500.0,500.0,1000.0,1500.0,2000.0,2500.0,3000.0,3500.0,4000.0,4500.0,5000.0,5500.0,6000.0,6500.0,7000.0,7500.0,8000.0,8500.0,9000.0,9500.0,500.0,1000.0,1500.0,2000.0,2500.0,3000.0,3500.0,4000.0,4500.0,5000.0,5500.0,6000.0,6500.0,7000.0,7500.0,8000.0,8500.0,9000.0,9500.0],\"coloraxis\":\"coloraxis\",\"symbol\":\"circle\"},\"mode\":\"markers\",\"name\":\"\",\"scene\":\"scene\",\"showlegend\":false,\"x\":[500.0,500.0,500.0,500.0,500.0,500.0,500.0,500.0,500.0,500.0,500.0,500.0,500.0,500.0,500.0,500.0,500.0,500.0,500.0,1000.0,1000.0,1000.0,1000.0,1000.0,1000.0,1000.0,1000.0,1000.0,1000.0,1000.0,1000.0,1000.0,1000.0,1000.0,1000.0,1000.0,1000.0,1000.0,1500.0,1500.0,1500.0,1500.0,1500.0,1500.0,1500.0,1500.0,1500.0,1500.0,1500.0,1500.0,1500.0,1500.0,1500.0,1500.0,1500.0,1500.0,1500.0,2000.0,2000.0,2000.0,2000.0,2000.0,2000.0,2000.0,2000.0,2000.0,2000.0,2000.0,2000.0,2000.0,2000.0,2000.0,2000.0,2000.0,2000.0,2000.0,2500.0,2500.0,2500.0,2500.0,2500.0,2500.0,2500.0,2500.0,2500.0,2500.0,2500.0,2500.0,2500.0,2500.0,2500.0,2500.0,2500.0,2500.0,2500.0,3000.0,3000.0,3000.0,3000.0,3000.0,3000.0,3000.0,3000.0,3000.0,3000.0,3000.0,3000.0,3000.0,3000.0,3000.0,3000.0,3000.0,3000.0,3000.0,3500.0,3500.0,3500.0,3500.0,3500.0,3500.0,3500.0,3500.0,3500.0,3500.0,3500.0,3500.0,3500.0,3500.0,3500.0,3500.0,3500.0,3500.0,3500.0,4000.0,4000.0,4000.0,4000.0,4000.0,4000.0,4000.0,4000.0,4000.0,4000.0,4000.0,4000.0,4000.0,4000.0,4000.0,4000.0,4000.0,4000.0,4000.0,4500.0,4500.0,4500.0,4500.0,4500.0,4500.0,4500.0,4500.0,4500.0,4500.0,4500.0,4500.0,4500.0,4500.0,4500.0,4500.0,4500.0,4500.0,4500.0,5000.0,5000.0,5000.0,5000.0,5000.0,5000.0,5000.0,5000.0,5000.0,5000.0,5000.0,5000.0,5000.0,5000.0,5000.0,5000.0,5000.0,5000.0,5000.0,5500.0,5500.0,5500.0,5500.0,5500.0,5500.0,5500.0,5500.0,5500.0,5500.0,5500.0,5500.0,5500.0,5500.0,5500.0,5500.0,5500.0,5500.0,5500.0,6000.0,6000.0,6000.0,6000.0,6000.0,6000.0,6000.0,6000.0,6000.0,6000.0,6000.0,6000.0,6000.0,6000.0,6000.0,6000.0,6000.0,6000.0,6000.0,6500.0,6500.0,6500.0,6500.0,6500.0,6500.0,6500.0,6500.0,6500.0,6500.0,6500.0,6500.0,6500.0,6500.0,6500.0,6500.0,6500.0,6500.0,6500.0,7000.0,7000.0,7000.0,7000.0,7000.0,7000.0,7000.0,7000.0,7000.0,7000.0,7000.0,7000.0,7000.0,7000.0,7000.0,7000.0,7000.0,7000.0,7000.0,7500.0,7500.0,7500.0,7500.0,7500.0,7500.0,7500.0,7500.0,7500.0,7500.0,7500.0,7500.0,7500.0,7500.0,7500.0,7500.0,7500.0,7500.0,7500.0,8000.0,8000.0,8000.0,8000.0,8000.0,8000.0,8000.0,8000.0,8000.0,8000.0,8000.0,8000.0,8000.0,8000.0,8000.0,8000.0,8000.0,8000.0,8000.0,8500.0,8500.0,8500.0,8500.0,8500.0,8500.0,8500.0,8500.0,8500.0,8500.0,8500.0,8500.0,8500.0,8500.0,8500.0,8500.0,8500.0,8500.0,8500.0,9000.0,9000.0,9000.0,9000.0,9000.0,9000.0,9000.0,9000.0,9000.0,9000.0,9000.0,9000.0,9000.0,9000.0,9000.0,9000.0,9000.0,9000.0,9000.0,9500.0,9500.0,9500.0,9500.0,9500.0,9500.0,9500.0,9500.0,9500.0,9500.0,9500.0,9500.0,9500.0,9500.0,9500.0,9500.0,9500.0,9500.0,9500.0],\"y\":[500.0,1000.0,1500.0,2000.0,2500.0,3000.0,3500.0,4000.0,4500.0,5000.0,5500.0,6000.0,6500.0,7000.0,7500.0,8000.0,8500.0,9000.0,9500.0,500.0,1000.0,1500.0,2000.0,2500.0,3000.0,3500.0,4000.0,4500.0,5000.0,5500.0,6000.0,6500.0,7000.0,7500.0,8000.0,8500.0,9000.0,9500.0,500.0,1000.0,1500.0,2000.0,2500.0,3000.0,3500.0,4000.0,4500.0,5000.0,5500.0,6000.0,6500.0,7000.0,7500.0,8000.0,8500.0,9000.0,9500.0,500.0,1000.0,1500.0,2000.0,2500.0,3000.0,3500.0,4000.0,4500.0,5000.0,5500.0,6000.0,6500.0,7000.0,7500.0,8000.0,8500.0,9000.0,9500.0,500.0,1000.0,1500.0,2000.0,2500.0,3000.0,3500.0,4000.0,4500.0,5000.0,5500.0,6000.0,6500.0,7000.0,7500.0,8000.0,8500.0,9000.0,9500.0,500.0,1000.0,1500.0,2000.0,2500.0,3000.0,3500.0,4000.0,4500.0,5000.0,5500.0,6000.0,6500.0,7000.0,7500.0,8000.0,8500.0,9000.0,9500.0,500.0,1000.0,1500.0,2000.0,2500.0,3000.0,3500.0,4000.0,4500.0,5000.0,5500.0,6000.0,6500.0,7000.0,7500.0,8000.0,8500.0,9000.0,9500.0,500.0,1000.0,1500.0,2000.0,2500.0,3000.0,3500.0,4000.0,4500.0,5000.0,5500.0,6000.0,6500.0,7000.0,7500.0,8000.0,8500.0,9000.0,9500.0,500.0,1000.0,1500.0,2000.0,2500.0,3000.0,3500.0,4000.0,4500.0,5000.0,5500.0,6000.0,6500.0,7000.0,7500.0,8000.0,8500.0,9000.0,9500.0,500.0,1000.0,1500.0,2000.0,2500.0,3000.0,3500.0,4000.0,4500.0,5000.0,5500.0,6000.0,6500.0,7000.0,7500.0,8000.0,8500.0,9000.0,9500.0,500.0,1000.0,1500.0,2000.0,2500.0,3000.0,3500.0,4000.0,4500.0,5000.0,5500.0,6000.0,6500.0,7000.0,7500.0,8000.0,8500.0,9000.0,9500.0,500.0,1000.0,1500.0,2000.0,2500.0,3000.0,3500.0,4000.0,4500.0,5000.0,5500.0,6000.0,6500.0,7000.0,7500.0,8000.0,8500.0,9000.0,9500.0,500.0,1000.0,1500.0,2000.0,2500.0,3000.0,3500.0,4000.0,4500.0,5000.0,5500.0,6000.0,6500.0,7000.0,7500.0,8000.0,8500.0,9000.0,9500.0,500.0,1000.0,1500.0,2000.0,2500.0,3000.0,3500.0,4000.0,4500.0,5000.0,5500.0,6000.0,6500.0,7000.0,7500.0,8000.0,8500.0,9000.0,9500.0,500.0,1000.0,1500.0,2000.0,2500.0,3000.0,3500.0,4000.0,4500.0,5000.0,5500.0,6000.0,6500.0,7000.0,7500.0,8000.0,8500.0,9000.0,9500.0,500.0,1000.0,1500.0,2000.0,2500.0,3000.0,3500.0,4000.0,4500.0,5000.0,5500.0,6000.0,6500.0,7000.0,7500.0,8000.0,8500.0,9000.0,9500.0,500.0,1000.0,1500.0,2000.0,2500.0,3000.0,3500.0,4000.0,4500.0,5000.0,5500.0,6000.0,6500.0,7000.0,7500.0,8000.0,8500.0,9000.0,9500.0,500.0,1000.0,1500.0,2000.0,2500.0,3000.0,3500.0,4000.0,4500.0,5000.0,5500.0,6000.0,6500.0,7000.0,7500.0,8000.0,8500.0,9000.0,9500.0,500.0,1000.0,1500.0,2000.0,2500.0,3000.0,3500.0,4000.0,4500.0,5000.0,5500.0,6000.0,6500.0,7000.0,7500.0,8000.0,8500.0,9000.0,9500.0],\"z\":[-0.03925617695362384,-0.13104286529687045,-0.09259121812417875,-0.09767304310588278,-0.18832978636798808,-0.07376164963082377,-0.09808833238727864,-0.040375136922795415,-0.07295319539997003,-0.08720375796508853,-0.05326468558965032,-0.14529512158401792,-0.10591422749956335,0.009037336867764565,-0.09328648613099177,-0.06280247025167503,-0.203027300917102,-0.06023233353298513,-0.0870968119033342,-0.143283504647841,-0.1938490547396664,-0.16203533332244324,-0.16916286904435396,-0.06312698773654825,-0.12082467892214274,-0.03799889966066031,-0.06135559780346204,-0.08219445231268031,-0.08170693608127405,-0.11890033490097819,-0.21848732427667633,-0.06648280042245291,0.037971046516690504,-0.03944777030089865,-0.18211782840939914,-0.15560614421737112,-0.09482177243321366,-0.16041385566034333,-0.12959481804557982,-0.2919528522894816,-0.2960394092773156,-0.07500020118867824,0.020317911058036334,-0.007616344127944161,-0.08734314672733116,-0.07172241393102316,-0.06493153359948818,-0.13849570526297278,-0.20938271223718352,-0.2201389125064404,-0.254015591132233,0.005481978145397284,-0.09759826331364921,-0.142631448515464,-0.18983103782565058,-0.1746443316635789,-0.18484047545618124,-0.16412583507236542,-0.3342206105449867,-0.16273751227610533,-0.03792936735658135,-0.020228387490284945,-0.07754226574790826,-0.07780468253732141,-0.06129186502213767,-0.14815272103563817,-0.13543223292987375,-0.16213455233414664,-0.24112069203665493,-0.11129605921308372,-0.055913632856202475,-0.023671329601480228,-0.13813273595289036,-0.21369530995894884,-0.20265409125338119,-0.23824563717248243,-0.14156400120120385,-0.188176172297638,-0.05985511172811369,-0.08550527399418144,-0.02264008432051961,-0.042096592181215024,0.036672015951983106,0.010806238032980054,-0.09035475090049865,-0.05452077416180512,-0.08169568185958563,-0.1268080168841291,0.027704445129076022,0.0036942252499944654,0.009956717607090616,-0.09115608296233096,-0.16897872663888502,-0.1371991571369738,-0.2132097897511589,-0.05328666553527687,-0.035968381579394915,-0.10248039041096872,-0.07141344375832298,0.025331252672279758,0.009437002416348077,0.009078945332337706,-0.013631800742248765,-0.0003375811110865477,0.025280164551338066,0.022295712761735,0.06151155451367138,0.10584541015715937,0.126215390953506,0.036133472923022464,0.02649241505536931,-0.12584049244013182,-0.0811722572086427,-0.11444594015783788,-0.036962003482030714,-0.11014812605949326,-0.09549419819419203,-0.03491126295546018,0.014806174094528992,-0.006629316145993698,-0.08039396872968939,-0.012626765167274324,-0.029824028421284753,0.008728351637203563,0.013001664335296623,0.01075094535616265,0.05058400340277771,0.134578202119525,0.060954821121941845,0.09762586812782972,-0.12197103782037769,-0.03731279194716483,-0.0717087805907323,-0.140397181738014,-0.17070413663860773,-0.11441177720477444,-0.06770790686820423,-0.10609772288530284,-0.15480267306252188,-0.12691323352667921,-0.030707014772733375,-0.06357050936095648,-0.07258852411680826,-0.0361905421852298,-0.06348042987182828,-0.007762772857311683,0.11293205546796177,-0.030453905731462415,-0.07895442823556593,-0.17065220386509294,-0.04365053781093557,-0.08196102592107855,-0.10223022210963087,-0.12800406894926705,-0.10797827067593435,-0.11587611187698356,-0.06962767294343743,-0.04630460942515124,0.021739508210990896,0.005936843981793527,-0.06920344311839255,-0.05890967533917295,-0.038707492454166395,-0.06516708160831836,-0.044670763046309,0.014137152797024408,-0.04922272348114338,-0.08424219839565923,-0.11082634026384663,-0.05051525780121602,-0.10875159095519928,-0.03337497098026063,-0.09995721532162306,-0.14608358666052867,-0.10861473040712546,-0.003613190532985774,0.013547079871254659,0.02042444861552975,-0.006818264965546438,-0.04158091387003625,-0.05025740630804612,-0.06090362493481099,-0.09252132159120044,-0.09673618185905514,-0.019159245856186356,-0.06340562564431863,-0.0638944361814393,-0.10423526434428573,-0.0711712020451368,-0.12564240850998257,-0.07486185610532814,-0.20674290461800918,-0.18024513125709352,-0.09347525369346496,0.013276355521736033,0.01084204175339765,-0.029480244145856,-0.038154168137928504,-0.07885626598675906,-0.07723511091822999,-0.10750686119566699,-0.16302681909837974,-0.13094117293738586,-0.03596180272428341,-0.06886208831942423,-0.07204319047054128,-0.12179991066692171,-0.11459828950513302,-0.15019097322483835,-0.11452290623526562,-0.23936109976557232,-0.22687477326335348,-0.08765185301393824,0.0419351186858808,-0.01923296905158481,-0.06544011493434114,-0.06895324297694382,-0.10940715384979513,-0.12299982326203063,-0.13680351915959138,-0.1909120944404025,-0.18594547931891442,-0.040437860082905126,-0.06160806420326072,-0.12005913972040981,-0.1693666028268142,-0.14542076085708314,-0.16852913379772122,-0.15049112773916057,-0.26199088033406026,-0.23700492038123072,0.03399643014596292,0.056577327832888366,-0.07084379731951047,-0.08173288705515258,-0.08621580451520534,-0.14957515484939313,-0.13463231395135156,-0.15514783263389845,-0.24305245764627864,-0.24000382850238136,-0.013171086615128216,-0.08190914498145144,-0.17599691093778871,-0.1864567739361819,-0.1553086178783144,-0.19520359610079846,-0.09455925845058104,-0.13673682092140504,-0.11397686323571686,0.024751154448673228,0.053887293589432055,-0.05680337457065448,-0.08149083281358802,-0.09460814048653177,-0.11690873767123572,-0.11895667456589723,-0.16850897700306586,-0.21592098672491392,-0.20988187282985515,-0.042615869515156876,-0.09005181090816387,-0.14907339141548906,-0.19241662528625691,-0.16607761852633024,-0.1683111822716363,-0.01404735475475128,-0.024460025560261774,0.015063530639610379,-0.013175593168400453,0.016726708554981103,-0.0510117723879778,-0.06202248402124314,-0.04091106043821801,-0.11674613888418861,-0.08626590805425596,-0.15497790396981528,-0.13173015730484572,-0.05110853432964343,-0.06113213828427272,-0.11370369954236333,-0.14459567657940828,-0.18151937345890015,-0.15156849590275678,-0.18072877360668943,0.00875074916416239,-0.015865773514901454,-0.05652748428910835,-0.046746366446814146,-0.01992064900229119,-0.06073909747675536,-0.09909335403625816,-0.08502934696745854,-0.10831652709667375,-0.09464844811570769,-0.08735782734099526,-0.06295668215814014,-0.07226006864745209,-0.07454880874766925,-0.10336558845820593,-0.10023682683633105,-0.13889565614545513,-0.15128995600675935,-0.1517905512821243,-0.03707678547500532,-0.06639177519723917,-0.09455154460400603,-0.04471912381987495,-0.06111150941969932,-0.03998979100620541,-0.13004770892540946,-0.09658886516951626,-0.16029910726845792,-0.12048142082639605,-0.07517517274852412,-0.08854353218410367,-0.09218619995855871,-0.0743844062781877,-0.08800250533519385,-0.08226146181044976,-0.2335798179618456,-0.1574079917504769,-0.17388391956177243,-0.06382484656789625,-0.09383871747723578,-0.10347276949136708,-0.08285024299800423,-0.0657703151406818,-0.057650523943696366,-0.12370856211342664,-0.11552528857429438,-0.13050155760120202,-0.12744082687407124,-0.10495875928899454,-0.132692050713951,-0.10376219355722244,-0.03785402417548193,-0.053393286320383794,-0.058069616591806976,-0.2840212716004673,-0.1654738863183099,-0.16758519194428106,-0.058808844601829856,-0.1223996056668023,-0.12310911664500329,-0.10468490212355874,-0.062260342701382504,-0.07440641725375156,-0.08934654139821058,-0.08380095213935307,-0.13496270056715987,-0.1280155114362594,-0.1209800461751185,-0.15593666269335257,-0.10088202178680701,-0.04558029993375546,-0.08597051730301973,-0.13657888775988808,-0.23993355822372994,-0.1702585299067017,-0.1778888843396058],\"type\":\"scatter3d\"}],                        {\"template\":{\"data\":{\"histogram2dcontour\":[{\"type\":\"histogram2dcontour\",\"colorbar\":{\"outlinewidth\":0,\"ticks\":\"\"},\"colorscale\":[[0.0,\"#0d0887\"],[0.1111111111111111,\"#46039f\"],[0.2222222222222222,\"#7201a8\"],[0.3333333333333333,\"#9c179e\"],[0.4444444444444444,\"#bd3786\"],[0.5555555555555556,\"#d8576b\"],[0.6666666666666666,\"#ed7953\"],[0.7777777777777778,\"#fb9f3a\"],[0.8888888888888888,\"#fdca26\"],[1.0,\"#f0f921\"]]}],\"choropleth\":[{\"type\":\"choropleth\",\"colorbar\":{\"outlinewidth\":0,\"ticks\":\"\"}}],\"histogram2d\":[{\"type\":\"histogram2d\",\"colorbar\":{\"outlinewidth\":0,\"ticks\":\"\"},\"colorscale\":[[0.0,\"#0d0887\"],[0.1111111111111111,\"#46039f\"],[0.2222222222222222,\"#7201a8\"],[0.3333333333333333,\"#9c179e\"],[0.4444444444444444,\"#bd3786\"],[0.5555555555555556,\"#d8576b\"],[0.6666666666666666,\"#ed7953\"],[0.7777777777777778,\"#fb9f3a\"],[0.8888888888888888,\"#fdca26\"],[1.0,\"#f0f921\"]]}],\"heatmap\":[{\"type\":\"heatmap\",\"colorbar\":{\"outlinewidth\":0,\"ticks\":\"\"},\"colorscale\":[[0.0,\"#0d0887\"],[0.1111111111111111,\"#46039f\"],[0.2222222222222222,\"#7201a8\"],[0.3333333333333333,\"#9c179e\"],[0.4444444444444444,\"#bd3786\"],[0.5555555555555556,\"#d8576b\"],[0.6666666666666666,\"#ed7953\"],[0.7777777777777778,\"#fb9f3a\"],[0.8888888888888888,\"#fdca26\"],[1.0,\"#f0f921\"]]}],\"heatmapgl\":[{\"type\":\"heatmapgl\",\"colorbar\":{\"outlinewidth\":0,\"ticks\":\"\"},\"colorscale\":[[0.0,\"#0d0887\"],[0.1111111111111111,\"#46039f\"],[0.2222222222222222,\"#7201a8\"],[0.3333333333333333,\"#9c179e\"],[0.4444444444444444,\"#bd3786\"],[0.5555555555555556,\"#d8576b\"],[0.6666666666666666,\"#ed7953\"],[0.7777777777777778,\"#fb9f3a\"],[0.8888888888888888,\"#fdca26\"],[1.0,\"#f0f921\"]]}],\"contourcarpet\":[{\"type\":\"contourcarpet\",\"colorbar\":{\"outlinewidth\":0,\"ticks\":\"\"}}],\"contour\":[{\"type\":\"contour\",\"colorbar\":{\"outlinewidth\":0,\"ticks\":\"\"},\"colorscale\":[[0.0,\"#0d0887\"],[0.1111111111111111,\"#46039f\"],[0.2222222222222222,\"#7201a8\"],[0.3333333333333333,\"#9c179e\"],[0.4444444444444444,\"#bd3786\"],[0.5555555555555556,\"#d8576b\"],[0.6666666666666666,\"#ed7953\"],[0.7777777777777778,\"#fb9f3a\"],[0.8888888888888888,\"#fdca26\"],[1.0,\"#f0f921\"]]}],\"surface\":[{\"type\":\"surface\",\"colorbar\":{\"outlinewidth\":0,\"ticks\":\"\"},\"colorscale\":[[0.0,\"#0d0887\"],[0.1111111111111111,\"#46039f\"],[0.2222222222222222,\"#7201a8\"],[0.3333333333333333,\"#9c179e\"],[0.4444444444444444,\"#bd3786\"],[0.5555555555555556,\"#d8576b\"],[0.6666666666666666,\"#ed7953\"],[0.7777777777777778,\"#fb9f3a\"],[0.8888888888888888,\"#fdca26\"],[1.0,\"#f0f921\"]]}],\"mesh3d\":[{\"type\":\"mesh3d\",\"colorbar\":{\"outlinewidth\":0,\"ticks\":\"\"}}],\"scatter\":[{\"fillpattern\":{\"fillmode\":\"overlay\",\"size\":10,\"solidity\":0.2},\"type\":\"scatter\"}],\"parcoords\":[{\"type\":\"parcoords\",\"line\":{\"colorbar\":{\"outlinewidth\":0,\"ticks\":\"\"}}}],\"scatterpolargl\":[{\"type\":\"scatterpolargl\",\"marker\":{\"colorbar\":{\"outlinewidth\":0,\"ticks\":\"\"}}}],\"bar\":[{\"error_x\":{\"color\":\"#2a3f5f\"},\"error_y\":{\"color\":\"#2a3f5f\"},\"marker\":{\"line\":{\"color\":\"#E5ECF6\",\"width\":0.5},\"pattern\":{\"fillmode\":\"overlay\",\"size\":10,\"solidity\":0.2}},\"type\":\"bar\"}],\"scattergeo\":[{\"type\":\"scattergeo\",\"marker\":{\"colorbar\":{\"outlinewidth\":0,\"ticks\":\"\"}}}],\"scatterpolar\":[{\"type\":\"scatterpolar\",\"marker\":{\"colorbar\":{\"outlinewidth\":0,\"ticks\":\"\"}}}],\"histogram\":[{\"marker\":{\"pattern\":{\"fillmode\":\"overlay\",\"size\":10,\"solidity\":0.2}},\"type\":\"histogram\"}],\"scattergl\":[{\"type\":\"scattergl\",\"marker\":{\"colorbar\":{\"outlinewidth\":0,\"ticks\":\"\"}}}],\"scatter3d\":[{\"type\":\"scatter3d\",\"line\":{\"colorbar\":{\"outlinewidth\":0,\"ticks\":\"\"}},\"marker\":{\"colorbar\":{\"outlinewidth\":0,\"ticks\":\"\"}}}],\"scattermapbox\":[{\"type\":\"scattermapbox\",\"marker\":{\"colorbar\":{\"outlinewidth\":0,\"ticks\":\"\"}}}],\"scatterternary\":[{\"type\":\"scatterternary\",\"marker\":{\"colorbar\":{\"outlinewidth\":0,\"ticks\":\"\"}}}],\"scattercarpet\":[{\"type\":\"scattercarpet\",\"marker\":{\"colorbar\":{\"outlinewidth\":0,\"ticks\":\"\"}}}],\"carpet\":[{\"aaxis\":{\"endlinecolor\":\"#2a3f5f\",\"gridcolor\":\"white\",\"linecolor\":\"white\",\"minorgridcolor\":\"white\",\"startlinecolor\":\"#2a3f5f\"},\"baxis\":{\"endlinecolor\":\"#2a3f5f\",\"gridcolor\":\"white\",\"linecolor\":\"white\",\"minorgridcolor\":\"white\",\"startlinecolor\":\"#2a3f5f\"},\"type\":\"carpet\"}],\"table\":[{\"cells\":{\"fill\":{\"color\":\"#EBF0F8\"},\"line\":{\"color\":\"white\"}},\"header\":{\"fill\":{\"color\":\"#C8D4E3\"},\"line\":{\"color\":\"white\"}},\"type\":\"table\"}],\"barpolar\":[{\"marker\":{\"line\":{\"color\":\"#E5ECF6\",\"width\":0.5},\"pattern\":{\"fillmode\":\"overlay\",\"size\":10,\"solidity\":0.2}},\"type\":\"barpolar\"}],\"pie\":[{\"automargin\":true,\"type\":\"pie\"}]},\"layout\":{\"autotypenumbers\":\"strict\",\"colorway\":[\"#636efa\",\"#EF553B\",\"#00cc96\",\"#ab63fa\",\"#FFA15A\",\"#19d3f3\",\"#FF6692\",\"#B6E880\",\"#FF97FF\",\"#FECB52\"],\"font\":{\"color\":\"#2a3f5f\"},\"hovermode\":\"closest\",\"hoverlabel\":{\"align\":\"left\"},\"paper_bgcolor\":\"white\",\"plot_bgcolor\":\"#E5ECF6\",\"polar\":{\"bgcolor\":\"#E5ECF6\",\"angularaxis\":{\"gridcolor\":\"white\",\"linecolor\":\"white\",\"ticks\":\"\"},\"radialaxis\":{\"gridcolor\":\"white\",\"linecolor\":\"white\",\"ticks\":\"\"}},\"ternary\":{\"bgcolor\":\"#E5ECF6\",\"aaxis\":{\"gridcolor\":\"white\",\"linecolor\":\"white\",\"ticks\":\"\"},\"baxis\":{\"gridcolor\":\"white\",\"linecolor\":\"white\",\"ticks\":\"\"},\"caxis\":{\"gridcolor\":\"white\",\"linecolor\":\"white\",\"ticks\":\"\"}},\"coloraxis\":{\"colorbar\":{\"outlinewidth\":0,\"ticks\":\"\"}},\"colorscale\":{\"sequential\":[[0.0,\"#0d0887\"],[0.1111111111111111,\"#46039f\"],[0.2222222222222222,\"#7201a8\"],[0.3333333333333333,\"#9c179e\"],[0.4444444444444444,\"#bd3786\"],[0.5555555555555556,\"#d8576b\"],[0.6666666666666666,\"#ed7953\"],[0.7777777777777778,\"#fb9f3a\"],[0.8888888888888888,\"#fdca26\"],[1.0,\"#f0f921\"]],\"sequentialminus\":[[0.0,\"#0d0887\"],[0.1111111111111111,\"#46039f\"],[0.2222222222222222,\"#7201a8\"],[0.3333333333333333,\"#9c179e\"],[0.4444444444444444,\"#bd3786\"],[0.5555555555555556,\"#d8576b\"],[0.6666666666666666,\"#ed7953\"],[0.7777777777777778,\"#fb9f3a\"],[0.8888888888888888,\"#fdca26\"],[1.0,\"#f0f921\"]],\"diverging\":[[0,\"#8e0152\"],[0.1,\"#c51b7d\"],[0.2,\"#de77ae\"],[0.3,\"#f1b6da\"],[0.4,\"#fde0ef\"],[0.5,\"#f7f7f7\"],[0.6,\"#e6f5d0\"],[0.7,\"#b8e186\"],[0.8,\"#7fbc41\"],[0.9,\"#4d9221\"],[1,\"#276419\"]]},\"xaxis\":{\"gridcolor\":\"white\",\"linecolor\":\"white\",\"ticks\":\"\",\"title\":{\"standoff\":15},\"zerolinecolor\":\"white\",\"automargin\":true,\"zerolinewidth\":2},\"yaxis\":{\"gridcolor\":\"white\",\"linecolor\":\"white\",\"ticks\":\"\",\"title\":{\"standoff\":15},\"zerolinecolor\":\"white\",\"automargin\":true,\"zerolinewidth\":2},\"scene\":{\"xaxis\":{\"backgroundcolor\":\"#E5ECF6\",\"gridcolor\":\"white\",\"linecolor\":\"white\",\"showbackground\":true,\"ticks\":\"\",\"zerolinecolor\":\"white\",\"gridwidth\":2},\"yaxis\":{\"backgroundcolor\":\"#E5ECF6\",\"gridcolor\":\"white\",\"linecolor\":\"white\",\"showbackground\":true,\"ticks\":\"\",\"zerolinecolor\":\"white\",\"gridwidth\":2},\"zaxis\":{\"backgroundcolor\":\"#E5ECF6\",\"gridcolor\":\"white\",\"linecolor\":\"white\",\"showbackground\":true,\"ticks\":\"\",\"zerolinecolor\":\"white\",\"gridwidth\":2}},\"shapedefaults\":{\"line\":{\"color\":\"#2a3f5f\"}},\"annotationdefaults\":{\"arrowcolor\":\"#2a3f5f\",\"arrowhead\":0,\"arrowwidth\":1},\"geo\":{\"bgcolor\":\"white\",\"landcolor\":\"#E5ECF6\",\"subunitcolor\":\"white\",\"showland\":true,\"showlakes\":true,\"lakecolor\":\"white\"},\"title\":{\"x\":0.05},\"mapbox\":{\"style\":\"light\"}}},\"scene\":{\"domain\":{\"x\":[0.0,1.0],\"y\":[0.0,1.0]},\"xaxis\":{\"title\":{\"text\":\"predict_period\"}},\"yaxis\":{\"title\":{\"text\":\"lookback_period\"}},\"zaxis\":{\"title\":{\"text\":\"corr\"}}},\"coloraxis\":{\"colorbar\":{\"title\":{\"text\":\"lookback_period\"}},\"colorscale\":[[0.0,\"#0d0887\"],[0.1111111111111111,\"#46039f\"],[0.2222222222222222,\"#7201a8\"],[0.3333333333333333,\"#9c179e\"],[0.4444444444444444,\"#bd3786\"],[0.5555555555555556,\"#d8576b\"],[0.6666666666666666,\"#ed7953\"],[0.7777777777777778,\"#fb9f3a\"],[0.8888888888888888,\"#fdca26\"],[1.0,\"#f0f921\"]]},\"legend\":{\"tracegroupgap\":0},\"margin\":{\"t\":60}},                        {\"responsive\": true}                    ).then(function(){\n",
       "                            \n",
       "var gd = document.getElementById('79245896-011a-4d0d-95f8-c91986803302');\n",
       "var x = new MutationObserver(function (mutations, observer) {{\n",
       "        var display = window.getComputedStyle(gd).display;\n",
       "        if (!display || display === 'none') {{\n",
       "            console.log([gd, 'removed!']);\n",
       "            Plotly.purge(gd);\n",
       "            observer.disconnect();\n",
       "        }}\n",
       "}});\n",
       "\n",
       "// Listen for the removal of the full notebook cells\n",
       "var notebookContainer = gd.closest('#notebook-container');\n",
       "if (notebookContainer) {{\n",
       "    x.observe(notebookContainer, {childList: true});\n",
       "}}\n",
       "\n",
       "// Listen for the clearing of the current output cell\n",
       "var outputEl = gd.closest('.output');\n",
       "if (outputEl) {{\n",
       "    x.observe(outputEl, {childList: true});\n",
       "}}\n",
       "\n",
       "                        })                };                });            </script>        </div>"
      ]
     },
     "metadata": {},
     "output_type": "display_data"
    },
    {
     "data": {
      "application/vnd.plotly.v1+json": {
       "config": {
        "plotlyServerURL": "https://plot.ly"
       },
       "data": [
        {
         "hovertemplate": "predict_period=%{x}<br>lookback_period=%{marker.color}<br>corr=%{z}<extra></extra>",
         "legendgroup": "",
         "marker": {
          "color": [
           500,
           1000,
           1500,
           2000,
           2500,
           3000,
           3500,
           4000,
           4500,
           5000,
           5500,
           6000,
           6500,
           7000,
           7500,
           8000,
           8500,
           9000,
           9500,
           500,
           1000,
           1500,
           2000,
           2500,
           3000,
           3500,
           4000,
           4500,
           5000,
           5500,
           6000,
           6500,
           7000,
           7500,
           8000,
           8500,
           9000,
           9500,
           500,
           1000,
           1500,
           2000,
           2500,
           3000,
           3500,
           4000,
           4500,
           5000,
           5500,
           6000,
           6500,
           7000,
           7500,
           8000,
           8500,
           9000,
           9500,
           500,
           1000,
           1500,
           2000,
           2500,
           3000,
           3500,
           4000,
           4500,
           5000,
           5500,
           6000,
           6500,
           7000,
           7500,
           8000,
           8500,
           9000,
           9500,
           500,
           1000,
           1500,
           2000,
           2500,
           3000,
           3500,
           4000,
           4500,
           5000,
           5500,
           6000,
           6500,
           7000,
           7500,
           8000,
           8500,
           9000,
           9500,
           500,
           1000,
           1500,
           2000,
           2500,
           3000,
           3500,
           4000,
           4500,
           5000,
           5500,
           6000,
           6500,
           7000,
           7500,
           8000,
           8500,
           9000,
           9500,
           500,
           1000,
           1500,
           2000,
           2500,
           3000,
           3500,
           4000,
           4500,
           5000,
           5500,
           6000,
           6500,
           7000,
           7500,
           8000,
           8500,
           9000,
           9500,
           500,
           1000,
           1500,
           2000,
           2500,
           3000,
           3500,
           4000,
           4500,
           5000,
           5500,
           6000,
           6500,
           7000,
           7500,
           8000,
           8500,
           9000,
           9500,
           500,
           1000,
           1500,
           2000,
           2500,
           3000,
           3500,
           4000,
           4500,
           5000,
           5500,
           6000,
           6500,
           7000,
           7500,
           8000,
           8500,
           9000,
           9500,
           500,
           1000,
           1500,
           2000,
           2500,
           3000,
           3500,
           4000,
           4500,
           5000,
           5500,
           6000,
           6500,
           7000,
           7500,
           8000,
           8500,
           9000,
           9500,
           500,
           1000,
           1500,
           2000,
           2500,
           3000,
           3500,
           4000,
           4500,
           5000,
           5500,
           6000,
           6500,
           7000,
           7500,
           8000,
           8500,
           9000,
           9500,
           500,
           1000,
           1500,
           2000,
           2500,
           3000,
           3500,
           4000,
           4500,
           5000,
           5500,
           6000,
           6500,
           7000,
           7500,
           8000,
           8500,
           9000,
           9500,
           500,
           1000,
           1500,
           2000,
           2500,
           3000,
           3500,
           4000,
           4500,
           5000,
           5500,
           6000,
           6500,
           7000,
           7500,
           8000,
           8500,
           9000,
           9500,
           500,
           1000,
           1500,
           2000,
           2500,
           3000,
           3500,
           4000,
           4500,
           5000,
           5500,
           6000,
           6500,
           7000,
           7500,
           8000,
           8500,
           9000,
           9500,
           500,
           1000,
           1500,
           2000,
           2500,
           3000,
           3500,
           4000,
           4500,
           5000,
           5500,
           6000,
           6500,
           7000,
           7500,
           8000,
           8500,
           9000,
           9500,
           500,
           1000,
           1500,
           2000,
           2500,
           3000,
           3500,
           4000,
           4500,
           5000,
           5500,
           6000,
           6500,
           7000,
           7500,
           8000,
           8500,
           9000,
           9500,
           500,
           1000,
           1500,
           2000,
           2500,
           3000,
           3500,
           4000,
           4500,
           5000,
           5500,
           6000,
           6500,
           7000,
           7500,
           8000,
           8500,
           9000,
           9500,
           500,
           1000,
           1500,
           2000,
           2500,
           3000,
           3500,
           4000,
           4500,
           5000,
           5500,
           6000,
           6500,
           7000,
           7500,
           8000,
           8500,
           9000,
           9500,
           500,
           1000,
           1500,
           2000,
           2500,
           3000,
           3500,
           4000,
           4500,
           5000,
           5500,
           6000,
           6500,
           7000,
           7500,
           8000,
           8500,
           9000,
           9500
          ],
          "coloraxis": "coloraxis",
          "symbol": "circle"
         },
         "mode": "markers",
         "name": "",
         "scene": "scene",
         "showlegend": false,
         "type": "scatter3d",
         "x": [
          500,
          500,
          500,
          500,
          500,
          500,
          500,
          500,
          500,
          500,
          500,
          500,
          500,
          500,
          500,
          500,
          500,
          500,
          500,
          1000,
          1000,
          1000,
          1000,
          1000,
          1000,
          1000,
          1000,
          1000,
          1000,
          1000,
          1000,
          1000,
          1000,
          1000,
          1000,
          1000,
          1000,
          1000,
          1500,
          1500,
          1500,
          1500,
          1500,
          1500,
          1500,
          1500,
          1500,
          1500,
          1500,
          1500,
          1500,
          1500,
          1500,
          1500,
          1500,
          1500,
          1500,
          2000,
          2000,
          2000,
          2000,
          2000,
          2000,
          2000,
          2000,
          2000,
          2000,
          2000,
          2000,
          2000,
          2000,
          2000,
          2000,
          2000,
          2000,
          2000,
          2500,
          2500,
          2500,
          2500,
          2500,
          2500,
          2500,
          2500,
          2500,
          2500,
          2500,
          2500,
          2500,
          2500,
          2500,
          2500,
          2500,
          2500,
          2500,
          3000,
          3000,
          3000,
          3000,
          3000,
          3000,
          3000,
          3000,
          3000,
          3000,
          3000,
          3000,
          3000,
          3000,
          3000,
          3000,
          3000,
          3000,
          3000,
          3500,
          3500,
          3500,
          3500,
          3500,
          3500,
          3500,
          3500,
          3500,
          3500,
          3500,
          3500,
          3500,
          3500,
          3500,
          3500,
          3500,
          3500,
          3500,
          4000,
          4000,
          4000,
          4000,
          4000,
          4000,
          4000,
          4000,
          4000,
          4000,
          4000,
          4000,
          4000,
          4000,
          4000,
          4000,
          4000,
          4000,
          4000,
          4500,
          4500,
          4500,
          4500,
          4500,
          4500,
          4500,
          4500,
          4500,
          4500,
          4500,
          4500,
          4500,
          4500,
          4500,
          4500,
          4500,
          4500,
          4500,
          5000,
          5000,
          5000,
          5000,
          5000,
          5000,
          5000,
          5000,
          5000,
          5000,
          5000,
          5000,
          5000,
          5000,
          5000,
          5000,
          5000,
          5000,
          5000,
          5500,
          5500,
          5500,
          5500,
          5500,
          5500,
          5500,
          5500,
          5500,
          5500,
          5500,
          5500,
          5500,
          5500,
          5500,
          5500,
          5500,
          5500,
          5500,
          6000,
          6000,
          6000,
          6000,
          6000,
          6000,
          6000,
          6000,
          6000,
          6000,
          6000,
          6000,
          6000,
          6000,
          6000,
          6000,
          6000,
          6000,
          6000,
          6500,
          6500,
          6500,
          6500,
          6500,
          6500,
          6500,
          6500,
          6500,
          6500,
          6500,
          6500,
          6500,
          6500,
          6500,
          6500,
          6500,
          6500,
          6500,
          7000,
          7000,
          7000,
          7000,
          7000,
          7000,
          7000,
          7000,
          7000,
          7000,
          7000,
          7000,
          7000,
          7000,
          7000,
          7000,
          7000,
          7000,
          7000,
          7500,
          7500,
          7500,
          7500,
          7500,
          7500,
          7500,
          7500,
          7500,
          7500,
          7500,
          7500,
          7500,
          7500,
          7500,
          7500,
          7500,
          7500,
          7500,
          8000,
          8000,
          8000,
          8000,
          8000,
          8000,
          8000,
          8000,
          8000,
          8000,
          8000,
          8000,
          8000,
          8000,
          8000,
          8000,
          8000,
          8000,
          8000,
          8500,
          8500,
          8500,
          8500,
          8500,
          8500,
          8500,
          8500,
          8500,
          8500,
          8500,
          8500,
          8500,
          8500,
          8500,
          8500,
          8500,
          8500,
          8500,
          9000,
          9000,
          9000,
          9000,
          9000,
          9000,
          9000,
          9000,
          9000,
          9000,
          9000,
          9000,
          9000,
          9000,
          9000,
          9000,
          9000,
          9000,
          9000,
          9500,
          9500,
          9500,
          9500,
          9500,
          9500,
          9500,
          9500,
          9500,
          9500,
          9500,
          9500,
          9500,
          9500,
          9500,
          9500,
          9500,
          9500,
          9500
         ],
         "y": [
          500,
          1000,
          1500,
          2000,
          2500,
          3000,
          3500,
          4000,
          4500,
          5000,
          5500,
          6000,
          6500,
          7000,
          7500,
          8000,
          8500,
          9000,
          9500,
          500,
          1000,
          1500,
          2000,
          2500,
          3000,
          3500,
          4000,
          4500,
          5000,
          5500,
          6000,
          6500,
          7000,
          7500,
          8000,
          8500,
          9000,
          9500,
          500,
          1000,
          1500,
          2000,
          2500,
          3000,
          3500,
          4000,
          4500,
          5000,
          5500,
          6000,
          6500,
          7000,
          7500,
          8000,
          8500,
          9000,
          9500,
          500,
          1000,
          1500,
          2000,
          2500,
          3000,
          3500,
          4000,
          4500,
          5000,
          5500,
          6000,
          6500,
          7000,
          7500,
          8000,
          8500,
          9000,
          9500,
          500,
          1000,
          1500,
          2000,
          2500,
          3000,
          3500,
          4000,
          4500,
          5000,
          5500,
          6000,
          6500,
          7000,
          7500,
          8000,
          8500,
          9000,
          9500,
          500,
          1000,
          1500,
          2000,
          2500,
          3000,
          3500,
          4000,
          4500,
          5000,
          5500,
          6000,
          6500,
          7000,
          7500,
          8000,
          8500,
          9000,
          9500,
          500,
          1000,
          1500,
          2000,
          2500,
          3000,
          3500,
          4000,
          4500,
          5000,
          5500,
          6000,
          6500,
          7000,
          7500,
          8000,
          8500,
          9000,
          9500,
          500,
          1000,
          1500,
          2000,
          2500,
          3000,
          3500,
          4000,
          4500,
          5000,
          5500,
          6000,
          6500,
          7000,
          7500,
          8000,
          8500,
          9000,
          9500,
          500,
          1000,
          1500,
          2000,
          2500,
          3000,
          3500,
          4000,
          4500,
          5000,
          5500,
          6000,
          6500,
          7000,
          7500,
          8000,
          8500,
          9000,
          9500,
          500,
          1000,
          1500,
          2000,
          2500,
          3000,
          3500,
          4000,
          4500,
          5000,
          5500,
          6000,
          6500,
          7000,
          7500,
          8000,
          8500,
          9000,
          9500,
          500,
          1000,
          1500,
          2000,
          2500,
          3000,
          3500,
          4000,
          4500,
          5000,
          5500,
          6000,
          6500,
          7000,
          7500,
          8000,
          8500,
          9000,
          9500,
          500,
          1000,
          1500,
          2000,
          2500,
          3000,
          3500,
          4000,
          4500,
          5000,
          5500,
          6000,
          6500,
          7000,
          7500,
          8000,
          8500,
          9000,
          9500,
          500,
          1000,
          1500,
          2000,
          2500,
          3000,
          3500,
          4000,
          4500,
          5000,
          5500,
          6000,
          6500,
          7000,
          7500,
          8000,
          8500,
          9000,
          9500,
          500,
          1000,
          1500,
          2000,
          2500,
          3000,
          3500,
          4000,
          4500,
          5000,
          5500,
          6000,
          6500,
          7000,
          7500,
          8000,
          8500,
          9000,
          9500,
          500,
          1000,
          1500,
          2000,
          2500,
          3000,
          3500,
          4000,
          4500,
          5000,
          5500,
          6000,
          6500,
          7000,
          7500,
          8000,
          8500,
          9000,
          9500,
          500,
          1000,
          1500,
          2000,
          2500,
          3000,
          3500,
          4000,
          4500,
          5000,
          5500,
          6000,
          6500,
          7000,
          7500,
          8000,
          8500,
          9000,
          9500,
          500,
          1000,
          1500,
          2000,
          2500,
          3000,
          3500,
          4000,
          4500,
          5000,
          5500,
          6000,
          6500,
          7000,
          7500,
          8000,
          8500,
          9000,
          9500,
          500,
          1000,
          1500,
          2000,
          2500,
          3000,
          3500,
          4000,
          4500,
          5000,
          5500,
          6000,
          6500,
          7000,
          7500,
          8000,
          8500,
          9000,
          9500,
          500,
          1000,
          1500,
          2000,
          2500,
          3000,
          3500,
          4000,
          4500,
          5000,
          5500,
          6000,
          6500,
          7000,
          7500,
          8000,
          8500,
          9000,
          9500
         ],
         "z": [
          -0.11839806172790542,
          -0.06699800206574653,
          -0.19764962999532654,
          -0.28825887347490575,
          -0.2532265526203277,
          -0.16483132039307663,
          -0.11946923877100406,
          -0.1242681339190977,
          -0.16096258021840487,
          -0.14025287851531018,
          -0.1200007438068755,
          -0.08989905404505748,
          -0.16888136381429422,
          -0.19446264536384472,
          -0.21588755085990757,
          -0.12208702336211302,
          -0.11272033030609907,
          -0.10929080394797232,
          -0.11961097967864306,
          -0.1519269048615781,
          -0.16542335580166442,
          -0.2267619567408703,
          -0.2792387387211749,
          -0.23358220992481524,
          -0.17766572799012997,
          -0.1794858673067432,
          -0.1904850614097288,
          -0.1675369602428655,
          -0.17448584399756772,
          -0.1960955524790403,
          -0.16769379261878228,
          -0.19449470035302366,
          -0.19179582408917295,
          -0.23808006479751528,
          -0.22199711010897386,
          -0.2010917357044577,
          -0.20379895857474206,
          -0.20117656261469868,
          -0.19004236401691865,
          -0.22310082950645407,
          -0.30743332387240757,
          -0.0778272360854632,
          -0.1159436563087834,
          -0.11211501323478665,
          -0.14049577690572423,
          -0.09952953344558235,
          -0.08486017122055332,
          -0.10055101944683288,
          -0.17183989881743325,
          -0.21326829337182868,
          -0.2611138253354764,
          -0.0498890061101139,
          -0.13681614833463326,
          -0.15783400823187255,
          -0.1870631275496185,
          -0.1860600331095988,
          -0.1853831796034659,
          -0.07598584783786894,
          -0.15033651568053263,
          -0.007041231027672191,
          -0.04905877078930937,
          -0.08723378158641192,
          -0.109008408475646,
          -0.12917142265721412,
          -0.0712688880416173,
          -0.07639715548698196,
          -0.08246044776209423,
          -0.08520701636607715,
          -0.10479573619740855,
          -0.0647200983505809,
          -0.09376623293465444,
          -0.13231084389280892,
          -0.13712455753586764,
          -0.17606444962725476,
          -0.17102680336425066,
          -0.170970185890441,
          -0.21499824509677967,
          -0.12943005636305832,
          -0.13420185767718334,
          -0.1359081965185456,
          -0.18550646634681467,
          -0.15634948074137017,
          -0.18240122405305198,
          -0.16827911443743573,
          -0.1541607500188772,
          -0.15646661684393992,
          -0.2082254905075279,
          -0.1755212502489549,
          -0.16236281929455743,
          -0.11508806340615077,
          -0.16874346434023127,
          -0.1616222848927387,
          -0.20836048255038422,
          -0.2099477653957763,
          -0.18981417272250928,
          -0.09345923106736959,
          -0.12503941710288274,
          -0.11016931050032122,
          -0.10142558897153554,
          -0.08949316645531183,
          -0.06008286296105486,
          -0.04613286301408017,
          -0.06844849818299778,
          -0.09295316132123523,
          -0.12783464509802364,
          -0.18443428749215338,
          -0.17206895759856988,
          -0.14748300446878973,
          -0.11709852247710749,
          -0.12674554994712703,
          -0.10148881001976871,
          -0.1203728218779186,
          -0.11017940755021077,
          -0.10392607800816664,
          -0.0643868325514446,
          -0.11274274574266129,
          -0.14480270443635304,
          -0.07810420792588826,
          -0.03987861226287919,
          -0.02252333884688669,
          -0.2647180947785993,
          -0.20566090984915317,
          -0.18435203278093676,
          -0.15791195405927283,
          -0.15782779697154428,
          -0.1410850959633258,
          -0.13083318652823114,
          -0.08097271409382019,
          -0.0728401264264283,
          0.008206986849990492,
          -0.18875463286830574,
          -0.11848723154529797,
          -0.09793257964682021,
          -0.06862300340691102,
          -0.13355276039015154,
          -0.13761310483811634,
          -0.11065101411493555,
          -0.10680693193463575,
          -0.14864854317666315,
          -0.20712248244607642,
          -0.1913690752267075,
          -0.19235204185361435,
          -0.18225364638170755,
          -0.17524765714372292,
          -0.16333889157822745,
          -0.15029411682247915,
          -0.12981116864891018,
          -0.09788358132697632,
          -0.0955702948700847,
          -0.13138963131805326,
          -0.09178569039796167,
          -0.07286732741190169,
          -0.11456711314332414,
          -0.06952565906095791,
          -0.1299371698020985,
          -0.09853842033363798,
          -0.1559292691980354,
          -0.1700837830149093,
          -0.2341050277227018,
          -0.20151908848326655,
          -0.193782727803112,
          -0.1862414763576153,
          -0.18482893659959498,
          -0.17437807924710147,
          -0.1642375187917104,
          -0.12266693230498331,
          -0.1555273071737875,
          -0.1419327026953301,
          -0.1465988291819848,
          -0.10065834215849812,
          -0.0941175379830142,
          -0.07398065489443639,
          -0.06877574708546232,
          -0.1036590031045816,
          -0.08315241734267866,
          -0.09587042795742118,
          -0.12105425847727426,
          -0.14303567360553246,
          -0.13862120696326777,
          -0.13799413782290462,
          -0.1420836800097546,
          -0.16081056578914754,
          -0.17325697060449302,
          -0.1687007723882587,
          -0.12370344931991839,
          -0.11076308673544046,
          -0.08163695382276516,
          -0.05698009855485546,
          -0.064046940044242,
          -0.0733871360737414,
          -0.09481133710332079,
          -0.14560701574675244,
          -0.18738019763085334,
          -0.12131269967940984,
          -0.16796040090329792,
          -0.16017836349095085,
          -0.20311222508477803,
          -0.18889384646820742,
          -0.17391252360570209,
          -0.16081217512578821,
          -0.17619752569096903,
          -0.16102334498746762,
          -0.16411216298956893,
          -0.0978988198072232,
          -0.10102307848380225,
          -0.04429155465620886,
          -0.06933238898212232,
          -0.06806470217791416,
          -0.06828631411081258,
          -0.17436276960596617,
          -0.16181620523278042,
          -0.20294733830350659,
          -0.17379813254175386,
          -0.19009984468399085,
          -0.20925139251361763,
          -0.2138385765365214,
          -0.19539423413859294,
          -0.18364874951687196,
          -0.16165294225156457,
          -0.19661469272613927,
          -0.19450202939273553,
          -0.18684760307367007,
          -0.07327258703727804,
          -0.04024153387318861,
          -0.032277550494962066,
          -0.04481593342354978,
          -0.05090294727194161,
          -0.04892739753345137,
          -0.1617909974496816,
          -0.17772087739488088,
          -0.2570314950338701,
          -0.05332007835393354,
          -0.15305092722624578,
          -0.17049885946876747,
          -0.17918955289686622,
          -0.14808941872579834,
          -0.12954258159295606,
          -0.11945256401551207,
          -0.17305216536206108,
          -0.1965366801832295,
          -0.1654763112683242,
          0.03153138238876522,
          -0.05645273129932224,
          -0.058376773265389106,
          -0.06294804359778472,
          -0.05944904661385192,
          -0.053706753339916063,
          -0.11321343680339374,
          -0.13575704796271648,
          -0.026762694803079887,
          -0.042892922971738266,
          -0.1405400953838828,
          -0.1648992502089297,
          -0.20469607065342652,
          -0.16488580022188934,
          -0.15898904074061213,
          -0.1187486781415121,
          -0.15335211146366012,
          -0.11078176650801133,
          -0.04765915269400848,
          -0.031060332298533846,
          -0.07635346281811722,
          -0.044531538053008725,
          -0.052328283375062706,
          -0.02781870994502106,
          -0.04231263033741532,
          -0.13564243500910028,
          -0.010995622350777659,
          -0.032422321956566344,
          -0.05265683315120364,
          -0.13837634256848108,
          -0.12406604715156841,
          -0.1683565670765752,
          -0.1518251730416379,
          -0.12988692151480383,
          -0.10380165361141865,
          -0.12590363205370683,
          -0.05621682953504671,
          -0.04498184920572023,
          -0.025735343512775406,
          -0.07474560047546391,
          -0.04434747482775492,
          -0.04528131696611537,
          -0.040737049424925426,
          -0.04895197337989834,
          -0.025904120947452775,
          -0.013301731276485318,
          -0.02694361945598226,
          -0.05855210556385086,
          -0.05947521117566453,
          -0.04238884836464549,
          -0.07908706847635939,
          -0.08367414586909452,
          -0.07546956456269262,
          -0.043358815418607394,
          -0.03788613950304663,
          -0.012742535794399334,
          -0.03351459565752605,
          -0.010107018928968054,
          0.010501774970234488,
          0.051744244125770736,
          0.034349654314104125,
          -0.0007414155247179761,
          -0.014148904788161852,
          -0.030772412214581612,
          -0.04305159146486032,
          -0.08429340532399661,
          -0.05444563003886295,
          -0.03457990083357369,
          -0.013464945365262139,
          -0.17682045580559508,
          -0.15616421162676747,
          -0.10487058968145775,
          -0.05689120164102143,
          -0.04779953058084792,
          -0.038119206464901634,
          -0.04008073235464864,
          -0.015893203051622867,
          0.009440052357507122,
          0.02474371139872916,
          -0.07544335728730812,
          -0.06495418834653544,
          -0.024334458576732387,
          -0.04775368404178908,
          -0.07498119228996997,
          -0.07193864614625711,
          -0.052157746091604715,
          -0.03823044619010113,
          -0.06637800807961834,
          -0.1300571271706643,
          -0.07399061773718031,
          -0.03652450705157108,
          -0.02193327930622725,
          -0.023983239844191928,
          -0.006513273115884163,
          -0.011924477009239359,
          0.008784541678701394,
          0.010578718602940351,
          0.01516500886722194,
          -0.03669535993532658,
          -0.0038652244238252947,
          0.0041509059328877565,
          -0.06852684285483404,
          -0.046387518075577075,
          -0.0473200809736078,
          -0.04866463994794942,
          -0.08569020651888105,
          -0.09571093706183291,
          -0.08144899530835562,
          -0.04818068015674534,
          -0.03395267988033744,
          -0.03752157282360295,
          -0.033876777987315185,
          -0.012819058042272864,
          -0.018013877343935957,
          0.004569948152213756,
          -0.02879803898412165,
          -0.04114912533744751,
          -0.023698186514203492,
          -0.009768307575339273,
          -0.0011358039606596676
         ]
        }
       ],
       "layout": {
        "coloraxis": {
         "colorbar": {
          "title": {
           "text": "lookback_period"
          }
         },
         "colorscale": [
          [
           0,
           "#0d0887"
          ],
          [
           0.1111111111111111,
           "#46039f"
          ],
          [
           0.2222222222222222,
           "#7201a8"
          ],
          [
           0.3333333333333333,
           "#9c179e"
          ],
          [
           0.4444444444444444,
           "#bd3786"
          ],
          [
           0.5555555555555556,
           "#d8576b"
          ],
          [
           0.6666666666666666,
           "#ed7953"
          ],
          [
           0.7777777777777778,
           "#fb9f3a"
          ],
          [
           0.8888888888888888,
           "#fdca26"
          ],
          [
           1,
           "#f0f921"
          ]
         ]
        },
        "legend": {
         "tracegroupgap": 0
        },
        "margin": {
         "t": 60
        },
        "scene": {
         "domain": {
          "x": [
           0,
           1
          ],
          "y": [
           0,
           1
          ]
         },
         "xaxis": {
          "title": {
           "text": "predict_period"
          }
         },
         "yaxis": {
          "title": {
           "text": "lookback_period"
          }
         },
         "zaxis": {
          "title": {
           "text": "corr"
          }
         }
        },
        "template": {
         "data": {
          "bar": [
           {
            "error_x": {
             "color": "#2a3f5f"
            },
            "error_y": {
             "color": "#2a3f5f"
            },
            "marker": {
             "line": {
              "color": "#E5ECF6",
              "width": 0.5
             },
             "pattern": {
              "fillmode": "overlay",
              "size": 10,
              "solidity": 0.2
             }
            },
            "type": "bar"
           }
          ],
          "barpolar": [
           {
            "marker": {
             "line": {
              "color": "#E5ECF6",
              "width": 0.5
             },
             "pattern": {
              "fillmode": "overlay",
              "size": 10,
              "solidity": 0.2
             }
            },
            "type": "barpolar"
           }
          ],
          "carpet": [
           {
            "aaxis": {
             "endlinecolor": "#2a3f5f",
             "gridcolor": "white",
             "linecolor": "white",
             "minorgridcolor": "white",
             "startlinecolor": "#2a3f5f"
            },
            "baxis": {
             "endlinecolor": "#2a3f5f",
             "gridcolor": "white",
             "linecolor": "white",
             "minorgridcolor": "white",
             "startlinecolor": "#2a3f5f"
            },
            "type": "carpet"
           }
          ],
          "choropleth": [
           {
            "colorbar": {
             "outlinewidth": 0,
             "ticks": ""
            },
            "type": "choropleth"
           }
          ],
          "contour": [
           {
            "colorbar": {
             "outlinewidth": 0,
             "ticks": ""
            },
            "colorscale": [
             [
              0,
              "#0d0887"
             ],
             [
              0.1111111111111111,
              "#46039f"
             ],
             [
              0.2222222222222222,
              "#7201a8"
             ],
             [
              0.3333333333333333,
              "#9c179e"
             ],
             [
              0.4444444444444444,
              "#bd3786"
             ],
             [
              0.5555555555555556,
              "#d8576b"
             ],
             [
              0.6666666666666666,
              "#ed7953"
             ],
             [
              0.7777777777777778,
              "#fb9f3a"
             ],
             [
              0.8888888888888888,
              "#fdca26"
             ],
             [
              1,
              "#f0f921"
             ]
            ],
            "type": "contour"
           }
          ],
          "contourcarpet": [
           {
            "colorbar": {
             "outlinewidth": 0,
             "ticks": ""
            },
            "type": "contourcarpet"
           }
          ],
          "heatmap": [
           {
            "colorbar": {
             "outlinewidth": 0,
             "ticks": ""
            },
            "colorscale": [
             [
              0,
              "#0d0887"
             ],
             [
              0.1111111111111111,
              "#46039f"
             ],
             [
              0.2222222222222222,
              "#7201a8"
             ],
             [
              0.3333333333333333,
              "#9c179e"
             ],
             [
              0.4444444444444444,
              "#bd3786"
             ],
             [
              0.5555555555555556,
              "#d8576b"
             ],
             [
              0.6666666666666666,
              "#ed7953"
             ],
             [
              0.7777777777777778,
              "#fb9f3a"
             ],
             [
              0.8888888888888888,
              "#fdca26"
             ],
             [
              1,
              "#f0f921"
             ]
            ],
            "type": "heatmap"
           }
          ],
          "heatmapgl": [
           {
            "colorbar": {
             "outlinewidth": 0,
             "ticks": ""
            },
            "colorscale": [
             [
              0,
              "#0d0887"
             ],
             [
              0.1111111111111111,
              "#46039f"
             ],
             [
              0.2222222222222222,
              "#7201a8"
             ],
             [
              0.3333333333333333,
              "#9c179e"
             ],
             [
              0.4444444444444444,
              "#bd3786"
             ],
             [
              0.5555555555555556,
              "#d8576b"
             ],
             [
              0.6666666666666666,
              "#ed7953"
             ],
             [
              0.7777777777777778,
              "#fb9f3a"
             ],
             [
              0.8888888888888888,
              "#fdca26"
             ],
             [
              1,
              "#f0f921"
             ]
            ],
            "type": "heatmapgl"
           }
          ],
          "histogram": [
           {
            "marker": {
             "pattern": {
              "fillmode": "overlay",
              "size": 10,
              "solidity": 0.2
             }
            },
            "type": "histogram"
           }
          ],
          "histogram2d": [
           {
            "colorbar": {
             "outlinewidth": 0,
             "ticks": ""
            },
            "colorscale": [
             [
              0,
              "#0d0887"
             ],
             [
              0.1111111111111111,
              "#46039f"
             ],
             [
              0.2222222222222222,
              "#7201a8"
             ],
             [
              0.3333333333333333,
              "#9c179e"
             ],
             [
              0.4444444444444444,
              "#bd3786"
             ],
             [
              0.5555555555555556,
              "#d8576b"
             ],
             [
              0.6666666666666666,
              "#ed7953"
             ],
             [
              0.7777777777777778,
              "#fb9f3a"
             ],
             [
              0.8888888888888888,
              "#fdca26"
             ],
             [
              1,
              "#f0f921"
             ]
            ],
            "type": "histogram2d"
           }
          ],
          "histogram2dcontour": [
           {
            "colorbar": {
             "outlinewidth": 0,
             "ticks": ""
            },
            "colorscale": [
             [
              0,
              "#0d0887"
             ],
             [
              0.1111111111111111,
              "#46039f"
             ],
             [
              0.2222222222222222,
              "#7201a8"
             ],
             [
              0.3333333333333333,
              "#9c179e"
             ],
             [
              0.4444444444444444,
              "#bd3786"
             ],
             [
              0.5555555555555556,
              "#d8576b"
             ],
             [
              0.6666666666666666,
              "#ed7953"
             ],
             [
              0.7777777777777778,
              "#fb9f3a"
             ],
             [
              0.8888888888888888,
              "#fdca26"
             ],
             [
              1,
              "#f0f921"
             ]
            ],
            "type": "histogram2dcontour"
           }
          ],
          "mesh3d": [
           {
            "colorbar": {
             "outlinewidth": 0,
             "ticks": ""
            },
            "type": "mesh3d"
           }
          ],
          "parcoords": [
           {
            "line": {
             "colorbar": {
              "outlinewidth": 0,
              "ticks": ""
             }
            },
            "type": "parcoords"
           }
          ],
          "pie": [
           {
            "automargin": true,
            "type": "pie"
           }
          ],
          "scatter": [
           {
            "fillpattern": {
             "fillmode": "overlay",
             "size": 10,
             "solidity": 0.2
            },
            "type": "scatter"
           }
          ],
          "scatter3d": [
           {
            "line": {
             "colorbar": {
              "outlinewidth": 0,
              "ticks": ""
             }
            },
            "marker": {
             "colorbar": {
              "outlinewidth": 0,
              "ticks": ""
             }
            },
            "type": "scatter3d"
           }
          ],
          "scattercarpet": [
           {
            "marker": {
             "colorbar": {
              "outlinewidth": 0,
              "ticks": ""
             }
            },
            "type": "scattercarpet"
           }
          ],
          "scattergeo": [
           {
            "marker": {
             "colorbar": {
              "outlinewidth": 0,
              "ticks": ""
             }
            },
            "type": "scattergeo"
           }
          ],
          "scattergl": [
           {
            "marker": {
             "colorbar": {
              "outlinewidth": 0,
              "ticks": ""
             }
            },
            "type": "scattergl"
           }
          ],
          "scattermapbox": [
           {
            "marker": {
             "colorbar": {
              "outlinewidth": 0,
              "ticks": ""
             }
            },
            "type": "scattermapbox"
           }
          ],
          "scatterpolar": [
           {
            "marker": {
             "colorbar": {
              "outlinewidth": 0,
              "ticks": ""
             }
            },
            "type": "scatterpolar"
           }
          ],
          "scatterpolargl": [
           {
            "marker": {
             "colorbar": {
              "outlinewidth": 0,
              "ticks": ""
             }
            },
            "type": "scatterpolargl"
           }
          ],
          "scatterternary": [
           {
            "marker": {
             "colorbar": {
              "outlinewidth": 0,
              "ticks": ""
             }
            },
            "type": "scatterternary"
           }
          ],
          "surface": [
           {
            "colorbar": {
             "outlinewidth": 0,
             "ticks": ""
            },
            "colorscale": [
             [
              0,
              "#0d0887"
             ],
             [
              0.1111111111111111,
              "#46039f"
             ],
             [
              0.2222222222222222,
              "#7201a8"
             ],
             [
              0.3333333333333333,
              "#9c179e"
             ],
             [
              0.4444444444444444,
              "#bd3786"
             ],
             [
              0.5555555555555556,
              "#d8576b"
             ],
             [
              0.6666666666666666,
              "#ed7953"
             ],
             [
              0.7777777777777778,
              "#fb9f3a"
             ],
             [
              0.8888888888888888,
              "#fdca26"
             ],
             [
              1,
              "#f0f921"
             ]
            ],
            "type": "surface"
           }
          ],
          "table": [
           {
            "cells": {
             "fill": {
              "color": "#EBF0F8"
             },
             "line": {
              "color": "white"
             }
            },
            "header": {
             "fill": {
              "color": "#C8D4E3"
             },
             "line": {
              "color": "white"
             }
            },
            "type": "table"
           }
          ]
         },
         "layout": {
          "annotationdefaults": {
           "arrowcolor": "#2a3f5f",
           "arrowhead": 0,
           "arrowwidth": 1
          },
          "autotypenumbers": "strict",
          "coloraxis": {
           "colorbar": {
            "outlinewidth": 0,
            "ticks": ""
           }
          },
          "colorscale": {
           "diverging": [
            [
             0,
             "#8e0152"
            ],
            [
             0.1,
             "#c51b7d"
            ],
            [
             0.2,
             "#de77ae"
            ],
            [
             0.3,
             "#f1b6da"
            ],
            [
             0.4,
             "#fde0ef"
            ],
            [
             0.5,
             "#f7f7f7"
            ],
            [
             0.6,
             "#e6f5d0"
            ],
            [
             0.7,
             "#b8e186"
            ],
            [
             0.8,
             "#7fbc41"
            ],
            [
             0.9,
             "#4d9221"
            ],
            [
             1,
             "#276419"
            ]
           ],
           "sequential": [
            [
             0,
             "#0d0887"
            ],
            [
             0.1111111111111111,
             "#46039f"
            ],
            [
             0.2222222222222222,
             "#7201a8"
            ],
            [
             0.3333333333333333,
             "#9c179e"
            ],
            [
             0.4444444444444444,
             "#bd3786"
            ],
            [
             0.5555555555555556,
             "#d8576b"
            ],
            [
             0.6666666666666666,
             "#ed7953"
            ],
            [
             0.7777777777777778,
             "#fb9f3a"
            ],
            [
             0.8888888888888888,
             "#fdca26"
            ],
            [
             1,
             "#f0f921"
            ]
           ],
           "sequentialminus": [
            [
             0,
             "#0d0887"
            ],
            [
             0.1111111111111111,
             "#46039f"
            ],
            [
             0.2222222222222222,
             "#7201a8"
            ],
            [
             0.3333333333333333,
             "#9c179e"
            ],
            [
             0.4444444444444444,
             "#bd3786"
            ],
            [
             0.5555555555555556,
             "#d8576b"
            ],
            [
             0.6666666666666666,
             "#ed7953"
            ],
            [
             0.7777777777777778,
             "#fb9f3a"
            ],
            [
             0.8888888888888888,
             "#fdca26"
            ],
            [
             1,
             "#f0f921"
            ]
           ]
          },
          "colorway": [
           "#636efa",
           "#EF553B",
           "#00cc96",
           "#ab63fa",
           "#FFA15A",
           "#19d3f3",
           "#FF6692",
           "#B6E880",
           "#FF97FF",
           "#FECB52"
          ],
          "font": {
           "color": "#2a3f5f"
          },
          "geo": {
           "bgcolor": "white",
           "lakecolor": "white",
           "landcolor": "#E5ECF6",
           "showlakes": true,
           "showland": true,
           "subunitcolor": "white"
          },
          "hoverlabel": {
           "align": "left"
          },
          "hovermode": "closest",
          "mapbox": {
           "style": "light"
          },
          "paper_bgcolor": "white",
          "plot_bgcolor": "#E5ECF6",
          "polar": {
           "angularaxis": {
            "gridcolor": "white",
            "linecolor": "white",
            "ticks": ""
           },
           "bgcolor": "#E5ECF6",
           "radialaxis": {
            "gridcolor": "white",
            "linecolor": "white",
            "ticks": ""
           }
          },
          "scene": {
           "xaxis": {
            "backgroundcolor": "#E5ECF6",
            "gridcolor": "white",
            "gridwidth": 2,
            "linecolor": "white",
            "showbackground": true,
            "ticks": "",
            "zerolinecolor": "white"
           },
           "yaxis": {
            "backgroundcolor": "#E5ECF6",
            "gridcolor": "white",
            "gridwidth": 2,
            "linecolor": "white",
            "showbackground": true,
            "ticks": "",
            "zerolinecolor": "white"
           },
           "zaxis": {
            "backgroundcolor": "#E5ECF6",
            "gridcolor": "white",
            "gridwidth": 2,
            "linecolor": "white",
            "showbackground": true,
            "ticks": "",
            "zerolinecolor": "white"
           }
          },
          "shapedefaults": {
           "line": {
            "color": "#2a3f5f"
           }
          },
          "ternary": {
           "aaxis": {
            "gridcolor": "white",
            "linecolor": "white",
            "ticks": ""
           },
           "baxis": {
            "gridcolor": "white",
            "linecolor": "white",
            "ticks": ""
           },
           "bgcolor": "#E5ECF6",
           "caxis": {
            "gridcolor": "white",
            "linecolor": "white",
            "ticks": ""
           }
          },
          "title": {
           "x": 0.05
          },
          "xaxis": {
           "automargin": true,
           "gridcolor": "white",
           "linecolor": "white",
           "ticks": "",
           "title": {
            "standoff": 15
           },
           "zerolinecolor": "white",
           "zerolinewidth": 2
          },
          "yaxis": {
           "automargin": true,
           "gridcolor": "white",
           "linecolor": "white",
           "ticks": "",
           "title": {
            "standoff": 15
           },
           "zerolinecolor": "white",
           "zerolinewidth": 2
          }
         }
        }
       }
      },
      "text/html": [
       "<div>                            <div id=\"98f60a1b-8558-45e3-974d-89683f3d7ca0\" class=\"plotly-graph-div\" style=\"height:525px; width:100%;\"></div>            <script type=\"text/javascript\">                require([\"plotly\"], function(Plotly) {                    window.PLOTLYENV=window.PLOTLYENV || {};                                    if (document.getElementById(\"98f60a1b-8558-45e3-974d-89683f3d7ca0\")) {                    Plotly.newPlot(                        \"98f60a1b-8558-45e3-974d-89683f3d7ca0\",                        [{\"hovertemplate\":\"predict_period=%{x}<br>lookback_period=%{marker.color}<br>corr=%{z}<extra></extra>\",\"legendgroup\":\"\",\"marker\":{\"color\":[500.0,1000.0,1500.0,2000.0,2500.0,3000.0,3500.0,4000.0,4500.0,5000.0,5500.0,6000.0,6500.0,7000.0,7500.0,8000.0,8500.0,9000.0,9500.0,500.0,1000.0,1500.0,2000.0,2500.0,3000.0,3500.0,4000.0,4500.0,5000.0,5500.0,6000.0,6500.0,7000.0,7500.0,8000.0,8500.0,9000.0,9500.0,500.0,1000.0,1500.0,2000.0,2500.0,3000.0,3500.0,4000.0,4500.0,5000.0,5500.0,6000.0,6500.0,7000.0,7500.0,8000.0,8500.0,9000.0,9500.0,500.0,1000.0,1500.0,2000.0,2500.0,3000.0,3500.0,4000.0,4500.0,5000.0,5500.0,6000.0,6500.0,7000.0,7500.0,8000.0,8500.0,9000.0,9500.0,500.0,1000.0,1500.0,2000.0,2500.0,3000.0,3500.0,4000.0,4500.0,5000.0,5500.0,6000.0,6500.0,7000.0,7500.0,8000.0,8500.0,9000.0,9500.0,500.0,1000.0,1500.0,2000.0,2500.0,3000.0,3500.0,4000.0,4500.0,5000.0,5500.0,6000.0,6500.0,7000.0,7500.0,8000.0,8500.0,9000.0,9500.0,500.0,1000.0,1500.0,2000.0,2500.0,3000.0,3500.0,4000.0,4500.0,5000.0,5500.0,6000.0,6500.0,7000.0,7500.0,8000.0,8500.0,9000.0,9500.0,500.0,1000.0,1500.0,2000.0,2500.0,3000.0,3500.0,4000.0,4500.0,5000.0,5500.0,6000.0,6500.0,7000.0,7500.0,8000.0,8500.0,9000.0,9500.0,500.0,1000.0,1500.0,2000.0,2500.0,3000.0,3500.0,4000.0,4500.0,5000.0,5500.0,6000.0,6500.0,7000.0,7500.0,8000.0,8500.0,9000.0,9500.0,500.0,1000.0,1500.0,2000.0,2500.0,3000.0,3500.0,4000.0,4500.0,5000.0,5500.0,6000.0,6500.0,7000.0,7500.0,8000.0,8500.0,9000.0,9500.0,500.0,1000.0,1500.0,2000.0,2500.0,3000.0,3500.0,4000.0,4500.0,5000.0,5500.0,6000.0,6500.0,7000.0,7500.0,8000.0,8500.0,9000.0,9500.0,500.0,1000.0,1500.0,2000.0,2500.0,3000.0,3500.0,4000.0,4500.0,5000.0,5500.0,6000.0,6500.0,7000.0,7500.0,8000.0,8500.0,9000.0,9500.0,500.0,1000.0,1500.0,2000.0,2500.0,3000.0,3500.0,4000.0,4500.0,5000.0,5500.0,6000.0,6500.0,7000.0,7500.0,8000.0,8500.0,9000.0,9500.0,500.0,1000.0,1500.0,2000.0,2500.0,3000.0,3500.0,4000.0,4500.0,5000.0,5500.0,6000.0,6500.0,7000.0,7500.0,8000.0,8500.0,9000.0,9500.0,500.0,1000.0,1500.0,2000.0,2500.0,3000.0,3500.0,4000.0,4500.0,5000.0,5500.0,6000.0,6500.0,7000.0,7500.0,8000.0,8500.0,9000.0,9500.0,500.0,1000.0,1500.0,2000.0,2500.0,3000.0,3500.0,4000.0,4500.0,5000.0,5500.0,6000.0,6500.0,7000.0,7500.0,8000.0,8500.0,9000.0,9500.0,500.0,1000.0,1500.0,2000.0,2500.0,3000.0,3500.0,4000.0,4500.0,5000.0,5500.0,6000.0,6500.0,7000.0,7500.0,8000.0,8500.0,9000.0,9500.0,500.0,1000.0,1500.0,2000.0,2500.0,3000.0,3500.0,4000.0,4500.0,5000.0,5500.0,6000.0,6500.0,7000.0,7500.0,8000.0,8500.0,9000.0,9500.0,500.0,1000.0,1500.0,2000.0,2500.0,3000.0,3500.0,4000.0,4500.0,5000.0,5500.0,6000.0,6500.0,7000.0,7500.0,8000.0,8500.0,9000.0,9500.0],\"coloraxis\":\"coloraxis\",\"symbol\":\"circle\"},\"mode\":\"markers\",\"name\":\"\",\"scene\":\"scene\",\"showlegend\":false,\"x\":[500.0,500.0,500.0,500.0,500.0,500.0,500.0,500.0,500.0,500.0,500.0,500.0,500.0,500.0,500.0,500.0,500.0,500.0,500.0,1000.0,1000.0,1000.0,1000.0,1000.0,1000.0,1000.0,1000.0,1000.0,1000.0,1000.0,1000.0,1000.0,1000.0,1000.0,1000.0,1000.0,1000.0,1000.0,1500.0,1500.0,1500.0,1500.0,1500.0,1500.0,1500.0,1500.0,1500.0,1500.0,1500.0,1500.0,1500.0,1500.0,1500.0,1500.0,1500.0,1500.0,1500.0,2000.0,2000.0,2000.0,2000.0,2000.0,2000.0,2000.0,2000.0,2000.0,2000.0,2000.0,2000.0,2000.0,2000.0,2000.0,2000.0,2000.0,2000.0,2000.0,2500.0,2500.0,2500.0,2500.0,2500.0,2500.0,2500.0,2500.0,2500.0,2500.0,2500.0,2500.0,2500.0,2500.0,2500.0,2500.0,2500.0,2500.0,2500.0,3000.0,3000.0,3000.0,3000.0,3000.0,3000.0,3000.0,3000.0,3000.0,3000.0,3000.0,3000.0,3000.0,3000.0,3000.0,3000.0,3000.0,3000.0,3000.0,3500.0,3500.0,3500.0,3500.0,3500.0,3500.0,3500.0,3500.0,3500.0,3500.0,3500.0,3500.0,3500.0,3500.0,3500.0,3500.0,3500.0,3500.0,3500.0,4000.0,4000.0,4000.0,4000.0,4000.0,4000.0,4000.0,4000.0,4000.0,4000.0,4000.0,4000.0,4000.0,4000.0,4000.0,4000.0,4000.0,4000.0,4000.0,4500.0,4500.0,4500.0,4500.0,4500.0,4500.0,4500.0,4500.0,4500.0,4500.0,4500.0,4500.0,4500.0,4500.0,4500.0,4500.0,4500.0,4500.0,4500.0,5000.0,5000.0,5000.0,5000.0,5000.0,5000.0,5000.0,5000.0,5000.0,5000.0,5000.0,5000.0,5000.0,5000.0,5000.0,5000.0,5000.0,5000.0,5000.0,5500.0,5500.0,5500.0,5500.0,5500.0,5500.0,5500.0,5500.0,5500.0,5500.0,5500.0,5500.0,5500.0,5500.0,5500.0,5500.0,5500.0,5500.0,5500.0,6000.0,6000.0,6000.0,6000.0,6000.0,6000.0,6000.0,6000.0,6000.0,6000.0,6000.0,6000.0,6000.0,6000.0,6000.0,6000.0,6000.0,6000.0,6000.0,6500.0,6500.0,6500.0,6500.0,6500.0,6500.0,6500.0,6500.0,6500.0,6500.0,6500.0,6500.0,6500.0,6500.0,6500.0,6500.0,6500.0,6500.0,6500.0,7000.0,7000.0,7000.0,7000.0,7000.0,7000.0,7000.0,7000.0,7000.0,7000.0,7000.0,7000.0,7000.0,7000.0,7000.0,7000.0,7000.0,7000.0,7000.0,7500.0,7500.0,7500.0,7500.0,7500.0,7500.0,7500.0,7500.0,7500.0,7500.0,7500.0,7500.0,7500.0,7500.0,7500.0,7500.0,7500.0,7500.0,7500.0,8000.0,8000.0,8000.0,8000.0,8000.0,8000.0,8000.0,8000.0,8000.0,8000.0,8000.0,8000.0,8000.0,8000.0,8000.0,8000.0,8000.0,8000.0,8000.0,8500.0,8500.0,8500.0,8500.0,8500.0,8500.0,8500.0,8500.0,8500.0,8500.0,8500.0,8500.0,8500.0,8500.0,8500.0,8500.0,8500.0,8500.0,8500.0,9000.0,9000.0,9000.0,9000.0,9000.0,9000.0,9000.0,9000.0,9000.0,9000.0,9000.0,9000.0,9000.0,9000.0,9000.0,9000.0,9000.0,9000.0,9000.0,9500.0,9500.0,9500.0,9500.0,9500.0,9500.0,9500.0,9500.0,9500.0,9500.0,9500.0,9500.0,9500.0,9500.0,9500.0,9500.0,9500.0,9500.0,9500.0],\"y\":[500.0,1000.0,1500.0,2000.0,2500.0,3000.0,3500.0,4000.0,4500.0,5000.0,5500.0,6000.0,6500.0,7000.0,7500.0,8000.0,8500.0,9000.0,9500.0,500.0,1000.0,1500.0,2000.0,2500.0,3000.0,3500.0,4000.0,4500.0,5000.0,5500.0,6000.0,6500.0,7000.0,7500.0,8000.0,8500.0,9000.0,9500.0,500.0,1000.0,1500.0,2000.0,2500.0,3000.0,3500.0,4000.0,4500.0,5000.0,5500.0,6000.0,6500.0,7000.0,7500.0,8000.0,8500.0,9000.0,9500.0,500.0,1000.0,1500.0,2000.0,2500.0,3000.0,3500.0,4000.0,4500.0,5000.0,5500.0,6000.0,6500.0,7000.0,7500.0,8000.0,8500.0,9000.0,9500.0,500.0,1000.0,1500.0,2000.0,2500.0,3000.0,3500.0,4000.0,4500.0,5000.0,5500.0,6000.0,6500.0,7000.0,7500.0,8000.0,8500.0,9000.0,9500.0,500.0,1000.0,1500.0,2000.0,2500.0,3000.0,3500.0,4000.0,4500.0,5000.0,5500.0,6000.0,6500.0,7000.0,7500.0,8000.0,8500.0,9000.0,9500.0,500.0,1000.0,1500.0,2000.0,2500.0,3000.0,3500.0,4000.0,4500.0,5000.0,5500.0,6000.0,6500.0,7000.0,7500.0,8000.0,8500.0,9000.0,9500.0,500.0,1000.0,1500.0,2000.0,2500.0,3000.0,3500.0,4000.0,4500.0,5000.0,5500.0,6000.0,6500.0,7000.0,7500.0,8000.0,8500.0,9000.0,9500.0,500.0,1000.0,1500.0,2000.0,2500.0,3000.0,3500.0,4000.0,4500.0,5000.0,5500.0,6000.0,6500.0,7000.0,7500.0,8000.0,8500.0,9000.0,9500.0,500.0,1000.0,1500.0,2000.0,2500.0,3000.0,3500.0,4000.0,4500.0,5000.0,5500.0,6000.0,6500.0,7000.0,7500.0,8000.0,8500.0,9000.0,9500.0,500.0,1000.0,1500.0,2000.0,2500.0,3000.0,3500.0,4000.0,4500.0,5000.0,5500.0,6000.0,6500.0,7000.0,7500.0,8000.0,8500.0,9000.0,9500.0,500.0,1000.0,1500.0,2000.0,2500.0,3000.0,3500.0,4000.0,4500.0,5000.0,5500.0,6000.0,6500.0,7000.0,7500.0,8000.0,8500.0,9000.0,9500.0,500.0,1000.0,1500.0,2000.0,2500.0,3000.0,3500.0,4000.0,4500.0,5000.0,5500.0,6000.0,6500.0,7000.0,7500.0,8000.0,8500.0,9000.0,9500.0,500.0,1000.0,1500.0,2000.0,2500.0,3000.0,3500.0,4000.0,4500.0,5000.0,5500.0,6000.0,6500.0,7000.0,7500.0,8000.0,8500.0,9000.0,9500.0,500.0,1000.0,1500.0,2000.0,2500.0,3000.0,3500.0,4000.0,4500.0,5000.0,5500.0,6000.0,6500.0,7000.0,7500.0,8000.0,8500.0,9000.0,9500.0,500.0,1000.0,1500.0,2000.0,2500.0,3000.0,3500.0,4000.0,4500.0,5000.0,5500.0,6000.0,6500.0,7000.0,7500.0,8000.0,8500.0,9000.0,9500.0,500.0,1000.0,1500.0,2000.0,2500.0,3000.0,3500.0,4000.0,4500.0,5000.0,5500.0,6000.0,6500.0,7000.0,7500.0,8000.0,8500.0,9000.0,9500.0,500.0,1000.0,1500.0,2000.0,2500.0,3000.0,3500.0,4000.0,4500.0,5000.0,5500.0,6000.0,6500.0,7000.0,7500.0,8000.0,8500.0,9000.0,9500.0,500.0,1000.0,1500.0,2000.0,2500.0,3000.0,3500.0,4000.0,4500.0,5000.0,5500.0,6000.0,6500.0,7000.0,7500.0,8000.0,8500.0,9000.0,9500.0],\"z\":[-0.11839806172790542,-0.06699800206574653,-0.19764962999532654,-0.28825887347490575,-0.2532265526203277,-0.16483132039307663,-0.11946923877100406,-0.1242681339190977,-0.16096258021840487,-0.14025287851531018,-0.1200007438068755,-0.08989905404505748,-0.16888136381429422,-0.19446264536384472,-0.21588755085990757,-0.12208702336211302,-0.11272033030609907,-0.10929080394797232,-0.11961097967864306,-0.1519269048615781,-0.16542335580166442,-0.2267619567408703,-0.2792387387211749,-0.23358220992481524,-0.17766572799012997,-0.1794858673067432,-0.1904850614097288,-0.1675369602428655,-0.17448584399756772,-0.1960955524790403,-0.16769379261878228,-0.19449470035302366,-0.19179582408917295,-0.23808006479751528,-0.22199711010897386,-0.2010917357044577,-0.20379895857474206,-0.20117656261469868,-0.19004236401691865,-0.22310082950645407,-0.30743332387240757,-0.0778272360854632,-0.1159436563087834,-0.11211501323478665,-0.14049577690572423,-0.09952953344558235,-0.08486017122055332,-0.10055101944683288,-0.17183989881743325,-0.21326829337182868,-0.2611138253354764,-0.0498890061101139,-0.13681614833463326,-0.15783400823187255,-0.1870631275496185,-0.1860600331095988,-0.1853831796034659,-0.07598584783786894,-0.15033651568053263,-0.007041231027672191,-0.04905877078930937,-0.08723378158641192,-0.109008408475646,-0.12917142265721412,-0.0712688880416173,-0.07639715548698196,-0.08246044776209423,-0.08520701636607715,-0.10479573619740855,-0.0647200983505809,-0.09376623293465444,-0.13231084389280892,-0.13712455753586764,-0.17606444962725476,-0.17102680336425066,-0.170970185890441,-0.21499824509677967,-0.12943005636305832,-0.13420185767718334,-0.1359081965185456,-0.18550646634681467,-0.15634948074137017,-0.18240122405305198,-0.16827911443743573,-0.1541607500188772,-0.15646661684393992,-0.2082254905075279,-0.1755212502489549,-0.16236281929455743,-0.11508806340615077,-0.16874346434023127,-0.1616222848927387,-0.20836048255038422,-0.2099477653957763,-0.18981417272250928,-0.09345923106736959,-0.12503941710288274,-0.11016931050032122,-0.10142558897153554,-0.08949316645531183,-0.06008286296105486,-0.04613286301408017,-0.06844849818299778,-0.09295316132123523,-0.12783464509802364,-0.18443428749215338,-0.17206895759856988,-0.14748300446878973,-0.11709852247710749,-0.12674554994712703,-0.10148881001976871,-0.1203728218779186,-0.11017940755021077,-0.10392607800816664,-0.0643868325514446,-0.11274274574266129,-0.14480270443635304,-0.07810420792588826,-0.03987861226287919,-0.02252333884688669,-0.2647180947785993,-0.20566090984915317,-0.18435203278093676,-0.15791195405927283,-0.15782779697154428,-0.1410850959633258,-0.13083318652823114,-0.08097271409382019,-0.0728401264264283,0.008206986849990492,-0.18875463286830574,-0.11848723154529797,-0.09793257964682021,-0.06862300340691102,-0.13355276039015154,-0.13761310483811634,-0.11065101411493555,-0.10680693193463575,-0.14864854317666315,-0.20712248244607642,-0.1913690752267075,-0.19235204185361435,-0.18225364638170755,-0.17524765714372292,-0.16333889157822745,-0.15029411682247915,-0.12981116864891018,-0.09788358132697632,-0.0955702948700847,-0.13138963131805326,-0.09178569039796167,-0.07286732741190169,-0.11456711314332414,-0.06952565906095791,-0.1299371698020985,-0.09853842033363798,-0.1559292691980354,-0.1700837830149093,-0.2341050277227018,-0.20151908848326655,-0.193782727803112,-0.1862414763576153,-0.18482893659959498,-0.17437807924710147,-0.1642375187917104,-0.12266693230498331,-0.1555273071737875,-0.1419327026953301,-0.1465988291819848,-0.10065834215849812,-0.0941175379830142,-0.07398065489443639,-0.06877574708546232,-0.1036590031045816,-0.08315241734267866,-0.09587042795742118,-0.12105425847727426,-0.14303567360553246,-0.13862120696326777,-0.13799413782290462,-0.1420836800097546,-0.16081056578914754,-0.17325697060449302,-0.1687007723882587,-0.12370344931991839,-0.11076308673544046,-0.08163695382276516,-0.05698009855485546,-0.064046940044242,-0.0733871360737414,-0.09481133710332079,-0.14560701574675244,-0.18738019763085334,-0.12131269967940984,-0.16796040090329792,-0.16017836349095085,-0.20311222508477803,-0.18889384646820742,-0.17391252360570209,-0.16081217512578821,-0.17619752569096903,-0.16102334498746762,-0.16411216298956893,-0.0978988198072232,-0.10102307848380225,-0.04429155465620886,-0.06933238898212232,-0.06806470217791416,-0.06828631411081258,-0.17436276960596617,-0.16181620523278042,-0.20294733830350659,-0.17379813254175386,-0.19009984468399085,-0.20925139251361763,-0.2138385765365214,-0.19539423413859294,-0.18364874951687196,-0.16165294225156457,-0.19661469272613927,-0.19450202939273553,-0.18684760307367007,-0.07327258703727804,-0.04024153387318861,-0.032277550494962066,-0.04481593342354978,-0.05090294727194161,-0.04892739753345137,-0.1617909974496816,-0.17772087739488088,-0.2570314950338701,-0.05332007835393354,-0.15305092722624578,-0.17049885946876747,-0.17918955289686622,-0.14808941872579834,-0.12954258159295606,-0.11945256401551207,-0.17305216536206108,-0.1965366801832295,-0.1654763112683242,0.03153138238876522,-0.05645273129932224,-0.058376773265389106,-0.06294804359778472,-0.05944904661385192,-0.053706753339916063,-0.11321343680339374,-0.13575704796271648,-0.026762694803079887,-0.042892922971738266,-0.1405400953838828,-0.1648992502089297,-0.20469607065342652,-0.16488580022188934,-0.15898904074061213,-0.1187486781415121,-0.15335211146366012,-0.11078176650801133,-0.04765915269400848,-0.031060332298533846,-0.07635346281811722,-0.044531538053008725,-0.052328283375062706,-0.02781870994502106,-0.04231263033741532,-0.13564243500910028,-0.010995622350777659,-0.032422321956566344,-0.05265683315120364,-0.13837634256848108,-0.12406604715156841,-0.1683565670765752,-0.1518251730416379,-0.12988692151480383,-0.10380165361141865,-0.12590363205370683,-0.05621682953504671,-0.04498184920572023,-0.025735343512775406,-0.07474560047546391,-0.04434747482775492,-0.04528131696611537,-0.040737049424925426,-0.04895197337989834,-0.025904120947452775,-0.013301731276485318,-0.02694361945598226,-0.05855210556385086,-0.05947521117566453,-0.04238884836464549,-0.07908706847635939,-0.08367414586909452,-0.07546956456269262,-0.043358815418607394,-0.03788613950304663,-0.012742535794399334,-0.03351459565752605,-0.010107018928968054,0.010501774970234488,0.051744244125770736,0.034349654314104125,-0.0007414155247179761,-0.014148904788161852,-0.030772412214581612,-0.04305159146486032,-0.08429340532399661,-0.05444563003886295,-0.03457990083357369,-0.013464945365262139,-0.17682045580559508,-0.15616421162676747,-0.10487058968145775,-0.05689120164102143,-0.04779953058084792,-0.038119206464901634,-0.04008073235464864,-0.015893203051622867,0.009440052357507122,0.02474371139872916,-0.07544335728730812,-0.06495418834653544,-0.024334458576732387,-0.04775368404178908,-0.07498119228996997,-0.07193864614625711,-0.052157746091604715,-0.03823044619010113,-0.06637800807961834,-0.1300571271706643,-0.07399061773718031,-0.03652450705157108,-0.02193327930622725,-0.023983239844191928,-0.006513273115884163,-0.011924477009239359,0.008784541678701394,0.010578718602940351,0.01516500886722194,-0.03669535993532658,-0.0038652244238252947,0.0041509059328877565,-0.06852684285483404,-0.046387518075577075,-0.0473200809736078,-0.04866463994794942,-0.08569020651888105,-0.09571093706183291,-0.08144899530835562,-0.04818068015674534,-0.03395267988033744,-0.03752157282360295,-0.033876777987315185,-0.012819058042272864,-0.018013877343935957,0.004569948152213756,-0.02879803898412165,-0.04114912533744751,-0.023698186514203492,-0.009768307575339273,-0.0011358039606596676],\"type\":\"scatter3d\"}],                        {\"template\":{\"data\":{\"histogram2dcontour\":[{\"type\":\"histogram2dcontour\",\"colorbar\":{\"outlinewidth\":0,\"ticks\":\"\"},\"colorscale\":[[0.0,\"#0d0887\"],[0.1111111111111111,\"#46039f\"],[0.2222222222222222,\"#7201a8\"],[0.3333333333333333,\"#9c179e\"],[0.4444444444444444,\"#bd3786\"],[0.5555555555555556,\"#d8576b\"],[0.6666666666666666,\"#ed7953\"],[0.7777777777777778,\"#fb9f3a\"],[0.8888888888888888,\"#fdca26\"],[1.0,\"#f0f921\"]]}],\"choropleth\":[{\"type\":\"choropleth\",\"colorbar\":{\"outlinewidth\":0,\"ticks\":\"\"}}],\"histogram2d\":[{\"type\":\"histogram2d\",\"colorbar\":{\"outlinewidth\":0,\"ticks\":\"\"},\"colorscale\":[[0.0,\"#0d0887\"],[0.1111111111111111,\"#46039f\"],[0.2222222222222222,\"#7201a8\"],[0.3333333333333333,\"#9c179e\"],[0.4444444444444444,\"#bd3786\"],[0.5555555555555556,\"#d8576b\"],[0.6666666666666666,\"#ed7953\"],[0.7777777777777778,\"#fb9f3a\"],[0.8888888888888888,\"#fdca26\"],[1.0,\"#f0f921\"]]}],\"heatmap\":[{\"type\":\"heatmap\",\"colorbar\":{\"outlinewidth\":0,\"ticks\":\"\"},\"colorscale\":[[0.0,\"#0d0887\"],[0.1111111111111111,\"#46039f\"],[0.2222222222222222,\"#7201a8\"],[0.3333333333333333,\"#9c179e\"],[0.4444444444444444,\"#bd3786\"],[0.5555555555555556,\"#d8576b\"],[0.6666666666666666,\"#ed7953\"],[0.7777777777777778,\"#fb9f3a\"],[0.8888888888888888,\"#fdca26\"],[1.0,\"#f0f921\"]]}],\"heatmapgl\":[{\"type\":\"heatmapgl\",\"colorbar\":{\"outlinewidth\":0,\"ticks\":\"\"},\"colorscale\":[[0.0,\"#0d0887\"],[0.1111111111111111,\"#46039f\"],[0.2222222222222222,\"#7201a8\"],[0.3333333333333333,\"#9c179e\"],[0.4444444444444444,\"#bd3786\"],[0.5555555555555556,\"#d8576b\"],[0.6666666666666666,\"#ed7953\"],[0.7777777777777778,\"#fb9f3a\"],[0.8888888888888888,\"#fdca26\"],[1.0,\"#f0f921\"]]}],\"contourcarpet\":[{\"type\":\"contourcarpet\",\"colorbar\":{\"outlinewidth\":0,\"ticks\":\"\"}}],\"contour\":[{\"type\":\"contour\",\"colorbar\":{\"outlinewidth\":0,\"ticks\":\"\"},\"colorscale\":[[0.0,\"#0d0887\"],[0.1111111111111111,\"#46039f\"],[0.2222222222222222,\"#7201a8\"],[0.3333333333333333,\"#9c179e\"],[0.4444444444444444,\"#bd3786\"],[0.5555555555555556,\"#d8576b\"],[0.6666666666666666,\"#ed7953\"],[0.7777777777777778,\"#fb9f3a\"],[0.8888888888888888,\"#fdca26\"],[1.0,\"#f0f921\"]]}],\"surface\":[{\"type\":\"surface\",\"colorbar\":{\"outlinewidth\":0,\"ticks\":\"\"},\"colorscale\":[[0.0,\"#0d0887\"],[0.1111111111111111,\"#46039f\"],[0.2222222222222222,\"#7201a8\"],[0.3333333333333333,\"#9c179e\"],[0.4444444444444444,\"#bd3786\"],[0.5555555555555556,\"#d8576b\"],[0.6666666666666666,\"#ed7953\"],[0.7777777777777778,\"#fb9f3a\"],[0.8888888888888888,\"#fdca26\"],[1.0,\"#f0f921\"]]}],\"mesh3d\":[{\"type\":\"mesh3d\",\"colorbar\":{\"outlinewidth\":0,\"ticks\":\"\"}}],\"scatter\":[{\"fillpattern\":{\"fillmode\":\"overlay\",\"size\":10,\"solidity\":0.2},\"type\":\"scatter\"}],\"parcoords\":[{\"type\":\"parcoords\",\"line\":{\"colorbar\":{\"outlinewidth\":0,\"ticks\":\"\"}}}],\"scatterpolargl\":[{\"type\":\"scatterpolargl\",\"marker\":{\"colorbar\":{\"outlinewidth\":0,\"ticks\":\"\"}}}],\"bar\":[{\"error_x\":{\"color\":\"#2a3f5f\"},\"error_y\":{\"color\":\"#2a3f5f\"},\"marker\":{\"line\":{\"color\":\"#E5ECF6\",\"width\":0.5},\"pattern\":{\"fillmode\":\"overlay\",\"size\":10,\"solidity\":0.2}},\"type\":\"bar\"}],\"scattergeo\":[{\"type\":\"scattergeo\",\"marker\":{\"colorbar\":{\"outlinewidth\":0,\"ticks\":\"\"}}}],\"scatterpolar\":[{\"type\":\"scatterpolar\",\"marker\":{\"colorbar\":{\"outlinewidth\":0,\"ticks\":\"\"}}}],\"histogram\":[{\"marker\":{\"pattern\":{\"fillmode\":\"overlay\",\"size\":10,\"solidity\":0.2}},\"type\":\"histogram\"}],\"scattergl\":[{\"type\":\"scattergl\",\"marker\":{\"colorbar\":{\"outlinewidth\":0,\"ticks\":\"\"}}}],\"scatter3d\":[{\"type\":\"scatter3d\",\"line\":{\"colorbar\":{\"outlinewidth\":0,\"ticks\":\"\"}},\"marker\":{\"colorbar\":{\"outlinewidth\":0,\"ticks\":\"\"}}}],\"scattermapbox\":[{\"type\":\"scattermapbox\",\"marker\":{\"colorbar\":{\"outlinewidth\":0,\"ticks\":\"\"}}}],\"scatterternary\":[{\"type\":\"scatterternary\",\"marker\":{\"colorbar\":{\"outlinewidth\":0,\"ticks\":\"\"}}}],\"scattercarpet\":[{\"type\":\"scattercarpet\",\"marker\":{\"colorbar\":{\"outlinewidth\":0,\"ticks\":\"\"}}}],\"carpet\":[{\"aaxis\":{\"endlinecolor\":\"#2a3f5f\",\"gridcolor\":\"white\",\"linecolor\":\"white\",\"minorgridcolor\":\"white\",\"startlinecolor\":\"#2a3f5f\"},\"baxis\":{\"endlinecolor\":\"#2a3f5f\",\"gridcolor\":\"white\",\"linecolor\":\"white\",\"minorgridcolor\":\"white\",\"startlinecolor\":\"#2a3f5f\"},\"type\":\"carpet\"}],\"table\":[{\"cells\":{\"fill\":{\"color\":\"#EBF0F8\"},\"line\":{\"color\":\"white\"}},\"header\":{\"fill\":{\"color\":\"#C8D4E3\"},\"line\":{\"color\":\"white\"}},\"type\":\"table\"}],\"barpolar\":[{\"marker\":{\"line\":{\"color\":\"#E5ECF6\",\"width\":0.5},\"pattern\":{\"fillmode\":\"overlay\",\"size\":10,\"solidity\":0.2}},\"type\":\"barpolar\"}],\"pie\":[{\"automargin\":true,\"type\":\"pie\"}]},\"layout\":{\"autotypenumbers\":\"strict\",\"colorway\":[\"#636efa\",\"#EF553B\",\"#00cc96\",\"#ab63fa\",\"#FFA15A\",\"#19d3f3\",\"#FF6692\",\"#B6E880\",\"#FF97FF\",\"#FECB52\"],\"font\":{\"color\":\"#2a3f5f\"},\"hovermode\":\"closest\",\"hoverlabel\":{\"align\":\"left\"},\"paper_bgcolor\":\"white\",\"plot_bgcolor\":\"#E5ECF6\",\"polar\":{\"bgcolor\":\"#E5ECF6\",\"angularaxis\":{\"gridcolor\":\"white\",\"linecolor\":\"white\",\"ticks\":\"\"},\"radialaxis\":{\"gridcolor\":\"white\",\"linecolor\":\"white\",\"ticks\":\"\"}},\"ternary\":{\"bgcolor\":\"#E5ECF6\",\"aaxis\":{\"gridcolor\":\"white\",\"linecolor\":\"white\",\"ticks\":\"\"},\"baxis\":{\"gridcolor\":\"white\",\"linecolor\":\"white\",\"ticks\":\"\"},\"caxis\":{\"gridcolor\":\"white\",\"linecolor\":\"white\",\"ticks\":\"\"}},\"coloraxis\":{\"colorbar\":{\"outlinewidth\":0,\"ticks\":\"\"}},\"colorscale\":{\"sequential\":[[0.0,\"#0d0887\"],[0.1111111111111111,\"#46039f\"],[0.2222222222222222,\"#7201a8\"],[0.3333333333333333,\"#9c179e\"],[0.4444444444444444,\"#bd3786\"],[0.5555555555555556,\"#d8576b\"],[0.6666666666666666,\"#ed7953\"],[0.7777777777777778,\"#fb9f3a\"],[0.8888888888888888,\"#fdca26\"],[1.0,\"#f0f921\"]],\"sequentialminus\":[[0.0,\"#0d0887\"],[0.1111111111111111,\"#46039f\"],[0.2222222222222222,\"#7201a8\"],[0.3333333333333333,\"#9c179e\"],[0.4444444444444444,\"#bd3786\"],[0.5555555555555556,\"#d8576b\"],[0.6666666666666666,\"#ed7953\"],[0.7777777777777778,\"#fb9f3a\"],[0.8888888888888888,\"#fdca26\"],[1.0,\"#f0f921\"]],\"diverging\":[[0,\"#8e0152\"],[0.1,\"#c51b7d\"],[0.2,\"#de77ae\"],[0.3,\"#f1b6da\"],[0.4,\"#fde0ef\"],[0.5,\"#f7f7f7\"],[0.6,\"#e6f5d0\"],[0.7,\"#b8e186\"],[0.8,\"#7fbc41\"],[0.9,\"#4d9221\"],[1,\"#276419\"]]},\"xaxis\":{\"gridcolor\":\"white\",\"linecolor\":\"white\",\"ticks\":\"\",\"title\":{\"standoff\":15},\"zerolinecolor\":\"white\",\"automargin\":true,\"zerolinewidth\":2},\"yaxis\":{\"gridcolor\":\"white\",\"linecolor\":\"white\",\"ticks\":\"\",\"title\":{\"standoff\":15},\"zerolinecolor\":\"white\",\"automargin\":true,\"zerolinewidth\":2},\"scene\":{\"xaxis\":{\"backgroundcolor\":\"#E5ECF6\",\"gridcolor\":\"white\",\"linecolor\":\"white\",\"showbackground\":true,\"ticks\":\"\",\"zerolinecolor\":\"white\",\"gridwidth\":2},\"yaxis\":{\"backgroundcolor\":\"#E5ECF6\",\"gridcolor\":\"white\",\"linecolor\":\"white\",\"showbackground\":true,\"ticks\":\"\",\"zerolinecolor\":\"white\",\"gridwidth\":2},\"zaxis\":{\"backgroundcolor\":\"#E5ECF6\",\"gridcolor\":\"white\",\"linecolor\":\"white\",\"showbackground\":true,\"ticks\":\"\",\"zerolinecolor\":\"white\",\"gridwidth\":2}},\"shapedefaults\":{\"line\":{\"color\":\"#2a3f5f\"}},\"annotationdefaults\":{\"arrowcolor\":\"#2a3f5f\",\"arrowhead\":0,\"arrowwidth\":1},\"geo\":{\"bgcolor\":\"white\",\"landcolor\":\"#E5ECF6\",\"subunitcolor\":\"white\",\"showland\":true,\"showlakes\":true,\"lakecolor\":\"white\"},\"title\":{\"x\":0.05},\"mapbox\":{\"style\":\"light\"}}},\"scene\":{\"domain\":{\"x\":[0.0,1.0],\"y\":[0.0,1.0]},\"xaxis\":{\"title\":{\"text\":\"predict_period\"}},\"yaxis\":{\"title\":{\"text\":\"lookback_period\"}},\"zaxis\":{\"title\":{\"text\":\"corr\"}}},\"coloraxis\":{\"colorbar\":{\"title\":{\"text\":\"lookback_period\"}},\"colorscale\":[[0.0,\"#0d0887\"],[0.1111111111111111,\"#46039f\"],[0.2222222222222222,\"#7201a8\"],[0.3333333333333333,\"#9c179e\"],[0.4444444444444444,\"#bd3786\"],[0.5555555555555556,\"#d8576b\"],[0.6666666666666666,\"#ed7953\"],[0.7777777777777778,\"#fb9f3a\"],[0.8888888888888888,\"#fdca26\"],[1.0,\"#f0f921\"]]},\"legend\":{\"tracegroupgap\":0},\"margin\":{\"t\":60}},                        {\"responsive\": true}                    ).then(function(){\n",
       "                            \n",
       "var gd = document.getElementById('98f60a1b-8558-45e3-974d-89683f3d7ca0');\n",
       "var x = new MutationObserver(function (mutations, observer) {{\n",
       "        var display = window.getComputedStyle(gd).display;\n",
       "        if (!display || display === 'none') {{\n",
       "            console.log([gd, 'removed!']);\n",
       "            Plotly.purge(gd);\n",
       "            observer.disconnect();\n",
       "        }}\n",
       "}});\n",
       "\n",
       "// Listen for the removal of the full notebook cells\n",
       "var notebookContainer = gd.closest('#notebook-container');\n",
       "if (notebookContainer) {{\n",
       "    x.observe(notebookContainer, {childList: true});\n",
       "}}\n",
       "\n",
       "// Listen for the clearing of the current output cell\n",
       "var outputEl = gd.closest('.output');\n",
       "if (outputEl) {{\n",
       "    x.observe(outputEl, {childList: true});\n",
       "}}\n",
       "\n",
       "                        })                };                });            </script>        </div>"
      ]
     },
     "metadata": {},
     "output_type": "display_data"
    },
    {
     "data": {
      "application/vnd.plotly.v1+json": {
       "config": {
        "plotlyServerURL": "https://plot.ly"
       },
       "data": [
        {
         "hovertemplate": "predict_period=%{x}<br>lookback_period=%{marker.color}<br>corr=%{z}<extra></extra>",
         "legendgroup": "",
         "marker": {
          "color": [
           500,
           1000,
           1500,
           2000,
           2500,
           3000,
           3500,
           4000,
           4500,
           5000,
           5500,
           6000,
           6500,
           7000,
           7500,
           8000,
           8500,
           9000,
           9500,
           500,
           1000,
           1500,
           2000,
           2500,
           3000,
           3500,
           4000,
           4500,
           5000,
           5500,
           6000,
           6500,
           7000,
           7500,
           8000,
           8500,
           9000,
           9500,
           500,
           1000,
           1500,
           2000,
           2500,
           3000,
           3500,
           4000,
           4500,
           5000,
           5500,
           6000,
           6500,
           7000,
           7500,
           8000,
           8500,
           9000,
           9500,
           500,
           1000,
           1500,
           2000,
           2500,
           3000,
           3500,
           4000,
           4500,
           5000,
           5500,
           6000,
           6500,
           7000,
           7500,
           8000,
           8500,
           9000,
           9500,
           500,
           1000,
           1500,
           2000,
           2500,
           3000,
           3500,
           4000,
           4500,
           5000,
           5500,
           6000,
           6500,
           7000,
           7500,
           8000,
           8500,
           9000,
           9500,
           500,
           1000,
           1500,
           2000,
           2500,
           3000,
           3500,
           4000,
           4500,
           5000,
           5500,
           6000,
           6500,
           7000,
           7500,
           8000,
           8500,
           9000,
           9500,
           500,
           1000,
           1500,
           2000,
           2500,
           3000,
           3500,
           4000,
           4500,
           5000,
           5500,
           6000,
           6500,
           7000,
           7500,
           8000,
           8500,
           9000,
           9500,
           500,
           1000,
           1500,
           2000,
           2500,
           3000,
           3500,
           4000,
           4500,
           5000,
           5500,
           6000,
           6500,
           7000,
           7500,
           8000,
           8500,
           9000,
           9500,
           500,
           1000,
           1500,
           2000,
           2500,
           3000,
           3500,
           4000,
           4500,
           5000,
           5500,
           6000,
           6500,
           7000,
           7500,
           8000,
           8500,
           9000,
           9500,
           500,
           1000,
           1500,
           2000,
           2500,
           3000,
           3500,
           4000,
           4500,
           5000,
           5500,
           6000,
           6500,
           7000,
           7500,
           8000,
           8500,
           9000,
           9500,
           500,
           1000,
           1500,
           2000,
           2500,
           3000,
           3500,
           4000,
           4500,
           5000,
           5500,
           6000,
           6500,
           7000,
           7500,
           8000,
           8500,
           9000,
           9500,
           500,
           1000,
           1500,
           2000,
           2500,
           3000,
           3500,
           4000,
           4500,
           5000,
           5500,
           6000,
           6500,
           7000,
           7500,
           8000,
           8500,
           9000,
           9500,
           500,
           1000,
           1500,
           2000,
           2500,
           3000,
           3500,
           4000,
           4500,
           5000,
           5500,
           6000,
           6500,
           7000,
           7500,
           8000,
           8500,
           9000,
           9500,
           500,
           1000,
           1500,
           2000,
           2500,
           3000,
           3500,
           4000,
           4500,
           5000,
           5500,
           6000,
           6500,
           7000,
           7500,
           8000,
           8500,
           9000,
           9500,
           500,
           1000,
           1500,
           2000,
           2500,
           3000,
           3500,
           4000,
           4500,
           5000,
           5500,
           6000,
           6500,
           7000,
           7500,
           8000,
           8500,
           9000,
           9500,
           500,
           1000,
           1500,
           2000,
           2500,
           3000,
           3500,
           4000,
           4500,
           5000,
           5500,
           6000,
           6500,
           7000,
           7500,
           8000,
           8500,
           9000,
           9500,
           500,
           1000,
           1500,
           2000,
           2500,
           3000,
           3500,
           4000,
           4500,
           5000,
           5500,
           6000,
           6500,
           7000,
           7500,
           8000,
           8500,
           9000,
           9500,
           500,
           1000,
           1500,
           2000,
           2500,
           3000,
           3500,
           4000,
           4500,
           5000,
           5500,
           6000,
           6500,
           7000,
           7500,
           8000,
           8500,
           9000,
           9500,
           500,
           1000,
           1500,
           2000,
           2500,
           3000,
           3500,
           4000,
           4500,
           5000,
           5500,
           6000,
           6500,
           7000,
           7500,
           8000,
           8500,
           9000,
           9500
          ],
          "coloraxis": "coloraxis",
          "symbol": "circle"
         },
         "mode": "markers",
         "name": "",
         "scene": "scene",
         "showlegend": false,
         "type": "scatter3d",
         "x": [
          500,
          500,
          500,
          500,
          500,
          500,
          500,
          500,
          500,
          500,
          500,
          500,
          500,
          500,
          500,
          500,
          500,
          500,
          500,
          1000,
          1000,
          1000,
          1000,
          1000,
          1000,
          1000,
          1000,
          1000,
          1000,
          1000,
          1000,
          1000,
          1000,
          1000,
          1000,
          1000,
          1000,
          1000,
          1500,
          1500,
          1500,
          1500,
          1500,
          1500,
          1500,
          1500,
          1500,
          1500,
          1500,
          1500,
          1500,
          1500,
          1500,
          1500,
          1500,
          1500,
          1500,
          2000,
          2000,
          2000,
          2000,
          2000,
          2000,
          2000,
          2000,
          2000,
          2000,
          2000,
          2000,
          2000,
          2000,
          2000,
          2000,
          2000,
          2000,
          2000,
          2500,
          2500,
          2500,
          2500,
          2500,
          2500,
          2500,
          2500,
          2500,
          2500,
          2500,
          2500,
          2500,
          2500,
          2500,
          2500,
          2500,
          2500,
          2500,
          3000,
          3000,
          3000,
          3000,
          3000,
          3000,
          3000,
          3000,
          3000,
          3000,
          3000,
          3000,
          3000,
          3000,
          3000,
          3000,
          3000,
          3000,
          3000,
          3500,
          3500,
          3500,
          3500,
          3500,
          3500,
          3500,
          3500,
          3500,
          3500,
          3500,
          3500,
          3500,
          3500,
          3500,
          3500,
          3500,
          3500,
          3500,
          4000,
          4000,
          4000,
          4000,
          4000,
          4000,
          4000,
          4000,
          4000,
          4000,
          4000,
          4000,
          4000,
          4000,
          4000,
          4000,
          4000,
          4000,
          4000,
          4500,
          4500,
          4500,
          4500,
          4500,
          4500,
          4500,
          4500,
          4500,
          4500,
          4500,
          4500,
          4500,
          4500,
          4500,
          4500,
          4500,
          4500,
          4500,
          5000,
          5000,
          5000,
          5000,
          5000,
          5000,
          5000,
          5000,
          5000,
          5000,
          5000,
          5000,
          5000,
          5000,
          5000,
          5000,
          5000,
          5000,
          5000,
          5500,
          5500,
          5500,
          5500,
          5500,
          5500,
          5500,
          5500,
          5500,
          5500,
          5500,
          5500,
          5500,
          5500,
          5500,
          5500,
          5500,
          5500,
          5500,
          6000,
          6000,
          6000,
          6000,
          6000,
          6000,
          6000,
          6000,
          6000,
          6000,
          6000,
          6000,
          6000,
          6000,
          6000,
          6000,
          6000,
          6000,
          6000,
          6500,
          6500,
          6500,
          6500,
          6500,
          6500,
          6500,
          6500,
          6500,
          6500,
          6500,
          6500,
          6500,
          6500,
          6500,
          6500,
          6500,
          6500,
          6500,
          7000,
          7000,
          7000,
          7000,
          7000,
          7000,
          7000,
          7000,
          7000,
          7000,
          7000,
          7000,
          7000,
          7000,
          7000,
          7000,
          7000,
          7000,
          7000,
          7500,
          7500,
          7500,
          7500,
          7500,
          7500,
          7500,
          7500,
          7500,
          7500,
          7500,
          7500,
          7500,
          7500,
          7500,
          7500,
          7500,
          7500,
          7500,
          8000,
          8000,
          8000,
          8000,
          8000,
          8000,
          8000,
          8000,
          8000,
          8000,
          8000,
          8000,
          8000,
          8000,
          8000,
          8000,
          8000,
          8000,
          8000,
          8500,
          8500,
          8500,
          8500,
          8500,
          8500,
          8500,
          8500,
          8500,
          8500,
          8500,
          8500,
          8500,
          8500,
          8500,
          8500,
          8500,
          8500,
          8500,
          9000,
          9000,
          9000,
          9000,
          9000,
          9000,
          9000,
          9000,
          9000,
          9000,
          9000,
          9000,
          9000,
          9000,
          9000,
          9000,
          9000,
          9000,
          9000,
          9500,
          9500,
          9500,
          9500,
          9500,
          9500,
          9500,
          9500,
          9500,
          9500,
          9500,
          9500,
          9500,
          9500,
          9500,
          9500,
          9500,
          9500,
          9500
         ],
         "y": [
          500,
          1000,
          1500,
          2000,
          2500,
          3000,
          3500,
          4000,
          4500,
          5000,
          5500,
          6000,
          6500,
          7000,
          7500,
          8000,
          8500,
          9000,
          9500,
          500,
          1000,
          1500,
          2000,
          2500,
          3000,
          3500,
          4000,
          4500,
          5000,
          5500,
          6000,
          6500,
          7000,
          7500,
          8000,
          8500,
          9000,
          9500,
          500,
          1000,
          1500,
          2000,
          2500,
          3000,
          3500,
          4000,
          4500,
          5000,
          5500,
          6000,
          6500,
          7000,
          7500,
          8000,
          8500,
          9000,
          9500,
          500,
          1000,
          1500,
          2000,
          2500,
          3000,
          3500,
          4000,
          4500,
          5000,
          5500,
          6000,
          6500,
          7000,
          7500,
          8000,
          8500,
          9000,
          9500,
          500,
          1000,
          1500,
          2000,
          2500,
          3000,
          3500,
          4000,
          4500,
          5000,
          5500,
          6000,
          6500,
          7000,
          7500,
          8000,
          8500,
          9000,
          9500,
          500,
          1000,
          1500,
          2000,
          2500,
          3000,
          3500,
          4000,
          4500,
          5000,
          5500,
          6000,
          6500,
          7000,
          7500,
          8000,
          8500,
          9000,
          9500,
          500,
          1000,
          1500,
          2000,
          2500,
          3000,
          3500,
          4000,
          4500,
          5000,
          5500,
          6000,
          6500,
          7000,
          7500,
          8000,
          8500,
          9000,
          9500,
          500,
          1000,
          1500,
          2000,
          2500,
          3000,
          3500,
          4000,
          4500,
          5000,
          5500,
          6000,
          6500,
          7000,
          7500,
          8000,
          8500,
          9000,
          9500,
          500,
          1000,
          1500,
          2000,
          2500,
          3000,
          3500,
          4000,
          4500,
          5000,
          5500,
          6000,
          6500,
          7000,
          7500,
          8000,
          8500,
          9000,
          9500,
          500,
          1000,
          1500,
          2000,
          2500,
          3000,
          3500,
          4000,
          4500,
          5000,
          5500,
          6000,
          6500,
          7000,
          7500,
          8000,
          8500,
          9000,
          9500,
          500,
          1000,
          1500,
          2000,
          2500,
          3000,
          3500,
          4000,
          4500,
          5000,
          5500,
          6000,
          6500,
          7000,
          7500,
          8000,
          8500,
          9000,
          9500,
          500,
          1000,
          1500,
          2000,
          2500,
          3000,
          3500,
          4000,
          4500,
          5000,
          5500,
          6000,
          6500,
          7000,
          7500,
          8000,
          8500,
          9000,
          9500,
          500,
          1000,
          1500,
          2000,
          2500,
          3000,
          3500,
          4000,
          4500,
          5000,
          5500,
          6000,
          6500,
          7000,
          7500,
          8000,
          8500,
          9000,
          9500,
          500,
          1000,
          1500,
          2000,
          2500,
          3000,
          3500,
          4000,
          4500,
          5000,
          5500,
          6000,
          6500,
          7000,
          7500,
          8000,
          8500,
          9000,
          9500,
          500,
          1000,
          1500,
          2000,
          2500,
          3000,
          3500,
          4000,
          4500,
          5000,
          5500,
          6000,
          6500,
          7000,
          7500,
          8000,
          8500,
          9000,
          9500,
          500,
          1000,
          1500,
          2000,
          2500,
          3000,
          3500,
          4000,
          4500,
          5000,
          5500,
          6000,
          6500,
          7000,
          7500,
          8000,
          8500,
          9000,
          9500,
          500,
          1000,
          1500,
          2000,
          2500,
          3000,
          3500,
          4000,
          4500,
          5000,
          5500,
          6000,
          6500,
          7000,
          7500,
          8000,
          8500,
          9000,
          9500,
          500,
          1000,
          1500,
          2000,
          2500,
          3000,
          3500,
          4000,
          4500,
          5000,
          5500,
          6000,
          6500,
          7000,
          7500,
          8000,
          8500,
          9000,
          9500,
          500,
          1000,
          1500,
          2000,
          2500,
          3000,
          3500,
          4000,
          4500,
          5000,
          5500,
          6000,
          6500,
          7000,
          7500,
          8000,
          8500,
          9000,
          9500
         ],
         "z": [
          0.05089938118559696,
          0.0655295920962409,
          0.21596707823829558,
          0.3568642277838838,
          0.3531262797076834,
          0.09160356894109203,
          -0.01769251825216109,
          0.08413585202370616,
          0.14477764771795051,
          0.06449876805292236,
          0.14871792336768327,
          0.10238612036517912,
          0.1338551096451177,
          0.18268694846960226,
          0.24981050601874033,
          -0.005115663343919015,
          0.15809085154355626,
          0.12943414678817708,
          0.06970510691808773,
          0.031142603757272434,
          0.29097672135255603,
          0.3932929187070804,
          0.3772401348278111,
          0.004723042186414089,
          0.042782191090714045,
          0.03060988100956027,
          0.10041213898296422,
          0.08036944886520288,
          0.1207822202358959,
          0.15672353951774376,
          0.27579259055971983,
          0.18459886484483068,
          0.21777678708238385,
          0.12312137862846995,
          0.15021820124373728,
          0.14304408134088573,
          0.18786846787045314,
          0.15932218146039978,
          0.03906304125744585,
          0.548190043460147,
          0.4635358593082812,
          -0.1522608305524546,
          -0.2278935261108391,
          -0.06856883595865561,
          0.05384607868425403,
          0.029514484592017214,
          0.13929660214289627,
          0.0699070385401568,
          0.2029926849241044,
          0.3460128300202196,
          0.37553419743345395,
          -0.0799852315019476,
          0.02762057796012303,
          0.044075362512401295,
          0.17596726941194638,
          0.12915804256544966,
          0.14866895693715096,
          0.325038032454979,
          0.327782398554825,
          0.14883604188400504,
          0.02855464375401221,
          0.011155063667193219,
          0.12833654501630293,
          0.021891424633566508,
          0.0916387340630311,
          0.12969501461811422,
          0.1377835924124385,
          0.12096573480930649,
          0.22097759436757658,
          0.10165622881033712,
          0.041657564305678026,
          0.024144899640170785,
          0.17623174443358183,
          0.15315138492768865,
          0.17528484619387186,
          0.24050392743922155,
          0.20269567130109142,
          0.20146701860308552,
          0.31310282772330383,
          0.21145111052077106,
          0.2035996689440483,
          0.06237858921454496,
          0.053312890755643376,
          0.0004030067034314255,
          0.09651170197904134,
          0.06717093519205482,
          0.14369737863292747,
          0.14748407475754666,
          0.15171634172790147,
          0.05371330808888964,
          0.0837574613253744,
          0.0605160804926348,
          0.14591386947360896,
          0.21257960347170585,
          0.11101299208381425,
          0.1920773051970916,
          0.2433099388068476,
          0.2867984377715281,
          0.22847656577188438,
          0.13820560378951505,
          0.09550618794625218,
          -0.05390515948622581,
          0.05259520137384425,
          0.04444729034690741,
          0.1062382894151934,
          0.16973225547013762,
          0.15155472019651978,
          0.1068020122379563,
          0.03252402608099453,
          -0.010359901877766356,
          0.07350840091289602,
          0.09748822424555786,
          0.1387132518584476,
          0.14677496076979313,
          0.047817940624629886,
          0.17717750917476227,
          0.26020785523715106,
          0.1549215101894192,
          0.14021783184916892,
          0.001470110895451577,
          0.41747442807573054,
          0.27764325363550424,
          0.22315771685880012,
          0.13071516999390587,
          0.14177282485992657,
          0.15481288947236727,
          0.05480083858706131,
          -0.05475976555188218,
          -0.018079020574543088,
          -0.05172258418826775,
          0.25634706578239475,
          0.22864748733318932,
          0.1682209861756743,
          0.19072012645658187,
          0.28205061736544196,
          0.2685204647538806,
          0.23696498411842068,
          0.19927188858871067,
          0.22572646982838124,
          0.19615938517483783,
          0.21560602673132145,
          0.22620551568298758,
          0.16680664314736193,
          0.139127019731866,
          0.14216428035062767,
          0.07673396094448699,
          0.048364738953198386,
          0.012484578316512604,
          0.1280863341408983,
          0.245418754948416,
          0.15378802992385082,
          0.16084225559733617,
          0.10870868366280519,
          0.2666914963427582,
          0.25431195330071954,
          0.2194327713592828,
          0.15133046774250186,
          0.05954478009140306,
          0.15700958028590847,
          0.0896478482393347,
          0.1480361294955495,
          0.1243402877880572,
          0.11206742700822311,
          0.13544878078517633,
          0.1314464476638215,
          0.12249369801824223,
          0.07862047493552328,
          0.07000137068188121,
          0.15481540853079656,
          0.13405214867103182,
          0.14388437251242453,
          0.0630773882703944,
          0.22487098670745923,
          0.2170612032606515,
          0.17059379871637506,
          0.03447210990062898,
          0.05285919483230712,
          0.025788018808040276,
          0.025238093397890824,
          0.11135834014503118,
          0.08833582750718749,
          0.09662946506151042,
          0.1629248099266562,
          0.1724712698200845,
          0.10838534658901491,
          0.08743733148034767,
          0.08364091882067191,
          0.10319642914588133,
          0.1006406767726327,
          0.11978057499499505,
          0.17908139693202715,
          0.26571213660679577,
          0.3216702325204215,
          0.19949867916214958,
          0.08050702703570353,
          0.079167878661504,
          0.07610626851647201,
          0.11425077702813054,
          0.13838812835424816,
          0.12147285657707599,
          0.11139154443387701,
          0.21406931192682196,
          0.18851819139948509,
          0.09073526085598531,
          0.09620761920384903,
          0.06692390000166172,
          0.11095772960332968,
          0.13267500516044045,
          0.12646683047175306,
          0.1591538780596734,
          0.32418069877054645,
          0.24471880511585933,
          0.14659211197012023,
          -0.027497992505713987,
          0.12816677249152156,
          0.10290688398217596,
          0.13968148746352554,
          0.1352329416791679,
          0.10010280158732106,
          0.17163850208199516,
          0.2452696559781051,
          0.1959435716423059,
          0.12353678342246559,
          0.12050291304249817,
          0.09172213806065266,
          0.1491758886817954,
          0.1310115016484823,
          0.1015701450834887,
          0.11929538801842794,
          0.33343347811533897,
          0.2973256126733024,
          -0.06852952407029728,
          -0.08097447446360952,
          0.04073064296291992,
          0.0993077347349793,
          0.014939767497951862,
          0.09478092522495041,
          0.09613633598661636,
          0.14408904459851246,
          0.18335156133625188,
          0.28722759018962885,
          -0.06434421828558569,
          0.02534049938621111,
          0.07375430028306866,
          0.10747313960287608,
          0.08019811585608891,
          0.10802075464839797,
          0.19107676249503516,
          0.1881023302822009,
          -0.02757956556651347,
          0.017508035975654503,
          -0.009327427712186821,
          0.1322122129334347,
          0.07172487710041842,
          0.14373584286288177,
          0.17837189625972502,
          0.14132741389708012,
          0.18143560287066937,
          0.19099202401494403,
          0.1126338166546972,
          0.08552966304043466,
          0.04320117861070984,
          0.14962986121658095,
          0.07138052173815096,
          0.1434400205948181,
          0.13508325951725295,
          0.07918137962101456,
          -0.019453289226735674,
          -0.05040836522905828,
          -0.015153928848108483,
          0.007485383817558961,
          0.04126937583196657,
          0.06023006848149465,
          0.09457462674683127,
          0.14779754075014556,
          0.0712618083240885,
          0.15201302976789008,
          0.12342197477157331,
          0.027550593552738353,
          0.0306564918579138,
          0.04461737385414418,
          0.07465887589892281,
          0.04183306332587407,
          0.07579382733769137,
          0.11299845357653272,
          -0.021761079910651685,
          0.008875093963766376,
          0.06946586110696355,
          0.0592745632310437,
          0.01546065397206743,
          0.05081039201645578,
          0.07769973015788789,
          0.09203554187045468,
          0.10304052192866756,
          0.08450745951769367,
          0.073549583325924,
          0.06545895028089445,
          0.04956504937246706,
          0.009549074757625085,
          0.010729247757354274,
          -0.013331155723468097,
          -0.0022803223406904598,
          0.06436084540354063,
          0.027025348082186713,
          0.013792455583844933,
          0.04825399658941281,
          0.10659809936953592,
          0.0770069421763486,
          -0.04202219002726747,
          -0.018815842053221024,
          0.22235133580879365,
          0.21130020200470143,
          0.20550665135134055,
          0.11573107186948345,
          0.1010927382332929,
          0.08502314018252194,
          0.06501964286067685,
          -0.008965192304141029,
          -0.07839299966724393,
          -0.04903705739697247,
          0.19167815303565972,
          0.10164644107051736,
          0.08664141117514226,
          0.0572833271394288,
          0.0976467815748683,
          0.0831386007888395,
          0.07582712181720982,
          0.043157145679694704,
          0.04172403904697631,
          0.17670069298773833,
          0.15263701948310096,
          0.16197146655929692,
          0.08148998198393004,
          0.07296200925827138,
          0.05794862810260321,
          0.01914018402699729,
          -0.03710873019370461,
          -0.018278624930237075,
          0.023788395086000447,
          0.14835113673085726,
          0.051848125697153996,
          0.06249057744273712,
          0.05092453610819919,
          0.08992535533629048,
          0.09111212127609764,
          0.09199810433919867,
          0.04726991957087088,
          0.04199264557781198,
          0.12175345710054536,
          0.037293518218352834,
          0.08773171453368518,
          0.07296105381726004,
          0.0026419011459003845,
          0.03961883176358991,
          -0.0013130453613020739,
          -0.02633154815433519,
          0.012753227931017387,
          0.022339975333993442,
          0.07361657210120366,
          0.045269470180576143,
          0.029765992193516413
         ]
        }
       ],
       "layout": {
        "coloraxis": {
         "colorbar": {
          "title": {
           "text": "lookback_period"
          }
         },
         "colorscale": [
          [
           0,
           "#0d0887"
          ],
          [
           0.1111111111111111,
           "#46039f"
          ],
          [
           0.2222222222222222,
           "#7201a8"
          ],
          [
           0.3333333333333333,
           "#9c179e"
          ],
          [
           0.4444444444444444,
           "#bd3786"
          ],
          [
           0.5555555555555556,
           "#d8576b"
          ],
          [
           0.6666666666666666,
           "#ed7953"
          ],
          [
           0.7777777777777778,
           "#fb9f3a"
          ],
          [
           0.8888888888888888,
           "#fdca26"
          ],
          [
           1,
           "#f0f921"
          ]
         ]
        },
        "legend": {
         "tracegroupgap": 0
        },
        "margin": {
         "t": 60
        },
        "scene": {
         "domain": {
          "x": [
           0,
           1
          ],
          "y": [
           0,
           1
          ]
         },
         "xaxis": {
          "title": {
           "text": "predict_period"
          }
         },
         "yaxis": {
          "title": {
           "text": "lookback_period"
          }
         },
         "zaxis": {
          "title": {
           "text": "corr"
          }
         }
        },
        "template": {
         "data": {
          "bar": [
           {
            "error_x": {
             "color": "#2a3f5f"
            },
            "error_y": {
             "color": "#2a3f5f"
            },
            "marker": {
             "line": {
              "color": "#E5ECF6",
              "width": 0.5
             },
             "pattern": {
              "fillmode": "overlay",
              "size": 10,
              "solidity": 0.2
             }
            },
            "type": "bar"
           }
          ],
          "barpolar": [
           {
            "marker": {
             "line": {
              "color": "#E5ECF6",
              "width": 0.5
             },
             "pattern": {
              "fillmode": "overlay",
              "size": 10,
              "solidity": 0.2
             }
            },
            "type": "barpolar"
           }
          ],
          "carpet": [
           {
            "aaxis": {
             "endlinecolor": "#2a3f5f",
             "gridcolor": "white",
             "linecolor": "white",
             "minorgridcolor": "white",
             "startlinecolor": "#2a3f5f"
            },
            "baxis": {
             "endlinecolor": "#2a3f5f",
             "gridcolor": "white",
             "linecolor": "white",
             "minorgridcolor": "white",
             "startlinecolor": "#2a3f5f"
            },
            "type": "carpet"
           }
          ],
          "choropleth": [
           {
            "colorbar": {
             "outlinewidth": 0,
             "ticks": ""
            },
            "type": "choropleth"
           }
          ],
          "contour": [
           {
            "colorbar": {
             "outlinewidth": 0,
             "ticks": ""
            },
            "colorscale": [
             [
              0,
              "#0d0887"
             ],
             [
              0.1111111111111111,
              "#46039f"
             ],
             [
              0.2222222222222222,
              "#7201a8"
             ],
             [
              0.3333333333333333,
              "#9c179e"
             ],
             [
              0.4444444444444444,
              "#bd3786"
             ],
             [
              0.5555555555555556,
              "#d8576b"
             ],
             [
              0.6666666666666666,
              "#ed7953"
             ],
             [
              0.7777777777777778,
              "#fb9f3a"
             ],
             [
              0.8888888888888888,
              "#fdca26"
             ],
             [
              1,
              "#f0f921"
             ]
            ],
            "type": "contour"
           }
          ],
          "contourcarpet": [
           {
            "colorbar": {
             "outlinewidth": 0,
             "ticks": ""
            },
            "type": "contourcarpet"
           }
          ],
          "heatmap": [
           {
            "colorbar": {
             "outlinewidth": 0,
             "ticks": ""
            },
            "colorscale": [
             [
              0,
              "#0d0887"
             ],
             [
              0.1111111111111111,
              "#46039f"
             ],
             [
              0.2222222222222222,
              "#7201a8"
             ],
             [
              0.3333333333333333,
              "#9c179e"
             ],
             [
              0.4444444444444444,
              "#bd3786"
             ],
             [
              0.5555555555555556,
              "#d8576b"
             ],
             [
              0.6666666666666666,
              "#ed7953"
             ],
             [
              0.7777777777777778,
              "#fb9f3a"
             ],
             [
              0.8888888888888888,
              "#fdca26"
             ],
             [
              1,
              "#f0f921"
             ]
            ],
            "type": "heatmap"
           }
          ],
          "heatmapgl": [
           {
            "colorbar": {
             "outlinewidth": 0,
             "ticks": ""
            },
            "colorscale": [
             [
              0,
              "#0d0887"
             ],
             [
              0.1111111111111111,
              "#46039f"
             ],
             [
              0.2222222222222222,
              "#7201a8"
             ],
             [
              0.3333333333333333,
              "#9c179e"
             ],
             [
              0.4444444444444444,
              "#bd3786"
             ],
             [
              0.5555555555555556,
              "#d8576b"
             ],
             [
              0.6666666666666666,
              "#ed7953"
             ],
             [
              0.7777777777777778,
              "#fb9f3a"
             ],
             [
              0.8888888888888888,
              "#fdca26"
             ],
             [
              1,
              "#f0f921"
             ]
            ],
            "type": "heatmapgl"
           }
          ],
          "histogram": [
           {
            "marker": {
             "pattern": {
              "fillmode": "overlay",
              "size": 10,
              "solidity": 0.2
             }
            },
            "type": "histogram"
           }
          ],
          "histogram2d": [
           {
            "colorbar": {
             "outlinewidth": 0,
             "ticks": ""
            },
            "colorscale": [
             [
              0,
              "#0d0887"
             ],
             [
              0.1111111111111111,
              "#46039f"
             ],
             [
              0.2222222222222222,
              "#7201a8"
             ],
             [
              0.3333333333333333,
              "#9c179e"
             ],
             [
              0.4444444444444444,
              "#bd3786"
             ],
             [
              0.5555555555555556,
              "#d8576b"
             ],
             [
              0.6666666666666666,
              "#ed7953"
             ],
             [
              0.7777777777777778,
              "#fb9f3a"
             ],
             [
              0.8888888888888888,
              "#fdca26"
             ],
             [
              1,
              "#f0f921"
             ]
            ],
            "type": "histogram2d"
           }
          ],
          "histogram2dcontour": [
           {
            "colorbar": {
             "outlinewidth": 0,
             "ticks": ""
            },
            "colorscale": [
             [
              0,
              "#0d0887"
             ],
             [
              0.1111111111111111,
              "#46039f"
             ],
             [
              0.2222222222222222,
              "#7201a8"
             ],
             [
              0.3333333333333333,
              "#9c179e"
             ],
             [
              0.4444444444444444,
              "#bd3786"
             ],
             [
              0.5555555555555556,
              "#d8576b"
             ],
             [
              0.6666666666666666,
              "#ed7953"
             ],
             [
              0.7777777777777778,
              "#fb9f3a"
             ],
             [
              0.8888888888888888,
              "#fdca26"
             ],
             [
              1,
              "#f0f921"
             ]
            ],
            "type": "histogram2dcontour"
           }
          ],
          "mesh3d": [
           {
            "colorbar": {
             "outlinewidth": 0,
             "ticks": ""
            },
            "type": "mesh3d"
           }
          ],
          "parcoords": [
           {
            "line": {
             "colorbar": {
              "outlinewidth": 0,
              "ticks": ""
             }
            },
            "type": "parcoords"
           }
          ],
          "pie": [
           {
            "automargin": true,
            "type": "pie"
           }
          ],
          "scatter": [
           {
            "fillpattern": {
             "fillmode": "overlay",
             "size": 10,
             "solidity": 0.2
            },
            "type": "scatter"
           }
          ],
          "scatter3d": [
           {
            "line": {
             "colorbar": {
              "outlinewidth": 0,
              "ticks": ""
             }
            },
            "marker": {
             "colorbar": {
              "outlinewidth": 0,
              "ticks": ""
             }
            },
            "type": "scatter3d"
           }
          ],
          "scattercarpet": [
           {
            "marker": {
             "colorbar": {
              "outlinewidth": 0,
              "ticks": ""
             }
            },
            "type": "scattercarpet"
           }
          ],
          "scattergeo": [
           {
            "marker": {
             "colorbar": {
              "outlinewidth": 0,
              "ticks": ""
             }
            },
            "type": "scattergeo"
           }
          ],
          "scattergl": [
           {
            "marker": {
             "colorbar": {
              "outlinewidth": 0,
              "ticks": ""
             }
            },
            "type": "scattergl"
           }
          ],
          "scattermapbox": [
           {
            "marker": {
             "colorbar": {
              "outlinewidth": 0,
              "ticks": ""
             }
            },
            "type": "scattermapbox"
           }
          ],
          "scatterpolar": [
           {
            "marker": {
             "colorbar": {
              "outlinewidth": 0,
              "ticks": ""
             }
            },
            "type": "scatterpolar"
           }
          ],
          "scatterpolargl": [
           {
            "marker": {
             "colorbar": {
              "outlinewidth": 0,
              "ticks": ""
             }
            },
            "type": "scatterpolargl"
           }
          ],
          "scatterternary": [
           {
            "marker": {
             "colorbar": {
              "outlinewidth": 0,
              "ticks": ""
             }
            },
            "type": "scatterternary"
           }
          ],
          "surface": [
           {
            "colorbar": {
             "outlinewidth": 0,
             "ticks": ""
            },
            "colorscale": [
             [
              0,
              "#0d0887"
             ],
             [
              0.1111111111111111,
              "#46039f"
             ],
             [
              0.2222222222222222,
              "#7201a8"
             ],
             [
              0.3333333333333333,
              "#9c179e"
             ],
             [
              0.4444444444444444,
              "#bd3786"
             ],
             [
              0.5555555555555556,
              "#d8576b"
             ],
             [
              0.6666666666666666,
              "#ed7953"
             ],
             [
              0.7777777777777778,
              "#fb9f3a"
             ],
             [
              0.8888888888888888,
              "#fdca26"
             ],
             [
              1,
              "#f0f921"
             ]
            ],
            "type": "surface"
           }
          ],
          "table": [
           {
            "cells": {
             "fill": {
              "color": "#EBF0F8"
             },
             "line": {
              "color": "white"
             }
            },
            "header": {
             "fill": {
              "color": "#C8D4E3"
             },
             "line": {
              "color": "white"
             }
            },
            "type": "table"
           }
          ]
         },
         "layout": {
          "annotationdefaults": {
           "arrowcolor": "#2a3f5f",
           "arrowhead": 0,
           "arrowwidth": 1
          },
          "autotypenumbers": "strict",
          "coloraxis": {
           "colorbar": {
            "outlinewidth": 0,
            "ticks": ""
           }
          },
          "colorscale": {
           "diverging": [
            [
             0,
             "#8e0152"
            ],
            [
             0.1,
             "#c51b7d"
            ],
            [
             0.2,
             "#de77ae"
            ],
            [
             0.3,
             "#f1b6da"
            ],
            [
             0.4,
             "#fde0ef"
            ],
            [
             0.5,
             "#f7f7f7"
            ],
            [
             0.6,
             "#e6f5d0"
            ],
            [
             0.7,
             "#b8e186"
            ],
            [
             0.8,
             "#7fbc41"
            ],
            [
             0.9,
             "#4d9221"
            ],
            [
             1,
             "#276419"
            ]
           ],
           "sequential": [
            [
             0,
             "#0d0887"
            ],
            [
             0.1111111111111111,
             "#46039f"
            ],
            [
             0.2222222222222222,
             "#7201a8"
            ],
            [
             0.3333333333333333,
             "#9c179e"
            ],
            [
             0.4444444444444444,
             "#bd3786"
            ],
            [
             0.5555555555555556,
             "#d8576b"
            ],
            [
             0.6666666666666666,
             "#ed7953"
            ],
            [
             0.7777777777777778,
             "#fb9f3a"
            ],
            [
             0.8888888888888888,
             "#fdca26"
            ],
            [
             1,
             "#f0f921"
            ]
           ],
           "sequentialminus": [
            [
             0,
             "#0d0887"
            ],
            [
             0.1111111111111111,
             "#46039f"
            ],
            [
             0.2222222222222222,
             "#7201a8"
            ],
            [
             0.3333333333333333,
             "#9c179e"
            ],
            [
             0.4444444444444444,
             "#bd3786"
            ],
            [
             0.5555555555555556,
             "#d8576b"
            ],
            [
             0.6666666666666666,
             "#ed7953"
            ],
            [
             0.7777777777777778,
             "#fb9f3a"
            ],
            [
             0.8888888888888888,
             "#fdca26"
            ],
            [
             1,
             "#f0f921"
            ]
           ]
          },
          "colorway": [
           "#636efa",
           "#EF553B",
           "#00cc96",
           "#ab63fa",
           "#FFA15A",
           "#19d3f3",
           "#FF6692",
           "#B6E880",
           "#FF97FF",
           "#FECB52"
          ],
          "font": {
           "color": "#2a3f5f"
          },
          "geo": {
           "bgcolor": "white",
           "lakecolor": "white",
           "landcolor": "#E5ECF6",
           "showlakes": true,
           "showland": true,
           "subunitcolor": "white"
          },
          "hoverlabel": {
           "align": "left"
          },
          "hovermode": "closest",
          "mapbox": {
           "style": "light"
          },
          "paper_bgcolor": "white",
          "plot_bgcolor": "#E5ECF6",
          "polar": {
           "angularaxis": {
            "gridcolor": "white",
            "linecolor": "white",
            "ticks": ""
           },
           "bgcolor": "#E5ECF6",
           "radialaxis": {
            "gridcolor": "white",
            "linecolor": "white",
            "ticks": ""
           }
          },
          "scene": {
           "xaxis": {
            "backgroundcolor": "#E5ECF6",
            "gridcolor": "white",
            "gridwidth": 2,
            "linecolor": "white",
            "showbackground": true,
            "ticks": "",
            "zerolinecolor": "white"
           },
           "yaxis": {
            "backgroundcolor": "#E5ECF6",
            "gridcolor": "white",
            "gridwidth": 2,
            "linecolor": "white",
            "showbackground": true,
            "ticks": "",
            "zerolinecolor": "white"
           },
           "zaxis": {
            "backgroundcolor": "#E5ECF6",
            "gridcolor": "white",
            "gridwidth": 2,
            "linecolor": "white",
            "showbackground": true,
            "ticks": "",
            "zerolinecolor": "white"
           }
          },
          "shapedefaults": {
           "line": {
            "color": "#2a3f5f"
           }
          },
          "ternary": {
           "aaxis": {
            "gridcolor": "white",
            "linecolor": "white",
            "ticks": ""
           },
           "baxis": {
            "gridcolor": "white",
            "linecolor": "white",
            "ticks": ""
           },
           "bgcolor": "#E5ECF6",
           "caxis": {
            "gridcolor": "white",
            "linecolor": "white",
            "ticks": ""
           }
          },
          "title": {
           "x": 0.05
          },
          "xaxis": {
           "automargin": true,
           "gridcolor": "white",
           "linecolor": "white",
           "ticks": "",
           "title": {
            "standoff": 15
           },
           "zerolinecolor": "white",
           "zerolinewidth": 2
          },
          "yaxis": {
           "automargin": true,
           "gridcolor": "white",
           "linecolor": "white",
           "ticks": "",
           "title": {
            "standoff": 15
           },
           "zerolinecolor": "white",
           "zerolinewidth": 2
          }
         }
        }
       }
      },
      "text/html": [
       "<div>                            <div id=\"a1fc445c-3d73-42ea-93f1-3b88a766e7e1\" class=\"plotly-graph-div\" style=\"height:525px; width:100%;\"></div>            <script type=\"text/javascript\">                require([\"plotly\"], function(Plotly) {                    window.PLOTLYENV=window.PLOTLYENV || {};                                    if (document.getElementById(\"a1fc445c-3d73-42ea-93f1-3b88a766e7e1\")) {                    Plotly.newPlot(                        \"a1fc445c-3d73-42ea-93f1-3b88a766e7e1\",                        [{\"hovertemplate\":\"predict_period=%{x}<br>lookback_period=%{marker.color}<br>corr=%{z}<extra></extra>\",\"legendgroup\":\"\",\"marker\":{\"color\":[500.0,1000.0,1500.0,2000.0,2500.0,3000.0,3500.0,4000.0,4500.0,5000.0,5500.0,6000.0,6500.0,7000.0,7500.0,8000.0,8500.0,9000.0,9500.0,500.0,1000.0,1500.0,2000.0,2500.0,3000.0,3500.0,4000.0,4500.0,5000.0,5500.0,6000.0,6500.0,7000.0,7500.0,8000.0,8500.0,9000.0,9500.0,500.0,1000.0,1500.0,2000.0,2500.0,3000.0,3500.0,4000.0,4500.0,5000.0,5500.0,6000.0,6500.0,7000.0,7500.0,8000.0,8500.0,9000.0,9500.0,500.0,1000.0,1500.0,2000.0,2500.0,3000.0,3500.0,4000.0,4500.0,5000.0,5500.0,6000.0,6500.0,7000.0,7500.0,8000.0,8500.0,9000.0,9500.0,500.0,1000.0,1500.0,2000.0,2500.0,3000.0,3500.0,4000.0,4500.0,5000.0,5500.0,6000.0,6500.0,7000.0,7500.0,8000.0,8500.0,9000.0,9500.0,500.0,1000.0,1500.0,2000.0,2500.0,3000.0,3500.0,4000.0,4500.0,5000.0,5500.0,6000.0,6500.0,7000.0,7500.0,8000.0,8500.0,9000.0,9500.0,500.0,1000.0,1500.0,2000.0,2500.0,3000.0,3500.0,4000.0,4500.0,5000.0,5500.0,6000.0,6500.0,7000.0,7500.0,8000.0,8500.0,9000.0,9500.0,500.0,1000.0,1500.0,2000.0,2500.0,3000.0,3500.0,4000.0,4500.0,5000.0,5500.0,6000.0,6500.0,7000.0,7500.0,8000.0,8500.0,9000.0,9500.0,500.0,1000.0,1500.0,2000.0,2500.0,3000.0,3500.0,4000.0,4500.0,5000.0,5500.0,6000.0,6500.0,7000.0,7500.0,8000.0,8500.0,9000.0,9500.0,500.0,1000.0,1500.0,2000.0,2500.0,3000.0,3500.0,4000.0,4500.0,5000.0,5500.0,6000.0,6500.0,7000.0,7500.0,8000.0,8500.0,9000.0,9500.0,500.0,1000.0,1500.0,2000.0,2500.0,3000.0,3500.0,4000.0,4500.0,5000.0,5500.0,6000.0,6500.0,7000.0,7500.0,8000.0,8500.0,9000.0,9500.0,500.0,1000.0,1500.0,2000.0,2500.0,3000.0,3500.0,4000.0,4500.0,5000.0,5500.0,6000.0,6500.0,7000.0,7500.0,8000.0,8500.0,9000.0,9500.0,500.0,1000.0,1500.0,2000.0,2500.0,3000.0,3500.0,4000.0,4500.0,5000.0,5500.0,6000.0,6500.0,7000.0,7500.0,8000.0,8500.0,9000.0,9500.0,500.0,1000.0,1500.0,2000.0,2500.0,3000.0,3500.0,4000.0,4500.0,5000.0,5500.0,6000.0,6500.0,7000.0,7500.0,8000.0,8500.0,9000.0,9500.0,500.0,1000.0,1500.0,2000.0,2500.0,3000.0,3500.0,4000.0,4500.0,5000.0,5500.0,6000.0,6500.0,7000.0,7500.0,8000.0,8500.0,9000.0,9500.0,500.0,1000.0,1500.0,2000.0,2500.0,3000.0,3500.0,4000.0,4500.0,5000.0,5500.0,6000.0,6500.0,7000.0,7500.0,8000.0,8500.0,9000.0,9500.0,500.0,1000.0,1500.0,2000.0,2500.0,3000.0,3500.0,4000.0,4500.0,5000.0,5500.0,6000.0,6500.0,7000.0,7500.0,8000.0,8500.0,9000.0,9500.0,500.0,1000.0,1500.0,2000.0,2500.0,3000.0,3500.0,4000.0,4500.0,5000.0,5500.0,6000.0,6500.0,7000.0,7500.0,8000.0,8500.0,9000.0,9500.0,500.0,1000.0,1500.0,2000.0,2500.0,3000.0,3500.0,4000.0,4500.0,5000.0,5500.0,6000.0,6500.0,7000.0,7500.0,8000.0,8500.0,9000.0,9500.0],\"coloraxis\":\"coloraxis\",\"symbol\":\"circle\"},\"mode\":\"markers\",\"name\":\"\",\"scene\":\"scene\",\"showlegend\":false,\"x\":[500.0,500.0,500.0,500.0,500.0,500.0,500.0,500.0,500.0,500.0,500.0,500.0,500.0,500.0,500.0,500.0,500.0,500.0,500.0,1000.0,1000.0,1000.0,1000.0,1000.0,1000.0,1000.0,1000.0,1000.0,1000.0,1000.0,1000.0,1000.0,1000.0,1000.0,1000.0,1000.0,1000.0,1000.0,1500.0,1500.0,1500.0,1500.0,1500.0,1500.0,1500.0,1500.0,1500.0,1500.0,1500.0,1500.0,1500.0,1500.0,1500.0,1500.0,1500.0,1500.0,1500.0,2000.0,2000.0,2000.0,2000.0,2000.0,2000.0,2000.0,2000.0,2000.0,2000.0,2000.0,2000.0,2000.0,2000.0,2000.0,2000.0,2000.0,2000.0,2000.0,2500.0,2500.0,2500.0,2500.0,2500.0,2500.0,2500.0,2500.0,2500.0,2500.0,2500.0,2500.0,2500.0,2500.0,2500.0,2500.0,2500.0,2500.0,2500.0,3000.0,3000.0,3000.0,3000.0,3000.0,3000.0,3000.0,3000.0,3000.0,3000.0,3000.0,3000.0,3000.0,3000.0,3000.0,3000.0,3000.0,3000.0,3000.0,3500.0,3500.0,3500.0,3500.0,3500.0,3500.0,3500.0,3500.0,3500.0,3500.0,3500.0,3500.0,3500.0,3500.0,3500.0,3500.0,3500.0,3500.0,3500.0,4000.0,4000.0,4000.0,4000.0,4000.0,4000.0,4000.0,4000.0,4000.0,4000.0,4000.0,4000.0,4000.0,4000.0,4000.0,4000.0,4000.0,4000.0,4000.0,4500.0,4500.0,4500.0,4500.0,4500.0,4500.0,4500.0,4500.0,4500.0,4500.0,4500.0,4500.0,4500.0,4500.0,4500.0,4500.0,4500.0,4500.0,4500.0,5000.0,5000.0,5000.0,5000.0,5000.0,5000.0,5000.0,5000.0,5000.0,5000.0,5000.0,5000.0,5000.0,5000.0,5000.0,5000.0,5000.0,5000.0,5000.0,5500.0,5500.0,5500.0,5500.0,5500.0,5500.0,5500.0,5500.0,5500.0,5500.0,5500.0,5500.0,5500.0,5500.0,5500.0,5500.0,5500.0,5500.0,5500.0,6000.0,6000.0,6000.0,6000.0,6000.0,6000.0,6000.0,6000.0,6000.0,6000.0,6000.0,6000.0,6000.0,6000.0,6000.0,6000.0,6000.0,6000.0,6000.0,6500.0,6500.0,6500.0,6500.0,6500.0,6500.0,6500.0,6500.0,6500.0,6500.0,6500.0,6500.0,6500.0,6500.0,6500.0,6500.0,6500.0,6500.0,6500.0,7000.0,7000.0,7000.0,7000.0,7000.0,7000.0,7000.0,7000.0,7000.0,7000.0,7000.0,7000.0,7000.0,7000.0,7000.0,7000.0,7000.0,7000.0,7000.0,7500.0,7500.0,7500.0,7500.0,7500.0,7500.0,7500.0,7500.0,7500.0,7500.0,7500.0,7500.0,7500.0,7500.0,7500.0,7500.0,7500.0,7500.0,7500.0,8000.0,8000.0,8000.0,8000.0,8000.0,8000.0,8000.0,8000.0,8000.0,8000.0,8000.0,8000.0,8000.0,8000.0,8000.0,8000.0,8000.0,8000.0,8000.0,8500.0,8500.0,8500.0,8500.0,8500.0,8500.0,8500.0,8500.0,8500.0,8500.0,8500.0,8500.0,8500.0,8500.0,8500.0,8500.0,8500.0,8500.0,8500.0,9000.0,9000.0,9000.0,9000.0,9000.0,9000.0,9000.0,9000.0,9000.0,9000.0,9000.0,9000.0,9000.0,9000.0,9000.0,9000.0,9000.0,9000.0,9000.0,9500.0,9500.0,9500.0,9500.0,9500.0,9500.0,9500.0,9500.0,9500.0,9500.0,9500.0,9500.0,9500.0,9500.0,9500.0,9500.0,9500.0,9500.0,9500.0],\"y\":[500.0,1000.0,1500.0,2000.0,2500.0,3000.0,3500.0,4000.0,4500.0,5000.0,5500.0,6000.0,6500.0,7000.0,7500.0,8000.0,8500.0,9000.0,9500.0,500.0,1000.0,1500.0,2000.0,2500.0,3000.0,3500.0,4000.0,4500.0,5000.0,5500.0,6000.0,6500.0,7000.0,7500.0,8000.0,8500.0,9000.0,9500.0,500.0,1000.0,1500.0,2000.0,2500.0,3000.0,3500.0,4000.0,4500.0,5000.0,5500.0,6000.0,6500.0,7000.0,7500.0,8000.0,8500.0,9000.0,9500.0,500.0,1000.0,1500.0,2000.0,2500.0,3000.0,3500.0,4000.0,4500.0,5000.0,5500.0,6000.0,6500.0,7000.0,7500.0,8000.0,8500.0,9000.0,9500.0,500.0,1000.0,1500.0,2000.0,2500.0,3000.0,3500.0,4000.0,4500.0,5000.0,5500.0,6000.0,6500.0,7000.0,7500.0,8000.0,8500.0,9000.0,9500.0,500.0,1000.0,1500.0,2000.0,2500.0,3000.0,3500.0,4000.0,4500.0,5000.0,5500.0,6000.0,6500.0,7000.0,7500.0,8000.0,8500.0,9000.0,9500.0,500.0,1000.0,1500.0,2000.0,2500.0,3000.0,3500.0,4000.0,4500.0,5000.0,5500.0,6000.0,6500.0,7000.0,7500.0,8000.0,8500.0,9000.0,9500.0,500.0,1000.0,1500.0,2000.0,2500.0,3000.0,3500.0,4000.0,4500.0,5000.0,5500.0,6000.0,6500.0,7000.0,7500.0,8000.0,8500.0,9000.0,9500.0,500.0,1000.0,1500.0,2000.0,2500.0,3000.0,3500.0,4000.0,4500.0,5000.0,5500.0,6000.0,6500.0,7000.0,7500.0,8000.0,8500.0,9000.0,9500.0,500.0,1000.0,1500.0,2000.0,2500.0,3000.0,3500.0,4000.0,4500.0,5000.0,5500.0,6000.0,6500.0,7000.0,7500.0,8000.0,8500.0,9000.0,9500.0,500.0,1000.0,1500.0,2000.0,2500.0,3000.0,3500.0,4000.0,4500.0,5000.0,5500.0,6000.0,6500.0,7000.0,7500.0,8000.0,8500.0,9000.0,9500.0,500.0,1000.0,1500.0,2000.0,2500.0,3000.0,3500.0,4000.0,4500.0,5000.0,5500.0,6000.0,6500.0,7000.0,7500.0,8000.0,8500.0,9000.0,9500.0,500.0,1000.0,1500.0,2000.0,2500.0,3000.0,3500.0,4000.0,4500.0,5000.0,5500.0,6000.0,6500.0,7000.0,7500.0,8000.0,8500.0,9000.0,9500.0,500.0,1000.0,1500.0,2000.0,2500.0,3000.0,3500.0,4000.0,4500.0,5000.0,5500.0,6000.0,6500.0,7000.0,7500.0,8000.0,8500.0,9000.0,9500.0,500.0,1000.0,1500.0,2000.0,2500.0,3000.0,3500.0,4000.0,4500.0,5000.0,5500.0,6000.0,6500.0,7000.0,7500.0,8000.0,8500.0,9000.0,9500.0,500.0,1000.0,1500.0,2000.0,2500.0,3000.0,3500.0,4000.0,4500.0,5000.0,5500.0,6000.0,6500.0,7000.0,7500.0,8000.0,8500.0,9000.0,9500.0,500.0,1000.0,1500.0,2000.0,2500.0,3000.0,3500.0,4000.0,4500.0,5000.0,5500.0,6000.0,6500.0,7000.0,7500.0,8000.0,8500.0,9000.0,9500.0,500.0,1000.0,1500.0,2000.0,2500.0,3000.0,3500.0,4000.0,4500.0,5000.0,5500.0,6000.0,6500.0,7000.0,7500.0,8000.0,8500.0,9000.0,9500.0,500.0,1000.0,1500.0,2000.0,2500.0,3000.0,3500.0,4000.0,4500.0,5000.0,5500.0,6000.0,6500.0,7000.0,7500.0,8000.0,8500.0,9000.0,9500.0],\"z\":[0.05089938118559696,0.0655295920962409,0.21596707823829558,0.3568642277838838,0.3531262797076834,0.09160356894109203,-0.01769251825216109,0.08413585202370616,0.14477764771795051,0.06449876805292236,0.14871792336768327,0.10238612036517912,0.1338551096451177,0.18268694846960226,0.24981050601874033,-0.005115663343919015,0.15809085154355626,0.12943414678817708,0.06970510691808773,0.031142603757272434,0.29097672135255603,0.3932929187070804,0.3772401348278111,0.004723042186414089,0.042782191090714045,0.03060988100956027,0.10041213898296422,0.08036944886520288,0.1207822202358959,0.15672353951774376,0.27579259055971983,0.18459886484483068,0.21777678708238385,0.12312137862846995,0.15021820124373728,0.14304408134088573,0.18786846787045314,0.15932218146039978,0.03906304125744585,0.548190043460147,0.4635358593082812,-0.1522608305524546,-0.2278935261108391,-0.06856883595865561,0.05384607868425403,0.029514484592017214,0.13929660214289627,0.0699070385401568,0.2029926849241044,0.3460128300202196,0.37553419743345395,-0.0799852315019476,0.02762057796012303,0.044075362512401295,0.17596726941194638,0.12915804256544966,0.14866895693715096,0.325038032454979,0.327782398554825,0.14883604188400504,0.02855464375401221,0.011155063667193219,0.12833654501630293,0.021891424633566508,0.0916387340630311,0.12969501461811422,0.1377835924124385,0.12096573480930649,0.22097759436757658,0.10165622881033712,0.041657564305678026,0.024144899640170785,0.17623174443358183,0.15315138492768865,0.17528484619387186,0.24050392743922155,0.20269567130109142,0.20146701860308552,0.31310282772330383,0.21145111052077106,0.2035996689440483,0.06237858921454496,0.053312890755643376,0.0004030067034314255,0.09651170197904134,0.06717093519205482,0.14369737863292747,0.14748407475754666,0.15171634172790147,0.05371330808888964,0.0837574613253744,0.0605160804926348,0.14591386947360896,0.21257960347170585,0.11101299208381425,0.1920773051970916,0.2433099388068476,0.2867984377715281,0.22847656577188438,0.13820560378951505,0.09550618794625218,-0.05390515948622581,0.05259520137384425,0.04444729034690741,0.1062382894151934,0.16973225547013762,0.15155472019651978,0.1068020122379563,0.03252402608099453,-0.010359901877766356,0.07350840091289602,0.09748822424555786,0.1387132518584476,0.14677496076979313,0.047817940624629886,0.17717750917476227,0.26020785523715106,0.1549215101894192,0.14021783184916892,0.001470110895451577,0.41747442807573054,0.27764325363550424,0.22315771685880012,0.13071516999390587,0.14177282485992657,0.15481288947236727,0.05480083858706131,-0.05475976555188218,-0.018079020574543088,-0.05172258418826775,0.25634706578239475,0.22864748733318932,0.1682209861756743,0.19072012645658187,0.28205061736544196,0.2685204647538806,0.23696498411842068,0.19927188858871067,0.22572646982838124,0.19615938517483783,0.21560602673132145,0.22620551568298758,0.16680664314736193,0.139127019731866,0.14216428035062767,0.07673396094448699,0.048364738953198386,0.012484578316512604,0.1280863341408983,0.245418754948416,0.15378802992385082,0.16084225559733617,0.10870868366280519,0.2666914963427582,0.25431195330071954,0.2194327713592828,0.15133046774250186,0.05954478009140306,0.15700958028590847,0.0896478482393347,0.1480361294955495,0.1243402877880572,0.11206742700822311,0.13544878078517633,0.1314464476638215,0.12249369801824223,0.07862047493552328,0.07000137068188121,0.15481540853079656,0.13405214867103182,0.14388437251242453,0.0630773882703944,0.22487098670745923,0.2170612032606515,0.17059379871637506,0.03447210990062898,0.05285919483230712,0.025788018808040276,0.025238093397890824,0.11135834014503118,0.08833582750718749,0.09662946506151042,0.1629248099266562,0.1724712698200845,0.10838534658901491,0.08743733148034767,0.08364091882067191,0.10319642914588133,0.1006406767726327,0.11978057499499505,0.17908139693202715,0.26571213660679577,0.3216702325204215,0.19949867916214958,0.08050702703570353,0.079167878661504,0.07610626851647201,0.11425077702813054,0.13838812835424816,0.12147285657707599,0.11139154443387701,0.21406931192682196,0.18851819139948509,0.09073526085598531,0.09620761920384903,0.06692390000166172,0.11095772960332968,0.13267500516044045,0.12646683047175306,0.1591538780596734,0.32418069877054645,0.24471880511585933,0.14659211197012023,-0.027497992505713987,0.12816677249152156,0.10290688398217596,0.13968148746352554,0.1352329416791679,0.10010280158732106,0.17163850208199516,0.2452696559781051,0.1959435716423059,0.12353678342246559,0.12050291304249817,0.09172213806065266,0.1491758886817954,0.1310115016484823,0.1015701450834887,0.11929538801842794,0.33343347811533897,0.2973256126733024,-0.06852952407029728,-0.08097447446360952,0.04073064296291992,0.0993077347349793,0.014939767497951862,0.09478092522495041,0.09613633598661636,0.14408904459851246,0.18335156133625188,0.28722759018962885,-0.06434421828558569,0.02534049938621111,0.07375430028306866,0.10747313960287608,0.08019811585608891,0.10802075464839797,0.19107676249503516,0.1881023302822009,-0.02757956556651347,0.017508035975654503,-0.009327427712186821,0.1322122129334347,0.07172487710041842,0.14373584286288177,0.17837189625972502,0.14132741389708012,0.18143560287066937,0.19099202401494403,0.1126338166546972,0.08552966304043466,0.04320117861070984,0.14962986121658095,0.07138052173815096,0.1434400205948181,0.13508325951725295,0.07918137962101456,-0.019453289226735674,-0.05040836522905828,-0.015153928848108483,0.007485383817558961,0.04126937583196657,0.06023006848149465,0.09457462674683127,0.14779754075014556,0.0712618083240885,0.15201302976789008,0.12342197477157331,0.027550593552738353,0.0306564918579138,0.04461737385414418,0.07465887589892281,0.04183306332587407,0.07579382733769137,0.11299845357653272,-0.021761079910651685,0.008875093963766376,0.06946586110696355,0.0592745632310437,0.01546065397206743,0.05081039201645578,0.07769973015788789,0.09203554187045468,0.10304052192866756,0.08450745951769367,0.073549583325924,0.06545895028089445,0.04956504937246706,0.009549074757625085,0.010729247757354274,-0.013331155723468097,-0.0022803223406904598,0.06436084540354063,0.027025348082186713,0.013792455583844933,0.04825399658941281,0.10659809936953592,0.0770069421763486,-0.04202219002726747,-0.018815842053221024,0.22235133580879365,0.21130020200470143,0.20550665135134055,0.11573107186948345,0.1010927382332929,0.08502314018252194,0.06501964286067685,-0.008965192304141029,-0.07839299966724393,-0.04903705739697247,0.19167815303565972,0.10164644107051736,0.08664141117514226,0.0572833271394288,0.0976467815748683,0.0831386007888395,0.07582712181720982,0.043157145679694704,0.04172403904697631,0.17670069298773833,0.15263701948310096,0.16197146655929692,0.08148998198393004,0.07296200925827138,0.05794862810260321,0.01914018402699729,-0.03710873019370461,-0.018278624930237075,0.023788395086000447,0.14835113673085726,0.051848125697153996,0.06249057744273712,0.05092453610819919,0.08992535533629048,0.09111212127609764,0.09199810433919867,0.04726991957087088,0.04199264557781198,0.12175345710054536,0.037293518218352834,0.08773171453368518,0.07296105381726004,0.0026419011459003845,0.03961883176358991,-0.0013130453613020739,-0.02633154815433519,0.012753227931017387,0.022339975333993442,0.07361657210120366,0.045269470180576143,0.029765992193516413],\"type\":\"scatter3d\"}],                        {\"template\":{\"data\":{\"histogram2dcontour\":[{\"type\":\"histogram2dcontour\",\"colorbar\":{\"outlinewidth\":0,\"ticks\":\"\"},\"colorscale\":[[0.0,\"#0d0887\"],[0.1111111111111111,\"#46039f\"],[0.2222222222222222,\"#7201a8\"],[0.3333333333333333,\"#9c179e\"],[0.4444444444444444,\"#bd3786\"],[0.5555555555555556,\"#d8576b\"],[0.6666666666666666,\"#ed7953\"],[0.7777777777777778,\"#fb9f3a\"],[0.8888888888888888,\"#fdca26\"],[1.0,\"#f0f921\"]]}],\"choropleth\":[{\"type\":\"choropleth\",\"colorbar\":{\"outlinewidth\":0,\"ticks\":\"\"}}],\"histogram2d\":[{\"type\":\"histogram2d\",\"colorbar\":{\"outlinewidth\":0,\"ticks\":\"\"},\"colorscale\":[[0.0,\"#0d0887\"],[0.1111111111111111,\"#46039f\"],[0.2222222222222222,\"#7201a8\"],[0.3333333333333333,\"#9c179e\"],[0.4444444444444444,\"#bd3786\"],[0.5555555555555556,\"#d8576b\"],[0.6666666666666666,\"#ed7953\"],[0.7777777777777778,\"#fb9f3a\"],[0.8888888888888888,\"#fdca26\"],[1.0,\"#f0f921\"]]}],\"heatmap\":[{\"type\":\"heatmap\",\"colorbar\":{\"outlinewidth\":0,\"ticks\":\"\"},\"colorscale\":[[0.0,\"#0d0887\"],[0.1111111111111111,\"#46039f\"],[0.2222222222222222,\"#7201a8\"],[0.3333333333333333,\"#9c179e\"],[0.4444444444444444,\"#bd3786\"],[0.5555555555555556,\"#d8576b\"],[0.6666666666666666,\"#ed7953\"],[0.7777777777777778,\"#fb9f3a\"],[0.8888888888888888,\"#fdca26\"],[1.0,\"#f0f921\"]]}],\"heatmapgl\":[{\"type\":\"heatmapgl\",\"colorbar\":{\"outlinewidth\":0,\"ticks\":\"\"},\"colorscale\":[[0.0,\"#0d0887\"],[0.1111111111111111,\"#46039f\"],[0.2222222222222222,\"#7201a8\"],[0.3333333333333333,\"#9c179e\"],[0.4444444444444444,\"#bd3786\"],[0.5555555555555556,\"#d8576b\"],[0.6666666666666666,\"#ed7953\"],[0.7777777777777778,\"#fb9f3a\"],[0.8888888888888888,\"#fdca26\"],[1.0,\"#f0f921\"]]}],\"contourcarpet\":[{\"type\":\"contourcarpet\",\"colorbar\":{\"outlinewidth\":0,\"ticks\":\"\"}}],\"contour\":[{\"type\":\"contour\",\"colorbar\":{\"outlinewidth\":0,\"ticks\":\"\"},\"colorscale\":[[0.0,\"#0d0887\"],[0.1111111111111111,\"#46039f\"],[0.2222222222222222,\"#7201a8\"],[0.3333333333333333,\"#9c179e\"],[0.4444444444444444,\"#bd3786\"],[0.5555555555555556,\"#d8576b\"],[0.6666666666666666,\"#ed7953\"],[0.7777777777777778,\"#fb9f3a\"],[0.8888888888888888,\"#fdca26\"],[1.0,\"#f0f921\"]]}],\"surface\":[{\"type\":\"surface\",\"colorbar\":{\"outlinewidth\":0,\"ticks\":\"\"},\"colorscale\":[[0.0,\"#0d0887\"],[0.1111111111111111,\"#46039f\"],[0.2222222222222222,\"#7201a8\"],[0.3333333333333333,\"#9c179e\"],[0.4444444444444444,\"#bd3786\"],[0.5555555555555556,\"#d8576b\"],[0.6666666666666666,\"#ed7953\"],[0.7777777777777778,\"#fb9f3a\"],[0.8888888888888888,\"#fdca26\"],[1.0,\"#f0f921\"]]}],\"mesh3d\":[{\"type\":\"mesh3d\",\"colorbar\":{\"outlinewidth\":0,\"ticks\":\"\"}}],\"scatter\":[{\"fillpattern\":{\"fillmode\":\"overlay\",\"size\":10,\"solidity\":0.2},\"type\":\"scatter\"}],\"parcoords\":[{\"type\":\"parcoords\",\"line\":{\"colorbar\":{\"outlinewidth\":0,\"ticks\":\"\"}}}],\"scatterpolargl\":[{\"type\":\"scatterpolargl\",\"marker\":{\"colorbar\":{\"outlinewidth\":0,\"ticks\":\"\"}}}],\"bar\":[{\"error_x\":{\"color\":\"#2a3f5f\"},\"error_y\":{\"color\":\"#2a3f5f\"},\"marker\":{\"line\":{\"color\":\"#E5ECF6\",\"width\":0.5},\"pattern\":{\"fillmode\":\"overlay\",\"size\":10,\"solidity\":0.2}},\"type\":\"bar\"}],\"scattergeo\":[{\"type\":\"scattergeo\",\"marker\":{\"colorbar\":{\"outlinewidth\":0,\"ticks\":\"\"}}}],\"scatterpolar\":[{\"type\":\"scatterpolar\",\"marker\":{\"colorbar\":{\"outlinewidth\":0,\"ticks\":\"\"}}}],\"histogram\":[{\"marker\":{\"pattern\":{\"fillmode\":\"overlay\",\"size\":10,\"solidity\":0.2}},\"type\":\"histogram\"}],\"scattergl\":[{\"type\":\"scattergl\",\"marker\":{\"colorbar\":{\"outlinewidth\":0,\"ticks\":\"\"}}}],\"scatter3d\":[{\"type\":\"scatter3d\",\"line\":{\"colorbar\":{\"outlinewidth\":0,\"ticks\":\"\"}},\"marker\":{\"colorbar\":{\"outlinewidth\":0,\"ticks\":\"\"}}}],\"scattermapbox\":[{\"type\":\"scattermapbox\",\"marker\":{\"colorbar\":{\"outlinewidth\":0,\"ticks\":\"\"}}}],\"scatterternary\":[{\"type\":\"scatterternary\",\"marker\":{\"colorbar\":{\"outlinewidth\":0,\"ticks\":\"\"}}}],\"scattercarpet\":[{\"type\":\"scattercarpet\",\"marker\":{\"colorbar\":{\"outlinewidth\":0,\"ticks\":\"\"}}}],\"carpet\":[{\"aaxis\":{\"endlinecolor\":\"#2a3f5f\",\"gridcolor\":\"white\",\"linecolor\":\"white\",\"minorgridcolor\":\"white\",\"startlinecolor\":\"#2a3f5f\"},\"baxis\":{\"endlinecolor\":\"#2a3f5f\",\"gridcolor\":\"white\",\"linecolor\":\"white\",\"minorgridcolor\":\"white\",\"startlinecolor\":\"#2a3f5f\"},\"type\":\"carpet\"}],\"table\":[{\"cells\":{\"fill\":{\"color\":\"#EBF0F8\"},\"line\":{\"color\":\"white\"}},\"header\":{\"fill\":{\"color\":\"#C8D4E3\"},\"line\":{\"color\":\"white\"}},\"type\":\"table\"}],\"barpolar\":[{\"marker\":{\"line\":{\"color\":\"#E5ECF6\",\"width\":0.5},\"pattern\":{\"fillmode\":\"overlay\",\"size\":10,\"solidity\":0.2}},\"type\":\"barpolar\"}],\"pie\":[{\"automargin\":true,\"type\":\"pie\"}]},\"layout\":{\"autotypenumbers\":\"strict\",\"colorway\":[\"#636efa\",\"#EF553B\",\"#00cc96\",\"#ab63fa\",\"#FFA15A\",\"#19d3f3\",\"#FF6692\",\"#B6E880\",\"#FF97FF\",\"#FECB52\"],\"font\":{\"color\":\"#2a3f5f\"},\"hovermode\":\"closest\",\"hoverlabel\":{\"align\":\"left\"},\"paper_bgcolor\":\"white\",\"plot_bgcolor\":\"#E5ECF6\",\"polar\":{\"bgcolor\":\"#E5ECF6\",\"angularaxis\":{\"gridcolor\":\"white\",\"linecolor\":\"white\",\"ticks\":\"\"},\"radialaxis\":{\"gridcolor\":\"white\",\"linecolor\":\"white\",\"ticks\":\"\"}},\"ternary\":{\"bgcolor\":\"#E5ECF6\",\"aaxis\":{\"gridcolor\":\"white\",\"linecolor\":\"white\",\"ticks\":\"\"},\"baxis\":{\"gridcolor\":\"white\",\"linecolor\":\"white\",\"ticks\":\"\"},\"caxis\":{\"gridcolor\":\"white\",\"linecolor\":\"white\",\"ticks\":\"\"}},\"coloraxis\":{\"colorbar\":{\"outlinewidth\":0,\"ticks\":\"\"}},\"colorscale\":{\"sequential\":[[0.0,\"#0d0887\"],[0.1111111111111111,\"#46039f\"],[0.2222222222222222,\"#7201a8\"],[0.3333333333333333,\"#9c179e\"],[0.4444444444444444,\"#bd3786\"],[0.5555555555555556,\"#d8576b\"],[0.6666666666666666,\"#ed7953\"],[0.7777777777777778,\"#fb9f3a\"],[0.8888888888888888,\"#fdca26\"],[1.0,\"#f0f921\"]],\"sequentialminus\":[[0.0,\"#0d0887\"],[0.1111111111111111,\"#46039f\"],[0.2222222222222222,\"#7201a8\"],[0.3333333333333333,\"#9c179e\"],[0.4444444444444444,\"#bd3786\"],[0.5555555555555556,\"#d8576b\"],[0.6666666666666666,\"#ed7953\"],[0.7777777777777778,\"#fb9f3a\"],[0.8888888888888888,\"#fdca26\"],[1.0,\"#f0f921\"]],\"diverging\":[[0,\"#8e0152\"],[0.1,\"#c51b7d\"],[0.2,\"#de77ae\"],[0.3,\"#f1b6da\"],[0.4,\"#fde0ef\"],[0.5,\"#f7f7f7\"],[0.6,\"#e6f5d0\"],[0.7,\"#b8e186\"],[0.8,\"#7fbc41\"],[0.9,\"#4d9221\"],[1,\"#276419\"]]},\"xaxis\":{\"gridcolor\":\"white\",\"linecolor\":\"white\",\"ticks\":\"\",\"title\":{\"standoff\":15},\"zerolinecolor\":\"white\",\"automargin\":true,\"zerolinewidth\":2},\"yaxis\":{\"gridcolor\":\"white\",\"linecolor\":\"white\",\"ticks\":\"\",\"title\":{\"standoff\":15},\"zerolinecolor\":\"white\",\"automargin\":true,\"zerolinewidth\":2},\"scene\":{\"xaxis\":{\"backgroundcolor\":\"#E5ECF6\",\"gridcolor\":\"white\",\"linecolor\":\"white\",\"showbackground\":true,\"ticks\":\"\",\"zerolinecolor\":\"white\",\"gridwidth\":2},\"yaxis\":{\"backgroundcolor\":\"#E5ECF6\",\"gridcolor\":\"white\",\"linecolor\":\"white\",\"showbackground\":true,\"ticks\":\"\",\"zerolinecolor\":\"white\",\"gridwidth\":2},\"zaxis\":{\"backgroundcolor\":\"#E5ECF6\",\"gridcolor\":\"white\",\"linecolor\":\"white\",\"showbackground\":true,\"ticks\":\"\",\"zerolinecolor\":\"white\",\"gridwidth\":2}},\"shapedefaults\":{\"line\":{\"color\":\"#2a3f5f\"}},\"annotationdefaults\":{\"arrowcolor\":\"#2a3f5f\",\"arrowhead\":0,\"arrowwidth\":1},\"geo\":{\"bgcolor\":\"white\",\"landcolor\":\"#E5ECF6\",\"subunitcolor\":\"white\",\"showland\":true,\"showlakes\":true,\"lakecolor\":\"white\"},\"title\":{\"x\":0.05},\"mapbox\":{\"style\":\"light\"}}},\"scene\":{\"domain\":{\"x\":[0.0,1.0],\"y\":[0.0,1.0]},\"xaxis\":{\"title\":{\"text\":\"predict_period\"}},\"yaxis\":{\"title\":{\"text\":\"lookback_period\"}},\"zaxis\":{\"title\":{\"text\":\"corr\"}}},\"coloraxis\":{\"colorbar\":{\"title\":{\"text\":\"lookback_period\"}},\"colorscale\":[[0.0,\"#0d0887\"],[0.1111111111111111,\"#46039f\"],[0.2222222222222222,\"#7201a8\"],[0.3333333333333333,\"#9c179e\"],[0.4444444444444444,\"#bd3786\"],[0.5555555555555556,\"#d8576b\"],[0.6666666666666666,\"#ed7953\"],[0.7777777777777778,\"#fb9f3a\"],[0.8888888888888888,\"#fdca26\"],[1.0,\"#f0f921\"]]},\"legend\":{\"tracegroupgap\":0},\"margin\":{\"t\":60}},                        {\"responsive\": true}                    ).then(function(){\n",
       "                            \n",
       "var gd = document.getElementById('a1fc445c-3d73-42ea-93f1-3b88a766e7e1');\n",
       "var x = new MutationObserver(function (mutations, observer) {{\n",
       "        var display = window.getComputedStyle(gd).display;\n",
       "        if (!display || display === 'none') {{\n",
       "            console.log([gd, 'removed!']);\n",
       "            Plotly.purge(gd);\n",
       "            observer.disconnect();\n",
       "        }}\n",
       "}});\n",
       "\n",
       "// Listen for the removal of the full notebook cells\n",
       "var notebookContainer = gd.closest('#notebook-container');\n",
       "if (notebookContainer) {{\n",
       "    x.observe(notebookContainer, {childList: true});\n",
       "}}\n",
       "\n",
       "// Listen for the clearing of the current output cell\n",
       "var outputEl = gd.closest('.output');\n",
       "if (outputEl) {{\n",
       "    x.observe(outputEl, {childList: true});\n",
       "}}\n",
       "\n",
       "                        })                };                });            </script>        </div>"
      ]
     },
     "metadata": {},
     "output_type": "display_data"
    },
    {
     "data": {
      "application/vnd.plotly.v1+json": {
       "config": {
        "plotlyServerURL": "https://plot.ly"
       },
       "data": [
        {
         "hovertemplate": "predict_period=%{x}<br>lookback_period=%{marker.color}<br>corr=%{z}<extra></extra>",
         "legendgroup": "",
         "marker": {
          "color": [
           500,
           1000,
           1500,
           2000,
           2500,
           3000,
           3500,
           4000,
           4500,
           5000,
           5500,
           6000,
           6500,
           7000,
           7500,
           8000,
           8500,
           9000,
           9500,
           500,
           1000,
           1500,
           2000,
           2500,
           3000,
           3500,
           4000,
           4500,
           5000,
           5500,
           6000,
           6500,
           7000,
           7500,
           8000,
           8500,
           9000,
           9500,
           500,
           1000,
           1500,
           2000,
           2500,
           3000,
           3500,
           4000,
           4500,
           5000,
           5500,
           6000,
           6500,
           7000,
           7500,
           8000,
           8500,
           9000,
           9500,
           500,
           1000,
           1500,
           2000,
           2500,
           3000,
           3500,
           4000,
           4500,
           5000,
           5500,
           6000,
           6500,
           7000,
           7500,
           8000,
           8500,
           9000,
           9500,
           500,
           1000,
           1500,
           2000,
           2500,
           3000,
           3500,
           4000,
           4500,
           5000,
           5500,
           6000,
           6500,
           7000,
           7500,
           8000,
           8500,
           9000,
           9500,
           500,
           1000,
           1500,
           2000,
           2500,
           3000,
           3500,
           4000,
           4500,
           5000,
           5500,
           6000,
           6500,
           7000,
           7500,
           8000,
           8500,
           9000,
           9500,
           500,
           1000,
           1500,
           2000,
           2500,
           3000,
           3500,
           4000,
           4500,
           5000,
           5500,
           6000,
           6500,
           7000,
           7500,
           8000,
           8500,
           9000,
           9500,
           500,
           1000,
           1500,
           2000,
           2500,
           3000,
           3500,
           4000,
           4500,
           5000,
           5500,
           6000,
           6500,
           7000,
           7500,
           8000,
           8500,
           9000,
           9500,
           500,
           1000,
           1500,
           2000,
           2500,
           3000,
           3500,
           4000,
           4500,
           5000,
           5500,
           6000,
           6500,
           7000,
           7500,
           8000,
           8500,
           9000,
           9500,
           500,
           1000,
           1500,
           2000,
           2500,
           3000,
           3500,
           4000,
           4500,
           5000,
           5500,
           6000,
           6500,
           7000,
           7500,
           8000,
           8500,
           9000,
           9500,
           500,
           1000,
           1500,
           2000,
           2500,
           3000,
           3500,
           4000,
           4500,
           5000,
           5500,
           6000,
           6500,
           7000,
           7500,
           8000,
           8500,
           9000,
           9500,
           500,
           1000,
           1500,
           2000,
           2500,
           3000,
           3500,
           4000,
           4500,
           5000,
           5500,
           6000,
           6500,
           7000,
           7500,
           8000,
           8500,
           9000,
           9500,
           500,
           1000,
           1500,
           2000,
           2500,
           3000,
           3500,
           4000,
           4500,
           5000,
           5500,
           6000,
           6500,
           7000,
           7500,
           8000,
           8500,
           9000,
           9500,
           500,
           1000,
           1500,
           2000,
           2500,
           3000,
           3500,
           4000,
           4500,
           5000,
           5500,
           6000,
           6500,
           7000,
           7500,
           8000,
           8500,
           9000,
           9500,
           500,
           1000,
           1500,
           2000,
           2500,
           3000,
           3500,
           4000,
           4500,
           5000,
           5500,
           6000,
           6500,
           7000,
           7500,
           8000,
           8500,
           9000,
           9500,
           500,
           1000,
           1500,
           2000,
           2500,
           3000,
           3500,
           4000,
           4500,
           5000,
           5500,
           6000,
           6500,
           7000,
           7500,
           8000,
           8500,
           9000,
           9500,
           500,
           1000,
           1500,
           2000,
           2500,
           3000,
           3500,
           4000,
           4500,
           5000,
           5500,
           6000,
           6500,
           7000,
           7500,
           8000,
           8500,
           9000,
           9500,
           500,
           1000,
           1500,
           2000,
           2500,
           3000,
           3500,
           4000,
           4500,
           5000,
           5500,
           6000,
           6500,
           7000,
           7500,
           8000,
           8500,
           9000,
           9500,
           500,
           1000,
           1500,
           2000,
           2500,
           3000,
           3500,
           4000,
           4500,
           5000,
           5500,
           6000,
           6500,
           7000,
           7500,
           8000,
           8500,
           9000,
           9500
          ],
          "coloraxis": "coloraxis",
          "symbol": "circle"
         },
         "mode": "markers",
         "name": "",
         "scene": "scene",
         "showlegend": false,
         "type": "scatter3d",
         "x": [
          500,
          500,
          500,
          500,
          500,
          500,
          500,
          500,
          500,
          500,
          500,
          500,
          500,
          500,
          500,
          500,
          500,
          500,
          500,
          1000,
          1000,
          1000,
          1000,
          1000,
          1000,
          1000,
          1000,
          1000,
          1000,
          1000,
          1000,
          1000,
          1000,
          1000,
          1000,
          1000,
          1000,
          1000,
          1500,
          1500,
          1500,
          1500,
          1500,
          1500,
          1500,
          1500,
          1500,
          1500,
          1500,
          1500,
          1500,
          1500,
          1500,
          1500,
          1500,
          1500,
          1500,
          2000,
          2000,
          2000,
          2000,
          2000,
          2000,
          2000,
          2000,
          2000,
          2000,
          2000,
          2000,
          2000,
          2000,
          2000,
          2000,
          2000,
          2000,
          2000,
          2500,
          2500,
          2500,
          2500,
          2500,
          2500,
          2500,
          2500,
          2500,
          2500,
          2500,
          2500,
          2500,
          2500,
          2500,
          2500,
          2500,
          2500,
          2500,
          3000,
          3000,
          3000,
          3000,
          3000,
          3000,
          3000,
          3000,
          3000,
          3000,
          3000,
          3000,
          3000,
          3000,
          3000,
          3000,
          3000,
          3000,
          3000,
          3500,
          3500,
          3500,
          3500,
          3500,
          3500,
          3500,
          3500,
          3500,
          3500,
          3500,
          3500,
          3500,
          3500,
          3500,
          3500,
          3500,
          3500,
          3500,
          4000,
          4000,
          4000,
          4000,
          4000,
          4000,
          4000,
          4000,
          4000,
          4000,
          4000,
          4000,
          4000,
          4000,
          4000,
          4000,
          4000,
          4000,
          4000,
          4500,
          4500,
          4500,
          4500,
          4500,
          4500,
          4500,
          4500,
          4500,
          4500,
          4500,
          4500,
          4500,
          4500,
          4500,
          4500,
          4500,
          4500,
          4500,
          5000,
          5000,
          5000,
          5000,
          5000,
          5000,
          5000,
          5000,
          5000,
          5000,
          5000,
          5000,
          5000,
          5000,
          5000,
          5000,
          5000,
          5000,
          5000,
          5500,
          5500,
          5500,
          5500,
          5500,
          5500,
          5500,
          5500,
          5500,
          5500,
          5500,
          5500,
          5500,
          5500,
          5500,
          5500,
          5500,
          5500,
          5500,
          6000,
          6000,
          6000,
          6000,
          6000,
          6000,
          6000,
          6000,
          6000,
          6000,
          6000,
          6000,
          6000,
          6000,
          6000,
          6000,
          6000,
          6000,
          6000,
          6500,
          6500,
          6500,
          6500,
          6500,
          6500,
          6500,
          6500,
          6500,
          6500,
          6500,
          6500,
          6500,
          6500,
          6500,
          6500,
          6500,
          6500,
          6500,
          7000,
          7000,
          7000,
          7000,
          7000,
          7000,
          7000,
          7000,
          7000,
          7000,
          7000,
          7000,
          7000,
          7000,
          7000,
          7000,
          7000,
          7000,
          7000,
          7500,
          7500,
          7500,
          7500,
          7500,
          7500,
          7500,
          7500,
          7500,
          7500,
          7500,
          7500,
          7500,
          7500,
          7500,
          7500,
          7500,
          7500,
          7500,
          8000,
          8000,
          8000,
          8000,
          8000,
          8000,
          8000,
          8000,
          8000,
          8000,
          8000,
          8000,
          8000,
          8000,
          8000,
          8000,
          8000,
          8000,
          8000,
          8500,
          8500,
          8500,
          8500,
          8500,
          8500,
          8500,
          8500,
          8500,
          8500,
          8500,
          8500,
          8500,
          8500,
          8500,
          8500,
          8500,
          8500,
          8500,
          9000,
          9000,
          9000,
          9000,
          9000,
          9000,
          9000,
          9000,
          9000,
          9000,
          9000,
          9000,
          9000,
          9000,
          9000,
          9000,
          9000,
          9000,
          9000,
          9500,
          9500,
          9500,
          9500,
          9500,
          9500,
          9500,
          9500,
          9500,
          9500,
          9500,
          9500,
          9500,
          9500,
          9500,
          9500,
          9500,
          9500,
          9500
         ],
         "y": [
          500,
          1000,
          1500,
          2000,
          2500,
          3000,
          3500,
          4000,
          4500,
          5000,
          5500,
          6000,
          6500,
          7000,
          7500,
          8000,
          8500,
          9000,
          9500,
          500,
          1000,
          1500,
          2000,
          2500,
          3000,
          3500,
          4000,
          4500,
          5000,
          5500,
          6000,
          6500,
          7000,
          7500,
          8000,
          8500,
          9000,
          9500,
          500,
          1000,
          1500,
          2000,
          2500,
          3000,
          3500,
          4000,
          4500,
          5000,
          5500,
          6000,
          6500,
          7000,
          7500,
          8000,
          8500,
          9000,
          9500,
          500,
          1000,
          1500,
          2000,
          2500,
          3000,
          3500,
          4000,
          4500,
          5000,
          5500,
          6000,
          6500,
          7000,
          7500,
          8000,
          8500,
          9000,
          9500,
          500,
          1000,
          1500,
          2000,
          2500,
          3000,
          3500,
          4000,
          4500,
          5000,
          5500,
          6000,
          6500,
          7000,
          7500,
          8000,
          8500,
          9000,
          9500,
          500,
          1000,
          1500,
          2000,
          2500,
          3000,
          3500,
          4000,
          4500,
          5000,
          5500,
          6000,
          6500,
          7000,
          7500,
          8000,
          8500,
          9000,
          9500,
          500,
          1000,
          1500,
          2000,
          2500,
          3000,
          3500,
          4000,
          4500,
          5000,
          5500,
          6000,
          6500,
          7000,
          7500,
          8000,
          8500,
          9000,
          9500,
          500,
          1000,
          1500,
          2000,
          2500,
          3000,
          3500,
          4000,
          4500,
          5000,
          5500,
          6000,
          6500,
          7000,
          7500,
          8000,
          8500,
          9000,
          9500,
          500,
          1000,
          1500,
          2000,
          2500,
          3000,
          3500,
          4000,
          4500,
          5000,
          5500,
          6000,
          6500,
          7000,
          7500,
          8000,
          8500,
          9000,
          9500,
          500,
          1000,
          1500,
          2000,
          2500,
          3000,
          3500,
          4000,
          4500,
          5000,
          5500,
          6000,
          6500,
          7000,
          7500,
          8000,
          8500,
          9000,
          9500,
          500,
          1000,
          1500,
          2000,
          2500,
          3000,
          3500,
          4000,
          4500,
          5000,
          5500,
          6000,
          6500,
          7000,
          7500,
          8000,
          8500,
          9000,
          9500,
          500,
          1000,
          1500,
          2000,
          2500,
          3000,
          3500,
          4000,
          4500,
          5000,
          5500,
          6000,
          6500,
          7000,
          7500,
          8000,
          8500,
          9000,
          9500,
          500,
          1000,
          1500,
          2000,
          2500,
          3000,
          3500,
          4000,
          4500,
          5000,
          5500,
          6000,
          6500,
          7000,
          7500,
          8000,
          8500,
          9000,
          9500,
          500,
          1000,
          1500,
          2000,
          2500,
          3000,
          3500,
          4000,
          4500,
          5000,
          5500,
          6000,
          6500,
          7000,
          7500,
          8000,
          8500,
          9000,
          9500,
          500,
          1000,
          1500,
          2000,
          2500,
          3000,
          3500,
          4000,
          4500,
          5000,
          5500,
          6000,
          6500,
          7000,
          7500,
          8000,
          8500,
          9000,
          9500,
          500,
          1000,
          1500,
          2000,
          2500,
          3000,
          3500,
          4000,
          4500,
          5000,
          5500,
          6000,
          6500,
          7000,
          7500,
          8000,
          8500,
          9000,
          9500,
          500,
          1000,
          1500,
          2000,
          2500,
          3000,
          3500,
          4000,
          4500,
          5000,
          5500,
          6000,
          6500,
          7000,
          7500,
          8000,
          8500,
          9000,
          9500,
          500,
          1000,
          1500,
          2000,
          2500,
          3000,
          3500,
          4000,
          4500,
          5000,
          5500,
          6000,
          6500,
          7000,
          7500,
          8000,
          8500,
          9000,
          9500,
          500,
          1000,
          1500,
          2000,
          2500,
          3000,
          3500,
          4000,
          4500,
          5000,
          5500,
          6000,
          6500,
          7000,
          7500,
          8000,
          8500,
          9000,
          9500
         ],
         "z": [
          -0.0311271340919212,
          -0.02068087419513935,
          0.01099877334010101,
          0.0002931530622930015,
          0.002686127447480008,
          -0.013854743140488436,
          -0.035319666083236834,
          -0.03596435493037665,
          -0.010941314772306376,
          -0.0110199677750546,
          -0.018340674894894535,
          0.0005831018819592582,
          -0.000233890839572796,
          -0.0037109508952981214,
          -0.004117921726791349,
          -0.00278218578357707,
          0.004476550083874058,
          -0.021914867433674143,
          -0.01175317153700941,
          -0.014333592656561724,
          0.03584700510854997,
          0.03719576143093372,
          0.005057574926601152,
          -0.056012296886991775,
          -0.07750268849936197,
          -0.062003512820974396,
          -0.033100347869537805,
          -0.01960207868977066,
          -0.02070136277996551,
          -0.01646035739115753,
          -0.004701117344203556,
          -0.006534736131287026,
          -0.03721650527784125,
          -0.04066404724649195,
          -0.00791910888418765,
          -0.015037116406085299,
          -0.017393774264345074,
          -0.01777091580141638,
          0.05428833159082911,
          0.07870246826059814,
          0.09600834937769007,
          0.008125265191675255,
          -0.09084084848752719,
          -0.08464087163820402,
          -0.04176150550560898,
          -0.034527648772628344,
          -0.015806103289969738,
          -0.017407580476394922,
          -0.018999925741928814,
          0.007903531241953924,
          0.026035563524024596,
          -0.038854520496500095,
          -0.02520292585406958,
          -0.010007872422646667,
          0.0007485243077498338,
          0.003980565405580188,
          -0.0018744434051160414,
          0.030400676837383855,
          0.04894960626156674,
          0.04670232272669196,
          -0.01939528517798682,
          -0.05782430528877039,
          -0.04784442320526975,
          -0.06571025812099834,
          -0.053651734531570475,
          -0.036208480962108935,
          -0.025345738865153455,
          -0.028026715073142246,
          0.014580160486934031,
          0.01568803461789745,
          -0.02562448674402015,
          -0.03557972561645601,
          -0.010617520077852353,
          -0.0011663737910966154,
          -0.0037469757497565134,
          -0.016512121404333564,
          -0.02614503638436359,
          -0.026581082140520344,
          0.0077851101558364545,
          0.00043125210213907066,
          -0.02478385918929631,
          -0.06647448719616306,
          -0.10415266920183505,
          -0.07980169157953898,
          -0.04303102655191221,
          -0.03625085414844524,
          -0.03781806570038245,
          -0.007947925524904594,
          -0.0031746473726015894,
          -0.02955273866063023,
          -0.03661443006890175,
          -0.032085676604136824,
          -0.033328405337790974,
          -0.038030179930997256,
          -0.025309934105334272,
          -0.06916710072296949,
          -0.04366369443339027,
          0.0087875975012807,
          0.006618350558107217,
          -0.017746121506407166,
          -0.06560657863912611,
          -0.07025107833738299,
          -0.01996452253801236,
          -0.015304442167214913,
          -0.0387877921352529,
          -0.03678054514292769,
          -0.027586645116383864,
          -0.023589964433243578,
          -0.03831086217808501,
          -0.0420039900297265,
          -0.04860106661763293,
          -0.047044445362833316,
          -0.025996023286843657,
          -0.027795863676989732,
          -0.044538496049693815,
          -0.0019568284413891725,
          0.0398716730745994,
          0.021609406710331455,
          0.019404734915503694,
          -0.008086035040698488,
          0.009333240330627173,
          -0.0008900970350258185,
          -0.013374026657455651,
          -0.019756108728014327,
          -0.009881902511329968,
          -0.012536700434631249,
          -0.018963858617636584,
          -0.03421021811939323,
          -0.04069123252530807,
          -0.052668247029910534,
          -0.04003664160647231,
          -0.04863182546753475,
          -0.04026661233049887,
          -0.01621245384035848,
          0.024086599179024514,
          0.045544390365680344,
          0.03669750507925695,
          0.041358203497012656,
          0.019133224268662725,
          -0.02500003270489224,
          -0.025000547707280482,
          -0.0031887574272818162,
          -0.0005669846320259953,
          0.0031451332861019005,
          -0.0008290130476930248,
          -0.01631374471139599,
          -0.027470192694731686,
          -0.024680791352949073,
          -0.026681041989014227,
          -0.0381516455561861,
          -0.040846011489732936,
          -0.03867613664990423,
          -0.00030573766223316494,
          0.02840657235620595,
          0.05028225604462295,
          0.0364291140367081,
          0.0027621152661107323,
          -0.05373975141698969,
          -0.07493738830218098,
          -0.035184457144426244,
          -0.0021829696724446268,
          -0.01040007285239619,
          -0.009886583114598146,
          -0.006905462819177176,
          -0.014367524713294763,
          -0.012010710243092257,
          -0.035272419770267883,
          -0.045372592072818865,
          -0.04983941435501153,
          -0.05376944440951702,
          -0.03269020107184729,
          -3.510505379330711e-05,
          0.030619528805824792,
          0.04879990853129436,
          0.018970643026631127,
          -0.03307254465809198,
          -0.07454236846690382,
          -0.0724623668343564,
          -0.03025387379621869,
          -0.013157736118120916,
          -0.018234463893195933,
          -0.014646153881858616,
          -0.0038941809843930555,
          -0.0012000161945688419,
          -0.013238542271454917,
          -0.032028746107988504,
          -0.04060137200817055,
          -0.060882091601836656,
          -0.04884929686036463,
          -0.027183425439238247,
          0.02705295137969342,
          0.06844701174321843,
          0.07359228788894752,
          0.03392029680031187,
          -0.04909470399189883,
          -0.09561964860185033,
          -0.05893063898911218,
          -0.028985501855921504,
          -0.011518585291120174,
          -0.016940270807572655,
          -0.008780365343467586,
          0.008932645335301689,
          0.028164019272248028,
          -0.003397232606223605,
          -0.031015624925210303,
          -0.05866100224601495,
          -0.05902190153298865,
          -0.03675025223356823,
          -0.01444716846226577,
          0.0395411440287378,
          0.07725092410967654,
          0.09848562230210943,
          0.01710670436825835,
          -0.09901820024813522,
          -0.09270486753296553,
          -0.05575665464998931,
          -0.02538864482530445,
          -0.01639616058559864,
          -0.024969215245409647,
          -0.01714468878916154,
          0.017155666300028658,
          0.038213053485341555,
          -0.009632581078232446,
          -0.05766003300436694,
          -0.05544940299566404,
          -0.03846511471834781,
          -0.01789264854938243,
          -0.016493725624187112,
          0.044600947163155685,
          0.09648523819077423,
          0.08491188703983965,
          -0.04782053864402288,
          -0.1018110625722201,
          -0.07565326294071519,
          -0.0436804756430856,
          -0.03085931056132144,
          -0.027438161115168475,
          -0.03519662739391129,
          -0.01294282997720721,
          0.02566061213977162,
          0.04917935878441228,
          -0.055897210761614365,
          -0.06754027414143755,
          -0.03264323589143691,
          -0.014776852305783872,
          -0.01571376437068482,
          -0.022579221762447206,
          0.0008595590582151638,
          -0.018219383856688774,
          -0.018704884172490874,
          -0.054719498582342214,
          -0.058082751814876696,
          -0.051680447309250165,
          -0.05068356233654029,
          -0.04083037090936773,
          -0.04086881426017032,
          -0.036519722495909075,
          -0.021124824471199545,
          0.010779106201593981,
          -0.036683192872995346,
          -0.06068788790462558,
          -0.043934675567599286,
          -0.004602674234631207,
          -0.009654338515992383,
          -0.02229093894230253,
          -0.028048591010396223,
          -0.06985759876373662,
          -0.04786822962877903,
          -0.0004721907164568337,
          -0.010080673610667553,
          -0.03437701547421474,
          -0.0688587449788846,
          -0.07918856245482225,
          -0.07624307136761277,
          -0.03818249274371206,
          -0.03679561448742727,
          -0.02526073709413609,
          -0.03468282682514428,
          -0.042908135259406156,
          -0.027911908841579004,
          -0.006420249238274429,
          -0.008314983623314473,
          -0.03215116419023122,
          -0.04925245936877578,
          -0.01321575653949599,
          -0.036872172013616464,
          -0.004184912608196495,
          0.033930995091812084,
          0.00517902001163249,
          -0.027519965894171557,
          -0.060256324673461634,
          -0.07683819057161627,
          -0.01509580196573509,
          -0.009206303517105654,
          -0.01861421373994479,
          -0.027241428287847338,
          -0.028072146352900222,
          -0.01956237328004201,
          -6.223855682102944e-05,
          0.004596006506352602,
          -0.00010317906759933423,
          -0.03335715898271611,
          0.00011595402967474154,
          0.01991604720381631,
          -0.011559571387089997,
          0.021480946662970995,
          0.03275967676811756,
          0.011579521466036422,
          -0.005592290540484039,
          -0.040049278706459135,
          -0.044396646710678375,
          -0.015209481763889476,
          -0.00992943722019998,
          -0.028036512484557824,
          -0.02474281200522955,
          -0.021818016271478037,
          -0.014208870266985784,
          -0.0014504818784614754,
          0.007002387433025136,
          -0.0019186276902607947,
          0.003665158613662259,
          0.029179871369457853,
          0.04260660573124106,
          0.00861939821247984,
          0.023269368503855452,
          0.020838646681565456,
          0.00612255919300321,
          -0.0069068514542066275,
          -0.02837575875203851,
          -0.04937123695293382,
          -0.026253151397479062,
          -0.025771705310466513,
          -0.02754479941756467,
          -0.018493539882746993,
          -0.015985885170540545,
          -0.012920002324097894,
          -0.005648302686041518,
          -0.003960249693733736,
          0.010256379795135176,
          0.028821384370666545,
          0.04575561066873878,
          0.046600497044805816,
          0.0011179213265043592,
          0.010600551803160236,
          0.01532777576039016,
          0.007816866948078843,
          -0.025798556837262576,
          -0.05029160313711322,
          -0.07176606479498412,
          -0.05540781098624687,
          -0.03576284584934433,
          -0.025655753131812727,
          -0.017818289082027528,
          -0.008191229048260775,
          -0.008048806350038632,
          -0.004801923484143164,
          -0.00835343695467259,
          0.00576983548066392,
          0.021230605908201777,
          0.029995755341736707,
          0.02453448719425457
         ]
        }
       ],
       "layout": {
        "coloraxis": {
         "colorbar": {
          "title": {
           "text": "lookback_period"
          }
         },
         "colorscale": [
          [
           0,
           "#0d0887"
          ],
          [
           0.1111111111111111,
           "#46039f"
          ],
          [
           0.2222222222222222,
           "#7201a8"
          ],
          [
           0.3333333333333333,
           "#9c179e"
          ],
          [
           0.4444444444444444,
           "#bd3786"
          ],
          [
           0.5555555555555556,
           "#d8576b"
          ],
          [
           0.6666666666666666,
           "#ed7953"
          ],
          [
           0.7777777777777778,
           "#fb9f3a"
          ],
          [
           0.8888888888888888,
           "#fdca26"
          ],
          [
           1,
           "#f0f921"
          ]
         ]
        },
        "legend": {
         "tracegroupgap": 0
        },
        "margin": {
         "t": 60
        },
        "scene": {
         "domain": {
          "x": [
           0,
           1
          ],
          "y": [
           0,
           1
          ]
         },
         "xaxis": {
          "title": {
           "text": "predict_period"
          }
         },
         "yaxis": {
          "title": {
           "text": "lookback_period"
          }
         },
         "zaxis": {
          "title": {
           "text": "corr"
          }
         }
        },
        "template": {
         "data": {
          "bar": [
           {
            "error_x": {
             "color": "#2a3f5f"
            },
            "error_y": {
             "color": "#2a3f5f"
            },
            "marker": {
             "line": {
              "color": "#E5ECF6",
              "width": 0.5
             },
             "pattern": {
              "fillmode": "overlay",
              "size": 10,
              "solidity": 0.2
             }
            },
            "type": "bar"
           }
          ],
          "barpolar": [
           {
            "marker": {
             "line": {
              "color": "#E5ECF6",
              "width": 0.5
             },
             "pattern": {
              "fillmode": "overlay",
              "size": 10,
              "solidity": 0.2
             }
            },
            "type": "barpolar"
           }
          ],
          "carpet": [
           {
            "aaxis": {
             "endlinecolor": "#2a3f5f",
             "gridcolor": "white",
             "linecolor": "white",
             "minorgridcolor": "white",
             "startlinecolor": "#2a3f5f"
            },
            "baxis": {
             "endlinecolor": "#2a3f5f",
             "gridcolor": "white",
             "linecolor": "white",
             "minorgridcolor": "white",
             "startlinecolor": "#2a3f5f"
            },
            "type": "carpet"
           }
          ],
          "choropleth": [
           {
            "colorbar": {
             "outlinewidth": 0,
             "ticks": ""
            },
            "type": "choropleth"
           }
          ],
          "contour": [
           {
            "colorbar": {
             "outlinewidth": 0,
             "ticks": ""
            },
            "colorscale": [
             [
              0,
              "#0d0887"
             ],
             [
              0.1111111111111111,
              "#46039f"
             ],
             [
              0.2222222222222222,
              "#7201a8"
             ],
             [
              0.3333333333333333,
              "#9c179e"
             ],
             [
              0.4444444444444444,
              "#bd3786"
             ],
             [
              0.5555555555555556,
              "#d8576b"
             ],
             [
              0.6666666666666666,
              "#ed7953"
             ],
             [
              0.7777777777777778,
              "#fb9f3a"
             ],
             [
              0.8888888888888888,
              "#fdca26"
             ],
             [
              1,
              "#f0f921"
             ]
            ],
            "type": "contour"
           }
          ],
          "contourcarpet": [
           {
            "colorbar": {
             "outlinewidth": 0,
             "ticks": ""
            },
            "type": "contourcarpet"
           }
          ],
          "heatmap": [
           {
            "colorbar": {
             "outlinewidth": 0,
             "ticks": ""
            },
            "colorscale": [
             [
              0,
              "#0d0887"
             ],
             [
              0.1111111111111111,
              "#46039f"
             ],
             [
              0.2222222222222222,
              "#7201a8"
             ],
             [
              0.3333333333333333,
              "#9c179e"
             ],
             [
              0.4444444444444444,
              "#bd3786"
             ],
             [
              0.5555555555555556,
              "#d8576b"
             ],
             [
              0.6666666666666666,
              "#ed7953"
             ],
             [
              0.7777777777777778,
              "#fb9f3a"
             ],
             [
              0.8888888888888888,
              "#fdca26"
             ],
             [
              1,
              "#f0f921"
             ]
            ],
            "type": "heatmap"
           }
          ],
          "heatmapgl": [
           {
            "colorbar": {
             "outlinewidth": 0,
             "ticks": ""
            },
            "colorscale": [
             [
              0,
              "#0d0887"
             ],
             [
              0.1111111111111111,
              "#46039f"
             ],
             [
              0.2222222222222222,
              "#7201a8"
             ],
             [
              0.3333333333333333,
              "#9c179e"
             ],
             [
              0.4444444444444444,
              "#bd3786"
             ],
             [
              0.5555555555555556,
              "#d8576b"
             ],
             [
              0.6666666666666666,
              "#ed7953"
             ],
             [
              0.7777777777777778,
              "#fb9f3a"
             ],
             [
              0.8888888888888888,
              "#fdca26"
             ],
             [
              1,
              "#f0f921"
             ]
            ],
            "type": "heatmapgl"
           }
          ],
          "histogram": [
           {
            "marker": {
             "pattern": {
              "fillmode": "overlay",
              "size": 10,
              "solidity": 0.2
             }
            },
            "type": "histogram"
           }
          ],
          "histogram2d": [
           {
            "colorbar": {
             "outlinewidth": 0,
             "ticks": ""
            },
            "colorscale": [
             [
              0,
              "#0d0887"
             ],
             [
              0.1111111111111111,
              "#46039f"
             ],
             [
              0.2222222222222222,
              "#7201a8"
             ],
             [
              0.3333333333333333,
              "#9c179e"
             ],
             [
              0.4444444444444444,
              "#bd3786"
             ],
             [
              0.5555555555555556,
              "#d8576b"
             ],
             [
              0.6666666666666666,
              "#ed7953"
             ],
             [
              0.7777777777777778,
              "#fb9f3a"
             ],
             [
              0.8888888888888888,
              "#fdca26"
             ],
             [
              1,
              "#f0f921"
             ]
            ],
            "type": "histogram2d"
           }
          ],
          "histogram2dcontour": [
           {
            "colorbar": {
             "outlinewidth": 0,
             "ticks": ""
            },
            "colorscale": [
             [
              0,
              "#0d0887"
             ],
             [
              0.1111111111111111,
              "#46039f"
             ],
             [
              0.2222222222222222,
              "#7201a8"
             ],
             [
              0.3333333333333333,
              "#9c179e"
             ],
             [
              0.4444444444444444,
              "#bd3786"
             ],
             [
              0.5555555555555556,
              "#d8576b"
             ],
             [
              0.6666666666666666,
              "#ed7953"
             ],
             [
              0.7777777777777778,
              "#fb9f3a"
             ],
             [
              0.8888888888888888,
              "#fdca26"
             ],
             [
              1,
              "#f0f921"
             ]
            ],
            "type": "histogram2dcontour"
           }
          ],
          "mesh3d": [
           {
            "colorbar": {
             "outlinewidth": 0,
             "ticks": ""
            },
            "type": "mesh3d"
           }
          ],
          "parcoords": [
           {
            "line": {
             "colorbar": {
              "outlinewidth": 0,
              "ticks": ""
             }
            },
            "type": "parcoords"
           }
          ],
          "pie": [
           {
            "automargin": true,
            "type": "pie"
           }
          ],
          "scatter": [
           {
            "fillpattern": {
             "fillmode": "overlay",
             "size": 10,
             "solidity": 0.2
            },
            "type": "scatter"
           }
          ],
          "scatter3d": [
           {
            "line": {
             "colorbar": {
              "outlinewidth": 0,
              "ticks": ""
             }
            },
            "marker": {
             "colorbar": {
              "outlinewidth": 0,
              "ticks": ""
             }
            },
            "type": "scatter3d"
           }
          ],
          "scattercarpet": [
           {
            "marker": {
             "colorbar": {
              "outlinewidth": 0,
              "ticks": ""
             }
            },
            "type": "scattercarpet"
           }
          ],
          "scattergeo": [
           {
            "marker": {
             "colorbar": {
              "outlinewidth": 0,
              "ticks": ""
             }
            },
            "type": "scattergeo"
           }
          ],
          "scattergl": [
           {
            "marker": {
             "colorbar": {
              "outlinewidth": 0,
              "ticks": ""
             }
            },
            "type": "scattergl"
           }
          ],
          "scattermapbox": [
           {
            "marker": {
             "colorbar": {
              "outlinewidth": 0,
              "ticks": ""
             }
            },
            "type": "scattermapbox"
           }
          ],
          "scatterpolar": [
           {
            "marker": {
             "colorbar": {
              "outlinewidth": 0,
              "ticks": ""
             }
            },
            "type": "scatterpolar"
           }
          ],
          "scatterpolargl": [
           {
            "marker": {
             "colorbar": {
              "outlinewidth": 0,
              "ticks": ""
             }
            },
            "type": "scatterpolargl"
           }
          ],
          "scatterternary": [
           {
            "marker": {
             "colorbar": {
              "outlinewidth": 0,
              "ticks": ""
             }
            },
            "type": "scatterternary"
           }
          ],
          "surface": [
           {
            "colorbar": {
             "outlinewidth": 0,
             "ticks": ""
            },
            "colorscale": [
             [
              0,
              "#0d0887"
             ],
             [
              0.1111111111111111,
              "#46039f"
             ],
             [
              0.2222222222222222,
              "#7201a8"
             ],
             [
              0.3333333333333333,
              "#9c179e"
             ],
             [
              0.4444444444444444,
              "#bd3786"
             ],
             [
              0.5555555555555556,
              "#d8576b"
             ],
             [
              0.6666666666666666,
              "#ed7953"
             ],
             [
              0.7777777777777778,
              "#fb9f3a"
             ],
             [
              0.8888888888888888,
              "#fdca26"
             ],
             [
              1,
              "#f0f921"
             ]
            ],
            "type": "surface"
           }
          ],
          "table": [
           {
            "cells": {
             "fill": {
              "color": "#EBF0F8"
             },
             "line": {
              "color": "white"
             }
            },
            "header": {
             "fill": {
              "color": "#C8D4E3"
             },
             "line": {
              "color": "white"
             }
            },
            "type": "table"
           }
          ]
         },
         "layout": {
          "annotationdefaults": {
           "arrowcolor": "#2a3f5f",
           "arrowhead": 0,
           "arrowwidth": 1
          },
          "autotypenumbers": "strict",
          "coloraxis": {
           "colorbar": {
            "outlinewidth": 0,
            "ticks": ""
           }
          },
          "colorscale": {
           "diverging": [
            [
             0,
             "#8e0152"
            ],
            [
             0.1,
             "#c51b7d"
            ],
            [
             0.2,
             "#de77ae"
            ],
            [
             0.3,
             "#f1b6da"
            ],
            [
             0.4,
             "#fde0ef"
            ],
            [
             0.5,
             "#f7f7f7"
            ],
            [
             0.6,
             "#e6f5d0"
            ],
            [
             0.7,
             "#b8e186"
            ],
            [
             0.8,
             "#7fbc41"
            ],
            [
             0.9,
             "#4d9221"
            ],
            [
             1,
             "#276419"
            ]
           ],
           "sequential": [
            [
             0,
             "#0d0887"
            ],
            [
             0.1111111111111111,
             "#46039f"
            ],
            [
             0.2222222222222222,
             "#7201a8"
            ],
            [
             0.3333333333333333,
             "#9c179e"
            ],
            [
             0.4444444444444444,
             "#bd3786"
            ],
            [
             0.5555555555555556,
             "#d8576b"
            ],
            [
             0.6666666666666666,
             "#ed7953"
            ],
            [
             0.7777777777777778,
             "#fb9f3a"
            ],
            [
             0.8888888888888888,
             "#fdca26"
            ],
            [
             1,
             "#f0f921"
            ]
           ],
           "sequentialminus": [
            [
             0,
             "#0d0887"
            ],
            [
             0.1111111111111111,
             "#46039f"
            ],
            [
             0.2222222222222222,
             "#7201a8"
            ],
            [
             0.3333333333333333,
             "#9c179e"
            ],
            [
             0.4444444444444444,
             "#bd3786"
            ],
            [
             0.5555555555555556,
             "#d8576b"
            ],
            [
             0.6666666666666666,
             "#ed7953"
            ],
            [
             0.7777777777777778,
             "#fb9f3a"
            ],
            [
             0.8888888888888888,
             "#fdca26"
            ],
            [
             1,
             "#f0f921"
            ]
           ]
          },
          "colorway": [
           "#636efa",
           "#EF553B",
           "#00cc96",
           "#ab63fa",
           "#FFA15A",
           "#19d3f3",
           "#FF6692",
           "#B6E880",
           "#FF97FF",
           "#FECB52"
          ],
          "font": {
           "color": "#2a3f5f"
          },
          "geo": {
           "bgcolor": "white",
           "lakecolor": "white",
           "landcolor": "#E5ECF6",
           "showlakes": true,
           "showland": true,
           "subunitcolor": "white"
          },
          "hoverlabel": {
           "align": "left"
          },
          "hovermode": "closest",
          "mapbox": {
           "style": "light"
          },
          "paper_bgcolor": "white",
          "plot_bgcolor": "#E5ECF6",
          "polar": {
           "angularaxis": {
            "gridcolor": "white",
            "linecolor": "white",
            "ticks": ""
           },
           "bgcolor": "#E5ECF6",
           "radialaxis": {
            "gridcolor": "white",
            "linecolor": "white",
            "ticks": ""
           }
          },
          "scene": {
           "xaxis": {
            "backgroundcolor": "#E5ECF6",
            "gridcolor": "white",
            "gridwidth": 2,
            "linecolor": "white",
            "showbackground": true,
            "ticks": "",
            "zerolinecolor": "white"
           },
           "yaxis": {
            "backgroundcolor": "#E5ECF6",
            "gridcolor": "white",
            "gridwidth": 2,
            "linecolor": "white",
            "showbackground": true,
            "ticks": "",
            "zerolinecolor": "white"
           },
           "zaxis": {
            "backgroundcolor": "#E5ECF6",
            "gridcolor": "white",
            "gridwidth": 2,
            "linecolor": "white",
            "showbackground": true,
            "ticks": "",
            "zerolinecolor": "white"
           }
          },
          "shapedefaults": {
           "line": {
            "color": "#2a3f5f"
           }
          },
          "ternary": {
           "aaxis": {
            "gridcolor": "white",
            "linecolor": "white",
            "ticks": ""
           },
           "baxis": {
            "gridcolor": "white",
            "linecolor": "white",
            "ticks": ""
           },
           "bgcolor": "#E5ECF6",
           "caxis": {
            "gridcolor": "white",
            "linecolor": "white",
            "ticks": ""
           }
          },
          "title": {
           "x": 0.05
          },
          "xaxis": {
           "automargin": true,
           "gridcolor": "white",
           "linecolor": "white",
           "ticks": "",
           "title": {
            "standoff": 15
           },
           "zerolinecolor": "white",
           "zerolinewidth": 2
          },
          "yaxis": {
           "automargin": true,
           "gridcolor": "white",
           "linecolor": "white",
           "ticks": "",
           "title": {
            "standoff": 15
           },
           "zerolinecolor": "white",
           "zerolinewidth": 2
          }
         }
        }
       }
      },
      "text/html": [
       "<div>                            <div id=\"06ab89a6-def2-45bf-8f8d-f9b4d86b1bf0\" class=\"plotly-graph-div\" style=\"height:525px; width:100%;\"></div>            <script type=\"text/javascript\">                require([\"plotly\"], function(Plotly) {                    window.PLOTLYENV=window.PLOTLYENV || {};                                    if (document.getElementById(\"06ab89a6-def2-45bf-8f8d-f9b4d86b1bf0\")) {                    Plotly.newPlot(                        \"06ab89a6-def2-45bf-8f8d-f9b4d86b1bf0\",                        [{\"hovertemplate\":\"predict_period=%{x}<br>lookback_period=%{marker.color}<br>corr=%{z}<extra></extra>\",\"legendgroup\":\"\",\"marker\":{\"color\":[500.0,1000.0,1500.0,2000.0,2500.0,3000.0,3500.0,4000.0,4500.0,5000.0,5500.0,6000.0,6500.0,7000.0,7500.0,8000.0,8500.0,9000.0,9500.0,500.0,1000.0,1500.0,2000.0,2500.0,3000.0,3500.0,4000.0,4500.0,5000.0,5500.0,6000.0,6500.0,7000.0,7500.0,8000.0,8500.0,9000.0,9500.0,500.0,1000.0,1500.0,2000.0,2500.0,3000.0,3500.0,4000.0,4500.0,5000.0,5500.0,6000.0,6500.0,7000.0,7500.0,8000.0,8500.0,9000.0,9500.0,500.0,1000.0,1500.0,2000.0,2500.0,3000.0,3500.0,4000.0,4500.0,5000.0,5500.0,6000.0,6500.0,7000.0,7500.0,8000.0,8500.0,9000.0,9500.0,500.0,1000.0,1500.0,2000.0,2500.0,3000.0,3500.0,4000.0,4500.0,5000.0,5500.0,6000.0,6500.0,7000.0,7500.0,8000.0,8500.0,9000.0,9500.0,500.0,1000.0,1500.0,2000.0,2500.0,3000.0,3500.0,4000.0,4500.0,5000.0,5500.0,6000.0,6500.0,7000.0,7500.0,8000.0,8500.0,9000.0,9500.0,500.0,1000.0,1500.0,2000.0,2500.0,3000.0,3500.0,4000.0,4500.0,5000.0,5500.0,6000.0,6500.0,7000.0,7500.0,8000.0,8500.0,9000.0,9500.0,500.0,1000.0,1500.0,2000.0,2500.0,3000.0,3500.0,4000.0,4500.0,5000.0,5500.0,6000.0,6500.0,7000.0,7500.0,8000.0,8500.0,9000.0,9500.0,500.0,1000.0,1500.0,2000.0,2500.0,3000.0,3500.0,4000.0,4500.0,5000.0,5500.0,6000.0,6500.0,7000.0,7500.0,8000.0,8500.0,9000.0,9500.0,500.0,1000.0,1500.0,2000.0,2500.0,3000.0,3500.0,4000.0,4500.0,5000.0,5500.0,6000.0,6500.0,7000.0,7500.0,8000.0,8500.0,9000.0,9500.0,500.0,1000.0,1500.0,2000.0,2500.0,3000.0,3500.0,4000.0,4500.0,5000.0,5500.0,6000.0,6500.0,7000.0,7500.0,8000.0,8500.0,9000.0,9500.0,500.0,1000.0,1500.0,2000.0,2500.0,3000.0,3500.0,4000.0,4500.0,5000.0,5500.0,6000.0,6500.0,7000.0,7500.0,8000.0,8500.0,9000.0,9500.0,500.0,1000.0,1500.0,2000.0,2500.0,3000.0,3500.0,4000.0,4500.0,5000.0,5500.0,6000.0,6500.0,7000.0,7500.0,8000.0,8500.0,9000.0,9500.0,500.0,1000.0,1500.0,2000.0,2500.0,3000.0,3500.0,4000.0,4500.0,5000.0,5500.0,6000.0,6500.0,7000.0,7500.0,8000.0,8500.0,9000.0,9500.0,500.0,1000.0,1500.0,2000.0,2500.0,3000.0,3500.0,4000.0,4500.0,5000.0,5500.0,6000.0,6500.0,7000.0,7500.0,8000.0,8500.0,9000.0,9500.0,500.0,1000.0,1500.0,2000.0,2500.0,3000.0,3500.0,4000.0,4500.0,5000.0,5500.0,6000.0,6500.0,7000.0,7500.0,8000.0,8500.0,9000.0,9500.0,500.0,1000.0,1500.0,2000.0,2500.0,3000.0,3500.0,4000.0,4500.0,5000.0,5500.0,6000.0,6500.0,7000.0,7500.0,8000.0,8500.0,9000.0,9500.0,500.0,1000.0,1500.0,2000.0,2500.0,3000.0,3500.0,4000.0,4500.0,5000.0,5500.0,6000.0,6500.0,7000.0,7500.0,8000.0,8500.0,9000.0,9500.0,500.0,1000.0,1500.0,2000.0,2500.0,3000.0,3500.0,4000.0,4500.0,5000.0,5500.0,6000.0,6500.0,7000.0,7500.0,8000.0,8500.0,9000.0,9500.0],\"coloraxis\":\"coloraxis\",\"symbol\":\"circle\"},\"mode\":\"markers\",\"name\":\"\",\"scene\":\"scene\",\"showlegend\":false,\"x\":[500.0,500.0,500.0,500.0,500.0,500.0,500.0,500.0,500.0,500.0,500.0,500.0,500.0,500.0,500.0,500.0,500.0,500.0,500.0,1000.0,1000.0,1000.0,1000.0,1000.0,1000.0,1000.0,1000.0,1000.0,1000.0,1000.0,1000.0,1000.0,1000.0,1000.0,1000.0,1000.0,1000.0,1000.0,1500.0,1500.0,1500.0,1500.0,1500.0,1500.0,1500.0,1500.0,1500.0,1500.0,1500.0,1500.0,1500.0,1500.0,1500.0,1500.0,1500.0,1500.0,1500.0,2000.0,2000.0,2000.0,2000.0,2000.0,2000.0,2000.0,2000.0,2000.0,2000.0,2000.0,2000.0,2000.0,2000.0,2000.0,2000.0,2000.0,2000.0,2000.0,2500.0,2500.0,2500.0,2500.0,2500.0,2500.0,2500.0,2500.0,2500.0,2500.0,2500.0,2500.0,2500.0,2500.0,2500.0,2500.0,2500.0,2500.0,2500.0,3000.0,3000.0,3000.0,3000.0,3000.0,3000.0,3000.0,3000.0,3000.0,3000.0,3000.0,3000.0,3000.0,3000.0,3000.0,3000.0,3000.0,3000.0,3000.0,3500.0,3500.0,3500.0,3500.0,3500.0,3500.0,3500.0,3500.0,3500.0,3500.0,3500.0,3500.0,3500.0,3500.0,3500.0,3500.0,3500.0,3500.0,3500.0,4000.0,4000.0,4000.0,4000.0,4000.0,4000.0,4000.0,4000.0,4000.0,4000.0,4000.0,4000.0,4000.0,4000.0,4000.0,4000.0,4000.0,4000.0,4000.0,4500.0,4500.0,4500.0,4500.0,4500.0,4500.0,4500.0,4500.0,4500.0,4500.0,4500.0,4500.0,4500.0,4500.0,4500.0,4500.0,4500.0,4500.0,4500.0,5000.0,5000.0,5000.0,5000.0,5000.0,5000.0,5000.0,5000.0,5000.0,5000.0,5000.0,5000.0,5000.0,5000.0,5000.0,5000.0,5000.0,5000.0,5000.0,5500.0,5500.0,5500.0,5500.0,5500.0,5500.0,5500.0,5500.0,5500.0,5500.0,5500.0,5500.0,5500.0,5500.0,5500.0,5500.0,5500.0,5500.0,5500.0,6000.0,6000.0,6000.0,6000.0,6000.0,6000.0,6000.0,6000.0,6000.0,6000.0,6000.0,6000.0,6000.0,6000.0,6000.0,6000.0,6000.0,6000.0,6000.0,6500.0,6500.0,6500.0,6500.0,6500.0,6500.0,6500.0,6500.0,6500.0,6500.0,6500.0,6500.0,6500.0,6500.0,6500.0,6500.0,6500.0,6500.0,6500.0,7000.0,7000.0,7000.0,7000.0,7000.0,7000.0,7000.0,7000.0,7000.0,7000.0,7000.0,7000.0,7000.0,7000.0,7000.0,7000.0,7000.0,7000.0,7000.0,7500.0,7500.0,7500.0,7500.0,7500.0,7500.0,7500.0,7500.0,7500.0,7500.0,7500.0,7500.0,7500.0,7500.0,7500.0,7500.0,7500.0,7500.0,7500.0,8000.0,8000.0,8000.0,8000.0,8000.0,8000.0,8000.0,8000.0,8000.0,8000.0,8000.0,8000.0,8000.0,8000.0,8000.0,8000.0,8000.0,8000.0,8000.0,8500.0,8500.0,8500.0,8500.0,8500.0,8500.0,8500.0,8500.0,8500.0,8500.0,8500.0,8500.0,8500.0,8500.0,8500.0,8500.0,8500.0,8500.0,8500.0,9000.0,9000.0,9000.0,9000.0,9000.0,9000.0,9000.0,9000.0,9000.0,9000.0,9000.0,9000.0,9000.0,9000.0,9000.0,9000.0,9000.0,9000.0,9000.0,9500.0,9500.0,9500.0,9500.0,9500.0,9500.0,9500.0,9500.0,9500.0,9500.0,9500.0,9500.0,9500.0,9500.0,9500.0,9500.0,9500.0,9500.0,9500.0],\"y\":[500.0,1000.0,1500.0,2000.0,2500.0,3000.0,3500.0,4000.0,4500.0,5000.0,5500.0,6000.0,6500.0,7000.0,7500.0,8000.0,8500.0,9000.0,9500.0,500.0,1000.0,1500.0,2000.0,2500.0,3000.0,3500.0,4000.0,4500.0,5000.0,5500.0,6000.0,6500.0,7000.0,7500.0,8000.0,8500.0,9000.0,9500.0,500.0,1000.0,1500.0,2000.0,2500.0,3000.0,3500.0,4000.0,4500.0,5000.0,5500.0,6000.0,6500.0,7000.0,7500.0,8000.0,8500.0,9000.0,9500.0,500.0,1000.0,1500.0,2000.0,2500.0,3000.0,3500.0,4000.0,4500.0,5000.0,5500.0,6000.0,6500.0,7000.0,7500.0,8000.0,8500.0,9000.0,9500.0,500.0,1000.0,1500.0,2000.0,2500.0,3000.0,3500.0,4000.0,4500.0,5000.0,5500.0,6000.0,6500.0,7000.0,7500.0,8000.0,8500.0,9000.0,9500.0,500.0,1000.0,1500.0,2000.0,2500.0,3000.0,3500.0,4000.0,4500.0,5000.0,5500.0,6000.0,6500.0,7000.0,7500.0,8000.0,8500.0,9000.0,9500.0,500.0,1000.0,1500.0,2000.0,2500.0,3000.0,3500.0,4000.0,4500.0,5000.0,5500.0,6000.0,6500.0,7000.0,7500.0,8000.0,8500.0,9000.0,9500.0,500.0,1000.0,1500.0,2000.0,2500.0,3000.0,3500.0,4000.0,4500.0,5000.0,5500.0,6000.0,6500.0,7000.0,7500.0,8000.0,8500.0,9000.0,9500.0,500.0,1000.0,1500.0,2000.0,2500.0,3000.0,3500.0,4000.0,4500.0,5000.0,5500.0,6000.0,6500.0,7000.0,7500.0,8000.0,8500.0,9000.0,9500.0,500.0,1000.0,1500.0,2000.0,2500.0,3000.0,3500.0,4000.0,4500.0,5000.0,5500.0,6000.0,6500.0,7000.0,7500.0,8000.0,8500.0,9000.0,9500.0,500.0,1000.0,1500.0,2000.0,2500.0,3000.0,3500.0,4000.0,4500.0,5000.0,5500.0,6000.0,6500.0,7000.0,7500.0,8000.0,8500.0,9000.0,9500.0,500.0,1000.0,1500.0,2000.0,2500.0,3000.0,3500.0,4000.0,4500.0,5000.0,5500.0,6000.0,6500.0,7000.0,7500.0,8000.0,8500.0,9000.0,9500.0,500.0,1000.0,1500.0,2000.0,2500.0,3000.0,3500.0,4000.0,4500.0,5000.0,5500.0,6000.0,6500.0,7000.0,7500.0,8000.0,8500.0,9000.0,9500.0,500.0,1000.0,1500.0,2000.0,2500.0,3000.0,3500.0,4000.0,4500.0,5000.0,5500.0,6000.0,6500.0,7000.0,7500.0,8000.0,8500.0,9000.0,9500.0,500.0,1000.0,1500.0,2000.0,2500.0,3000.0,3500.0,4000.0,4500.0,5000.0,5500.0,6000.0,6500.0,7000.0,7500.0,8000.0,8500.0,9000.0,9500.0,500.0,1000.0,1500.0,2000.0,2500.0,3000.0,3500.0,4000.0,4500.0,5000.0,5500.0,6000.0,6500.0,7000.0,7500.0,8000.0,8500.0,9000.0,9500.0,500.0,1000.0,1500.0,2000.0,2500.0,3000.0,3500.0,4000.0,4500.0,5000.0,5500.0,6000.0,6500.0,7000.0,7500.0,8000.0,8500.0,9000.0,9500.0,500.0,1000.0,1500.0,2000.0,2500.0,3000.0,3500.0,4000.0,4500.0,5000.0,5500.0,6000.0,6500.0,7000.0,7500.0,8000.0,8500.0,9000.0,9500.0,500.0,1000.0,1500.0,2000.0,2500.0,3000.0,3500.0,4000.0,4500.0,5000.0,5500.0,6000.0,6500.0,7000.0,7500.0,8000.0,8500.0,9000.0,9500.0],\"z\":[-0.0311271340919212,-0.02068087419513935,0.01099877334010101,0.0002931530622930015,0.002686127447480008,-0.013854743140488436,-0.035319666083236834,-0.03596435493037665,-0.010941314772306376,-0.0110199677750546,-0.018340674894894535,0.0005831018819592582,-0.000233890839572796,-0.0037109508952981214,-0.004117921726791349,-0.00278218578357707,0.004476550083874058,-0.021914867433674143,-0.01175317153700941,-0.014333592656561724,0.03584700510854997,0.03719576143093372,0.005057574926601152,-0.056012296886991775,-0.07750268849936197,-0.062003512820974396,-0.033100347869537805,-0.01960207868977066,-0.02070136277996551,-0.01646035739115753,-0.004701117344203556,-0.006534736131287026,-0.03721650527784125,-0.04066404724649195,-0.00791910888418765,-0.015037116406085299,-0.017393774264345074,-0.01777091580141638,0.05428833159082911,0.07870246826059814,0.09600834937769007,0.008125265191675255,-0.09084084848752719,-0.08464087163820402,-0.04176150550560898,-0.034527648772628344,-0.015806103289969738,-0.017407580476394922,-0.018999925741928814,0.007903531241953924,0.026035563524024596,-0.038854520496500095,-0.02520292585406958,-0.010007872422646667,0.0007485243077498338,0.003980565405580188,-0.0018744434051160414,0.030400676837383855,0.04894960626156674,0.04670232272669196,-0.01939528517798682,-0.05782430528877039,-0.04784442320526975,-0.06571025812099834,-0.053651734531570475,-0.036208480962108935,-0.025345738865153455,-0.028026715073142246,0.014580160486934031,0.01568803461789745,-0.02562448674402015,-0.03557972561645601,-0.010617520077852353,-0.0011663737910966154,-0.0037469757497565134,-0.016512121404333564,-0.02614503638436359,-0.026581082140520344,0.0077851101558364545,0.00043125210213907066,-0.02478385918929631,-0.06647448719616306,-0.10415266920183505,-0.07980169157953898,-0.04303102655191221,-0.03625085414844524,-0.03781806570038245,-0.007947925524904594,-0.0031746473726015894,-0.02955273866063023,-0.03661443006890175,-0.032085676604136824,-0.033328405337790974,-0.038030179930997256,-0.025309934105334272,-0.06916710072296949,-0.04366369443339027,0.0087875975012807,0.006618350558107217,-0.017746121506407166,-0.06560657863912611,-0.07025107833738299,-0.01996452253801236,-0.015304442167214913,-0.0387877921352529,-0.03678054514292769,-0.027586645116383864,-0.023589964433243578,-0.03831086217808501,-0.0420039900297265,-0.04860106661763293,-0.047044445362833316,-0.025996023286843657,-0.027795863676989732,-0.044538496049693815,-0.0019568284413891725,0.0398716730745994,0.021609406710331455,0.019404734915503694,-0.008086035040698488,0.009333240330627173,-0.0008900970350258185,-0.013374026657455651,-0.019756108728014327,-0.009881902511329968,-0.012536700434631249,-0.018963858617636584,-0.03421021811939323,-0.04069123252530807,-0.052668247029910534,-0.04003664160647231,-0.04863182546753475,-0.04026661233049887,-0.01621245384035848,0.024086599179024514,0.045544390365680344,0.03669750507925695,0.041358203497012656,0.019133224268662725,-0.02500003270489224,-0.025000547707280482,-0.0031887574272818162,-0.0005669846320259953,0.0031451332861019005,-0.0008290130476930248,-0.01631374471139599,-0.027470192694731686,-0.024680791352949073,-0.026681041989014227,-0.0381516455561861,-0.040846011489732936,-0.03867613664990423,-0.00030573766223316494,0.02840657235620595,0.05028225604462295,0.0364291140367081,0.0027621152661107323,-0.05373975141698969,-0.07493738830218098,-0.035184457144426244,-0.0021829696724446268,-0.01040007285239619,-0.009886583114598146,-0.006905462819177176,-0.014367524713294763,-0.012010710243092257,-0.035272419770267883,-0.045372592072818865,-0.04983941435501153,-0.05376944440951702,-0.03269020107184729,-3.510505379330711e-05,0.030619528805824792,0.04879990853129436,0.018970643026631127,-0.03307254465809198,-0.07454236846690382,-0.0724623668343564,-0.03025387379621869,-0.013157736118120916,-0.018234463893195933,-0.014646153881858616,-0.0038941809843930555,-0.0012000161945688419,-0.013238542271454917,-0.032028746107988504,-0.04060137200817055,-0.060882091601836656,-0.04884929686036463,-0.027183425439238247,0.02705295137969342,0.06844701174321843,0.07359228788894752,0.03392029680031187,-0.04909470399189883,-0.09561964860185033,-0.05893063898911218,-0.028985501855921504,-0.011518585291120174,-0.016940270807572655,-0.008780365343467586,0.008932645335301689,0.028164019272248028,-0.003397232606223605,-0.031015624925210303,-0.05866100224601495,-0.05902190153298865,-0.03675025223356823,-0.01444716846226577,0.0395411440287378,0.07725092410967654,0.09848562230210943,0.01710670436825835,-0.09901820024813522,-0.09270486753296553,-0.05575665464998931,-0.02538864482530445,-0.01639616058559864,-0.024969215245409647,-0.01714468878916154,0.017155666300028658,0.038213053485341555,-0.009632581078232446,-0.05766003300436694,-0.05544940299566404,-0.03846511471834781,-0.01789264854938243,-0.016493725624187112,0.044600947163155685,0.09648523819077423,0.08491188703983965,-0.04782053864402288,-0.1018110625722201,-0.07565326294071519,-0.0436804756430856,-0.03085931056132144,-0.027438161115168475,-0.03519662739391129,-0.01294282997720721,0.02566061213977162,0.04917935878441228,-0.055897210761614365,-0.06754027414143755,-0.03264323589143691,-0.014776852305783872,-0.01571376437068482,-0.022579221762447206,0.0008595590582151638,-0.018219383856688774,-0.018704884172490874,-0.054719498582342214,-0.058082751814876696,-0.051680447309250165,-0.05068356233654029,-0.04083037090936773,-0.04086881426017032,-0.036519722495909075,-0.021124824471199545,0.010779106201593981,-0.036683192872995346,-0.06068788790462558,-0.043934675567599286,-0.004602674234631207,-0.009654338515992383,-0.02229093894230253,-0.028048591010396223,-0.06985759876373662,-0.04786822962877903,-0.0004721907164568337,-0.010080673610667553,-0.03437701547421474,-0.0688587449788846,-0.07918856245482225,-0.07624307136761277,-0.03818249274371206,-0.03679561448742727,-0.02526073709413609,-0.03468282682514428,-0.042908135259406156,-0.027911908841579004,-0.006420249238274429,-0.008314983623314473,-0.03215116419023122,-0.04925245936877578,-0.01321575653949599,-0.036872172013616464,-0.004184912608196495,0.033930995091812084,0.00517902001163249,-0.027519965894171557,-0.060256324673461634,-0.07683819057161627,-0.01509580196573509,-0.009206303517105654,-0.01861421373994479,-0.027241428287847338,-0.028072146352900222,-0.01956237328004201,-6.223855682102944e-05,0.004596006506352602,-0.00010317906759933423,-0.03335715898271611,0.00011595402967474154,0.01991604720381631,-0.011559571387089997,0.021480946662970995,0.03275967676811756,0.011579521466036422,-0.005592290540484039,-0.040049278706459135,-0.044396646710678375,-0.015209481763889476,-0.00992943722019998,-0.028036512484557824,-0.02474281200522955,-0.021818016271478037,-0.014208870266985784,-0.0014504818784614754,0.007002387433025136,-0.0019186276902607947,0.003665158613662259,0.029179871369457853,0.04260660573124106,0.00861939821247984,0.023269368503855452,0.020838646681565456,0.00612255919300321,-0.0069068514542066275,-0.02837575875203851,-0.04937123695293382,-0.026253151397479062,-0.025771705310466513,-0.02754479941756467,-0.018493539882746993,-0.015985885170540545,-0.012920002324097894,-0.005648302686041518,-0.003960249693733736,0.010256379795135176,0.028821384370666545,0.04575561066873878,0.046600497044805816,0.0011179213265043592,0.010600551803160236,0.01532777576039016,0.007816866948078843,-0.025798556837262576,-0.05029160313711322,-0.07176606479498412,-0.05540781098624687,-0.03576284584934433,-0.025655753131812727,-0.017818289082027528,-0.008191229048260775,-0.008048806350038632,-0.004801923484143164,-0.00835343695467259,0.00576983548066392,0.021230605908201777,0.029995755341736707,0.02453448719425457],\"type\":\"scatter3d\"}],                        {\"template\":{\"data\":{\"histogram2dcontour\":[{\"type\":\"histogram2dcontour\",\"colorbar\":{\"outlinewidth\":0,\"ticks\":\"\"},\"colorscale\":[[0.0,\"#0d0887\"],[0.1111111111111111,\"#46039f\"],[0.2222222222222222,\"#7201a8\"],[0.3333333333333333,\"#9c179e\"],[0.4444444444444444,\"#bd3786\"],[0.5555555555555556,\"#d8576b\"],[0.6666666666666666,\"#ed7953\"],[0.7777777777777778,\"#fb9f3a\"],[0.8888888888888888,\"#fdca26\"],[1.0,\"#f0f921\"]]}],\"choropleth\":[{\"type\":\"choropleth\",\"colorbar\":{\"outlinewidth\":0,\"ticks\":\"\"}}],\"histogram2d\":[{\"type\":\"histogram2d\",\"colorbar\":{\"outlinewidth\":0,\"ticks\":\"\"},\"colorscale\":[[0.0,\"#0d0887\"],[0.1111111111111111,\"#46039f\"],[0.2222222222222222,\"#7201a8\"],[0.3333333333333333,\"#9c179e\"],[0.4444444444444444,\"#bd3786\"],[0.5555555555555556,\"#d8576b\"],[0.6666666666666666,\"#ed7953\"],[0.7777777777777778,\"#fb9f3a\"],[0.8888888888888888,\"#fdca26\"],[1.0,\"#f0f921\"]]}],\"heatmap\":[{\"type\":\"heatmap\",\"colorbar\":{\"outlinewidth\":0,\"ticks\":\"\"},\"colorscale\":[[0.0,\"#0d0887\"],[0.1111111111111111,\"#46039f\"],[0.2222222222222222,\"#7201a8\"],[0.3333333333333333,\"#9c179e\"],[0.4444444444444444,\"#bd3786\"],[0.5555555555555556,\"#d8576b\"],[0.6666666666666666,\"#ed7953\"],[0.7777777777777778,\"#fb9f3a\"],[0.8888888888888888,\"#fdca26\"],[1.0,\"#f0f921\"]]}],\"heatmapgl\":[{\"type\":\"heatmapgl\",\"colorbar\":{\"outlinewidth\":0,\"ticks\":\"\"},\"colorscale\":[[0.0,\"#0d0887\"],[0.1111111111111111,\"#46039f\"],[0.2222222222222222,\"#7201a8\"],[0.3333333333333333,\"#9c179e\"],[0.4444444444444444,\"#bd3786\"],[0.5555555555555556,\"#d8576b\"],[0.6666666666666666,\"#ed7953\"],[0.7777777777777778,\"#fb9f3a\"],[0.8888888888888888,\"#fdca26\"],[1.0,\"#f0f921\"]]}],\"contourcarpet\":[{\"type\":\"contourcarpet\",\"colorbar\":{\"outlinewidth\":0,\"ticks\":\"\"}}],\"contour\":[{\"type\":\"contour\",\"colorbar\":{\"outlinewidth\":0,\"ticks\":\"\"},\"colorscale\":[[0.0,\"#0d0887\"],[0.1111111111111111,\"#46039f\"],[0.2222222222222222,\"#7201a8\"],[0.3333333333333333,\"#9c179e\"],[0.4444444444444444,\"#bd3786\"],[0.5555555555555556,\"#d8576b\"],[0.6666666666666666,\"#ed7953\"],[0.7777777777777778,\"#fb9f3a\"],[0.8888888888888888,\"#fdca26\"],[1.0,\"#f0f921\"]]}],\"surface\":[{\"type\":\"surface\",\"colorbar\":{\"outlinewidth\":0,\"ticks\":\"\"},\"colorscale\":[[0.0,\"#0d0887\"],[0.1111111111111111,\"#46039f\"],[0.2222222222222222,\"#7201a8\"],[0.3333333333333333,\"#9c179e\"],[0.4444444444444444,\"#bd3786\"],[0.5555555555555556,\"#d8576b\"],[0.6666666666666666,\"#ed7953\"],[0.7777777777777778,\"#fb9f3a\"],[0.8888888888888888,\"#fdca26\"],[1.0,\"#f0f921\"]]}],\"mesh3d\":[{\"type\":\"mesh3d\",\"colorbar\":{\"outlinewidth\":0,\"ticks\":\"\"}}],\"scatter\":[{\"fillpattern\":{\"fillmode\":\"overlay\",\"size\":10,\"solidity\":0.2},\"type\":\"scatter\"}],\"parcoords\":[{\"type\":\"parcoords\",\"line\":{\"colorbar\":{\"outlinewidth\":0,\"ticks\":\"\"}}}],\"scatterpolargl\":[{\"type\":\"scatterpolargl\",\"marker\":{\"colorbar\":{\"outlinewidth\":0,\"ticks\":\"\"}}}],\"bar\":[{\"error_x\":{\"color\":\"#2a3f5f\"},\"error_y\":{\"color\":\"#2a3f5f\"},\"marker\":{\"line\":{\"color\":\"#E5ECF6\",\"width\":0.5},\"pattern\":{\"fillmode\":\"overlay\",\"size\":10,\"solidity\":0.2}},\"type\":\"bar\"}],\"scattergeo\":[{\"type\":\"scattergeo\",\"marker\":{\"colorbar\":{\"outlinewidth\":0,\"ticks\":\"\"}}}],\"scatterpolar\":[{\"type\":\"scatterpolar\",\"marker\":{\"colorbar\":{\"outlinewidth\":0,\"ticks\":\"\"}}}],\"histogram\":[{\"marker\":{\"pattern\":{\"fillmode\":\"overlay\",\"size\":10,\"solidity\":0.2}},\"type\":\"histogram\"}],\"scattergl\":[{\"type\":\"scattergl\",\"marker\":{\"colorbar\":{\"outlinewidth\":0,\"ticks\":\"\"}}}],\"scatter3d\":[{\"type\":\"scatter3d\",\"line\":{\"colorbar\":{\"outlinewidth\":0,\"ticks\":\"\"}},\"marker\":{\"colorbar\":{\"outlinewidth\":0,\"ticks\":\"\"}}}],\"scattermapbox\":[{\"type\":\"scattermapbox\",\"marker\":{\"colorbar\":{\"outlinewidth\":0,\"ticks\":\"\"}}}],\"scatterternary\":[{\"type\":\"scatterternary\",\"marker\":{\"colorbar\":{\"outlinewidth\":0,\"ticks\":\"\"}}}],\"scattercarpet\":[{\"type\":\"scattercarpet\",\"marker\":{\"colorbar\":{\"outlinewidth\":0,\"ticks\":\"\"}}}],\"carpet\":[{\"aaxis\":{\"endlinecolor\":\"#2a3f5f\",\"gridcolor\":\"white\",\"linecolor\":\"white\",\"minorgridcolor\":\"white\",\"startlinecolor\":\"#2a3f5f\"},\"baxis\":{\"endlinecolor\":\"#2a3f5f\",\"gridcolor\":\"white\",\"linecolor\":\"white\",\"minorgridcolor\":\"white\",\"startlinecolor\":\"#2a3f5f\"},\"type\":\"carpet\"}],\"table\":[{\"cells\":{\"fill\":{\"color\":\"#EBF0F8\"},\"line\":{\"color\":\"white\"}},\"header\":{\"fill\":{\"color\":\"#C8D4E3\"},\"line\":{\"color\":\"white\"}},\"type\":\"table\"}],\"barpolar\":[{\"marker\":{\"line\":{\"color\":\"#E5ECF6\",\"width\":0.5},\"pattern\":{\"fillmode\":\"overlay\",\"size\":10,\"solidity\":0.2}},\"type\":\"barpolar\"}],\"pie\":[{\"automargin\":true,\"type\":\"pie\"}]},\"layout\":{\"autotypenumbers\":\"strict\",\"colorway\":[\"#636efa\",\"#EF553B\",\"#00cc96\",\"#ab63fa\",\"#FFA15A\",\"#19d3f3\",\"#FF6692\",\"#B6E880\",\"#FF97FF\",\"#FECB52\"],\"font\":{\"color\":\"#2a3f5f\"},\"hovermode\":\"closest\",\"hoverlabel\":{\"align\":\"left\"},\"paper_bgcolor\":\"white\",\"plot_bgcolor\":\"#E5ECF6\",\"polar\":{\"bgcolor\":\"#E5ECF6\",\"angularaxis\":{\"gridcolor\":\"white\",\"linecolor\":\"white\",\"ticks\":\"\"},\"radialaxis\":{\"gridcolor\":\"white\",\"linecolor\":\"white\",\"ticks\":\"\"}},\"ternary\":{\"bgcolor\":\"#E5ECF6\",\"aaxis\":{\"gridcolor\":\"white\",\"linecolor\":\"white\",\"ticks\":\"\"},\"baxis\":{\"gridcolor\":\"white\",\"linecolor\":\"white\",\"ticks\":\"\"},\"caxis\":{\"gridcolor\":\"white\",\"linecolor\":\"white\",\"ticks\":\"\"}},\"coloraxis\":{\"colorbar\":{\"outlinewidth\":0,\"ticks\":\"\"}},\"colorscale\":{\"sequential\":[[0.0,\"#0d0887\"],[0.1111111111111111,\"#46039f\"],[0.2222222222222222,\"#7201a8\"],[0.3333333333333333,\"#9c179e\"],[0.4444444444444444,\"#bd3786\"],[0.5555555555555556,\"#d8576b\"],[0.6666666666666666,\"#ed7953\"],[0.7777777777777778,\"#fb9f3a\"],[0.8888888888888888,\"#fdca26\"],[1.0,\"#f0f921\"]],\"sequentialminus\":[[0.0,\"#0d0887\"],[0.1111111111111111,\"#46039f\"],[0.2222222222222222,\"#7201a8\"],[0.3333333333333333,\"#9c179e\"],[0.4444444444444444,\"#bd3786\"],[0.5555555555555556,\"#d8576b\"],[0.6666666666666666,\"#ed7953\"],[0.7777777777777778,\"#fb9f3a\"],[0.8888888888888888,\"#fdca26\"],[1.0,\"#f0f921\"]],\"diverging\":[[0,\"#8e0152\"],[0.1,\"#c51b7d\"],[0.2,\"#de77ae\"],[0.3,\"#f1b6da\"],[0.4,\"#fde0ef\"],[0.5,\"#f7f7f7\"],[0.6,\"#e6f5d0\"],[0.7,\"#b8e186\"],[0.8,\"#7fbc41\"],[0.9,\"#4d9221\"],[1,\"#276419\"]]},\"xaxis\":{\"gridcolor\":\"white\",\"linecolor\":\"white\",\"ticks\":\"\",\"title\":{\"standoff\":15},\"zerolinecolor\":\"white\",\"automargin\":true,\"zerolinewidth\":2},\"yaxis\":{\"gridcolor\":\"white\",\"linecolor\":\"white\",\"ticks\":\"\",\"title\":{\"standoff\":15},\"zerolinecolor\":\"white\",\"automargin\":true,\"zerolinewidth\":2},\"scene\":{\"xaxis\":{\"backgroundcolor\":\"#E5ECF6\",\"gridcolor\":\"white\",\"linecolor\":\"white\",\"showbackground\":true,\"ticks\":\"\",\"zerolinecolor\":\"white\",\"gridwidth\":2},\"yaxis\":{\"backgroundcolor\":\"#E5ECF6\",\"gridcolor\":\"white\",\"linecolor\":\"white\",\"showbackground\":true,\"ticks\":\"\",\"zerolinecolor\":\"white\",\"gridwidth\":2},\"zaxis\":{\"backgroundcolor\":\"#E5ECF6\",\"gridcolor\":\"white\",\"linecolor\":\"white\",\"showbackground\":true,\"ticks\":\"\",\"zerolinecolor\":\"white\",\"gridwidth\":2}},\"shapedefaults\":{\"line\":{\"color\":\"#2a3f5f\"}},\"annotationdefaults\":{\"arrowcolor\":\"#2a3f5f\",\"arrowhead\":0,\"arrowwidth\":1},\"geo\":{\"bgcolor\":\"white\",\"landcolor\":\"#E5ECF6\",\"subunitcolor\":\"white\",\"showland\":true,\"showlakes\":true,\"lakecolor\":\"white\"},\"title\":{\"x\":0.05},\"mapbox\":{\"style\":\"light\"}}},\"scene\":{\"domain\":{\"x\":[0.0,1.0],\"y\":[0.0,1.0]},\"xaxis\":{\"title\":{\"text\":\"predict_period\"}},\"yaxis\":{\"title\":{\"text\":\"lookback_period\"}},\"zaxis\":{\"title\":{\"text\":\"corr\"}}},\"coloraxis\":{\"colorbar\":{\"title\":{\"text\":\"lookback_period\"}},\"colorscale\":[[0.0,\"#0d0887\"],[0.1111111111111111,\"#46039f\"],[0.2222222222222222,\"#7201a8\"],[0.3333333333333333,\"#9c179e\"],[0.4444444444444444,\"#bd3786\"],[0.5555555555555556,\"#d8576b\"],[0.6666666666666666,\"#ed7953\"],[0.7777777777777778,\"#fb9f3a\"],[0.8888888888888888,\"#fdca26\"],[1.0,\"#f0f921\"]]},\"legend\":{\"tracegroupgap\":0},\"margin\":{\"t\":60}},                        {\"responsive\": true}                    ).then(function(){\n",
       "                            \n",
       "var gd = document.getElementById('06ab89a6-def2-45bf-8f8d-f9b4d86b1bf0');\n",
       "var x = new MutationObserver(function (mutations, observer) {{\n",
       "        var display = window.getComputedStyle(gd).display;\n",
       "        if (!display || display === 'none') {{\n",
       "            console.log([gd, 'removed!']);\n",
       "            Plotly.purge(gd);\n",
       "            observer.disconnect();\n",
       "        }}\n",
       "}});\n",
       "\n",
       "// Listen for the removal of the full notebook cells\n",
       "var notebookContainer = gd.closest('#notebook-container');\n",
       "if (notebookContainer) {{\n",
       "    x.observe(notebookContainer, {childList: true});\n",
       "}}\n",
       "\n",
       "// Listen for the clearing of the current output cell\n",
       "var outputEl = gd.closest('.output');\n",
       "if (outputEl) {{\n",
       "    x.observe(outputEl, {childList: true});\n",
       "}}\n",
       "\n",
       "                        })                };                });            </script>        </div>"
      ]
     },
     "metadata": {},
     "output_type": "display_data"
    }
   ],
   "source": [
    "# this module test \n",
    "# 1. correlation of i periods' return between ts1 and the same period return for ts2\n",
    "# 2. correlation for ts1 past return vs ts2 future return\n",
    "# 3. correlation for ts2 past return vs ts1 future return\n",
    "# 4. correlation for ts1 past return vs ts1 future return\n",
    "# 5. correlation for ts2 past return vs ts2 future return\n",
    "import pandas as pd\n",
    "import numpy as np\n",
    "import datetime\n",
    "import plotly.express as px\n",
    "from plotly.subplots import make_subplots\n",
    "import plotly.graph_objects as go\n",
    "import scipy.stats as stats\n",
    "\n",
    "# read the trading data into a pandas data frame\n",
    "df = pd.read_csv('quantTest_data.csv',header = None, names = ['date','ts1','ts2'], index_col = 0)\n",
    "\n",
    "# correlation for ts1 vs ts2 return look back i period\n",
    "corr1 = pd.DataFrame()\n",
    "id = 1\n",
    "for i in range(200, 10000, 200):\n",
    "    r_df = pd.DataFrame(index = df.index)\n",
    "    # return of ts1 & ts2 for i periods\n",
    "    r_df['ts1_p'] = np.log(df['ts1']/df['ts1'].shift(i))     \n",
    "    r_df['ts2_p'] = np.log(df['ts2']/df['ts2'].shift(i))\n",
    "    r_df = r_df.dropna()\n",
    "    # calculate the Pearson correlation coefficient and the p-value\n",
    "    tcorr, p_value = stats.pearsonr(r_df['ts1_p'], r_df['ts2_p'])\n",
    "    # store correlation value\n",
    "    corr1.loc[id,'lookback_period'] = i\n",
    "    corr1.loc[id, 'corr'] = tcorr\n",
    "    corr1.loc[id, 'p_value'] = p_value\n",
    "    # number of valid data point\n",
    "    corr1.loc[id, 'rows'] = r_df.shape[0]\n",
    "    id+= 1\n",
    "corr1.to_csv('ts1ts2corr.csv')   \n",
    "\n",
    "fig = px.scatter(corr1, x='lookback_period', y='corr', title='Correlation between ts1 vs ts2 based on X period rolling return', )\n",
    "fig.update_xaxes(title='Return look back periods')\n",
    "fig.show()\n",
    "\n",
    "# correlation for ts1 past return vs ts2 future return\n",
    "corr2 = pd.DataFrame()\n",
    "id = 1\n",
    "# i = period for predicted return\n",
    "# j = period for look back return \n",
    "for i in range(500, 10000, 500):\n",
    "    for j in range(500, 10000, 500):\n",
    "        r_df = pd.DataFrame()\n",
    "        # return of ts1 for j periods starting at i lookback period\n",
    "        r_df['lookback_p'] = np.log(df['ts1'].shift(i)/df['ts1'].shift(i+j))   \n",
    "        # return of ts1 for i periods \n",
    "        r_df['predict_p'] = np.log(df['ts2']/df['ts2'].shift(i))    \n",
    "        r_df = r_df.dropna()\n",
    "        # calculate the Pearson correlation coefficient and the p-value\n",
    "        tcorr, p_value = stats.pearsonr(r_df['predict_p'], r_df['lookback_p'])\n",
    "        #print(i, r_df.shape[0], tcorr, p_value)\n",
    "        corr2.loc[id,'predict_period'] = i\n",
    "        corr2.loc[id,'lookback_period'] = j\n",
    "        corr2.loc[id, 'corr'] = tcorr\n",
    "        corr2.loc[id, 'p_value'] = p_value\n",
    "        corr2.loc[id, 'rows'] = r_df.shape[0]\n",
    "        id+= 1\n",
    "corr2.to_csv('ts1pre_corr.csv')   \n",
    "\n",
    "fig1 = px.scatter_3d(corr2, x='predict_period', y='lookback_period', z='corr', color='lookback_period')\n",
    "fig1.show()\n",
    "\n",
    "# correlation for ts2 past return vs ts1 future return\n",
    "corr3 = pd.DataFrame()\n",
    "id = 1\n",
    "for i in range(500, 10000, 500):\n",
    "    for j in range(500, 10000, 500):\n",
    "        r_df = pd.DataFrame()\n",
    "        # return of ts1 for j periods starting at i lookback period\n",
    "        r_df['lookback_p'] = np.log(df['ts2'].shift(i)/df['ts2'].shift(i+j))   \n",
    "        # return of ts1 for i periods \n",
    "        r_df['predict_p'] = np.log(df['ts1']/df['ts1'].shift(i))    \n",
    "        r_df = r_df.dropna()\n",
    "        # calculate the Pearson correlation coefficient and the p-value\n",
    "        tcorr, p_value = stats.pearsonr(r_df['predict_p'], r_df['lookback_p'])\n",
    "        #print(i, r_df.shape[0], tcorr, p_value)\n",
    "        corr3.loc[id,'predict_period'] = i\n",
    "        corr3.loc[id,'lookback_period'] = j\n",
    "        corr3.loc[id, 'corr'] = tcorr\n",
    "        corr3.loc[id, 'p_value'] = p_value\n",
    "        corr3.loc[id, 'rows'] = r_df.shape[0]\n",
    "        id+= 1\n",
    "corr3.to_csv('ts2pre_corr.csv')   \n",
    "\n",
    "fig2 = px.scatter_3d(corr3, x='predict_period', y='lookback_period', z='corr', color='lookback_period')\n",
    "fig2.show()\n",
    "\n",
    "\n",
    "# correlation for ts1 past return vs ts1 future return\n",
    "corr4 = pd.DataFrame()\n",
    "id = 1\n",
    "# i = period for predicted return\n",
    "# j = period for look back return \n",
    "for i in range(500, 10000, 500):\n",
    "    for j in range(500, 10000, 500):\n",
    "        r_df = pd.DataFrame()\n",
    "        # return of ts1 for j periods starting at i lookback period\n",
    "        r_df['lookback_p'] = np.log(df['ts1'].shift(i)/df['ts1'].shift(i+j))   \n",
    "        # return of ts1 for i periods \n",
    "        r_df['predict_p'] = np.log(df['ts1']/df['ts1'].shift(i))    \n",
    "        r_df = r_df.dropna()\n",
    "        # calculate the Pearson correlation coefficient and the p-value\n",
    "        tcorr, p_value = stats.pearsonr(r_df['predict_p'], r_df['lookback_p'])\n",
    "        #print(i, r_df.shape[0], tcorr, p_value)\n",
    "        corr4.loc[id,'predict_period'] = i\n",
    "        corr4.loc[id,'lookback_period'] = j\n",
    "        corr4.loc[id, 'corr'] = tcorr\n",
    "        corr4.loc[id, 'p_value'] = p_value\n",
    "        corr4.loc[id, 'rows'] = r_df.shape[0]\n",
    "        id+= 1\n",
    "corr4.to_csv('ts1_corr.csv')   \n",
    "\n",
    "fig3 = px.scatter_3d(corr4, x='predict_period', y='lookback_period', z='corr', color='lookback_period')\n",
    "fig3.show()\n",
    "\n",
    "# correlation for ts2 past return vs ts2 future return\n",
    "corr5 = pd.DataFrame()\n",
    "id = 1\n",
    "for i in range(500, 10000, 500):\n",
    "    for j in range(500, 10000, 500):\n",
    "        r_df = pd.DataFrame()\n",
    "        # return of ts1 for j periods starting at i lookback period\n",
    "        r_df['lookback_p'] = np.log(df['ts2'].shift(i)/df['ts2'].shift(i+j))   \n",
    "        # return of ts1 for i periods \n",
    "        r_df['predict_p'] = np.log(df['ts2']/df['ts2'].shift(i))    \n",
    "        r_df = r_df.dropna()\n",
    "        # calculate the Pearson correlation coefficient and the p-value\n",
    "        tcorr, p_value = stats.pearsonr(r_df['predict_p'], r_df['lookback_p'])\n",
    "        #print(i, r_df.shape[0], tcorr, p_value)\n",
    "        corr5.loc[id,'predict_period'] = i\n",
    "        corr5.loc[id,'lookback_period'] = j\n",
    "        corr5.loc[id, 'corr'] = tcorr\n",
    "        corr5.loc[id, 'p_value'] = p_value\n",
    "        corr5.loc[id, 'rows'] = r_df.shape[0]\n",
    "        id+= 1\n",
    "corr5.to_csv('ts2_corr.csv')   \n",
    "\n",
    "fig4 = px.scatter_3d(corr5, x='predict_period', y='lookback_period', z='corr', color='lookback_period')\n",
    "fig4.show()"
   ]
  },
  {
   "cell_type": "code",
   "execution_count": 7,
   "metadata": {},
   "outputs": [
    {
     "data": {
      "application/vnd.plotly.v1+json": {
       "config": {
        "plotlyServerURL": "https://plot.ly"
       },
       "data": [
        {
         "hovertemplate": "predict_period=%{x}<br>lookback_period=%{marker.color}<br>corr1=%{z}<extra></extra>",
         "legendgroup": "",
         "marker": {
          "color": [
           400,
           800,
           1200,
           1600,
           2000,
           2400,
           2800,
           3200,
           3600,
           4000,
           4400,
           4800,
           5200,
           5600,
           6000,
           6400,
           6800,
           7200,
           7600,
           8000,
           8400,
           8800,
           400,
           800,
           1200,
           1600,
           2000,
           2400,
           2800,
           3200,
           3600,
           4000,
           4400,
           4800,
           5200,
           5600,
           6000,
           6400,
           6800,
           7200,
           7600,
           8000,
           8400,
           8800,
           400,
           800,
           1200,
           1600,
           2000,
           2400,
           2800,
           3200,
           3600,
           4000,
           4400,
           4800,
           5200,
           5600,
           6000,
           6400,
           6800,
           7200,
           7600,
           8000,
           8400,
           8800,
           400,
           800,
           1200,
           1600,
           2000,
           2400,
           2800,
           3200,
           3600,
           4000,
           4400,
           4800,
           5200,
           5600,
           6000,
           6400,
           6800,
           7200,
           7600,
           8000,
           8400,
           8800,
           400,
           800,
           1200,
           1600,
           2000,
           2400,
           2800,
           3200,
           3600,
           4000,
           4400,
           4800,
           5200,
           5600,
           6000,
           6400,
           6800,
           7200,
           7600,
           8000,
           8400,
           8800,
           400,
           800,
           1200,
           1600,
           2000,
           2400,
           2800,
           3200,
           3600,
           4000,
           4400,
           4800,
           5200,
           5600,
           6000,
           6400,
           6800,
           7200,
           7600,
           8000,
           8400,
           8800,
           400,
           800,
           1200,
           1600,
           2000,
           2400,
           2800,
           3200,
           3600,
           4000,
           4400,
           4800,
           5200,
           5600,
           6000,
           6400,
           6800,
           7200,
           7600,
           8000,
           8400,
           8800,
           400,
           800,
           1200,
           1600,
           2000,
           2400,
           2800,
           3200,
           3600,
           4000,
           4400,
           4800,
           5200,
           5600,
           6000,
           6400,
           6800,
           7200,
           7600,
           8000,
           8400,
           8800,
           400,
           800,
           1200,
           1600,
           2000,
           2400,
           2800,
           3200,
           3600,
           4000,
           4400,
           4800,
           5200,
           5600,
           6000,
           6400,
           6800,
           7200,
           7600,
           8000,
           8400,
           8800,
           400,
           800,
           1200,
           1600,
           2000,
           2400,
           2800,
           3200,
           3600,
           4000,
           4400,
           4800,
           5200,
           5600,
           6000,
           6400,
           6800,
           7200,
           7600,
           8000,
           8400,
           8800,
           400,
           800,
           1200,
           1600,
           2000,
           2400,
           2800,
           3200,
           3600,
           4000,
           4400,
           4800,
           5200,
           5600,
           6000,
           6400,
           6800,
           7200,
           7600,
           8000,
           8400,
           8800,
           400,
           800,
           1200,
           1600,
           2000,
           2400,
           2800,
           3200,
           3600,
           4000,
           4400,
           4800,
           5200,
           5600,
           6000,
           6400,
           6800,
           7200,
           7600,
           8000,
           8400,
           8800,
           400,
           800,
           1200,
           1600,
           2000,
           2400,
           2800,
           3200,
           3600,
           4000,
           4400,
           4800,
           5200,
           5600,
           6000,
           6400,
           6800,
           7200,
           7600,
           8000,
           8400,
           8800,
           400,
           800,
           1200,
           1600,
           2000,
           2400,
           2800,
           3200,
           3600,
           4000,
           4400,
           4800,
           5200,
           5600,
           6000,
           6400,
           6800,
           7200,
           7600,
           8000,
           8400,
           8800,
           400,
           800,
           1200,
           1600,
           2000,
           2400,
           2800,
           3200,
           3600,
           4000,
           4400,
           4800,
           5200,
           5600,
           6000,
           6400,
           6800,
           7200,
           7600,
           8000,
           8400,
           8800,
           400,
           800,
           1200,
           1600,
           2000,
           2400,
           2800,
           3200,
           3600,
           4000,
           4400,
           4800,
           5200,
           5600,
           6000,
           6400,
           6800,
           7200,
           7600,
           8000,
           8400,
           8800,
           400,
           800,
           1200,
           1600,
           2000,
           2400,
           2800,
           3200,
           3600,
           4000,
           4400,
           4800,
           5200,
           5600,
           6000,
           6400,
           6800,
           7200,
           7600,
           8000,
           8400,
           8800,
           400,
           800,
           1200,
           1600,
           2000,
           2400,
           2800,
           3200,
           3600,
           4000,
           4400,
           4800,
           5200,
           5600,
           6000,
           6400,
           6800,
           7200,
           7600,
           8000,
           8400,
           8800,
           400,
           800,
           1200,
           1600,
           2000,
           2400,
           2800,
           3200,
           3600,
           4000,
           4400,
           4800,
           5200,
           5600,
           6000,
           6400,
           6800,
           7200,
           7600,
           8000,
           8400,
           8800,
           400,
           800,
           1200,
           1600,
           2000,
           2400,
           2800,
           3200,
           3600,
           4000,
           4400,
           4800,
           5200,
           5600,
           6000,
           6400,
           6800,
           7200,
           7600,
           8000,
           8400,
           8800,
           400,
           800,
           1200,
           1600,
           2000,
           2400,
           2800,
           3200,
           3600,
           4000,
           4400,
           4800,
           5200,
           5600,
           6000,
           6400,
           6800,
           7200,
           7600,
           8000,
           8400,
           8800,
           400,
           800,
           1200,
           1600,
           2000,
           2400,
           2800,
           3200,
           3600,
           4000,
           4400,
           4800,
           5200,
           5600,
           6000,
           6400,
           6800,
           7200,
           7600,
           8000,
           8400,
           8800
          ],
          "coloraxis": "coloraxis",
          "symbol": "circle"
         },
         "mode": "markers",
         "name": "",
         "scene": "scene",
         "showlegend": false,
         "type": "scatter3d",
         "x": [
          400,
          400,
          400,
          400,
          400,
          400,
          400,
          400,
          400,
          400,
          400,
          400,
          400,
          400,
          400,
          400,
          400,
          400,
          400,
          400,
          400,
          400,
          800,
          800,
          800,
          800,
          800,
          800,
          800,
          800,
          800,
          800,
          800,
          800,
          800,
          800,
          800,
          800,
          800,
          800,
          800,
          800,
          800,
          800,
          1200,
          1200,
          1200,
          1200,
          1200,
          1200,
          1200,
          1200,
          1200,
          1200,
          1200,
          1200,
          1200,
          1200,
          1200,
          1200,
          1200,
          1200,
          1200,
          1200,
          1200,
          1200,
          1600,
          1600,
          1600,
          1600,
          1600,
          1600,
          1600,
          1600,
          1600,
          1600,
          1600,
          1600,
          1600,
          1600,
          1600,
          1600,
          1600,
          1600,
          1600,
          1600,
          1600,
          1600,
          2000,
          2000,
          2000,
          2000,
          2000,
          2000,
          2000,
          2000,
          2000,
          2000,
          2000,
          2000,
          2000,
          2000,
          2000,
          2000,
          2000,
          2000,
          2000,
          2000,
          2000,
          2000,
          2400,
          2400,
          2400,
          2400,
          2400,
          2400,
          2400,
          2400,
          2400,
          2400,
          2400,
          2400,
          2400,
          2400,
          2400,
          2400,
          2400,
          2400,
          2400,
          2400,
          2400,
          2400,
          2800,
          2800,
          2800,
          2800,
          2800,
          2800,
          2800,
          2800,
          2800,
          2800,
          2800,
          2800,
          2800,
          2800,
          2800,
          2800,
          2800,
          2800,
          2800,
          2800,
          2800,
          2800,
          3200,
          3200,
          3200,
          3200,
          3200,
          3200,
          3200,
          3200,
          3200,
          3200,
          3200,
          3200,
          3200,
          3200,
          3200,
          3200,
          3200,
          3200,
          3200,
          3200,
          3200,
          3200,
          3600,
          3600,
          3600,
          3600,
          3600,
          3600,
          3600,
          3600,
          3600,
          3600,
          3600,
          3600,
          3600,
          3600,
          3600,
          3600,
          3600,
          3600,
          3600,
          3600,
          3600,
          3600,
          4000,
          4000,
          4000,
          4000,
          4000,
          4000,
          4000,
          4000,
          4000,
          4000,
          4000,
          4000,
          4000,
          4000,
          4000,
          4000,
          4000,
          4000,
          4000,
          4000,
          4000,
          4000,
          4400,
          4400,
          4400,
          4400,
          4400,
          4400,
          4400,
          4400,
          4400,
          4400,
          4400,
          4400,
          4400,
          4400,
          4400,
          4400,
          4400,
          4400,
          4400,
          4400,
          4400,
          4400,
          4800,
          4800,
          4800,
          4800,
          4800,
          4800,
          4800,
          4800,
          4800,
          4800,
          4800,
          4800,
          4800,
          4800,
          4800,
          4800,
          4800,
          4800,
          4800,
          4800,
          4800,
          4800,
          5200,
          5200,
          5200,
          5200,
          5200,
          5200,
          5200,
          5200,
          5200,
          5200,
          5200,
          5200,
          5200,
          5200,
          5200,
          5200,
          5200,
          5200,
          5200,
          5200,
          5200,
          5200,
          5600,
          5600,
          5600,
          5600,
          5600,
          5600,
          5600,
          5600,
          5600,
          5600,
          5600,
          5600,
          5600,
          5600,
          5600,
          5600,
          5600,
          5600,
          5600,
          5600,
          5600,
          5600,
          6000,
          6000,
          6000,
          6000,
          6000,
          6000,
          6000,
          6000,
          6000,
          6000,
          6000,
          6000,
          6000,
          6000,
          6000,
          6000,
          6000,
          6000,
          6000,
          6000,
          6000,
          6000,
          6400,
          6400,
          6400,
          6400,
          6400,
          6400,
          6400,
          6400,
          6400,
          6400,
          6400,
          6400,
          6400,
          6400,
          6400,
          6400,
          6400,
          6400,
          6400,
          6400,
          6400,
          6400,
          6800,
          6800,
          6800,
          6800,
          6800,
          6800,
          6800,
          6800,
          6800,
          6800,
          6800,
          6800,
          6800,
          6800,
          6800,
          6800,
          6800,
          6800,
          6800,
          6800,
          6800,
          6800,
          7200,
          7200,
          7200,
          7200,
          7200,
          7200,
          7200,
          7200,
          7200,
          7200,
          7200,
          7200,
          7200,
          7200,
          7200,
          7200,
          7200,
          7200,
          7200,
          7200,
          7200,
          7200,
          7600,
          7600,
          7600,
          7600,
          7600,
          7600,
          7600,
          7600,
          7600,
          7600,
          7600,
          7600,
          7600,
          7600,
          7600,
          7600,
          7600,
          7600,
          7600,
          7600,
          7600,
          7600,
          8000,
          8000,
          8000,
          8000,
          8000,
          8000,
          8000,
          8000,
          8000,
          8000,
          8000,
          8000,
          8000,
          8000,
          8000,
          8000,
          8000,
          8000,
          8000,
          8000,
          8000,
          8000,
          8400,
          8400,
          8400,
          8400,
          8400,
          8400,
          8400,
          8400,
          8400,
          8400,
          8400,
          8400,
          8400,
          8400,
          8400,
          8400,
          8400,
          8400,
          8400,
          8400,
          8400,
          8400,
          8800,
          8800,
          8800,
          8800,
          8800,
          8800,
          8800,
          8800,
          8800,
          8800,
          8800,
          8800,
          8800,
          8800,
          8800,
          8800,
          8800,
          8800,
          8800,
          8800,
          8800,
          8800
         ],
         "y": [
          400,
          800,
          1200,
          1600,
          2000,
          2400,
          2800,
          3200,
          3600,
          4000,
          4400,
          4800,
          5200,
          5600,
          6000,
          6400,
          6800,
          7200,
          7600,
          8000,
          8400,
          8800,
          400,
          800,
          1200,
          1600,
          2000,
          2400,
          2800,
          3200,
          3600,
          4000,
          4400,
          4800,
          5200,
          5600,
          6000,
          6400,
          6800,
          7200,
          7600,
          8000,
          8400,
          8800,
          400,
          800,
          1200,
          1600,
          2000,
          2400,
          2800,
          3200,
          3600,
          4000,
          4400,
          4800,
          5200,
          5600,
          6000,
          6400,
          6800,
          7200,
          7600,
          8000,
          8400,
          8800,
          400,
          800,
          1200,
          1600,
          2000,
          2400,
          2800,
          3200,
          3600,
          4000,
          4400,
          4800,
          5200,
          5600,
          6000,
          6400,
          6800,
          7200,
          7600,
          8000,
          8400,
          8800,
          400,
          800,
          1200,
          1600,
          2000,
          2400,
          2800,
          3200,
          3600,
          4000,
          4400,
          4800,
          5200,
          5600,
          6000,
          6400,
          6800,
          7200,
          7600,
          8000,
          8400,
          8800,
          400,
          800,
          1200,
          1600,
          2000,
          2400,
          2800,
          3200,
          3600,
          4000,
          4400,
          4800,
          5200,
          5600,
          6000,
          6400,
          6800,
          7200,
          7600,
          8000,
          8400,
          8800,
          400,
          800,
          1200,
          1600,
          2000,
          2400,
          2800,
          3200,
          3600,
          4000,
          4400,
          4800,
          5200,
          5600,
          6000,
          6400,
          6800,
          7200,
          7600,
          8000,
          8400,
          8800,
          400,
          800,
          1200,
          1600,
          2000,
          2400,
          2800,
          3200,
          3600,
          4000,
          4400,
          4800,
          5200,
          5600,
          6000,
          6400,
          6800,
          7200,
          7600,
          8000,
          8400,
          8800,
          400,
          800,
          1200,
          1600,
          2000,
          2400,
          2800,
          3200,
          3600,
          4000,
          4400,
          4800,
          5200,
          5600,
          6000,
          6400,
          6800,
          7200,
          7600,
          8000,
          8400,
          8800,
          400,
          800,
          1200,
          1600,
          2000,
          2400,
          2800,
          3200,
          3600,
          4000,
          4400,
          4800,
          5200,
          5600,
          6000,
          6400,
          6800,
          7200,
          7600,
          8000,
          8400,
          8800,
          400,
          800,
          1200,
          1600,
          2000,
          2400,
          2800,
          3200,
          3600,
          4000,
          4400,
          4800,
          5200,
          5600,
          6000,
          6400,
          6800,
          7200,
          7600,
          8000,
          8400,
          8800,
          400,
          800,
          1200,
          1600,
          2000,
          2400,
          2800,
          3200,
          3600,
          4000,
          4400,
          4800,
          5200,
          5600,
          6000,
          6400,
          6800,
          7200,
          7600,
          8000,
          8400,
          8800,
          400,
          800,
          1200,
          1600,
          2000,
          2400,
          2800,
          3200,
          3600,
          4000,
          4400,
          4800,
          5200,
          5600,
          6000,
          6400,
          6800,
          7200,
          7600,
          8000,
          8400,
          8800,
          400,
          800,
          1200,
          1600,
          2000,
          2400,
          2800,
          3200,
          3600,
          4000,
          4400,
          4800,
          5200,
          5600,
          6000,
          6400,
          6800,
          7200,
          7600,
          8000,
          8400,
          8800,
          400,
          800,
          1200,
          1600,
          2000,
          2400,
          2800,
          3200,
          3600,
          4000,
          4400,
          4800,
          5200,
          5600,
          6000,
          6400,
          6800,
          7200,
          7600,
          8000,
          8400,
          8800,
          400,
          800,
          1200,
          1600,
          2000,
          2400,
          2800,
          3200,
          3600,
          4000,
          4400,
          4800,
          5200,
          5600,
          6000,
          6400,
          6800,
          7200,
          7600,
          8000,
          8400,
          8800,
          400,
          800,
          1200,
          1600,
          2000,
          2400,
          2800,
          3200,
          3600,
          4000,
          4400,
          4800,
          5200,
          5600,
          6000,
          6400,
          6800,
          7200,
          7600,
          8000,
          8400,
          8800,
          400,
          800,
          1200,
          1600,
          2000,
          2400,
          2800,
          3200,
          3600,
          4000,
          4400,
          4800,
          5200,
          5600,
          6000,
          6400,
          6800,
          7200,
          7600,
          8000,
          8400,
          8800,
          400,
          800,
          1200,
          1600,
          2000,
          2400,
          2800,
          3200,
          3600,
          4000,
          4400,
          4800,
          5200,
          5600,
          6000,
          6400,
          6800,
          7200,
          7600,
          8000,
          8400,
          8800,
          400,
          800,
          1200,
          1600,
          2000,
          2400,
          2800,
          3200,
          3600,
          4000,
          4400,
          4800,
          5200,
          5600,
          6000,
          6400,
          6800,
          7200,
          7600,
          8000,
          8400,
          8800,
          400,
          800,
          1200,
          1600,
          2000,
          2400,
          2800,
          3200,
          3600,
          4000,
          4400,
          4800,
          5200,
          5600,
          6000,
          6400,
          6800,
          7200,
          7600,
          8000,
          8400,
          8800,
          400,
          800,
          1200,
          1600,
          2000,
          2400,
          2800,
          3200,
          3600,
          4000,
          4400,
          4800,
          5200,
          5600,
          6000,
          6400,
          6800,
          7200,
          7600,
          8000,
          8400,
          8800
         ],
         "z": [
          -0.05451866152503308,
          -0.17388419587524134,
          -0.1821853373623857,
          -0.12163267473709784,
          -0.04937094828334522,
          -0.30948626150697844,
          -0.12227799079314786,
          -0.07182354914464928,
          -0.09708098959962584,
          -0.028246149200989237,
          -0.13417585145791153,
          -0.055132969169477325,
          -0.12652351676574206,
          -0.0017096495101534583,
          -0.1680764333203636,
          -0.10352165766123034,
          0.048202121671076556,
          -0.02581764051459343,
          -0.04489662775790559,
          -0.11362529290589717,
          -0.1257659008484192,
          -0.19641461694614912,
          -0.24828839826366883,
          -0.24772018935450543,
          -0.13498842695336766,
          -0.2518553930283272,
          -0.25530196569032065,
          -0.257543476342,
          -0.026264629405751215,
          -0.11753144611441954,
          -0.03726468381310957,
          -0.06601128952214218,
          -0.09744894888663094,
          -0.00962324588766744,
          -0.13560602229173557,
          -0.14374670277625287,
          -0.26284024037902143,
          -0.16463943005010917,
          0.12395533848164915,
          -0.02480057579853912,
          -0.04184990914203612,
          -0.16845266639850337,
          -0.14386892108616267,
          -0.1566385445188244,
          -0.3288022201767403,
          -0.2965897826465115,
          -0.31231227384317084,
          -0.4253485886982087,
          -0.30240195688894206,
          -0.003959792356371453,
          -0.034437660145044895,
          -0.051002494383057,
          -0.09704605380085649,
          -0.0956196746318796,
          -0.11602680846598472,
          -0.05399942973939189,
          -0.2424060492353955,
          -0.21124608230451253,
          -0.36335608376864503,
          -0.14048940564817963,
          0.033066031583536076,
          -0.021823100016028572,
          -0.09381848835477977,
          -0.2792183049794781,
          -0.12956873869078336,
          -0.29100325299928737,
          -0.23217525370952927,
          -0.38746112339887673,
          -0.537355650836353,
          -0.3934954845032277,
          -0.05115543249755554,
          0.04220473136043244,
          0.1311321283189326,
          -0.031129068765688862,
          -0.07007202212342489,
          -0.08496143828063286,
          -0.03975904716640875,
          -0.1139810185356677,
          -0.22188862436326984,
          -0.31479131180467695,
          -0.3388834253735517,
          -0.43388068161356086,
          -0.10179716925074747,
          -0.017185345378763626,
          -0.10071301218297476,
          -0.14968494915965128,
          -0.16419285970244468,
          -0.26047966060113165,
          -0.4173735091295866,
          -0.40397148188172577,
          -0.4452783424016667,
          -0.15110664055615639,
          -0.1083860776987633,
          -0.07169730433960719,
          -0.005528726807430052,
          -0.10005128058984308,
          -0.081914807858913,
          -0.07656456188438607,
          -0.15887238326001896,
          -0.18468841674418826,
          -0.23244876225396166,
          -0.2253435313995039,
          -0.32124159414341463,
          -0.19558676193578575,
          -0.025494736101196267,
          -0.0794759722295221,
          -0.010740227377073043,
          -0.19007153242817657,
          -0.22016250088170675,
          -0.3872528713249575,
          -0.3233079159177763,
          -0.2366530366272493,
          -0.11412744818697812,
          -0.22966079207206916,
          -0.2105872386427987,
          -0.11007527029833689,
          -0.0002652288737172759,
          -0.041889330444525974,
          0.03797124957689331,
          0.009904875541668504,
          -0.11631596740044507,
          -0.1180507204893611,
          -0.19841843085773375,
          -0.07206617855709432,
          -0.2269073662423113,
          -0.03884369290705758,
          -0.027278895900513727,
          -0.021478556954505602,
          0.0546031852750064,
          -0.126402841582436,
          -0.19931371383195579,
          -0.35597995183021375,
          -0.048139300510398,
          -0.0907199076491948,
          -0.12412244791858323,
          -0.28274148586525527,
          -0.18028262265441414,
          -0.010817131723308126,
          0.05288748141227913,
          0.027366702734778352,
          0.09177935982667297,
          -0.027063201117612276,
          -0.029633981923841136,
          0.021395872491278917,
          0.01638041839074494,
          0.04343961782484262,
          0.0716697166079494,
          0.12232075596674341,
          0.11230925032843125,
          0.10229058308600567,
          0.10509234586808891,
          0.14372409173042802,
          -0.09368177743847729,
          -0.16707102990436423,
          -0.02030088552192359,
          -0.06742602125695694,
          -0.1283608530162888,
          -0.24222422925681295,
          -0.10549214200996265,
          0.013644960667634933,
          0.061462674319254014,
          0.028646748197368233,
          -0.011783444022151568,
          -0.039502455706284405,
          -0.020922165579179565,
          0.06888867540585164,
          0.04964452026808634,
          0.12638432731183427,
          0.11191606548285472,
          0.20919168238380534,
          0.19728404057465715,
          0.10502628961907684,
          0.12748672128839378,
          0.12865800270604424,
          -0.05970972372746549,
          -0.11037019699836985,
          -0.07553934868930387,
          -0.215122006190822,
          -0.21479399779608638,
          -0.190109378502742,
          -0.10949038360060001,
          -0.037019325639304254,
          0.016850230122522496,
          -0.08816438100227844,
          -0.30704672824845036,
          -0.020869375921099546,
          -0.08348333558343342,
          0.027253611015820797,
          0.0019238513623486121,
          0.02137211127840652,
          0.04734155719087261,
          0.09487360327488426,
          0.1791471075214593,
          0.20879106827105126,
          0.12332786152767389,
          0.2028055951463856,
          -0.1568919291600372,
          -0.17029880467721528,
          -0.2807814181201434,
          -0.28841870734243574,
          -0.1932118117884441,
          -0.22058464002895578,
          -0.15007773392511845,
          -0.23246142963606142,
          -0.1220488602301669,
          -0.21041233668857912,
          -0.16423935100580334,
          -0.0194321682746398,
          -0.1112073508306487,
          -0.01768925186413153,
          -0.1085328775184934,
          -0.0071232385622611765,
          -0.052018452214868574,
          0.04523796287371455,
          0.13144120867087256,
          0.094366863843187,
          -0.039242103565983476,
          -0.03513702348644213,
          -0.16499406741242234,
          -0.0901810506083136,
          -0.23745400091852636,
          -0.21815761527445615,
          -0.15591216517754486,
          -0.2101821271223926,
          -0.2458868999959974,
          -0.17382557351585165,
          -0.0735402773262238,
          0.003701109740910334,
          0.018975701187464507,
          0.027050862510126148,
          -0.07693629571715747,
          -0.05159454034153434,
          -0.11684825886820281,
          -0.028465480092662993,
          -0.03923320035054316,
          0.0028072459508905676,
          0.03837584026930697,
          -0.02652972774276869,
          -0.031833376826764556,
          -0.10318714917635935,
          -0.08371993843673162,
          -0.16203902501076817,
          -0.08597448386713592,
          -0.1389559398999241,
          -0.13593359653808545,
          -0.25086174894225344,
          -0.2161661421306865,
          -0.09488564234105135,
          0.017852467066254082,
          0.0625016894346829,
          0.008278191107267387,
          0.011758143853242304,
          -0.10315531286539492,
          -0.03693961190982212,
          -0.09212146001240075,
          -0.049210939910276336,
          -0.03809833042304623,
          -0.05485478873308511,
          -0.023526044861504412,
          -0.06652450960236994,
          -0.06582978079812925,
          -0.021436454871888125,
          -0.1350374651778882,
          -0.1421699232826459,
          -0.08586430915483981,
          -0.14307410225159767,
          -0.1984559231012676,
          -0.2716050049185616,
          -0.1973424466314089,
          -0.05616623272264191,
          0.06460752339452899,
          0.049162638777702085,
          -0.007293909217340151,
          -0.05065355304699392,
          -0.06755431958376268,
          -0.04540785326996724,
          -0.1094964440195701,
          -0.08160814004310182,
          -0.10123721663320091,
          -0.11345800321567075,
          -0.0757006166395665,
          -0.09442024928433769,
          -0.08114824521055777,
          -0.05871640507490506,
          -0.09589765656619835,
          -0.13737238962772966,
          -0.16434831541326397,
          -0.2747018850453941,
          -0.31175222575302486,
          -0.34871542037091646,
          -0.14452956302733036,
          -0.02322359622858322,
          0.09129226407908764,
          0.03167576469232235,
          -0.09215486666785057,
          -0.06654130630373631,
          -0.11222460776011388,
          -0.071761955321811,
          -0.16896530084891526,
          -0.12551707750715968,
          -0.21576061509282332,
          -0.16344552311419155,
          -0.08767646531045134,
          -0.10799700968421194,
          -0.08064447522024798,
          -0.10724343483634476,
          -0.12524276496293815,
          -0.2160433440814321,
          -0.25503951356675575,
          -0.29375152472195426,
          -0.38630916788322095,
          -0.3544659292343978,
          -0.15253471229491364,
          -0.01996913011263064,
          0.11869624526777127,
          -0.05135807824761945,
          -0.10742375798933464,
          -0.11206621434583704,
          -0.15328001578864925,
          -0.1124699307103706,
          -0.18937606027104298,
          -0.17001277775332393,
          -0.24450978386654545,
          -0.24383484417218976,
          -0.1279262162456165,
          -0.1305776755089757,
          -0.08664534903661752,
          -0.15806598178021264,
          -0.19295788495536645,
          -0.23127143216121154,
          -0.28217432968838374,
          -0.32537235787289004,
          -0.2925842408347022,
          -0.2760964954404103,
          -0.041796069320927276,
          0.13820418180014754,
          0.033908434838656874,
          -0.0631255028826274,
          -0.13920073032708447,
          -0.11922428776644985,
          -0.1558644431829578,
          -0.11410223459495306,
          -0.2055530812208807,
          -0.18820520847702107,
          -0.2686301755399006,
          -0.2918395105961985,
          -0.0879959683571409,
          -0.09265569027391464,
          -0.1126069180408123,
          -0.24999773383416576,
          -0.20557507748247109,
          -0.26357678154713415,
          -0.22911070813119255,
          -0.32206968075523046,
          -0.20809070176092387,
          -0.2354967390715765,
          0.20183133903406442,
          0.07162959202552514,
          0.029186057547123147,
          -0.048856733307515596,
          -0.1599270745055677,
          -0.12621553316740738,
          -0.1565448013033611,
          -0.13063850140314825,
          -0.19482359393097323,
          -0.24366750801149925,
          -0.28941088176683033,
          -0.42882979162345086,
          -0.07252038251670138,
          -0.07728098570699947,
          -0.15252329449110977,
          -0.24692625232508772,
          -0.24837208604139913,
          -0.28672343870359035,
          -0.1638625829731658,
          -0.12455725364975136,
          0.05507658874760942,
          -0.011587731535609413,
          -0.02786135792086497,
          0.07953996173800337,
          0.0016009917457067268,
          -0.018891672481278515,
          -0.08509376871329598,
          -0.09007327108448938,
          -0.12051033247545362,
          -0.0938806329325044,
          -0.15102725875396725,
          -0.1645289933038993,
          -0.21141741781724088,
          -0.04932837129715464,
          -0.04952218020095994,
          -0.120933333116587,
          -0.15457362538084132,
          -0.15516915410510615,
          -0.2041938727381297,
          -0.2939094136106077,
          0.03957025873842185,
          -0.07001879409749395,
          0.1252747183497168,
          -0.06834799673146838,
          -0.05821557103471566,
          0.02178753934186923,
          0.020843820518538107,
          0.03754471421204861,
          -0.09702724870624482,
          -0.047176060881724234,
          -0.12215831353081709,
          -0.10696209991825788,
          -0.17556487603297694,
          -0.16440150109927945,
          -0.10526226035293225,
          -0.05434187285201187,
          -0.1238991977639063,
          -0.14562786575926548,
          -0.1686255461205723,
          -0.1355670231657831,
          -0.21961891237459405,
          -0.29668468897616784,
          0.002102258134770619,
          -0.04099161419987943,
          -0.034989521178317363,
          -0.13006133066846548,
          -0.0819319782307184,
          -0.035230815471326934,
          -0.020532722104256527,
          -0.03278343659832844,
          -0.14766762114454846,
          -0.14717704729066097,
          -0.15684175718719232,
          -0.13911814012333823,
          -0.1446027702297222,
          -0.06336344658763753,
          -0.08354857157355657,
          -0.040216227077534535,
          -0.13552207926685716,
          -0.1530400635606183,
          -0.14333654320107408,
          -0.08033869472124108,
          -0.21751391311630092,
          -0.3119640441942667,
          -0.0047359077836622914,
          -0.12047951763238511,
          -0.04087808333002883,
          -0.1405182963561617,
          -0.07779931307877687,
          -0.07884251729303847,
          -0.04527769990005638,
          -0.037548561471066506,
          -0.17667416730775215,
          -0.159042359505024,
          -0.21864111976566264,
          -0.15944766537584523,
          -0.15968778891508825,
          -0.07824939172416422,
          -0.09125611362232616,
          -0.036987930058543665,
          -0.12769971964280236,
          -0.15503637617589902,
          -0.14339819259562717,
          -0.10202134055584466,
          -0.35610310322990246,
          -0.24878520619832714,
          -0.06994045837412931,
          -0.15929665315004604,
          -0.10927456180696574,
          -0.16831074610530833,
          -0.11915257164574805,
          -0.09282213559874579,
          -0.08987147581219186,
          -0.059164545732862596,
          -0.3318684897946712,
          -0.18266829716401667,
          -0.29025298024011487,
          -0.13841410785220054,
          -0.16248562576983638,
          -0.13622193652724202,
          -0.1258575832054785,
          -0.17852120280237582,
          -0.11177209174823367,
          -0.13596822851143212,
          -0.1000556604852166,
          -0.0206454046505556,
          -0.3664331128734303,
          -0.2054754150718756
         ]
        }
       ],
       "layout": {
        "coloraxis": {
         "colorbar": {
          "title": {
           "text": "lookback_period"
          }
         },
         "colorscale": [
          [
           0,
           "#0d0887"
          ],
          [
           0.1111111111111111,
           "#46039f"
          ],
          [
           0.2222222222222222,
           "#7201a8"
          ],
          [
           0.3333333333333333,
           "#9c179e"
          ],
          [
           0.4444444444444444,
           "#bd3786"
          ],
          [
           0.5555555555555556,
           "#d8576b"
          ],
          [
           0.6666666666666666,
           "#ed7953"
          ],
          [
           0.7777777777777778,
           "#fb9f3a"
          ],
          [
           0.8888888888888888,
           "#fdca26"
          ],
          [
           1,
           "#f0f921"
          ]
         ]
        },
        "legend": {
         "tracegroupgap": 0
        },
        "margin": {
         "t": 60
        },
        "scene": {
         "domain": {
          "x": [
           0,
           1
          ],
          "y": [
           0,
           1
          ]
         },
         "xaxis": {
          "title": {
           "text": "predict_period"
          }
         },
         "yaxis": {
          "title": {
           "text": "lookback_period"
          }
         },
         "zaxis": {
          "title": {
           "text": "corr1"
          }
         }
        },
        "template": {
         "data": {
          "bar": [
           {
            "error_x": {
             "color": "#2a3f5f"
            },
            "error_y": {
             "color": "#2a3f5f"
            },
            "marker": {
             "line": {
              "color": "#E5ECF6",
              "width": 0.5
             },
             "pattern": {
              "fillmode": "overlay",
              "size": 10,
              "solidity": 0.2
             }
            },
            "type": "bar"
           }
          ],
          "barpolar": [
           {
            "marker": {
             "line": {
              "color": "#E5ECF6",
              "width": 0.5
             },
             "pattern": {
              "fillmode": "overlay",
              "size": 10,
              "solidity": 0.2
             }
            },
            "type": "barpolar"
           }
          ],
          "carpet": [
           {
            "aaxis": {
             "endlinecolor": "#2a3f5f",
             "gridcolor": "white",
             "linecolor": "white",
             "minorgridcolor": "white",
             "startlinecolor": "#2a3f5f"
            },
            "baxis": {
             "endlinecolor": "#2a3f5f",
             "gridcolor": "white",
             "linecolor": "white",
             "minorgridcolor": "white",
             "startlinecolor": "#2a3f5f"
            },
            "type": "carpet"
           }
          ],
          "choropleth": [
           {
            "colorbar": {
             "outlinewidth": 0,
             "ticks": ""
            },
            "type": "choropleth"
           }
          ],
          "contour": [
           {
            "colorbar": {
             "outlinewidth": 0,
             "ticks": ""
            },
            "colorscale": [
             [
              0,
              "#0d0887"
             ],
             [
              0.1111111111111111,
              "#46039f"
             ],
             [
              0.2222222222222222,
              "#7201a8"
             ],
             [
              0.3333333333333333,
              "#9c179e"
             ],
             [
              0.4444444444444444,
              "#bd3786"
             ],
             [
              0.5555555555555556,
              "#d8576b"
             ],
             [
              0.6666666666666666,
              "#ed7953"
             ],
             [
              0.7777777777777778,
              "#fb9f3a"
             ],
             [
              0.8888888888888888,
              "#fdca26"
             ],
             [
              1,
              "#f0f921"
             ]
            ],
            "type": "contour"
           }
          ],
          "contourcarpet": [
           {
            "colorbar": {
             "outlinewidth": 0,
             "ticks": ""
            },
            "type": "contourcarpet"
           }
          ],
          "heatmap": [
           {
            "colorbar": {
             "outlinewidth": 0,
             "ticks": ""
            },
            "colorscale": [
             [
              0,
              "#0d0887"
             ],
             [
              0.1111111111111111,
              "#46039f"
             ],
             [
              0.2222222222222222,
              "#7201a8"
             ],
             [
              0.3333333333333333,
              "#9c179e"
             ],
             [
              0.4444444444444444,
              "#bd3786"
             ],
             [
              0.5555555555555556,
              "#d8576b"
             ],
             [
              0.6666666666666666,
              "#ed7953"
             ],
             [
              0.7777777777777778,
              "#fb9f3a"
             ],
             [
              0.8888888888888888,
              "#fdca26"
             ],
             [
              1,
              "#f0f921"
             ]
            ],
            "type": "heatmap"
           }
          ],
          "heatmapgl": [
           {
            "colorbar": {
             "outlinewidth": 0,
             "ticks": ""
            },
            "colorscale": [
             [
              0,
              "#0d0887"
             ],
             [
              0.1111111111111111,
              "#46039f"
             ],
             [
              0.2222222222222222,
              "#7201a8"
             ],
             [
              0.3333333333333333,
              "#9c179e"
             ],
             [
              0.4444444444444444,
              "#bd3786"
             ],
             [
              0.5555555555555556,
              "#d8576b"
             ],
             [
              0.6666666666666666,
              "#ed7953"
             ],
             [
              0.7777777777777778,
              "#fb9f3a"
             ],
             [
              0.8888888888888888,
              "#fdca26"
             ],
             [
              1,
              "#f0f921"
             ]
            ],
            "type": "heatmapgl"
           }
          ],
          "histogram": [
           {
            "marker": {
             "pattern": {
              "fillmode": "overlay",
              "size": 10,
              "solidity": 0.2
             }
            },
            "type": "histogram"
           }
          ],
          "histogram2d": [
           {
            "colorbar": {
             "outlinewidth": 0,
             "ticks": ""
            },
            "colorscale": [
             [
              0,
              "#0d0887"
             ],
             [
              0.1111111111111111,
              "#46039f"
             ],
             [
              0.2222222222222222,
              "#7201a8"
             ],
             [
              0.3333333333333333,
              "#9c179e"
             ],
             [
              0.4444444444444444,
              "#bd3786"
             ],
             [
              0.5555555555555556,
              "#d8576b"
             ],
             [
              0.6666666666666666,
              "#ed7953"
             ],
             [
              0.7777777777777778,
              "#fb9f3a"
             ],
             [
              0.8888888888888888,
              "#fdca26"
             ],
             [
              1,
              "#f0f921"
             ]
            ],
            "type": "histogram2d"
           }
          ],
          "histogram2dcontour": [
           {
            "colorbar": {
             "outlinewidth": 0,
             "ticks": ""
            },
            "colorscale": [
             [
              0,
              "#0d0887"
             ],
             [
              0.1111111111111111,
              "#46039f"
             ],
             [
              0.2222222222222222,
              "#7201a8"
             ],
             [
              0.3333333333333333,
              "#9c179e"
             ],
             [
              0.4444444444444444,
              "#bd3786"
             ],
             [
              0.5555555555555556,
              "#d8576b"
             ],
             [
              0.6666666666666666,
              "#ed7953"
             ],
             [
              0.7777777777777778,
              "#fb9f3a"
             ],
             [
              0.8888888888888888,
              "#fdca26"
             ],
             [
              1,
              "#f0f921"
             ]
            ],
            "type": "histogram2dcontour"
           }
          ],
          "mesh3d": [
           {
            "colorbar": {
             "outlinewidth": 0,
             "ticks": ""
            },
            "type": "mesh3d"
           }
          ],
          "parcoords": [
           {
            "line": {
             "colorbar": {
              "outlinewidth": 0,
              "ticks": ""
             }
            },
            "type": "parcoords"
           }
          ],
          "pie": [
           {
            "automargin": true,
            "type": "pie"
           }
          ],
          "scatter": [
           {
            "fillpattern": {
             "fillmode": "overlay",
             "size": 10,
             "solidity": 0.2
            },
            "type": "scatter"
           }
          ],
          "scatter3d": [
           {
            "line": {
             "colorbar": {
              "outlinewidth": 0,
              "ticks": ""
             }
            },
            "marker": {
             "colorbar": {
              "outlinewidth": 0,
              "ticks": ""
             }
            },
            "type": "scatter3d"
           }
          ],
          "scattercarpet": [
           {
            "marker": {
             "colorbar": {
              "outlinewidth": 0,
              "ticks": ""
             }
            },
            "type": "scattercarpet"
           }
          ],
          "scattergeo": [
           {
            "marker": {
             "colorbar": {
              "outlinewidth": 0,
              "ticks": ""
             }
            },
            "type": "scattergeo"
           }
          ],
          "scattergl": [
           {
            "marker": {
             "colorbar": {
              "outlinewidth": 0,
              "ticks": ""
             }
            },
            "type": "scattergl"
           }
          ],
          "scattermapbox": [
           {
            "marker": {
             "colorbar": {
              "outlinewidth": 0,
              "ticks": ""
             }
            },
            "type": "scattermapbox"
           }
          ],
          "scatterpolar": [
           {
            "marker": {
             "colorbar": {
              "outlinewidth": 0,
              "ticks": ""
             }
            },
            "type": "scatterpolar"
           }
          ],
          "scatterpolargl": [
           {
            "marker": {
             "colorbar": {
              "outlinewidth": 0,
              "ticks": ""
             }
            },
            "type": "scatterpolargl"
           }
          ],
          "scatterternary": [
           {
            "marker": {
             "colorbar": {
              "outlinewidth": 0,
              "ticks": ""
             }
            },
            "type": "scatterternary"
           }
          ],
          "surface": [
           {
            "colorbar": {
             "outlinewidth": 0,
             "ticks": ""
            },
            "colorscale": [
             [
              0,
              "#0d0887"
             ],
             [
              0.1111111111111111,
              "#46039f"
             ],
             [
              0.2222222222222222,
              "#7201a8"
             ],
             [
              0.3333333333333333,
              "#9c179e"
             ],
             [
              0.4444444444444444,
              "#bd3786"
             ],
             [
              0.5555555555555556,
              "#d8576b"
             ],
             [
              0.6666666666666666,
              "#ed7953"
             ],
             [
              0.7777777777777778,
              "#fb9f3a"
             ],
             [
              0.8888888888888888,
              "#fdca26"
             ],
             [
              1,
              "#f0f921"
             ]
            ],
            "type": "surface"
           }
          ],
          "table": [
           {
            "cells": {
             "fill": {
              "color": "#EBF0F8"
             },
             "line": {
              "color": "white"
             }
            },
            "header": {
             "fill": {
              "color": "#C8D4E3"
             },
             "line": {
              "color": "white"
             }
            },
            "type": "table"
           }
          ]
         },
         "layout": {
          "annotationdefaults": {
           "arrowcolor": "#2a3f5f",
           "arrowhead": 0,
           "arrowwidth": 1
          },
          "autotypenumbers": "strict",
          "coloraxis": {
           "colorbar": {
            "outlinewidth": 0,
            "ticks": ""
           }
          },
          "colorscale": {
           "diverging": [
            [
             0,
             "#8e0152"
            ],
            [
             0.1,
             "#c51b7d"
            ],
            [
             0.2,
             "#de77ae"
            ],
            [
             0.3,
             "#f1b6da"
            ],
            [
             0.4,
             "#fde0ef"
            ],
            [
             0.5,
             "#f7f7f7"
            ],
            [
             0.6,
             "#e6f5d0"
            ],
            [
             0.7,
             "#b8e186"
            ],
            [
             0.8,
             "#7fbc41"
            ],
            [
             0.9,
             "#4d9221"
            ],
            [
             1,
             "#276419"
            ]
           ],
           "sequential": [
            [
             0,
             "#0d0887"
            ],
            [
             0.1111111111111111,
             "#46039f"
            ],
            [
             0.2222222222222222,
             "#7201a8"
            ],
            [
             0.3333333333333333,
             "#9c179e"
            ],
            [
             0.4444444444444444,
             "#bd3786"
            ],
            [
             0.5555555555555556,
             "#d8576b"
            ],
            [
             0.6666666666666666,
             "#ed7953"
            ],
            [
             0.7777777777777778,
             "#fb9f3a"
            ],
            [
             0.8888888888888888,
             "#fdca26"
            ],
            [
             1,
             "#f0f921"
            ]
           ],
           "sequentialminus": [
            [
             0,
             "#0d0887"
            ],
            [
             0.1111111111111111,
             "#46039f"
            ],
            [
             0.2222222222222222,
             "#7201a8"
            ],
            [
             0.3333333333333333,
             "#9c179e"
            ],
            [
             0.4444444444444444,
             "#bd3786"
            ],
            [
             0.5555555555555556,
             "#d8576b"
            ],
            [
             0.6666666666666666,
             "#ed7953"
            ],
            [
             0.7777777777777778,
             "#fb9f3a"
            ],
            [
             0.8888888888888888,
             "#fdca26"
            ],
            [
             1,
             "#f0f921"
            ]
           ]
          },
          "colorway": [
           "#636efa",
           "#EF553B",
           "#00cc96",
           "#ab63fa",
           "#FFA15A",
           "#19d3f3",
           "#FF6692",
           "#B6E880",
           "#FF97FF",
           "#FECB52"
          ],
          "font": {
           "color": "#2a3f5f"
          },
          "geo": {
           "bgcolor": "white",
           "lakecolor": "white",
           "landcolor": "#E5ECF6",
           "showlakes": true,
           "showland": true,
           "subunitcolor": "white"
          },
          "hoverlabel": {
           "align": "left"
          },
          "hovermode": "closest",
          "mapbox": {
           "style": "light"
          },
          "paper_bgcolor": "white",
          "plot_bgcolor": "#E5ECF6",
          "polar": {
           "angularaxis": {
            "gridcolor": "white",
            "linecolor": "white",
            "ticks": ""
           },
           "bgcolor": "#E5ECF6",
           "radialaxis": {
            "gridcolor": "white",
            "linecolor": "white",
            "ticks": ""
           }
          },
          "scene": {
           "xaxis": {
            "backgroundcolor": "#E5ECF6",
            "gridcolor": "white",
            "gridwidth": 2,
            "linecolor": "white",
            "showbackground": true,
            "ticks": "",
            "zerolinecolor": "white"
           },
           "yaxis": {
            "backgroundcolor": "#E5ECF6",
            "gridcolor": "white",
            "gridwidth": 2,
            "linecolor": "white",
            "showbackground": true,
            "ticks": "",
            "zerolinecolor": "white"
           },
           "zaxis": {
            "backgroundcolor": "#E5ECF6",
            "gridcolor": "white",
            "gridwidth": 2,
            "linecolor": "white",
            "showbackground": true,
            "ticks": "",
            "zerolinecolor": "white"
           }
          },
          "shapedefaults": {
           "line": {
            "color": "#2a3f5f"
           }
          },
          "ternary": {
           "aaxis": {
            "gridcolor": "white",
            "linecolor": "white",
            "ticks": ""
           },
           "baxis": {
            "gridcolor": "white",
            "linecolor": "white",
            "ticks": ""
           },
           "bgcolor": "#E5ECF6",
           "caxis": {
            "gridcolor": "white",
            "linecolor": "white",
            "ticks": ""
           }
          },
          "title": {
           "x": 0.05
          },
          "xaxis": {
           "automargin": true,
           "gridcolor": "white",
           "linecolor": "white",
           "ticks": "",
           "title": {
            "standoff": 15
           },
           "zerolinecolor": "white",
           "zerolinewidth": 2
          },
          "yaxis": {
           "automargin": true,
           "gridcolor": "white",
           "linecolor": "white",
           "ticks": "",
           "title": {
            "standoff": 15
           },
           "zerolinecolor": "white",
           "zerolinewidth": 2
          }
         }
        }
       }
      },
      "text/html": [
       "<div>                            <div id=\"efd4ed12-98cf-4af2-a0b6-332ac02691a8\" class=\"plotly-graph-div\" style=\"height:525px; width:100%;\"></div>            <script type=\"text/javascript\">                require([\"plotly\"], function(Plotly) {                    window.PLOTLYENV=window.PLOTLYENV || {};                                    if (document.getElementById(\"efd4ed12-98cf-4af2-a0b6-332ac02691a8\")) {                    Plotly.newPlot(                        \"efd4ed12-98cf-4af2-a0b6-332ac02691a8\",                        [{\"hovertemplate\":\"predict_period=%{x}<br>lookback_period=%{marker.color}<br>corr1=%{z}<extra></extra>\",\"legendgroup\":\"\",\"marker\":{\"color\":[400.0,800.0,1200.0,1600.0,2000.0,2400.0,2800.0,3200.0,3600.0,4000.0,4400.0,4800.0,5200.0,5600.0,6000.0,6400.0,6800.0,7200.0,7600.0,8000.0,8400.0,8800.0,400.0,800.0,1200.0,1600.0,2000.0,2400.0,2800.0,3200.0,3600.0,4000.0,4400.0,4800.0,5200.0,5600.0,6000.0,6400.0,6800.0,7200.0,7600.0,8000.0,8400.0,8800.0,400.0,800.0,1200.0,1600.0,2000.0,2400.0,2800.0,3200.0,3600.0,4000.0,4400.0,4800.0,5200.0,5600.0,6000.0,6400.0,6800.0,7200.0,7600.0,8000.0,8400.0,8800.0,400.0,800.0,1200.0,1600.0,2000.0,2400.0,2800.0,3200.0,3600.0,4000.0,4400.0,4800.0,5200.0,5600.0,6000.0,6400.0,6800.0,7200.0,7600.0,8000.0,8400.0,8800.0,400.0,800.0,1200.0,1600.0,2000.0,2400.0,2800.0,3200.0,3600.0,4000.0,4400.0,4800.0,5200.0,5600.0,6000.0,6400.0,6800.0,7200.0,7600.0,8000.0,8400.0,8800.0,400.0,800.0,1200.0,1600.0,2000.0,2400.0,2800.0,3200.0,3600.0,4000.0,4400.0,4800.0,5200.0,5600.0,6000.0,6400.0,6800.0,7200.0,7600.0,8000.0,8400.0,8800.0,400.0,800.0,1200.0,1600.0,2000.0,2400.0,2800.0,3200.0,3600.0,4000.0,4400.0,4800.0,5200.0,5600.0,6000.0,6400.0,6800.0,7200.0,7600.0,8000.0,8400.0,8800.0,400.0,800.0,1200.0,1600.0,2000.0,2400.0,2800.0,3200.0,3600.0,4000.0,4400.0,4800.0,5200.0,5600.0,6000.0,6400.0,6800.0,7200.0,7600.0,8000.0,8400.0,8800.0,400.0,800.0,1200.0,1600.0,2000.0,2400.0,2800.0,3200.0,3600.0,4000.0,4400.0,4800.0,5200.0,5600.0,6000.0,6400.0,6800.0,7200.0,7600.0,8000.0,8400.0,8800.0,400.0,800.0,1200.0,1600.0,2000.0,2400.0,2800.0,3200.0,3600.0,4000.0,4400.0,4800.0,5200.0,5600.0,6000.0,6400.0,6800.0,7200.0,7600.0,8000.0,8400.0,8800.0,400.0,800.0,1200.0,1600.0,2000.0,2400.0,2800.0,3200.0,3600.0,4000.0,4400.0,4800.0,5200.0,5600.0,6000.0,6400.0,6800.0,7200.0,7600.0,8000.0,8400.0,8800.0,400.0,800.0,1200.0,1600.0,2000.0,2400.0,2800.0,3200.0,3600.0,4000.0,4400.0,4800.0,5200.0,5600.0,6000.0,6400.0,6800.0,7200.0,7600.0,8000.0,8400.0,8800.0,400.0,800.0,1200.0,1600.0,2000.0,2400.0,2800.0,3200.0,3600.0,4000.0,4400.0,4800.0,5200.0,5600.0,6000.0,6400.0,6800.0,7200.0,7600.0,8000.0,8400.0,8800.0,400.0,800.0,1200.0,1600.0,2000.0,2400.0,2800.0,3200.0,3600.0,4000.0,4400.0,4800.0,5200.0,5600.0,6000.0,6400.0,6800.0,7200.0,7600.0,8000.0,8400.0,8800.0,400.0,800.0,1200.0,1600.0,2000.0,2400.0,2800.0,3200.0,3600.0,4000.0,4400.0,4800.0,5200.0,5600.0,6000.0,6400.0,6800.0,7200.0,7600.0,8000.0,8400.0,8800.0,400.0,800.0,1200.0,1600.0,2000.0,2400.0,2800.0,3200.0,3600.0,4000.0,4400.0,4800.0,5200.0,5600.0,6000.0,6400.0,6800.0,7200.0,7600.0,8000.0,8400.0,8800.0,400.0,800.0,1200.0,1600.0,2000.0,2400.0,2800.0,3200.0,3600.0,4000.0,4400.0,4800.0,5200.0,5600.0,6000.0,6400.0,6800.0,7200.0,7600.0,8000.0,8400.0,8800.0,400.0,800.0,1200.0,1600.0,2000.0,2400.0,2800.0,3200.0,3600.0,4000.0,4400.0,4800.0,5200.0,5600.0,6000.0,6400.0,6800.0,7200.0,7600.0,8000.0,8400.0,8800.0,400.0,800.0,1200.0,1600.0,2000.0,2400.0,2800.0,3200.0,3600.0,4000.0,4400.0,4800.0,5200.0,5600.0,6000.0,6400.0,6800.0,7200.0,7600.0,8000.0,8400.0,8800.0,400.0,800.0,1200.0,1600.0,2000.0,2400.0,2800.0,3200.0,3600.0,4000.0,4400.0,4800.0,5200.0,5600.0,6000.0,6400.0,6800.0,7200.0,7600.0,8000.0,8400.0,8800.0,400.0,800.0,1200.0,1600.0,2000.0,2400.0,2800.0,3200.0,3600.0,4000.0,4400.0,4800.0,5200.0,5600.0,6000.0,6400.0,6800.0,7200.0,7600.0,8000.0,8400.0,8800.0,400.0,800.0,1200.0,1600.0,2000.0,2400.0,2800.0,3200.0,3600.0,4000.0,4400.0,4800.0,5200.0,5600.0,6000.0,6400.0,6800.0,7200.0,7600.0,8000.0,8400.0,8800.0],\"coloraxis\":\"coloraxis\",\"symbol\":\"circle\"},\"mode\":\"markers\",\"name\":\"\",\"scene\":\"scene\",\"showlegend\":false,\"x\":[400.0,400.0,400.0,400.0,400.0,400.0,400.0,400.0,400.0,400.0,400.0,400.0,400.0,400.0,400.0,400.0,400.0,400.0,400.0,400.0,400.0,400.0,800.0,800.0,800.0,800.0,800.0,800.0,800.0,800.0,800.0,800.0,800.0,800.0,800.0,800.0,800.0,800.0,800.0,800.0,800.0,800.0,800.0,800.0,1200.0,1200.0,1200.0,1200.0,1200.0,1200.0,1200.0,1200.0,1200.0,1200.0,1200.0,1200.0,1200.0,1200.0,1200.0,1200.0,1200.0,1200.0,1200.0,1200.0,1200.0,1200.0,1600.0,1600.0,1600.0,1600.0,1600.0,1600.0,1600.0,1600.0,1600.0,1600.0,1600.0,1600.0,1600.0,1600.0,1600.0,1600.0,1600.0,1600.0,1600.0,1600.0,1600.0,1600.0,2000.0,2000.0,2000.0,2000.0,2000.0,2000.0,2000.0,2000.0,2000.0,2000.0,2000.0,2000.0,2000.0,2000.0,2000.0,2000.0,2000.0,2000.0,2000.0,2000.0,2000.0,2000.0,2400.0,2400.0,2400.0,2400.0,2400.0,2400.0,2400.0,2400.0,2400.0,2400.0,2400.0,2400.0,2400.0,2400.0,2400.0,2400.0,2400.0,2400.0,2400.0,2400.0,2400.0,2400.0,2800.0,2800.0,2800.0,2800.0,2800.0,2800.0,2800.0,2800.0,2800.0,2800.0,2800.0,2800.0,2800.0,2800.0,2800.0,2800.0,2800.0,2800.0,2800.0,2800.0,2800.0,2800.0,3200.0,3200.0,3200.0,3200.0,3200.0,3200.0,3200.0,3200.0,3200.0,3200.0,3200.0,3200.0,3200.0,3200.0,3200.0,3200.0,3200.0,3200.0,3200.0,3200.0,3200.0,3200.0,3600.0,3600.0,3600.0,3600.0,3600.0,3600.0,3600.0,3600.0,3600.0,3600.0,3600.0,3600.0,3600.0,3600.0,3600.0,3600.0,3600.0,3600.0,3600.0,3600.0,3600.0,3600.0,4000.0,4000.0,4000.0,4000.0,4000.0,4000.0,4000.0,4000.0,4000.0,4000.0,4000.0,4000.0,4000.0,4000.0,4000.0,4000.0,4000.0,4000.0,4000.0,4000.0,4000.0,4000.0,4400.0,4400.0,4400.0,4400.0,4400.0,4400.0,4400.0,4400.0,4400.0,4400.0,4400.0,4400.0,4400.0,4400.0,4400.0,4400.0,4400.0,4400.0,4400.0,4400.0,4400.0,4400.0,4800.0,4800.0,4800.0,4800.0,4800.0,4800.0,4800.0,4800.0,4800.0,4800.0,4800.0,4800.0,4800.0,4800.0,4800.0,4800.0,4800.0,4800.0,4800.0,4800.0,4800.0,4800.0,5200.0,5200.0,5200.0,5200.0,5200.0,5200.0,5200.0,5200.0,5200.0,5200.0,5200.0,5200.0,5200.0,5200.0,5200.0,5200.0,5200.0,5200.0,5200.0,5200.0,5200.0,5200.0,5600.0,5600.0,5600.0,5600.0,5600.0,5600.0,5600.0,5600.0,5600.0,5600.0,5600.0,5600.0,5600.0,5600.0,5600.0,5600.0,5600.0,5600.0,5600.0,5600.0,5600.0,5600.0,6000.0,6000.0,6000.0,6000.0,6000.0,6000.0,6000.0,6000.0,6000.0,6000.0,6000.0,6000.0,6000.0,6000.0,6000.0,6000.0,6000.0,6000.0,6000.0,6000.0,6000.0,6000.0,6400.0,6400.0,6400.0,6400.0,6400.0,6400.0,6400.0,6400.0,6400.0,6400.0,6400.0,6400.0,6400.0,6400.0,6400.0,6400.0,6400.0,6400.0,6400.0,6400.0,6400.0,6400.0,6800.0,6800.0,6800.0,6800.0,6800.0,6800.0,6800.0,6800.0,6800.0,6800.0,6800.0,6800.0,6800.0,6800.0,6800.0,6800.0,6800.0,6800.0,6800.0,6800.0,6800.0,6800.0,7200.0,7200.0,7200.0,7200.0,7200.0,7200.0,7200.0,7200.0,7200.0,7200.0,7200.0,7200.0,7200.0,7200.0,7200.0,7200.0,7200.0,7200.0,7200.0,7200.0,7200.0,7200.0,7600.0,7600.0,7600.0,7600.0,7600.0,7600.0,7600.0,7600.0,7600.0,7600.0,7600.0,7600.0,7600.0,7600.0,7600.0,7600.0,7600.0,7600.0,7600.0,7600.0,7600.0,7600.0,8000.0,8000.0,8000.0,8000.0,8000.0,8000.0,8000.0,8000.0,8000.0,8000.0,8000.0,8000.0,8000.0,8000.0,8000.0,8000.0,8000.0,8000.0,8000.0,8000.0,8000.0,8000.0,8400.0,8400.0,8400.0,8400.0,8400.0,8400.0,8400.0,8400.0,8400.0,8400.0,8400.0,8400.0,8400.0,8400.0,8400.0,8400.0,8400.0,8400.0,8400.0,8400.0,8400.0,8400.0,8800.0,8800.0,8800.0,8800.0,8800.0,8800.0,8800.0,8800.0,8800.0,8800.0,8800.0,8800.0,8800.0,8800.0,8800.0,8800.0,8800.0,8800.0,8800.0,8800.0,8800.0,8800.0],\"y\":[400.0,800.0,1200.0,1600.0,2000.0,2400.0,2800.0,3200.0,3600.0,4000.0,4400.0,4800.0,5200.0,5600.0,6000.0,6400.0,6800.0,7200.0,7600.0,8000.0,8400.0,8800.0,400.0,800.0,1200.0,1600.0,2000.0,2400.0,2800.0,3200.0,3600.0,4000.0,4400.0,4800.0,5200.0,5600.0,6000.0,6400.0,6800.0,7200.0,7600.0,8000.0,8400.0,8800.0,400.0,800.0,1200.0,1600.0,2000.0,2400.0,2800.0,3200.0,3600.0,4000.0,4400.0,4800.0,5200.0,5600.0,6000.0,6400.0,6800.0,7200.0,7600.0,8000.0,8400.0,8800.0,400.0,800.0,1200.0,1600.0,2000.0,2400.0,2800.0,3200.0,3600.0,4000.0,4400.0,4800.0,5200.0,5600.0,6000.0,6400.0,6800.0,7200.0,7600.0,8000.0,8400.0,8800.0,400.0,800.0,1200.0,1600.0,2000.0,2400.0,2800.0,3200.0,3600.0,4000.0,4400.0,4800.0,5200.0,5600.0,6000.0,6400.0,6800.0,7200.0,7600.0,8000.0,8400.0,8800.0,400.0,800.0,1200.0,1600.0,2000.0,2400.0,2800.0,3200.0,3600.0,4000.0,4400.0,4800.0,5200.0,5600.0,6000.0,6400.0,6800.0,7200.0,7600.0,8000.0,8400.0,8800.0,400.0,800.0,1200.0,1600.0,2000.0,2400.0,2800.0,3200.0,3600.0,4000.0,4400.0,4800.0,5200.0,5600.0,6000.0,6400.0,6800.0,7200.0,7600.0,8000.0,8400.0,8800.0,400.0,800.0,1200.0,1600.0,2000.0,2400.0,2800.0,3200.0,3600.0,4000.0,4400.0,4800.0,5200.0,5600.0,6000.0,6400.0,6800.0,7200.0,7600.0,8000.0,8400.0,8800.0,400.0,800.0,1200.0,1600.0,2000.0,2400.0,2800.0,3200.0,3600.0,4000.0,4400.0,4800.0,5200.0,5600.0,6000.0,6400.0,6800.0,7200.0,7600.0,8000.0,8400.0,8800.0,400.0,800.0,1200.0,1600.0,2000.0,2400.0,2800.0,3200.0,3600.0,4000.0,4400.0,4800.0,5200.0,5600.0,6000.0,6400.0,6800.0,7200.0,7600.0,8000.0,8400.0,8800.0,400.0,800.0,1200.0,1600.0,2000.0,2400.0,2800.0,3200.0,3600.0,4000.0,4400.0,4800.0,5200.0,5600.0,6000.0,6400.0,6800.0,7200.0,7600.0,8000.0,8400.0,8800.0,400.0,800.0,1200.0,1600.0,2000.0,2400.0,2800.0,3200.0,3600.0,4000.0,4400.0,4800.0,5200.0,5600.0,6000.0,6400.0,6800.0,7200.0,7600.0,8000.0,8400.0,8800.0,400.0,800.0,1200.0,1600.0,2000.0,2400.0,2800.0,3200.0,3600.0,4000.0,4400.0,4800.0,5200.0,5600.0,6000.0,6400.0,6800.0,7200.0,7600.0,8000.0,8400.0,8800.0,400.0,800.0,1200.0,1600.0,2000.0,2400.0,2800.0,3200.0,3600.0,4000.0,4400.0,4800.0,5200.0,5600.0,6000.0,6400.0,6800.0,7200.0,7600.0,8000.0,8400.0,8800.0,400.0,800.0,1200.0,1600.0,2000.0,2400.0,2800.0,3200.0,3600.0,4000.0,4400.0,4800.0,5200.0,5600.0,6000.0,6400.0,6800.0,7200.0,7600.0,8000.0,8400.0,8800.0,400.0,800.0,1200.0,1600.0,2000.0,2400.0,2800.0,3200.0,3600.0,4000.0,4400.0,4800.0,5200.0,5600.0,6000.0,6400.0,6800.0,7200.0,7600.0,8000.0,8400.0,8800.0,400.0,800.0,1200.0,1600.0,2000.0,2400.0,2800.0,3200.0,3600.0,4000.0,4400.0,4800.0,5200.0,5600.0,6000.0,6400.0,6800.0,7200.0,7600.0,8000.0,8400.0,8800.0,400.0,800.0,1200.0,1600.0,2000.0,2400.0,2800.0,3200.0,3600.0,4000.0,4400.0,4800.0,5200.0,5600.0,6000.0,6400.0,6800.0,7200.0,7600.0,8000.0,8400.0,8800.0,400.0,800.0,1200.0,1600.0,2000.0,2400.0,2800.0,3200.0,3600.0,4000.0,4400.0,4800.0,5200.0,5600.0,6000.0,6400.0,6800.0,7200.0,7600.0,8000.0,8400.0,8800.0,400.0,800.0,1200.0,1600.0,2000.0,2400.0,2800.0,3200.0,3600.0,4000.0,4400.0,4800.0,5200.0,5600.0,6000.0,6400.0,6800.0,7200.0,7600.0,8000.0,8400.0,8800.0,400.0,800.0,1200.0,1600.0,2000.0,2400.0,2800.0,3200.0,3600.0,4000.0,4400.0,4800.0,5200.0,5600.0,6000.0,6400.0,6800.0,7200.0,7600.0,8000.0,8400.0,8800.0,400.0,800.0,1200.0,1600.0,2000.0,2400.0,2800.0,3200.0,3600.0,4000.0,4400.0,4800.0,5200.0,5600.0,6000.0,6400.0,6800.0,7200.0,7600.0,8000.0,8400.0,8800.0],\"z\":[-0.05451866152503308,-0.17388419587524134,-0.1821853373623857,-0.12163267473709784,-0.04937094828334522,-0.30948626150697844,-0.12227799079314786,-0.07182354914464928,-0.09708098959962584,-0.028246149200989237,-0.13417585145791153,-0.055132969169477325,-0.12652351676574206,-0.0017096495101534583,-0.1680764333203636,-0.10352165766123034,0.048202121671076556,-0.02581764051459343,-0.04489662775790559,-0.11362529290589717,-0.1257659008484192,-0.19641461694614912,-0.24828839826366883,-0.24772018935450543,-0.13498842695336766,-0.2518553930283272,-0.25530196569032065,-0.257543476342,-0.026264629405751215,-0.11753144611441954,-0.03726468381310957,-0.06601128952214218,-0.09744894888663094,-0.00962324588766744,-0.13560602229173557,-0.14374670277625287,-0.26284024037902143,-0.16463943005010917,0.12395533848164915,-0.02480057579853912,-0.04184990914203612,-0.16845266639850337,-0.14386892108616267,-0.1566385445188244,-0.3288022201767403,-0.2965897826465115,-0.31231227384317084,-0.4253485886982087,-0.30240195688894206,-0.003959792356371453,-0.034437660145044895,-0.051002494383057,-0.09704605380085649,-0.0956196746318796,-0.11602680846598472,-0.05399942973939189,-0.2424060492353955,-0.21124608230451253,-0.36335608376864503,-0.14048940564817963,0.033066031583536076,-0.021823100016028572,-0.09381848835477977,-0.2792183049794781,-0.12956873869078336,-0.29100325299928737,-0.23217525370952927,-0.38746112339887673,-0.537355650836353,-0.3934954845032277,-0.05115543249755554,0.04220473136043244,0.1311321283189326,-0.031129068765688862,-0.07007202212342489,-0.08496143828063286,-0.03975904716640875,-0.1139810185356677,-0.22188862436326984,-0.31479131180467695,-0.3388834253735517,-0.43388068161356086,-0.10179716925074747,-0.017185345378763626,-0.10071301218297476,-0.14968494915965128,-0.16419285970244468,-0.26047966060113165,-0.4173735091295866,-0.40397148188172577,-0.4452783424016667,-0.15110664055615639,-0.1083860776987633,-0.07169730433960719,-0.005528726807430052,-0.10005128058984308,-0.081914807858913,-0.07656456188438607,-0.15887238326001896,-0.18468841674418826,-0.23244876225396166,-0.2253435313995039,-0.32124159414341463,-0.19558676193578575,-0.025494736101196267,-0.0794759722295221,-0.010740227377073043,-0.19007153242817657,-0.22016250088170675,-0.3872528713249575,-0.3233079159177763,-0.2366530366272493,-0.11412744818697812,-0.22966079207206916,-0.2105872386427987,-0.11007527029833689,-0.0002652288737172759,-0.041889330444525974,0.03797124957689331,0.009904875541668504,-0.11631596740044507,-0.1180507204893611,-0.19841843085773375,-0.07206617855709432,-0.2269073662423113,-0.03884369290705758,-0.027278895900513727,-0.021478556954505602,0.0546031852750064,-0.126402841582436,-0.19931371383195579,-0.35597995183021375,-0.048139300510398,-0.0907199076491948,-0.12412244791858323,-0.28274148586525527,-0.18028262265441414,-0.010817131723308126,0.05288748141227913,0.027366702734778352,0.09177935982667297,-0.027063201117612276,-0.029633981923841136,0.021395872491278917,0.01638041839074494,0.04343961782484262,0.0716697166079494,0.12232075596674341,0.11230925032843125,0.10229058308600567,0.10509234586808891,0.14372409173042802,-0.09368177743847729,-0.16707102990436423,-0.02030088552192359,-0.06742602125695694,-0.1283608530162888,-0.24222422925681295,-0.10549214200996265,0.013644960667634933,0.061462674319254014,0.028646748197368233,-0.011783444022151568,-0.039502455706284405,-0.020922165579179565,0.06888867540585164,0.04964452026808634,0.12638432731183427,0.11191606548285472,0.20919168238380534,0.19728404057465715,0.10502628961907684,0.12748672128839378,0.12865800270604424,-0.05970972372746549,-0.11037019699836985,-0.07553934868930387,-0.215122006190822,-0.21479399779608638,-0.190109378502742,-0.10949038360060001,-0.037019325639304254,0.016850230122522496,-0.08816438100227844,-0.30704672824845036,-0.020869375921099546,-0.08348333558343342,0.027253611015820797,0.0019238513623486121,0.02137211127840652,0.04734155719087261,0.09487360327488426,0.1791471075214593,0.20879106827105126,0.12332786152767389,0.2028055951463856,-0.1568919291600372,-0.17029880467721528,-0.2807814181201434,-0.28841870734243574,-0.1932118117884441,-0.22058464002895578,-0.15007773392511845,-0.23246142963606142,-0.1220488602301669,-0.21041233668857912,-0.16423935100580334,-0.0194321682746398,-0.1112073508306487,-0.01768925186413153,-0.1085328775184934,-0.0071232385622611765,-0.052018452214868574,0.04523796287371455,0.13144120867087256,0.094366863843187,-0.039242103565983476,-0.03513702348644213,-0.16499406741242234,-0.0901810506083136,-0.23745400091852636,-0.21815761527445615,-0.15591216517754486,-0.2101821271223926,-0.2458868999959974,-0.17382557351585165,-0.0735402773262238,0.003701109740910334,0.018975701187464507,0.027050862510126148,-0.07693629571715747,-0.05159454034153434,-0.11684825886820281,-0.028465480092662993,-0.03923320035054316,0.0028072459508905676,0.03837584026930697,-0.02652972774276869,-0.031833376826764556,-0.10318714917635935,-0.08371993843673162,-0.16203902501076817,-0.08597448386713592,-0.1389559398999241,-0.13593359653808545,-0.25086174894225344,-0.2161661421306865,-0.09488564234105135,0.017852467066254082,0.0625016894346829,0.008278191107267387,0.011758143853242304,-0.10315531286539492,-0.03693961190982212,-0.09212146001240075,-0.049210939910276336,-0.03809833042304623,-0.05485478873308511,-0.023526044861504412,-0.06652450960236994,-0.06582978079812925,-0.021436454871888125,-0.1350374651778882,-0.1421699232826459,-0.08586430915483981,-0.14307410225159767,-0.1984559231012676,-0.2716050049185616,-0.1973424466314089,-0.05616623272264191,0.06460752339452899,0.049162638777702085,-0.007293909217340151,-0.05065355304699392,-0.06755431958376268,-0.04540785326996724,-0.1094964440195701,-0.08160814004310182,-0.10123721663320091,-0.11345800321567075,-0.0757006166395665,-0.09442024928433769,-0.08114824521055777,-0.05871640507490506,-0.09589765656619835,-0.13737238962772966,-0.16434831541326397,-0.2747018850453941,-0.31175222575302486,-0.34871542037091646,-0.14452956302733036,-0.02322359622858322,0.09129226407908764,0.03167576469232235,-0.09215486666785057,-0.06654130630373631,-0.11222460776011388,-0.071761955321811,-0.16896530084891526,-0.12551707750715968,-0.21576061509282332,-0.16344552311419155,-0.08767646531045134,-0.10799700968421194,-0.08064447522024798,-0.10724343483634476,-0.12524276496293815,-0.2160433440814321,-0.25503951356675575,-0.29375152472195426,-0.38630916788322095,-0.3544659292343978,-0.15253471229491364,-0.01996913011263064,0.11869624526777127,-0.05135807824761945,-0.10742375798933464,-0.11206621434583704,-0.15328001578864925,-0.1124699307103706,-0.18937606027104298,-0.17001277775332393,-0.24450978386654545,-0.24383484417218976,-0.1279262162456165,-0.1305776755089757,-0.08664534903661752,-0.15806598178021264,-0.19295788495536645,-0.23127143216121154,-0.28217432968838374,-0.32537235787289004,-0.2925842408347022,-0.2760964954404103,-0.041796069320927276,0.13820418180014754,0.033908434838656874,-0.0631255028826274,-0.13920073032708447,-0.11922428776644985,-0.1558644431829578,-0.11410223459495306,-0.2055530812208807,-0.18820520847702107,-0.2686301755399006,-0.2918395105961985,-0.0879959683571409,-0.09265569027391464,-0.1126069180408123,-0.24999773383416576,-0.20557507748247109,-0.26357678154713415,-0.22911070813119255,-0.32206968075523046,-0.20809070176092387,-0.2354967390715765,0.20183133903406442,0.07162959202552514,0.029186057547123147,-0.048856733307515596,-0.1599270745055677,-0.12621553316740738,-0.1565448013033611,-0.13063850140314825,-0.19482359393097323,-0.24366750801149925,-0.28941088176683033,-0.42882979162345086,-0.07252038251670138,-0.07728098570699947,-0.15252329449110977,-0.24692625232508772,-0.24837208604139913,-0.28672343870359035,-0.1638625829731658,-0.12455725364975136,0.05507658874760942,-0.011587731535609413,-0.02786135792086497,0.07953996173800337,0.0016009917457067268,-0.018891672481278515,-0.08509376871329598,-0.09007327108448938,-0.12051033247545362,-0.0938806329325044,-0.15102725875396725,-0.1645289933038993,-0.21141741781724088,-0.04932837129715464,-0.04952218020095994,-0.120933333116587,-0.15457362538084132,-0.15516915410510615,-0.2041938727381297,-0.2939094136106077,0.03957025873842185,-0.07001879409749395,0.1252747183497168,-0.06834799673146838,-0.05821557103471566,0.02178753934186923,0.020843820518538107,0.03754471421204861,-0.09702724870624482,-0.047176060881724234,-0.12215831353081709,-0.10696209991825788,-0.17556487603297694,-0.16440150109927945,-0.10526226035293225,-0.05434187285201187,-0.1238991977639063,-0.14562786575926548,-0.1686255461205723,-0.1355670231657831,-0.21961891237459405,-0.29668468897616784,0.002102258134770619,-0.04099161419987943,-0.034989521178317363,-0.13006133066846548,-0.0819319782307184,-0.035230815471326934,-0.020532722104256527,-0.03278343659832844,-0.14766762114454846,-0.14717704729066097,-0.15684175718719232,-0.13911814012333823,-0.1446027702297222,-0.06336344658763753,-0.08354857157355657,-0.040216227077534535,-0.13552207926685716,-0.1530400635606183,-0.14333654320107408,-0.08033869472124108,-0.21751391311630092,-0.3119640441942667,-0.0047359077836622914,-0.12047951763238511,-0.04087808333002883,-0.1405182963561617,-0.07779931307877687,-0.07884251729303847,-0.04527769990005638,-0.037548561471066506,-0.17667416730775215,-0.159042359505024,-0.21864111976566264,-0.15944766537584523,-0.15968778891508825,-0.07824939172416422,-0.09125611362232616,-0.036987930058543665,-0.12769971964280236,-0.15503637617589902,-0.14339819259562717,-0.10202134055584466,-0.35610310322990246,-0.24878520619832714,-0.06994045837412931,-0.15929665315004604,-0.10927456180696574,-0.16831074610530833,-0.11915257164574805,-0.09282213559874579,-0.08987147581219186,-0.059164545732862596,-0.3318684897946712,-0.18266829716401667,-0.29025298024011487,-0.13841410785220054,-0.16248562576983638,-0.13622193652724202,-0.1258575832054785,-0.17852120280237582,-0.11177209174823367,-0.13596822851143212,-0.1000556604852166,-0.0206454046505556,-0.3664331128734303,-0.2054754150718756],\"type\":\"scatter3d\"}],                        {\"template\":{\"data\":{\"histogram2dcontour\":[{\"type\":\"histogram2dcontour\",\"colorbar\":{\"outlinewidth\":0,\"ticks\":\"\"},\"colorscale\":[[0.0,\"#0d0887\"],[0.1111111111111111,\"#46039f\"],[0.2222222222222222,\"#7201a8\"],[0.3333333333333333,\"#9c179e\"],[0.4444444444444444,\"#bd3786\"],[0.5555555555555556,\"#d8576b\"],[0.6666666666666666,\"#ed7953\"],[0.7777777777777778,\"#fb9f3a\"],[0.8888888888888888,\"#fdca26\"],[1.0,\"#f0f921\"]]}],\"choropleth\":[{\"type\":\"choropleth\",\"colorbar\":{\"outlinewidth\":0,\"ticks\":\"\"}}],\"histogram2d\":[{\"type\":\"histogram2d\",\"colorbar\":{\"outlinewidth\":0,\"ticks\":\"\"},\"colorscale\":[[0.0,\"#0d0887\"],[0.1111111111111111,\"#46039f\"],[0.2222222222222222,\"#7201a8\"],[0.3333333333333333,\"#9c179e\"],[0.4444444444444444,\"#bd3786\"],[0.5555555555555556,\"#d8576b\"],[0.6666666666666666,\"#ed7953\"],[0.7777777777777778,\"#fb9f3a\"],[0.8888888888888888,\"#fdca26\"],[1.0,\"#f0f921\"]]}],\"heatmap\":[{\"type\":\"heatmap\",\"colorbar\":{\"outlinewidth\":0,\"ticks\":\"\"},\"colorscale\":[[0.0,\"#0d0887\"],[0.1111111111111111,\"#46039f\"],[0.2222222222222222,\"#7201a8\"],[0.3333333333333333,\"#9c179e\"],[0.4444444444444444,\"#bd3786\"],[0.5555555555555556,\"#d8576b\"],[0.6666666666666666,\"#ed7953\"],[0.7777777777777778,\"#fb9f3a\"],[0.8888888888888888,\"#fdca26\"],[1.0,\"#f0f921\"]]}],\"heatmapgl\":[{\"type\":\"heatmapgl\",\"colorbar\":{\"outlinewidth\":0,\"ticks\":\"\"},\"colorscale\":[[0.0,\"#0d0887\"],[0.1111111111111111,\"#46039f\"],[0.2222222222222222,\"#7201a8\"],[0.3333333333333333,\"#9c179e\"],[0.4444444444444444,\"#bd3786\"],[0.5555555555555556,\"#d8576b\"],[0.6666666666666666,\"#ed7953\"],[0.7777777777777778,\"#fb9f3a\"],[0.8888888888888888,\"#fdca26\"],[1.0,\"#f0f921\"]]}],\"contourcarpet\":[{\"type\":\"contourcarpet\",\"colorbar\":{\"outlinewidth\":0,\"ticks\":\"\"}}],\"contour\":[{\"type\":\"contour\",\"colorbar\":{\"outlinewidth\":0,\"ticks\":\"\"},\"colorscale\":[[0.0,\"#0d0887\"],[0.1111111111111111,\"#46039f\"],[0.2222222222222222,\"#7201a8\"],[0.3333333333333333,\"#9c179e\"],[0.4444444444444444,\"#bd3786\"],[0.5555555555555556,\"#d8576b\"],[0.6666666666666666,\"#ed7953\"],[0.7777777777777778,\"#fb9f3a\"],[0.8888888888888888,\"#fdca26\"],[1.0,\"#f0f921\"]]}],\"surface\":[{\"type\":\"surface\",\"colorbar\":{\"outlinewidth\":0,\"ticks\":\"\"},\"colorscale\":[[0.0,\"#0d0887\"],[0.1111111111111111,\"#46039f\"],[0.2222222222222222,\"#7201a8\"],[0.3333333333333333,\"#9c179e\"],[0.4444444444444444,\"#bd3786\"],[0.5555555555555556,\"#d8576b\"],[0.6666666666666666,\"#ed7953\"],[0.7777777777777778,\"#fb9f3a\"],[0.8888888888888888,\"#fdca26\"],[1.0,\"#f0f921\"]]}],\"mesh3d\":[{\"type\":\"mesh3d\",\"colorbar\":{\"outlinewidth\":0,\"ticks\":\"\"}}],\"scatter\":[{\"fillpattern\":{\"fillmode\":\"overlay\",\"size\":10,\"solidity\":0.2},\"type\":\"scatter\"}],\"parcoords\":[{\"type\":\"parcoords\",\"line\":{\"colorbar\":{\"outlinewidth\":0,\"ticks\":\"\"}}}],\"scatterpolargl\":[{\"type\":\"scatterpolargl\",\"marker\":{\"colorbar\":{\"outlinewidth\":0,\"ticks\":\"\"}}}],\"bar\":[{\"error_x\":{\"color\":\"#2a3f5f\"},\"error_y\":{\"color\":\"#2a3f5f\"},\"marker\":{\"line\":{\"color\":\"#E5ECF6\",\"width\":0.5},\"pattern\":{\"fillmode\":\"overlay\",\"size\":10,\"solidity\":0.2}},\"type\":\"bar\"}],\"scattergeo\":[{\"type\":\"scattergeo\",\"marker\":{\"colorbar\":{\"outlinewidth\":0,\"ticks\":\"\"}}}],\"scatterpolar\":[{\"type\":\"scatterpolar\",\"marker\":{\"colorbar\":{\"outlinewidth\":0,\"ticks\":\"\"}}}],\"histogram\":[{\"marker\":{\"pattern\":{\"fillmode\":\"overlay\",\"size\":10,\"solidity\":0.2}},\"type\":\"histogram\"}],\"scattergl\":[{\"type\":\"scattergl\",\"marker\":{\"colorbar\":{\"outlinewidth\":0,\"ticks\":\"\"}}}],\"scatter3d\":[{\"type\":\"scatter3d\",\"line\":{\"colorbar\":{\"outlinewidth\":0,\"ticks\":\"\"}},\"marker\":{\"colorbar\":{\"outlinewidth\":0,\"ticks\":\"\"}}}],\"scattermapbox\":[{\"type\":\"scattermapbox\",\"marker\":{\"colorbar\":{\"outlinewidth\":0,\"ticks\":\"\"}}}],\"scatterternary\":[{\"type\":\"scatterternary\",\"marker\":{\"colorbar\":{\"outlinewidth\":0,\"ticks\":\"\"}}}],\"scattercarpet\":[{\"type\":\"scattercarpet\",\"marker\":{\"colorbar\":{\"outlinewidth\":0,\"ticks\":\"\"}}}],\"carpet\":[{\"aaxis\":{\"endlinecolor\":\"#2a3f5f\",\"gridcolor\":\"white\",\"linecolor\":\"white\",\"minorgridcolor\":\"white\",\"startlinecolor\":\"#2a3f5f\"},\"baxis\":{\"endlinecolor\":\"#2a3f5f\",\"gridcolor\":\"white\",\"linecolor\":\"white\",\"minorgridcolor\":\"white\",\"startlinecolor\":\"#2a3f5f\"},\"type\":\"carpet\"}],\"table\":[{\"cells\":{\"fill\":{\"color\":\"#EBF0F8\"},\"line\":{\"color\":\"white\"}},\"header\":{\"fill\":{\"color\":\"#C8D4E3\"},\"line\":{\"color\":\"white\"}},\"type\":\"table\"}],\"barpolar\":[{\"marker\":{\"line\":{\"color\":\"#E5ECF6\",\"width\":0.5},\"pattern\":{\"fillmode\":\"overlay\",\"size\":10,\"solidity\":0.2}},\"type\":\"barpolar\"}],\"pie\":[{\"automargin\":true,\"type\":\"pie\"}]},\"layout\":{\"autotypenumbers\":\"strict\",\"colorway\":[\"#636efa\",\"#EF553B\",\"#00cc96\",\"#ab63fa\",\"#FFA15A\",\"#19d3f3\",\"#FF6692\",\"#B6E880\",\"#FF97FF\",\"#FECB52\"],\"font\":{\"color\":\"#2a3f5f\"},\"hovermode\":\"closest\",\"hoverlabel\":{\"align\":\"left\"},\"paper_bgcolor\":\"white\",\"plot_bgcolor\":\"#E5ECF6\",\"polar\":{\"bgcolor\":\"#E5ECF6\",\"angularaxis\":{\"gridcolor\":\"white\",\"linecolor\":\"white\",\"ticks\":\"\"},\"radialaxis\":{\"gridcolor\":\"white\",\"linecolor\":\"white\",\"ticks\":\"\"}},\"ternary\":{\"bgcolor\":\"#E5ECF6\",\"aaxis\":{\"gridcolor\":\"white\",\"linecolor\":\"white\",\"ticks\":\"\"},\"baxis\":{\"gridcolor\":\"white\",\"linecolor\":\"white\",\"ticks\":\"\"},\"caxis\":{\"gridcolor\":\"white\",\"linecolor\":\"white\",\"ticks\":\"\"}},\"coloraxis\":{\"colorbar\":{\"outlinewidth\":0,\"ticks\":\"\"}},\"colorscale\":{\"sequential\":[[0.0,\"#0d0887\"],[0.1111111111111111,\"#46039f\"],[0.2222222222222222,\"#7201a8\"],[0.3333333333333333,\"#9c179e\"],[0.4444444444444444,\"#bd3786\"],[0.5555555555555556,\"#d8576b\"],[0.6666666666666666,\"#ed7953\"],[0.7777777777777778,\"#fb9f3a\"],[0.8888888888888888,\"#fdca26\"],[1.0,\"#f0f921\"]],\"sequentialminus\":[[0.0,\"#0d0887\"],[0.1111111111111111,\"#46039f\"],[0.2222222222222222,\"#7201a8\"],[0.3333333333333333,\"#9c179e\"],[0.4444444444444444,\"#bd3786\"],[0.5555555555555556,\"#d8576b\"],[0.6666666666666666,\"#ed7953\"],[0.7777777777777778,\"#fb9f3a\"],[0.8888888888888888,\"#fdca26\"],[1.0,\"#f0f921\"]],\"diverging\":[[0,\"#8e0152\"],[0.1,\"#c51b7d\"],[0.2,\"#de77ae\"],[0.3,\"#f1b6da\"],[0.4,\"#fde0ef\"],[0.5,\"#f7f7f7\"],[0.6,\"#e6f5d0\"],[0.7,\"#b8e186\"],[0.8,\"#7fbc41\"],[0.9,\"#4d9221\"],[1,\"#276419\"]]},\"xaxis\":{\"gridcolor\":\"white\",\"linecolor\":\"white\",\"ticks\":\"\",\"title\":{\"standoff\":15},\"zerolinecolor\":\"white\",\"automargin\":true,\"zerolinewidth\":2},\"yaxis\":{\"gridcolor\":\"white\",\"linecolor\":\"white\",\"ticks\":\"\",\"title\":{\"standoff\":15},\"zerolinecolor\":\"white\",\"automargin\":true,\"zerolinewidth\":2},\"scene\":{\"xaxis\":{\"backgroundcolor\":\"#E5ECF6\",\"gridcolor\":\"white\",\"linecolor\":\"white\",\"showbackground\":true,\"ticks\":\"\",\"zerolinecolor\":\"white\",\"gridwidth\":2},\"yaxis\":{\"backgroundcolor\":\"#E5ECF6\",\"gridcolor\":\"white\",\"linecolor\":\"white\",\"showbackground\":true,\"ticks\":\"\",\"zerolinecolor\":\"white\",\"gridwidth\":2},\"zaxis\":{\"backgroundcolor\":\"#E5ECF6\",\"gridcolor\":\"white\",\"linecolor\":\"white\",\"showbackground\":true,\"ticks\":\"\",\"zerolinecolor\":\"white\",\"gridwidth\":2}},\"shapedefaults\":{\"line\":{\"color\":\"#2a3f5f\"}},\"annotationdefaults\":{\"arrowcolor\":\"#2a3f5f\",\"arrowhead\":0,\"arrowwidth\":1},\"geo\":{\"bgcolor\":\"white\",\"landcolor\":\"#E5ECF6\",\"subunitcolor\":\"white\",\"showland\":true,\"showlakes\":true,\"lakecolor\":\"white\"},\"title\":{\"x\":0.05},\"mapbox\":{\"style\":\"light\"}}},\"scene\":{\"domain\":{\"x\":[0.0,1.0],\"y\":[0.0,1.0]},\"xaxis\":{\"title\":{\"text\":\"predict_period\"}},\"yaxis\":{\"title\":{\"text\":\"lookback_period\"}},\"zaxis\":{\"title\":{\"text\":\"corr1\"}}},\"coloraxis\":{\"colorbar\":{\"title\":{\"text\":\"lookback_period\"}},\"colorscale\":[[0.0,\"#0d0887\"],[0.1111111111111111,\"#46039f\"],[0.2222222222222222,\"#7201a8\"],[0.3333333333333333,\"#9c179e\"],[0.4444444444444444,\"#bd3786\"],[0.5555555555555556,\"#d8576b\"],[0.6666666666666666,\"#ed7953\"],[0.7777777777777778,\"#fb9f3a\"],[0.8888888888888888,\"#fdca26\"],[1.0,\"#f0f921\"]]},\"legend\":{\"tracegroupgap\":0},\"margin\":{\"t\":60}},                        {\"responsive\": true}                    ).then(function(){\n",
       "                            \n",
       "var gd = document.getElementById('efd4ed12-98cf-4af2-a0b6-332ac02691a8');\n",
       "var x = new MutationObserver(function (mutations, observer) {{\n",
       "        var display = window.getComputedStyle(gd).display;\n",
       "        if (!display || display === 'none') {{\n",
       "            console.log([gd, 'removed!']);\n",
       "            Plotly.purge(gd);\n",
       "            observer.disconnect();\n",
       "        }}\n",
       "}});\n",
       "\n",
       "// Listen for the removal of the full notebook cells\n",
       "var notebookContainer = gd.closest('#notebook-container');\n",
       "if (notebookContainer) {{\n",
       "    x.observe(notebookContainer, {childList: true});\n",
       "}}\n",
       "\n",
       "// Listen for the clearing of the current output cell\n",
       "var outputEl = gd.closest('.output');\n",
       "if (outputEl) {{\n",
       "    x.observe(outputEl, {childList: true});\n",
       "}}\n",
       "\n",
       "                        })                };                });            </script>        </div>"
      ]
     },
     "metadata": {},
     "output_type": "display_data"
    },
    {
     "data": {
      "application/vnd.plotly.v1+json": {
       "config": {
        "plotlyServerURL": "https://plot.ly"
       },
       "data": [
        {
         "hovertemplate": "predict_period=%{x}<br>lookback_period=%{marker.color}<br>corr2=%{z}<extra></extra>",
         "legendgroup": "",
         "marker": {
          "color": [
           400,
           800,
           1200,
           1600,
           2000,
           2400,
           2800,
           3200,
           3600,
           4000,
           4400,
           4800,
           5200,
           5600,
           6000,
           6400,
           6800,
           7200,
           7600,
           8000,
           8400,
           8800,
           400,
           800,
           1200,
           1600,
           2000,
           2400,
           2800,
           3200,
           3600,
           4000,
           4400,
           4800,
           5200,
           5600,
           6000,
           6400,
           6800,
           7200,
           7600,
           8000,
           8400,
           8800,
           400,
           800,
           1200,
           1600,
           2000,
           2400,
           2800,
           3200,
           3600,
           4000,
           4400,
           4800,
           5200,
           5600,
           6000,
           6400,
           6800,
           7200,
           7600,
           8000,
           8400,
           8800,
           400,
           800,
           1200,
           1600,
           2000,
           2400,
           2800,
           3200,
           3600,
           4000,
           4400,
           4800,
           5200,
           5600,
           6000,
           6400,
           6800,
           7200,
           7600,
           8000,
           8400,
           8800,
           400,
           800,
           1200,
           1600,
           2000,
           2400,
           2800,
           3200,
           3600,
           4000,
           4400,
           4800,
           5200,
           5600,
           6000,
           6400,
           6800,
           7200,
           7600,
           8000,
           8400,
           8800,
           400,
           800,
           1200,
           1600,
           2000,
           2400,
           2800,
           3200,
           3600,
           4000,
           4400,
           4800,
           5200,
           5600,
           6000,
           6400,
           6800,
           7200,
           7600,
           8000,
           8400,
           8800,
           400,
           800,
           1200,
           1600,
           2000,
           2400,
           2800,
           3200,
           3600,
           4000,
           4400,
           4800,
           5200,
           5600,
           6000,
           6400,
           6800,
           7200,
           7600,
           8000,
           8400,
           8800,
           400,
           800,
           1200,
           1600,
           2000,
           2400,
           2800,
           3200,
           3600,
           4000,
           4400,
           4800,
           5200,
           5600,
           6000,
           6400,
           6800,
           7200,
           7600,
           8000,
           8400,
           8800,
           400,
           800,
           1200,
           1600,
           2000,
           2400,
           2800,
           3200,
           3600,
           4000,
           4400,
           4800,
           5200,
           5600,
           6000,
           6400,
           6800,
           7200,
           7600,
           8000,
           8400,
           8800,
           400,
           800,
           1200,
           1600,
           2000,
           2400,
           2800,
           3200,
           3600,
           4000,
           4400,
           4800,
           5200,
           5600,
           6000,
           6400,
           6800,
           7200,
           7600,
           8000,
           8400,
           8800,
           400,
           800,
           1200,
           1600,
           2000,
           2400,
           2800,
           3200,
           3600,
           4000,
           4400,
           4800,
           5200,
           5600,
           6000,
           6400,
           6800,
           7200,
           7600,
           8000,
           8400,
           8800,
           400,
           800,
           1200,
           1600,
           2000,
           2400,
           2800,
           3200,
           3600,
           4000,
           4400,
           4800,
           5200,
           5600,
           6000,
           6400,
           6800,
           7200,
           7600,
           8000,
           8400,
           8800,
           400,
           800,
           1200,
           1600,
           2000,
           2400,
           2800,
           3200,
           3600,
           4000,
           4400,
           4800,
           5200,
           5600,
           6000,
           6400,
           6800,
           7200,
           7600,
           8000,
           8400,
           8800,
           400,
           800,
           1200,
           1600,
           2000,
           2400,
           2800,
           3200,
           3600,
           4000,
           4400,
           4800,
           5200,
           5600,
           6000,
           6400,
           6800,
           7200,
           7600,
           8000,
           8400,
           8800,
           400,
           800,
           1200,
           1600,
           2000,
           2400,
           2800,
           3200,
           3600,
           4000,
           4400,
           4800,
           5200,
           5600,
           6000,
           6400,
           6800,
           7200,
           7600,
           8000,
           8400,
           8800,
           400,
           800,
           1200,
           1600,
           2000,
           2400,
           2800,
           3200,
           3600,
           4000,
           4400,
           4800,
           5200,
           5600,
           6000,
           6400,
           6800,
           7200,
           7600,
           8000,
           8400,
           8800,
           400,
           800,
           1200,
           1600,
           2000,
           2400,
           2800,
           3200,
           3600,
           4000,
           4400,
           4800,
           5200,
           5600,
           6000,
           6400,
           6800,
           7200,
           7600,
           8000,
           8400,
           8800,
           400,
           800,
           1200,
           1600,
           2000,
           2400,
           2800,
           3200,
           3600,
           4000,
           4400,
           4800,
           5200,
           5600,
           6000,
           6400,
           6800,
           7200,
           7600,
           8000,
           8400,
           8800,
           400,
           800,
           1200,
           1600,
           2000,
           2400,
           2800,
           3200,
           3600,
           4000,
           4400,
           4800,
           5200,
           5600,
           6000,
           6400,
           6800,
           7200,
           7600,
           8000,
           8400,
           8800,
           400,
           800,
           1200,
           1600,
           2000,
           2400,
           2800,
           3200,
           3600,
           4000,
           4400,
           4800,
           5200,
           5600,
           6000,
           6400,
           6800,
           7200,
           7600,
           8000,
           8400,
           8800,
           400,
           800,
           1200,
           1600,
           2000,
           2400,
           2800,
           3200,
           3600,
           4000,
           4400,
           4800,
           5200,
           5600,
           6000,
           6400,
           6800,
           7200,
           7600,
           8000,
           8400,
           8800,
           400,
           800,
           1200,
           1600,
           2000,
           2400,
           2800,
           3200,
           3600,
           4000,
           4400,
           4800,
           5200,
           5600,
           6000,
           6400,
           6800,
           7200,
           7600,
           8000,
           8400,
           8800
          ],
          "coloraxis": "coloraxis",
          "symbol": "circle"
         },
         "mode": "markers",
         "name": "",
         "scene": "scene",
         "showlegend": false,
         "type": "scatter3d",
         "x": [
          400,
          400,
          400,
          400,
          400,
          400,
          400,
          400,
          400,
          400,
          400,
          400,
          400,
          400,
          400,
          400,
          400,
          400,
          400,
          400,
          400,
          400,
          800,
          800,
          800,
          800,
          800,
          800,
          800,
          800,
          800,
          800,
          800,
          800,
          800,
          800,
          800,
          800,
          800,
          800,
          800,
          800,
          800,
          800,
          1200,
          1200,
          1200,
          1200,
          1200,
          1200,
          1200,
          1200,
          1200,
          1200,
          1200,
          1200,
          1200,
          1200,
          1200,
          1200,
          1200,
          1200,
          1200,
          1200,
          1200,
          1200,
          1600,
          1600,
          1600,
          1600,
          1600,
          1600,
          1600,
          1600,
          1600,
          1600,
          1600,
          1600,
          1600,
          1600,
          1600,
          1600,
          1600,
          1600,
          1600,
          1600,
          1600,
          1600,
          2000,
          2000,
          2000,
          2000,
          2000,
          2000,
          2000,
          2000,
          2000,
          2000,
          2000,
          2000,
          2000,
          2000,
          2000,
          2000,
          2000,
          2000,
          2000,
          2000,
          2000,
          2000,
          2400,
          2400,
          2400,
          2400,
          2400,
          2400,
          2400,
          2400,
          2400,
          2400,
          2400,
          2400,
          2400,
          2400,
          2400,
          2400,
          2400,
          2400,
          2400,
          2400,
          2400,
          2400,
          2800,
          2800,
          2800,
          2800,
          2800,
          2800,
          2800,
          2800,
          2800,
          2800,
          2800,
          2800,
          2800,
          2800,
          2800,
          2800,
          2800,
          2800,
          2800,
          2800,
          2800,
          2800,
          3200,
          3200,
          3200,
          3200,
          3200,
          3200,
          3200,
          3200,
          3200,
          3200,
          3200,
          3200,
          3200,
          3200,
          3200,
          3200,
          3200,
          3200,
          3200,
          3200,
          3200,
          3200,
          3600,
          3600,
          3600,
          3600,
          3600,
          3600,
          3600,
          3600,
          3600,
          3600,
          3600,
          3600,
          3600,
          3600,
          3600,
          3600,
          3600,
          3600,
          3600,
          3600,
          3600,
          3600,
          4000,
          4000,
          4000,
          4000,
          4000,
          4000,
          4000,
          4000,
          4000,
          4000,
          4000,
          4000,
          4000,
          4000,
          4000,
          4000,
          4000,
          4000,
          4000,
          4000,
          4000,
          4000,
          4400,
          4400,
          4400,
          4400,
          4400,
          4400,
          4400,
          4400,
          4400,
          4400,
          4400,
          4400,
          4400,
          4400,
          4400,
          4400,
          4400,
          4400,
          4400,
          4400,
          4400,
          4400,
          4800,
          4800,
          4800,
          4800,
          4800,
          4800,
          4800,
          4800,
          4800,
          4800,
          4800,
          4800,
          4800,
          4800,
          4800,
          4800,
          4800,
          4800,
          4800,
          4800,
          4800,
          4800,
          5200,
          5200,
          5200,
          5200,
          5200,
          5200,
          5200,
          5200,
          5200,
          5200,
          5200,
          5200,
          5200,
          5200,
          5200,
          5200,
          5200,
          5200,
          5200,
          5200,
          5200,
          5200,
          5600,
          5600,
          5600,
          5600,
          5600,
          5600,
          5600,
          5600,
          5600,
          5600,
          5600,
          5600,
          5600,
          5600,
          5600,
          5600,
          5600,
          5600,
          5600,
          5600,
          5600,
          5600,
          6000,
          6000,
          6000,
          6000,
          6000,
          6000,
          6000,
          6000,
          6000,
          6000,
          6000,
          6000,
          6000,
          6000,
          6000,
          6000,
          6000,
          6000,
          6000,
          6000,
          6000,
          6000,
          6400,
          6400,
          6400,
          6400,
          6400,
          6400,
          6400,
          6400,
          6400,
          6400,
          6400,
          6400,
          6400,
          6400,
          6400,
          6400,
          6400,
          6400,
          6400,
          6400,
          6400,
          6400,
          6800,
          6800,
          6800,
          6800,
          6800,
          6800,
          6800,
          6800,
          6800,
          6800,
          6800,
          6800,
          6800,
          6800,
          6800,
          6800,
          6800,
          6800,
          6800,
          6800,
          6800,
          6800,
          7200,
          7200,
          7200,
          7200,
          7200,
          7200,
          7200,
          7200,
          7200,
          7200,
          7200,
          7200,
          7200,
          7200,
          7200,
          7200,
          7200,
          7200,
          7200,
          7200,
          7200,
          7200,
          7600,
          7600,
          7600,
          7600,
          7600,
          7600,
          7600,
          7600,
          7600,
          7600,
          7600,
          7600,
          7600,
          7600,
          7600,
          7600,
          7600,
          7600,
          7600,
          7600,
          7600,
          7600,
          8000,
          8000,
          8000,
          8000,
          8000,
          8000,
          8000,
          8000,
          8000,
          8000,
          8000,
          8000,
          8000,
          8000,
          8000,
          8000,
          8000,
          8000,
          8000,
          8000,
          8000,
          8000,
          8400,
          8400,
          8400,
          8400,
          8400,
          8400,
          8400,
          8400,
          8400,
          8400,
          8400,
          8400,
          8400,
          8400,
          8400,
          8400,
          8400,
          8400,
          8400,
          8400,
          8400,
          8400,
          8800,
          8800,
          8800,
          8800,
          8800,
          8800,
          8800,
          8800,
          8800,
          8800,
          8800,
          8800,
          8800,
          8800,
          8800,
          8800,
          8800,
          8800,
          8800,
          8800,
          8800,
          8800
         ],
         "y": [
          400,
          800,
          1200,
          1600,
          2000,
          2400,
          2800,
          3200,
          3600,
          4000,
          4400,
          4800,
          5200,
          5600,
          6000,
          6400,
          6800,
          7200,
          7600,
          8000,
          8400,
          8800,
          400,
          800,
          1200,
          1600,
          2000,
          2400,
          2800,
          3200,
          3600,
          4000,
          4400,
          4800,
          5200,
          5600,
          6000,
          6400,
          6800,
          7200,
          7600,
          8000,
          8400,
          8800,
          400,
          800,
          1200,
          1600,
          2000,
          2400,
          2800,
          3200,
          3600,
          4000,
          4400,
          4800,
          5200,
          5600,
          6000,
          6400,
          6800,
          7200,
          7600,
          8000,
          8400,
          8800,
          400,
          800,
          1200,
          1600,
          2000,
          2400,
          2800,
          3200,
          3600,
          4000,
          4400,
          4800,
          5200,
          5600,
          6000,
          6400,
          6800,
          7200,
          7600,
          8000,
          8400,
          8800,
          400,
          800,
          1200,
          1600,
          2000,
          2400,
          2800,
          3200,
          3600,
          4000,
          4400,
          4800,
          5200,
          5600,
          6000,
          6400,
          6800,
          7200,
          7600,
          8000,
          8400,
          8800,
          400,
          800,
          1200,
          1600,
          2000,
          2400,
          2800,
          3200,
          3600,
          4000,
          4400,
          4800,
          5200,
          5600,
          6000,
          6400,
          6800,
          7200,
          7600,
          8000,
          8400,
          8800,
          400,
          800,
          1200,
          1600,
          2000,
          2400,
          2800,
          3200,
          3600,
          4000,
          4400,
          4800,
          5200,
          5600,
          6000,
          6400,
          6800,
          7200,
          7600,
          8000,
          8400,
          8800,
          400,
          800,
          1200,
          1600,
          2000,
          2400,
          2800,
          3200,
          3600,
          4000,
          4400,
          4800,
          5200,
          5600,
          6000,
          6400,
          6800,
          7200,
          7600,
          8000,
          8400,
          8800,
          400,
          800,
          1200,
          1600,
          2000,
          2400,
          2800,
          3200,
          3600,
          4000,
          4400,
          4800,
          5200,
          5600,
          6000,
          6400,
          6800,
          7200,
          7600,
          8000,
          8400,
          8800,
          400,
          800,
          1200,
          1600,
          2000,
          2400,
          2800,
          3200,
          3600,
          4000,
          4400,
          4800,
          5200,
          5600,
          6000,
          6400,
          6800,
          7200,
          7600,
          8000,
          8400,
          8800,
          400,
          800,
          1200,
          1600,
          2000,
          2400,
          2800,
          3200,
          3600,
          4000,
          4400,
          4800,
          5200,
          5600,
          6000,
          6400,
          6800,
          7200,
          7600,
          8000,
          8400,
          8800,
          400,
          800,
          1200,
          1600,
          2000,
          2400,
          2800,
          3200,
          3600,
          4000,
          4400,
          4800,
          5200,
          5600,
          6000,
          6400,
          6800,
          7200,
          7600,
          8000,
          8400,
          8800,
          400,
          800,
          1200,
          1600,
          2000,
          2400,
          2800,
          3200,
          3600,
          4000,
          4400,
          4800,
          5200,
          5600,
          6000,
          6400,
          6800,
          7200,
          7600,
          8000,
          8400,
          8800,
          400,
          800,
          1200,
          1600,
          2000,
          2400,
          2800,
          3200,
          3600,
          4000,
          4400,
          4800,
          5200,
          5600,
          6000,
          6400,
          6800,
          7200,
          7600,
          8000,
          8400,
          8800,
          400,
          800,
          1200,
          1600,
          2000,
          2400,
          2800,
          3200,
          3600,
          4000,
          4400,
          4800,
          5200,
          5600,
          6000,
          6400,
          6800,
          7200,
          7600,
          8000,
          8400,
          8800,
          400,
          800,
          1200,
          1600,
          2000,
          2400,
          2800,
          3200,
          3600,
          4000,
          4400,
          4800,
          5200,
          5600,
          6000,
          6400,
          6800,
          7200,
          7600,
          8000,
          8400,
          8800,
          400,
          800,
          1200,
          1600,
          2000,
          2400,
          2800,
          3200,
          3600,
          4000,
          4400,
          4800,
          5200,
          5600,
          6000,
          6400,
          6800,
          7200,
          7600,
          8000,
          8400,
          8800,
          400,
          800,
          1200,
          1600,
          2000,
          2400,
          2800,
          3200,
          3600,
          4000,
          4400,
          4800,
          5200,
          5600,
          6000,
          6400,
          6800,
          7200,
          7600,
          8000,
          8400,
          8800,
          400,
          800,
          1200,
          1600,
          2000,
          2400,
          2800,
          3200,
          3600,
          4000,
          4400,
          4800,
          5200,
          5600,
          6000,
          6400,
          6800,
          7200,
          7600,
          8000,
          8400,
          8800,
          400,
          800,
          1200,
          1600,
          2000,
          2400,
          2800,
          3200,
          3600,
          4000,
          4400,
          4800,
          5200,
          5600,
          6000,
          6400,
          6800,
          7200,
          7600,
          8000,
          8400,
          8800,
          400,
          800,
          1200,
          1600,
          2000,
          2400,
          2800,
          3200,
          3600,
          4000,
          4400,
          4800,
          5200,
          5600,
          6000,
          6400,
          6800,
          7200,
          7600,
          8000,
          8400,
          8800,
          400,
          800,
          1200,
          1600,
          2000,
          2400,
          2800,
          3200,
          3600,
          4000,
          4400,
          4800,
          5200,
          5600,
          6000,
          6400,
          6800,
          7200,
          7600,
          8000,
          8400,
          8800
         ],
         "z": [
          -0.05949862626916903,
          -0.16446975916624298,
          -0.16476781029188928,
          -0.10387032439419414,
          -0.055673496927069015,
          -0.27526821602407675,
          -0.1051252017454559,
          -0.07583634361199212,
          -0.08871647948850915,
          -0.02550223041966669,
          -0.12657872536474332,
          -0.057191476498520626,
          -0.11061378004531676,
          -0.01449061182332129,
          -0.1495475296365334,
          -0.08270727091502107,
          0.04762659165207949,
          0.007537917700511505,
          -0.04217472996336954,
          -0.09419418873508455,
          -0.12618646530749872,
          -0.18289277781850313,
          -0.22652496359821195,
          -0.2254016888242432,
          -0.1271634725777197,
          -0.2258937287576247,
          -0.2339773567995821,
          -0.2243376103305272,
          -0.04126871037605982,
          -0.12677319719034333,
          -0.03601540965459063,
          -0.05818068084022659,
          -0.10281266750454242,
          -0.03210831512641325,
          -0.12971744131074395,
          -0.13829944727019877,
          -0.23854314783887431,
          -0.16162987247015365,
          0.12907165201304685,
          -0.011429208542513601,
          -0.04057841852774137,
          -0.16148389604321295,
          -0.1480820546351413,
          -0.14961489844054082,
          -0.2930530677707127,
          -0.2680610585850379,
          -0.27912976706916975,
          -0.3856478857279456,
          -0.2601531564306361,
          -0.03794797000868179,
          -0.050565387357632885,
          -0.07040359232670072,
          -0.0890638856545147,
          -0.09292540980581827,
          -0.12460191753336744,
          -0.07093949032449776,
          -0.22903299172821284,
          -0.18851321959566866,
          -0.34273469915248683,
          -0.1420315389920118,
          0.041763559868573434,
          -0.0015977439964226746,
          -0.09700180492873417,
          -0.26869739054371267,
          -0.13935549693466115,
          -0.26038143701434985,
          -0.2113038602435772,
          -0.33958474921820436,
          -0.5065131481672188,
          -0.33430277268641373,
          -0.040865594428149056,
          0.006002811385578545,
          0.0947264263692225,
          -0.057503214579784745,
          -0.06894840883050692,
          -0.08756169227501942,
          -0.0648786309511601,
          -0.1300258579914007,
          -0.21081234698350304,
          -0.2864612890865106,
          -0.31704989327356986,
          -0.391776387887965,
          -0.045507870199317235,
          -0.016828183638741383,
          -0.09847907527288134,
          -0.14470554142532846,
          -0.1604611202522642,
          -0.2374077554392042,
          -0.3762437664397098,
          -0.3645675063678311,
          -0.41347775623367666,
          -0.13100145263771049,
          -0.07336621424345714,
          -0.061794132726580776,
          -0.02846329145291851,
          -0.10903634159347025,
          -0.07768891306872007,
          -0.08140162888956592,
          -0.15406327481924828,
          -0.18112589211690724,
          -0.21498879969269366,
          -0.19864378767304317,
          -0.3039916537348547,
          -0.1894590239775214,
          -0.002394642590085503,
          -0.0694566510212441,
          -0.008487188857335248,
          -0.181511890360414,
          -0.21011341851321902,
          -0.3613250185471426,
          -0.3008359429246331,
          -0.21525394740458473,
          -0.0662687468361267,
          -0.17890161529644694,
          -0.16080829107956565,
          -0.08742388387267384,
          -0.006505892541923754,
          -0.05746460419980321,
          0.031760303214204394,
          0.0021189246995822167,
          -0.10967798183297538,
          -0.11034245372970408,
          -0.16451649654598136,
          -0.06885613075180762,
          -0.19232891138729835,
          0.016423069018611715,
          0.0011071180660830369,
          -0.00431002446785396,
          0.04353065218228172,
          -0.12478290397240988,
          -0.19070006470254264,
          -0.32627406713651397,
          -0.04791303821326248,
          -0.061372480870809584,
          -0.07936001673012222,
          -0.23777747495333526,
          -0.14682659536780393,
          -0.007636243568946907,
          0.04627347254323636,
          0.007041442745755464,
          0.07753366303818564,
          -0.021692638080308344,
          -0.0208879204889039,
          0.018803258892580325,
          0.026152433948526777,
          0.04156326135399802,
          0.08994249860404147,
          0.13183268931672873,
          0.10834131085162574,
          0.09837314637496129,
          0.08847998737250319,
          0.10217164201631727,
          -0.11204662393612524,
          -0.18648133271243006,
          -0.012352617717061342,
          -0.041277023715883675,
          -0.09195785449264646,
          -0.20097641987654297,
          -0.0826710877914631,
          0.01885825412169685,
          0.05633785709842871,
          0.021868043548082514,
          -0.005488127526311722,
          -0.026349837164162362,
          -0.007761408104728901,
          0.061535853699146326,
          0.04170604221951464,
          0.1205251341428017,
          0.12011427649303619,
          0.19087907216214303,
          0.18925320099454915,
          0.10672141100031061,
          0.10233915677970233,
          0.08933891041808903,
          -0.06483200038599496,
          -0.11619716450421706,
          -0.05646815932545769,
          -0.18029410464051415,
          -0.18627179627469265,
          -0.15545952158489537,
          -0.07961907566638757,
          -0.03999171834477822,
          -0.013198929666223977,
          -0.08682706446120474,
          -0.2658587303150153,
          -0.017083402566728523,
          -0.07707099904309667,
          0.01931337055628079,
          -0.003302080595550272,
          0.03212155088518284,
          0.04145469221836358,
          0.08268353530554312,
          0.174604214126423,
          0.2003274677016541,
          0.12239546783637896,
          0.1814502765630498,
          -0.15734819119137503,
          -0.13654941061817769,
          -0.2367664634029392,
          -0.24578267463747513,
          -0.1709473165483798,
          -0.18170411462648303,
          -0.119854615958615,
          -0.21469724328186968,
          -0.1334533230864777,
          -0.20431581749323696,
          -0.1606639082010755,
          -0.029373851482932988,
          -0.10741052925874194,
          -0.016750717180628587,
          -0.10112486939756672,
          0.004499583894616666,
          -0.050004291171045184,
          0.03514728800377857,
          0.12479552413718091,
          0.09320837852759675,
          -0.03322060806956323,
          -0.05401736034742095,
          -0.1609222488511741,
          -0.08897109170189388,
          -0.20265109677322377,
          -0.19025511777952572,
          -0.14028353930546095,
          -0.1765600986259989,
          -0.2074097703039797,
          -0.15654793924623459,
          -0.06483635117236641,
          -0.012703975138692156,
          0.005207954545833782,
          0.020615035382774243,
          -0.07713601871263727,
          -0.04145386608229557,
          -0.10005395844635676,
          -0.02089935840125614,
          -0.043780615939753395,
          -0.00790145013756173,
          0.0366871507462897,
          -0.017800552163608437,
          -0.04630869204872301,
          -0.10618106824615856,
          -0.08760033102996508,
          -0.14947859941788505,
          -0.07568761391845492,
          -0.12650108643297192,
          -0.12792755268518569,
          -0.21620545344981898,
          -0.19218348453408624,
          -0.07856799748484909,
          0.012629103652756511,
          0.03907638979484201,
          -0.006478388614999481,
          0.011852168931124818,
          -0.09807266584997784,
          -0.02773845267259962,
          -0.0831870042839568,
          -0.049333836567881914,
          -0.04742937047051019,
          -0.05478756284006052,
          -0.02302045174401601,
          -0.05964394174196888,
          -0.0815529221800377,
          -0.04055703367808988,
          -0.1317146736207812,
          -0.1371148272225116,
          -0.07434481426846193,
          -0.13105776535057945,
          -0.1832341824611167,
          -0.2338835548962444,
          -0.17450741488582758,
          -0.045978719756578454,
          0.047896492759998424,
          0.029566838082033243,
          -0.017553157722618805,
          -0.0389673975134797,
          -0.06415315499954151,
          -0.0371153573787246,
          -0.10344267465081174,
          -0.07946030072344315,
          -0.10124697706000291,
          -0.11103233241423538,
          -0.07053836829871762,
          -0.08427503537268817,
          -0.09237745384060429,
          -0.07470530773160916,
          -0.08569808034168441,
          -0.12966872956191974,
          -0.14367933224944054,
          -0.24094680873692537,
          -0.2850118925211145,
          -0.30691801557561643,
          -0.12822860566630695,
          -0.01781511752822475,
          0.0681314652286321,
          0.012290214087923789,
          -0.08874714236214448,
          -0.05227116933250525,
          -0.10378376166351572,
          -0.0597081584246683,
          -0.1602364856132757,
          -0.12209152771891595,
          -0.19514984447530015,
          -0.15366587168865603,
          -0.08904112734379994,
          -0.09551674760812166,
          -0.08557502290387821,
          -0.09875200533013521,
          -0.1099134154602606,
          -0.19813295411892945,
          -0.219082547281521,
          -0.2642655509661517,
          -0.3463820680456382,
          -0.30867716473890777,
          -0.13442282564243527,
          -0.014355205786774919,
          0.08368678074175143,
          -0.06314611910543316,
          -0.10008706985193702,
          -0.09086621745792063,
          -0.14101322510347264,
          -0.10755031354334688,
          -0.18055890078904516,
          -0.16076914537771694,
          -0.2268419314576205,
          -0.22034173193305562,
          -0.12087847979273719,
          -0.12022036628887474,
          -0.07183610382406938,
          -0.14071801776435564,
          -0.16565241419205415,
          -0.2166022307396596,
          -0.24867073902728068,
          -0.2991242782070005,
          -0.2803716546389391,
          -0.25489459878181325,
          -0.017815365568260414,
          0.08948371768210103,
          0.004467734917628672,
          -0.07024388924551554,
          -0.12723121431227885,
          -0.10463082638695909,
          -0.1497218465741935,
          -0.1189366477379292,
          -0.20394272139783515,
          -0.17767191104997276,
          -0.26179518106986305,
          -0.26512913115396475,
          -0.08928638485271817,
          -0.07937056898549144,
          -0.08784054098789244,
          -0.218579847175997,
          -0.1840366723227328,
          -0.24703184740482767,
          -0.2016321378850909,
          -0.29127168845630863,
          -0.21405274650193584,
          -0.21918037043660502,
          0.16697630551273962,
          0.04411655944805463,
          0.002301479001686296,
          -0.06140491780002841,
          -0.15047388304802226,
          -0.1223716580185466,
          -0.15581168026336217,
          -0.14120139194843065,
          -0.19332874024108862,
          -0.2246500592808378,
          -0.29190010208713585,
          -0.37287023150933085,
          -0.055969565801822135,
          -0.07120427440508281,
          -0.13119892999971025,
          -0.2212857154034956,
          -0.22339607125694222,
          -0.26381165465946466,
          -0.15264156661830344,
          -0.12419371662910354,
          0.06420497037693447,
          -0.003843091369859287,
          -0.015600287937209597,
          0.06012954598238825,
          -0.016705465906470734,
          -0.040285404705092946,
          -0.08200657744420645,
          -0.08953157961934552,
          -0.11281505831200438,
          -0.09450724551722706,
          -0.1556579185181628,
          -0.14884291654217235,
          -0.21091188843139877,
          -0.07015239814200094,
          -0.035725174167550014,
          -0.10420736332250034,
          -0.14493848563821846,
          -0.1596306253170865,
          -0.1818230778245177,
          -0.270090868996064,
          0.022140153581283118,
          -0.06962809461586497,
          0.10991232666267446,
          -0.05363329632912886,
          -0.05005593887703668,
          0.020412955793010678,
          0.001101437266660132,
          0.010983735636800626,
          -0.08924304267706326,
          -0.047969235147935815,
          -0.114436811652665,
          -0.10279884548467864,
          -0.16512613712775834,
          -0.14859351402491341,
          -0.09628307693088979,
          -0.06954660576884307,
          -0.10556456761960997,
          -0.12595976419486168,
          -0.16966713552054413,
          -0.14527809400736488,
          -0.19501206509829414,
          -0.267790871705888,
          0.0007027341973782826,
          -0.03916912954122325,
          -0.044364701254930285,
          -0.12046548026079937,
          -0.07917275574896263,
          -0.028709575699500688,
          -0.04009531991560024,
          -0.05301501109156794,
          -0.1384268414175947,
          -0.12462973891315299,
          -0.1400343785479317,
          -0.11525088062352078,
          -0.12136358854106018,
          -0.05850013201677084,
          -0.059660641971518914,
          -0.05762945859274941,
          -0.11750373761673226,
          -0.13913965914531298,
          -0.1385698433964229,
          -0.09275265718976133,
          -0.1830747313063394,
          -0.2449181280591746,
          -0.0007576453885701262,
          -0.10392549376241236,
          -0.05506783746597608,
          -0.1342105741188148,
          -0.0728711548536584,
          -0.06483064565514052,
          -0.06366771272217793,
          -0.0430497640011951,
          -0.1562365399561673,
          -0.13032486515971797,
          -0.1832455446571761,
          -0.13177994147133584,
          -0.12827140398608844,
          -0.060864610046202056,
          -0.07654197682406086,
          -0.05372933583376556,
          -0.11876083815357008,
          -0.1442409986030404,
          -0.1348859573668124,
          -0.11154935499880905,
          -0.2707491990617989,
          -0.21916866806999222,
          -0.06167886043249661,
          -0.14730501311583813,
          -0.1189423231889781,
          -0.158039365325218,
          -0.1109453106784251,
          -0.09226275885711582,
          -0.09836461278808475,
          -0.05587350093329515,
          -0.28946694845710197,
          -0.13939114451604154,
          -0.24099942410027644,
          -0.1142098657691151,
          -0.12287944331517787,
          -0.12597715738181764,
          -0.1137560627633081,
          -0.15585280937621493,
          -0.1029817486061188,
          -0.13398823963992762,
          -0.11863504631161054,
          -0.044959262169962065,
          -0.3532300396268037,
          -0.20851875441176662
         ]
        }
       ],
       "layout": {
        "coloraxis": {
         "colorbar": {
          "title": {
           "text": "lookback_period"
          }
         },
         "colorscale": [
          [
           0,
           "#0d0887"
          ],
          [
           0.1111111111111111,
           "#46039f"
          ],
          [
           0.2222222222222222,
           "#7201a8"
          ],
          [
           0.3333333333333333,
           "#9c179e"
          ],
          [
           0.4444444444444444,
           "#bd3786"
          ],
          [
           0.5555555555555556,
           "#d8576b"
          ],
          [
           0.6666666666666666,
           "#ed7953"
          ],
          [
           0.7777777777777778,
           "#fb9f3a"
          ],
          [
           0.8888888888888888,
           "#fdca26"
          ],
          [
           1,
           "#f0f921"
          ]
         ]
        },
        "legend": {
         "tracegroupgap": 0
        },
        "margin": {
         "t": 60
        },
        "scene": {
         "domain": {
          "x": [
           0,
           1
          ],
          "y": [
           0,
           1
          ]
         },
         "xaxis": {
          "title": {
           "text": "predict_period"
          }
         },
         "yaxis": {
          "title": {
           "text": "lookback_period"
          }
         },
         "zaxis": {
          "title": {
           "text": "corr2"
          }
         }
        },
        "template": {
         "data": {
          "bar": [
           {
            "error_x": {
             "color": "#2a3f5f"
            },
            "error_y": {
             "color": "#2a3f5f"
            },
            "marker": {
             "line": {
              "color": "#E5ECF6",
              "width": 0.5
             },
             "pattern": {
              "fillmode": "overlay",
              "size": 10,
              "solidity": 0.2
             }
            },
            "type": "bar"
           }
          ],
          "barpolar": [
           {
            "marker": {
             "line": {
              "color": "#E5ECF6",
              "width": 0.5
             },
             "pattern": {
              "fillmode": "overlay",
              "size": 10,
              "solidity": 0.2
             }
            },
            "type": "barpolar"
           }
          ],
          "carpet": [
           {
            "aaxis": {
             "endlinecolor": "#2a3f5f",
             "gridcolor": "white",
             "linecolor": "white",
             "minorgridcolor": "white",
             "startlinecolor": "#2a3f5f"
            },
            "baxis": {
             "endlinecolor": "#2a3f5f",
             "gridcolor": "white",
             "linecolor": "white",
             "minorgridcolor": "white",
             "startlinecolor": "#2a3f5f"
            },
            "type": "carpet"
           }
          ],
          "choropleth": [
           {
            "colorbar": {
             "outlinewidth": 0,
             "ticks": ""
            },
            "type": "choropleth"
           }
          ],
          "contour": [
           {
            "colorbar": {
             "outlinewidth": 0,
             "ticks": ""
            },
            "colorscale": [
             [
              0,
              "#0d0887"
             ],
             [
              0.1111111111111111,
              "#46039f"
             ],
             [
              0.2222222222222222,
              "#7201a8"
             ],
             [
              0.3333333333333333,
              "#9c179e"
             ],
             [
              0.4444444444444444,
              "#bd3786"
             ],
             [
              0.5555555555555556,
              "#d8576b"
             ],
             [
              0.6666666666666666,
              "#ed7953"
             ],
             [
              0.7777777777777778,
              "#fb9f3a"
             ],
             [
              0.8888888888888888,
              "#fdca26"
             ],
             [
              1,
              "#f0f921"
             ]
            ],
            "type": "contour"
           }
          ],
          "contourcarpet": [
           {
            "colorbar": {
             "outlinewidth": 0,
             "ticks": ""
            },
            "type": "contourcarpet"
           }
          ],
          "heatmap": [
           {
            "colorbar": {
             "outlinewidth": 0,
             "ticks": ""
            },
            "colorscale": [
             [
              0,
              "#0d0887"
             ],
             [
              0.1111111111111111,
              "#46039f"
             ],
             [
              0.2222222222222222,
              "#7201a8"
             ],
             [
              0.3333333333333333,
              "#9c179e"
             ],
             [
              0.4444444444444444,
              "#bd3786"
             ],
             [
              0.5555555555555556,
              "#d8576b"
             ],
             [
              0.6666666666666666,
              "#ed7953"
             ],
             [
              0.7777777777777778,
              "#fb9f3a"
             ],
             [
              0.8888888888888888,
              "#fdca26"
             ],
             [
              1,
              "#f0f921"
             ]
            ],
            "type": "heatmap"
           }
          ],
          "heatmapgl": [
           {
            "colorbar": {
             "outlinewidth": 0,
             "ticks": ""
            },
            "colorscale": [
             [
              0,
              "#0d0887"
             ],
             [
              0.1111111111111111,
              "#46039f"
             ],
             [
              0.2222222222222222,
              "#7201a8"
             ],
             [
              0.3333333333333333,
              "#9c179e"
             ],
             [
              0.4444444444444444,
              "#bd3786"
             ],
             [
              0.5555555555555556,
              "#d8576b"
             ],
             [
              0.6666666666666666,
              "#ed7953"
             ],
             [
              0.7777777777777778,
              "#fb9f3a"
             ],
             [
              0.8888888888888888,
              "#fdca26"
             ],
             [
              1,
              "#f0f921"
             ]
            ],
            "type": "heatmapgl"
           }
          ],
          "histogram": [
           {
            "marker": {
             "pattern": {
              "fillmode": "overlay",
              "size": 10,
              "solidity": 0.2
             }
            },
            "type": "histogram"
           }
          ],
          "histogram2d": [
           {
            "colorbar": {
             "outlinewidth": 0,
             "ticks": ""
            },
            "colorscale": [
             [
              0,
              "#0d0887"
             ],
             [
              0.1111111111111111,
              "#46039f"
             ],
             [
              0.2222222222222222,
              "#7201a8"
             ],
             [
              0.3333333333333333,
              "#9c179e"
             ],
             [
              0.4444444444444444,
              "#bd3786"
             ],
             [
              0.5555555555555556,
              "#d8576b"
             ],
             [
              0.6666666666666666,
              "#ed7953"
             ],
             [
              0.7777777777777778,
              "#fb9f3a"
             ],
             [
              0.8888888888888888,
              "#fdca26"
             ],
             [
              1,
              "#f0f921"
             ]
            ],
            "type": "histogram2d"
           }
          ],
          "histogram2dcontour": [
           {
            "colorbar": {
             "outlinewidth": 0,
             "ticks": ""
            },
            "colorscale": [
             [
              0,
              "#0d0887"
             ],
             [
              0.1111111111111111,
              "#46039f"
             ],
             [
              0.2222222222222222,
              "#7201a8"
             ],
             [
              0.3333333333333333,
              "#9c179e"
             ],
             [
              0.4444444444444444,
              "#bd3786"
             ],
             [
              0.5555555555555556,
              "#d8576b"
             ],
             [
              0.6666666666666666,
              "#ed7953"
             ],
             [
              0.7777777777777778,
              "#fb9f3a"
             ],
             [
              0.8888888888888888,
              "#fdca26"
             ],
             [
              1,
              "#f0f921"
             ]
            ],
            "type": "histogram2dcontour"
           }
          ],
          "mesh3d": [
           {
            "colorbar": {
             "outlinewidth": 0,
             "ticks": ""
            },
            "type": "mesh3d"
           }
          ],
          "parcoords": [
           {
            "line": {
             "colorbar": {
              "outlinewidth": 0,
              "ticks": ""
             }
            },
            "type": "parcoords"
           }
          ],
          "pie": [
           {
            "automargin": true,
            "type": "pie"
           }
          ],
          "scatter": [
           {
            "fillpattern": {
             "fillmode": "overlay",
             "size": 10,
             "solidity": 0.2
            },
            "type": "scatter"
           }
          ],
          "scatter3d": [
           {
            "line": {
             "colorbar": {
              "outlinewidth": 0,
              "ticks": ""
             }
            },
            "marker": {
             "colorbar": {
              "outlinewidth": 0,
              "ticks": ""
             }
            },
            "type": "scatter3d"
           }
          ],
          "scattercarpet": [
           {
            "marker": {
             "colorbar": {
              "outlinewidth": 0,
              "ticks": ""
             }
            },
            "type": "scattercarpet"
           }
          ],
          "scattergeo": [
           {
            "marker": {
             "colorbar": {
              "outlinewidth": 0,
              "ticks": ""
             }
            },
            "type": "scattergeo"
           }
          ],
          "scattergl": [
           {
            "marker": {
             "colorbar": {
              "outlinewidth": 0,
              "ticks": ""
             }
            },
            "type": "scattergl"
           }
          ],
          "scattermapbox": [
           {
            "marker": {
             "colorbar": {
              "outlinewidth": 0,
              "ticks": ""
             }
            },
            "type": "scattermapbox"
           }
          ],
          "scatterpolar": [
           {
            "marker": {
             "colorbar": {
              "outlinewidth": 0,
              "ticks": ""
             }
            },
            "type": "scatterpolar"
           }
          ],
          "scatterpolargl": [
           {
            "marker": {
             "colorbar": {
              "outlinewidth": 0,
              "ticks": ""
             }
            },
            "type": "scatterpolargl"
           }
          ],
          "scatterternary": [
           {
            "marker": {
             "colorbar": {
              "outlinewidth": 0,
              "ticks": ""
             }
            },
            "type": "scatterternary"
           }
          ],
          "surface": [
           {
            "colorbar": {
             "outlinewidth": 0,
             "ticks": ""
            },
            "colorscale": [
             [
              0,
              "#0d0887"
             ],
             [
              0.1111111111111111,
              "#46039f"
             ],
             [
              0.2222222222222222,
              "#7201a8"
             ],
             [
              0.3333333333333333,
              "#9c179e"
             ],
             [
              0.4444444444444444,
              "#bd3786"
             ],
             [
              0.5555555555555556,
              "#d8576b"
             ],
             [
              0.6666666666666666,
              "#ed7953"
             ],
             [
              0.7777777777777778,
              "#fb9f3a"
             ],
             [
              0.8888888888888888,
              "#fdca26"
             ],
             [
              1,
              "#f0f921"
             ]
            ],
            "type": "surface"
           }
          ],
          "table": [
           {
            "cells": {
             "fill": {
              "color": "#EBF0F8"
             },
             "line": {
              "color": "white"
             }
            },
            "header": {
             "fill": {
              "color": "#C8D4E3"
             },
             "line": {
              "color": "white"
             }
            },
            "type": "table"
           }
          ]
         },
         "layout": {
          "annotationdefaults": {
           "arrowcolor": "#2a3f5f",
           "arrowhead": 0,
           "arrowwidth": 1
          },
          "autotypenumbers": "strict",
          "coloraxis": {
           "colorbar": {
            "outlinewidth": 0,
            "ticks": ""
           }
          },
          "colorscale": {
           "diverging": [
            [
             0,
             "#8e0152"
            ],
            [
             0.1,
             "#c51b7d"
            ],
            [
             0.2,
             "#de77ae"
            ],
            [
             0.3,
             "#f1b6da"
            ],
            [
             0.4,
             "#fde0ef"
            ],
            [
             0.5,
             "#f7f7f7"
            ],
            [
             0.6,
             "#e6f5d0"
            ],
            [
             0.7,
             "#b8e186"
            ],
            [
             0.8,
             "#7fbc41"
            ],
            [
             0.9,
             "#4d9221"
            ],
            [
             1,
             "#276419"
            ]
           ],
           "sequential": [
            [
             0,
             "#0d0887"
            ],
            [
             0.1111111111111111,
             "#46039f"
            ],
            [
             0.2222222222222222,
             "#7201a8"
            ],
            [
             0.3333333333333333,
             "#9c179e"
            ],
            [
             0.4444444444444444,
             "#bd3786"
            ],
            [
             0.5555555555555556,
             "#d8576b"
            ],
            [
             0.6666666666666666,
             "#ed7953"
            ],
            [
             0.7777777777777778,
             "#fb9f3a"
            ],
            [
             0.8888888888888888,
             "#fdca26"
            ],
            [
             1,
             "#f0f921"
            ]
           ],
           "sequentialminus": [
            [
             0,
             "#0d0887"
            ],
            [
             0.1111111111111111,
             "#46039f"
            ],
            [
             0.2222222222222222,
             "#7201a8"
            ],
            [
             0.3333333333333333,
             "#9c179e"
            ],
            [
             0.4444444444444444,
             "#bd3786"
            ],
            [
             0.5555555555555556,
             "#d8576b"
            ],
            [
             0.6666666666666666,
             "#ed7953"
            ],
            [
             0.7777777777777778,
             "#fb9f3a"
            ],
            [
             0.8888888888888888,
             "#fdca26"
            ],
            [
             1,
             "#f0f921"
            ]
           ]
          },
          "colorway": [
           "#636efa",
           "#EF553B",
           "#00cc96",
           "#ab63fa",
           "#FFA15A",
           "#19d3f3",
           "#FF6692",
           "#B6E880",
           "#FF97FF",
           "#FECB52"
          ],
          "font": {
           "color": "#2a3f5f"
          },
          "geo": {
           "bgcolor": "white",
           "lakecolor": "white",
           "landcolor": "#E5ECF6",
           "showlakes": true,
           "showland": true,
           "subunitcolor": "white"
          },
          "hoverlabel": {
           "align": "left"
          },
          "hovermode": "closest",
          "mapbox": {
           "style": "light"
          },
          "paper_bgcolor": "white",
          "plot_bgcolor": "#E5ECF6",
          "polar": {
           "angularaxis": {
            "gridcolor": "white",
            "linecolor": "white",
            "ticks": ""
           },
           "bgcolor": "#E5ECF6",
           "radialaxis": {
            "gridcolor": "white",
            "linecolor": "white",
            "ticks": ""
           }
          },
          "scene": {
           "xaxis": {
            "backgroundcolor": "#E5ECF6",
            "gridcolor": "white",
            "gridwidth": 2,
            "linecolor": "white",
            "showbackground": true,
            "ticks": "",
            "zerolinecolor": "white"
           },
           "yaxis": {
            "backgroundcolor": "#E5ECF6",
            "gridcolor": "white",
            "gridwidth": 2,
            "linecolor": "white",
            "showbackground": true,
            "ticks": "",
            "zerolinecolor": "white"
           },
           "zaxis": {
            "backgroundcolor": "#E5ECF6",
            "gridcolor": "white",
            "gridwidth": 2,
            "linecolor": "white",
            "showbackground": true,
            "ticks": "",
            "zerolinecolor": "white"
           }
          },
          "shapedefaults": {
           "line": {
            "color": "#2a3f5f"
           }
          },
          "ternary": {
           "aaxis": {
            "gridcolor": "white",
            "linecolor": "white",
            "ticks": ""
           },
           "baxis": {
            "gridcolor": "white",
            "linecolor": "white",
            "ticks": ""
           },
           "bgcolor": "#E5ECF6",
           "caxis": {
            "gridcolor": "white",
            "linecolor": "white",
            "ticks": ""
           }
          },
          "title": {
           "x": 0.05
          },
          "xaxis": {
           "automargin": true,
           "gridcolor": "white",
           "linecolor": "white",
           "ticks": "",
           "title": {
            "standoff": 15
           },
           "zerolinecolor": "white",
           "zerolinewidth": 2
          },
          "yaxis": {
           "automargin": true,
           "gridcolor": "white",
           "linecolor": "white",
           "ticks": "",
           "title": {
            "standoff": 15
           },
           "zerolinecolor": "white",
           "zerolinewidth": 2
          }
         }
        }
       }
      },
      "text/html": [
       "<div>                            <div id=\"eba28cb1-ebfc-42e1-a5f7-4ff32d9d5915\" class=\"plotly-graph-div\" style=\"height:525px; width:100%;\"></div>            <script type=\"text/javascript\">                require([\"plotly\"], function(Plotly) {                    window.PLOTLYENV=window.PLOTLYENV || {};                                    if (document.getElementById(\"eba28cb1-ebfc-42e1-a5f7-4ff32d9d5915\")) {                    Plotly.newPlot(                        \"eba28cb1-ebfc-42e1-a5f7-4ff32d9d5915\",                        [{\"hovertemplate\":\"predict_period=%{x}<br>lookback_period=%{marker.color}<br>corr2=%{z}<extra></extra>\",\"legendgroup\":\"\",\"marker\":{\"color\":[400.0,800.0,1200.0,1600.0,2000.0,2400.0,2800.0,3200.0,3600.0,4000.0,4400.0,4800.0,5200.0,5600.0,6000.0,6400.0,6800.0,7200.0,7600.0,8000.0,8400.0,8800.0,400.0,800.0,1200.0,1600.0,2000.0,2400.0,2800.0,3200.0,3600.0,4000.0,4400.0,4800.0,5200.0,5600.0,6000.0,6400.0,6800.0,7200.0,7600.0,8000.0,8400.0,8800.0,400.0,800.0,1200.0,1600.0,2000.0,2400.0,2800.0,3200.0,3600.0,4000.0,4400.0,4800.0,5200.0,5600.0,6000.0,6400.0,6800.0,7200.0,7600.0,8000.0,8400.0,8800.0,400.0,800.0,1200.0,1600.0,2000.0,2400.0,2800.0,3200.0,3600.0,4000.0,4400.0,4800.0,5200.0,5600.0,6000.0,6400.0,6800.0,7200.0,7600.0,8000.0,8400.0,8800.0,400.0,800.0,1200.0,1600.0,2000.0,2400.0,2800.0,3200.0,3600.0,4000.0,4400.0,4800.0,5200.0,5600.0,6000.0,6400.0,6800.0,7200.0,7600.0,8000.0,8400.0,8800.0,400.0,800.0,1200.0,1600.0,2000.0,2400.0,2800.0,3200.0,3600.0,4000.0,4400.0,4800.0,5200.0,5600.0,6000.0,6400.0,6800.0,7200.0,7600.0,8000.0,8400.0,8800.0,400.0,800.0,1200.0,1600.0,2000.0,2400.0,2800.0,3200.0,3600.0,4000.0,4400.0,4800.0,5200.0,5600.0,6000.0,6400.0,6800.0,7200.0,7600.0,8000.0,8400.0,8800.0,400.0,800.0,1200.0,1600.0,2000.0,2400.0,2800.0,3200.0,3600.0,4000.0,4400.0,4800.0,5200.0,5600.0,6000.0,6400.0,6800.0,7200.0,7600.0,8000.0,8400.0,8800.0,400.0,800.0,1200.0,1600.0,2000.0,2400.0,2800.0,3200.0,3600.0,4000.0,4400.0,4800.0,5200.0,5600.0,6000.0,6400.0,6800.0,7200.0,7600.0,8000.0,8400.0,8800.0,400.0,800.0,1200.0,1600.0,2000.0,2400.0,2800.0,3200.0,3600.0,4000.0,4400.0,4800.0,5200.0,5600.0,6000.0,6400.0,6800.0,7200.0,7600.0,8000.0,8400.0,8800.0,400.0,800.0,1200.0,1600.0,2000.0,2400.0,2800.0,3200.0,3600.0,4000.0,4400.0,4800.0,5200.0,5600.0,6000.0,6400.0,6800.0,7200.0,7600.0,8000.0,8400.0,8800.0,400.0,800.0,1200.0,1600.0,2000.0,2400.0,2800.0,3200.0,3600.0,4000.0,4400.0,4800.0,5200.0,5600.0,6000.0,6400.0,6800.0,7200.0,7600.0,8000.0,8400.0,8800.0,400.0,800.0,1200.0,1600.0,2000.0,2400.0,2800.0,3200.0,3600.0,4000.0,4400.0,4800.0,5200.0,5600.0,6000.0,6400.0,6800.0,7200.0,7600.0,8000.0,8400.0,8800.0,400.0,800.0,1200.0,1600.0,2000.0,2400.0,2800.0,3200.0,3600.0,4000.0,4400.0,4800.0,5200.0,5600.0,6000.0,6400.0,6800.0,7200.0,7600.0,8000.0,8400.0,8800.0,400.0,800.0,1200.0,1600.0,2000.0,2400.0,2800.0,3200.0,3600.0,4000.0,4400.0,4800.0,5200.0,5600.0,6000.0,6400.0,6800.0,7200.0,7600.0,8000.0,8400.0,8800.0,400.0,800.0,1200.0,1600.0,2000.0,2400.0,2800.0,3200.0,3600.0,4000.0,4400.0,4800.0,5200.0,5600.0,6000.0,6400.0,6800.0,7200.0,7600.0,8000.0,8400.0,8800.0,400.0,800.0,1200.0,1600.0,2000.0,2400.0,2800.0,3200.0,3600.0,4000.0,4400.0,4800.0,5200.0,5600.0,6000.0,6400.0,6800.0,7200.0,7600.0,8000.0,8400.0,8800.0,400.0,800.0,1200.0,1600.0,2000.0,2400.0,2800.0,3200.0,3600.0,4000.0,4400.0,4800.0,5200.0,5600.0,6000.0,6400.0,6800.0,7200.0,7600.0,8000.0,8400.0,8800.0,400.0,800.0,1200.0,1600.0,2000.0,2400.0,2800.0,3200.0,3600.0,4000.0,4400.0,4800.0,5200.0,5600.0,6000.0,6400.0,6800.0,7200.0,7600.0,8000.0,8400.0,8800.0,400.0,800.0,1200.0,1600.0,2000.0,2400.0,2800.0,3200.0,3600.0,4000.0,4400.0,4800.0,5200.0,5600.0,6000.0,6400.0,6800.0,7200.0,7600.0,8000.0,8400.0,8800.0,400.0,800.0,1200.0,1600.0,2000.0,2400.0,2800.0,3200.0,3600.0,4000.0,4400.0,4800.0,5200.0,5600.0,6000.0,6400.0,6800.0,7200.0,7600.0,8000.0,8400.0,8800.0,400.0,800.0,1200.0,1600.0,2000.0,2400.0,2800.0,3200.0,3600.0,4000.0,4400.0,4800.0,5200.0,5600.0,6000.0,6400.0,6800.0,7200.0,7600.0,8000.0,8400.0,8800.0],\"coloraxis\":\"coloraxis\",\"symbol\":\"circle\"},\"mode\":\"markers\",\"name\":\"\",\"scene\":\"scene\",\"showlegend\":false,\"x\":[400.0,400.0,400.0,400.0,400.0,400.0,400.0,400.0,400.0,400.0,400.0,400.0,400.0,400.0,400.0,400.0,400.0,400.0,400.0,400.0,400.0,400.0,800.0,800.0,800.0,800.0,800.0,800.0,800.0,800.0,800.0,800.0,800.0,800.0,800.0,800.0,800.0,800.0,800.0,800.0,800.0,800.0,800.0,800.0,1200.0,1200.0,1200.0,1200.0,1200.0,1200.0,1200.0,1200.0,1200.0,1200.0,1200.0,1200.0,1200.0,1200.0,1200.0,1200.0,1200.0,1200.0,1200.0,1200.0,1200.0,1200.0,1600.0,1600.0,1600.0,1600.0,1600.0,1600.0,1600.0,1600.0,1600.0,1600.0,1600.0,1600.0,1600.0,1600.0,1600.0,1600.0,1600.0,1600.0,1600.0,1600.0,1600.0,1600.0,2000.0,2000.0,2000.0,2000.0,2000.0,2000.0,2000.0,2000.0,2000.0,2000.0,2000.0,2000.0,2000.0,2000.0,2000.0,2000.0,2000.0,2000.0,2000.0,2000.0,2000.0,2000.0,2400.0,2400.0,2400.0,2400.0,2400.0,2400.0,2400.0,2400.0,2400.0,2400.0,2400.0,2400.0,2400.0,2400.0,2400.0,2400.0,2400.0,2400.0,2400.0,2400.0,2400.0,2400.0,2800.0,2800.0,2800.0,2800.0,2800.0,2800.0,2800.0,2800.0,2800.0,2800.0,2800.0,2800.0,2800.0,2800.0,2800.0,2800.0,2800.0,2800.0,2800.0,2800.0,2800.0,2800.0,3200.0,3200.0,3200.0,3200.0,3200.0,3200.0,3200.0,3200.0,3200.0,3200.0,3200.0,3200.0,3200.0,3200.0,3200.0,3200.0,3200.0,3200.0,3200.0,3200.0,3200.0,3200.0,3600.0,3600.0,3600.0,3600.0,3600.0,3600.0,3600.0,3600.0,3600.0,3600.0,3600.0,3600.0,3600.0,3600.0,3600.0,3600.0,3600.0,3600.0,3600.0,3600.0,3600.0,3600.0,4000.0,4000.0,4000.0,4000.0,4000.0,4000.0,4000.0,4000.0,4000.0,4000.0,4000.0,4000.0,4000.0,4000.0,4000.0,4000.0,4000.0,4000.0,4000.0,4000.0,4000.0,4000.0,4400.0,4400.0,4400.0,4400.0,4400.0,4400.0,4400.0,4400.0,4400.0,4400.0,4400.0,4400.0,4400.0,4400.0,4400.0,4400.0,4400.0,4400.0,4400.0,4400.0,4400.0,4400.0,4800.0,4800.0,4800.0,4800.0,4800.0,4800.0,4800.0,4800.0,4800.0,4800.0,4800.0,4800.0,4800.0,4800.0,4800.0,4800.0,4800.0,4800.0,4800.0,4800.0,4800.0,4800.0,5200.0,5200.0,5200.0,5200.0,5200.0,5200.0,5200.0,5200.0,5200.0,5200.0,5200.0,5200.0,5200.0,5200.0,5200.0,5200.0,5200.0,5200.0,5200.0,5200.0,5200.0,5200.0,5600.0,5600.0,5600.0,5600.0,5600.0,5600.0,5600.0,5600.0,5600.0,5600.0,5600.0,5600.0,5600.0,5600.0,5600.0,5600.0,5600.0,5600.0,5600.0,5600.0,5600.0,5600.0,6000.0,6000.0,6000.0,6000.0,6000.0,6000.0,6000.0,6000.0,6000.0,6000.0,6000.0,6000.0,6000.0,6000.0,6000.0,6000.0,6000.0,6000.0,6000.0,6000.0,6000.0,6000.0,6400.0,6400.0,6400.0,6400.0,6400.0,6400.0,6400.0,6400.0,6400.0,6400.0,6400.0,6400.0,6400.0,6400.0,6400.0,6400.0,6400.0,6400.0,6400.0,6400.0,6400.0,6400.0,6800.0,6800.0,6800.0,6800.0,6800.0,6800.0,6800.0,6800.0,6800.0,6800.0,6800.0,6800.0,6800.0,6800.0,6800.0,6800.0,6800.0,6800.0,6800.0,6800.0,6800.0,6800.0,7200.0,7200.0,7200.0,7200.0,7200.0,7200.0,7200.0,7200.0,7200.0,7200.0,7200.0,7200.0,7200.0,7200.0,7200.0,7200.0,7200.0,7200.0,7200.0,7200.0,7200.0,7200.0,7600.0,7600.0,7600.0,7600.0,7600.0,7600.0,7600.0,7600.0,7600.0,7600.0,7600.0,7600.0,7600.0,7600.0,7600.0,7600.0,7600.0,7600.0,7600.0,7600.0,7600.0,7600.0,8000.0,8000.0,8000.0,8000.0,8000.0,8000.0,8000.0,8000.0,8000.0,8000.0,8000.0,8000.0,8000.0,8000.0,8000.0,8000.0,8000.0,8000.0,8000.0,8000.0,8000.0,8000.0,8400.0,8400.0,8400.0,8400.0,8400.0,8400.0,8400.0,8400.0,8400.0,8400.0,8400.0,8400.0,8400.0,8400.0,8400.0,8400.0,8400.0,8400.0,8400.0,8400.0,8400.0,8400.0,8800.0,8800.0,8800.0,8800.0,8800.0,8800.0,8800.0,8800.0,8800.0,8800.0,8800.0,8800.0,8800.0,8800.0,8800.0,8800.0,8800.0,8800.0,8800.0,8800.0,8800.0,8800.0],\"y\":[400.0,800.0,1200.0,1600.0,2000.0,2400.0,2800.0,3200.0,3600.0,4000.0,4400.0,4800.0,5200.0,5600.0,6000.0,6400.0,6800.0,7200.0,7600.0,8000.0,8400.0,8800.0,400.0,800.0,1200.0,1600.0,2000.0,2400.0,2800.0,3200.0,3600.0,4000.0,4400.0,4800.0,5200.0,5600.0,6000.0,6400.0,6800.0,7200.0,7600.0,8000.0,8400.0,8800.0,400.0,800.0,1200.0,1600.0,2000.0,2400.0,2800.0,3200.0,3600.0,4000.0,4400.0,4800.0,5200.0,5600.0,6000.0,6400.0,6800.0,7200.0,7600.0,8000.0,8400.0,8800.0,400.0,800.0,1200.0,1600.0,2000.0,2400.0,2800.0,3200.0,3600.0,4000.0,4400.0,4800.0,5200.0,5600.0,6000.0,6400.0,6800.0,7200.0,7600.0,8000.0,8400.0,8800.0,400.0,800.0,1200.0,1600.0,2000.0,2400.0,2800.0,3200.0,3600.0,4000.0,4400.0,4800.0,5200.0,5600.0,6000.0,6400.0,6800.0,7200.0,7600.0,8000.0,8400.0,8800.0,400.0,800.0,1200.0,1600.0,2000.0,2400.0,2800.0,3200.0,3600.0,4000.0,4400.0,4800.0,5200.0,5600.0,6000.0,6400.0,6800.0,7200.0,7600.0,8000.0,8400.0,8800.0,400.0,800.0,1200.0,1600.0,2000.0,2400.0,2800.0,3200.0,3600.0,4000.0,4400.0,4800.0,5200.0,5600.0,6000.0,6400.0,6800.0,7200.0,7600.0,8000.0,8400.0,8800.0,400.0,800.0,1200.0,1600.0,2000.0,2400.0,2800.0,3200.0,3600.0,4000.0,4400.0,4800.0,5200.0,5600.0,6000.0,6400.0,6800.0,7200.0,7600.0,8000.0,8400.0,8800.0,400.0,800.0,1200.0,1600.0,2000.0,2400.0,2800.0,3200.0,3600.0,4000.0,4400.0,4800.0,5200.0,5600.0,6000.0,6400.0,6800.0,7200.0,7600.0,8000.0,8400.0,8800.0,400.0,800.0,1200.0,1600.0,2000.0,2400.0,2800.0,3200.0,3600.0,4000.0,4400.0,4800.0,5200.0,5600.0,6000.0,6400.0,6800.0,7200.0,7600.0,8000.0,8400.0,8800.0,400.0,800.0,1200.0,1600.0,2000.0,2400.0,2800.0,3200.0,3600.0,4000.0,4400.0,4800.0,5200.0,5600.0,6000.0,6400.0,6800.0,7200.0,7600.0,8000.0,8400.0,8800.0,400.0,800.0,1200.0,1600.0,2000.0,2400.0,2800.0,3200.0,3600.0,4000.0,4400.0,4800.0,5200.0,5600.0,6000.0,6400.0,6800.0,7200.0,7600.0,8000.0,8400.0,8800.0,400.0,800.0,1200.0,1600.0,2000.0,2400.0,2800.0,3200.0,3600.0,4000.0,4400.0,4800.0,5200.0,5600.0,6000.0,6400.0,6800.0,7200.0,7600.0,8000.0,8400.0,8800.0,400.0,800.0,1200.0,1600.0,2000.0,2400.0,2800.0,3200.0,3600.0,4000.0,4400.0,4800.0,5200.0,5600.0,6000.0,6400.0,6800.0,7200.0,7600.0,8000.0,8400.0,8800.0,400.0,800.0,1200.0,1600.0,2000.0,2400.0,2800.0,3200.0,3600.0,4000.0,4400.0,4800.0,5200.0,5600.0,6000.0,6400.0,6800.0,7200.0,7600.0,8000.0,8400.0,8800.0,400.0,800.0,1200.0,1600.0,2000.0,2400.0,2800.0,3200.0,3600.0,4000.0,4400.0,4800.0,5200.0,5600.0,6000.0,6400.0,6800.0,7200.0,7600.0,8000.0,8400.0,8800.0,400.0,800.0,1200.0,1600.0,2000.0,2400.0,2800.0,3200.0,3600.0,4000.0,4400.0,4800.0,5200.0,5600.0,6000.0,6400.0,6800.0,7200.0,7600.0,8000.0,8400.0,8800.0,400.0,800.0,1200.0,1600.0,2000.0,2400.0,2800.0,3200.0,3600.0,4000.0,4400.0,4800.0,5200.0,5600.0,6000.0,6400.0,6800.0,7200.0,7600.0,8000.0,8400.0,8800.0,400.0,800.0,1200.0,1600.0,2000.0,2400.0,2800.0,3200.0,3600.0,4000.0,4400.0,4800.0,5200.0,5600.0,6000.0,6400.0,6800.0,7200.0,7600.0,8000.0,8400.0,8800.0,400.0,800.0,1200.0,1600.0,2000.0,2400.0,2800.0,3200.0,3600.0,4000.0,4400.0,4800.0,5200.0,5600.0,6000.0,6400.0,6800.0,7200.0,7600.0,8000.0,8400.0,8800.0,400.0,800.0,1200.0,1600.0,2000.0,2400.0,2800.0,3200.0,3600.0,4000.0,4400.0,4800.0,5200.0,5600.0,6000.0,6400.0,6800.0,7200.0,7600.0,8000.0,8400.0,8800.0,400.0,800.0,1200.0,1600.0,2000.0,2400.0,2800.0,3200.0,3600.0,4000.0,4400.0,4800.0,5200.0,5600.0,6000.0,6400.0,6800.0,7200.0,7600.0,8000.0,8400.0,8800.0],\"z\":[-0.05949862626916903,-0.16446975916624298,-0.16476781029188928,-0.10387032439419414,-0.055673496927069015,-0.27526821602407675,-0.1051252017454559,-0.07583634361199212,-0.08871647948850915,-0.02550223041966669,-0.12657872536474332,-0.057191476498520626,-0.11061378004531676,-0.01449061182332129,-0.1495475296365334,-0.08270727091502107,0.04762659165207949,0.007537917700511505,-0.04217472996336954,-0.09419418873508455,-0.12618646530749872,-0.18289277781850313,-0.22652496359821195,-0.2254016888242432,-0.1271634725777197,-0.2258937287576247,-0.2339773567995821,-0.2243376103305272,-0.04126871037605982,-0.12677319719034333,-0.03601540965459063,-0.05818068084022659,-0.10281266750454242,-0.03210831512641325,-0.12971744131074395,-0.13829944727019877,-0.23854314783887431,-0.16162987247015365,0.12907165201304685,-0.011429208542513601,-0.04057841852774137,-0.16148389604321295,-0.1480820546351413,-0.14961489844054082,-0.2930530677707127,-0.2680610585850379,-0.27912976706916975,-0.3856478857279456,-0.2601531564306361,-0.03794797000868179,-0.050565387357632885,-0.07040359232670072,-0.0890638856545147,-0.09292540980581827,-0.12460191753336744,-0.07093949032449776,-0.22903299172821284,-0.18851321959566866,-0.34273469915248683,-0.1420315389920118,0.041763559868573434,-0.0015977439964226746,-0.09700180492873417,-0.26869739054371267,-0.13935549693466115,-0.26038143701434985,-0.2113038602435772,-0.33958474921820436,-0.5065131481672188,-0.33430277268641373,-0.040865594428149056,0.006002811385578545,0.0947264263692225,-0.057503214579784745,-0.06894840883050692,-0.08756169227501942,-0.0648786309511601,-0.1300258579914007,-0.21081234698350304,-0.2864612890865106,-0.31704989327356986,-0.391776387887965,-0.045507870199317235,-0.016828183638741383,-0.09847907527288134,-0.14470554142532846,-0.1604611202522642,-0.2374077554392042,-0.3762437664397098,-0.3645675063678311,-0.41347775623367666,-0.13100145263771049,-0.07336621424345714,-0.061794132726580776,-0.02846329145291851,-0.10903634159347025,-0.07768891306872007,-0.08140162888956592,-0.15406327481924828,-0.18112589211690724,-0.21498879969269366,-0.19864378767304317,-0.3039916537348547,-0.1894590239775214,-0.002394642590085503,-0.0694566510212441,-0.008487188857335248,-0.181511890360414,-0.21011341851321902,-0.3613250185471426,-0.3008359429246331,-0.21525394740458473,-0.0662687468361267,-0.17890161529644694,-0.16080829107956565,-0.08742388387267384,-0.006505892541923754,-0.05746460419980321,0.031760303214204394,0.0021189246995822167,-0.10967798183297538,-0.11034245372970408,-0.16451649654598136,-0.06885613075180762,-0.19232891138729835,0.016423069018611715,0.0011071180660830369,-0.00431002446785396,0.04353065218228172,-0.12478290397240988,-0.19070006470254264,-0.32627406713651397,-0.04791303821326248,-0.061372480870809584,-0.07936001673012222,-0.23777747495333526,-0.14682659536780393,-0.007636243568946907,0.04627347254323636,0.007041442745755464,0.07753366303818564,-0.021692638080308344,-0.0208879204889039,0.018803258892580325,0.026152433948526777,0.04156326135399802,0.08994249860404147,0.13183268931672873,0.10834131085162574,0.09837314637496129,0.08847998737250319,0.10217164201631727,-0.11204662393612524,-0.18648133271243006,-0.012352617717061342,-0.041277023715883675,-0.09195785449264646,-0.20097641987654297,-0.0826710877914631,0.01885825412169685,0.05633785709842871,0.021868043548082514,-0.005488127526311722,-0.026349837164162362,-0.007761408104728901,0.061535853699146326,0.04170604221951464,0.1205251341428017,0.12011427649303619,0.19087907216214303,0.18925320099454915,0.10672141100031061,0.10233915677970233,0.08933891041808903,-0.06483200038599496,-0.11619716450421706,-0.05646815932545769,-0.18029410464051415,-0.18627179627469265,-0.15545952158489537,-0.07961907566638757,-0.03999171834477822,-0.013198929666223977,-0.08682706446120474,-0.2658587303150153,-0.017083402566728523,-0.07707099904309667,0.01931337055628079,-0.003302080595550272,0.03212155088518284,0.04145469221836358,0.08268353530554312,0.174604214126423,0.2003274677016541,0.12239546783637896,0.1814502765630498,-0.15734819119137503,-0.13654941061817769,-0.2367664634029392,-0.24578267463747513,-0.1709473165483798,-0.18170411462648303,-0.119854615958615,-0.21469724328186968,-0.1334533230864777,-0.20431581749323696,-0.1606639082010755,-0.029373851482932988,-0.10741052925874194,-0.016750717180628587,-0.10112486939756672,0.004499583894616666,-0.050004291171045184,0.03514728800377857,0.12479552413718091,0.09320837852759675,-0.03322060806956323,-0.05401736034742095,-0.1609222488511741,-0.08897109170189388,-0.20265109677322377,-0.19025511777952572,-0.14028353930546095,-0.1765600986259989,-0.2074097703039797,-0.15654793924623459,-0.06483635117236641,-0.012703975138692156,0.005207954545833782,0.020615035382774243,-0.07713601871263727,-0.04145386608229557,-0.10005395844635676,-0.02089935840125614,-0.043780615939753395,-0.00790145013756173,0.0366871507462897,-0.017800552163608437,-0.04630869204872301,-0.10618106824615856,-0.08760033102996508,-0.14947859941788505,-0.07568761391845492,-0.12650108643297192,-0.12792755268518569,-0.21620545344981898,-0.19218348453408624,-0.07856799748484909,0.012629103652756511,0.03907638979484201,-0.006478388614999481,0.011852168931124818,-0.09807266584997784,-0.02773845267259962,-0.0831870042839568,-0.049333836567881914,-0.04742937047051019,-0.05478756284006052,-0.02302045174401601,-0.05964394174196888,-0.0815529221800377,-0.04055703367808988,-0.1317146736207812,-0.1371148272225116,-0.07434481426846193,-0.13105776535057945,-0.1832341824611167,-0.2338835548962444,-0.17450741488582758,-0.045978719756578454,0.047896492759998424,0.029566838082033243,-0.017553157722618805,-0.0389673975134797,-0.06415315499954151,-0.0371153573787246,-0.10344267465081174,-0.07946030072344315,-0.10124697706000291,-0.11103233241423538,-0.07053836829871762,-0.08427503537268817,-0.09237745384060429,-0.07470530773160916,-0.08569808034168441,-0.12966872956191974,-0.14367933224944054,-0.24094680873692537,-0.2850118925211145,-0.30691801557561643,-0.12822860566630695,-0.01781511752822475,0.0681314652286321,0.012290214087923789,-0.08874714236214448,-0.05227116933250525,-0.10378376166351572,-0.0597081584246683,-0.1602364856132757,-0.12209152771891595,-0.19514984447530015,-0.15366587168865603,-0.08904112734379994,-0.09551674760812166,-0.08557502290387821,-0.09875200533013521,-0.1099134154602606,-0.19813295411892945,-0.219082547281521,-0.2642655509661517,-0.3463820680456382,-0.30867716473890777,-0.13442282564243527,-0.014355205786774919,0.08368678074175143,-0.06314611910543316,-0.10008706985193702,-0.09086621745792063,-0.14101322510347264,-0.10755031354334688,-0.18055890078904516,-0.16076914537771694,-0.2268419314576205,-0.22034173193305562,-0.12087847979273719,-0.12022036628887474,-0.07183610382406938,-0.14071801776435564,-0.16565241419205415,-0.2166022307396596,-0.24867073902728068,-0.2991242782070005,-0.2803716546389391,-0.25489459878181325,-0.017815365568260414,0.08948371768210103,0.004467734917628672,-0.07024388924551554,-0.12723121431227885,-0.10463082638695909,-0.1497218465741935,-0.1189366477379292,-0.20394272139783515,-0.17767191104997276,-0.26179518106986305,-0.26512913115396475,-0.08928638485271817,-0.07937056898549144,-0.08784054098789244,-0.218579847175997,-0.1840366723227328,-0.24703184740482767,-0.2016321378850909,-0.29127168845630863,-0.21405274650193584,-0.21918037043660502,0.16697630551273962,0.04411655944805463,0.002301479001686296,-0.06140491780002841,-0.15047388304802226,-0.1223716580185466,-0.15581168026336217,-0.14120139194843065,-0.19332874024108862,-0.2246500592808378,-0.29190010208713585,-0.37287023150933085,-0.055969565801822135,-0.07120427440508281,-0.13119892999971025,-0.2212857154034956,-0.22339607125694222,-0.26381165465946466,-0.15264156661830344,-0.12419371662910354,0.06420497037693447,-0.003843091369859287,-0.015600287937209597,0.06012954598238825,-0.016705465906470734,-0.040285404705092946,-0.08200657744420645,-0.08953157961934552,-0.11281505831200438,-0.09450724551722706,-0.1556579185181628,-0.14884291654217235,-0.21091188843139877,-0.07015239814200094,-0.035725174167550014,-0.10420736332250034,-0.14493848563821846,-0.1596306253170865,-0.1818230778245177,-0.270090868996064,0.022140153581283118,-0.06962809461586497,0.10991232666267446,-0.05363329632912886,-0.05005593887703668,0.020412955793010678,0.001101437266660132,0.010983735636800626,-0.08924304267706326,-0.047969235147935815,-0.114436811652665,-0.10279884548467864,-0.16512613712775834,-0.14859351402491341,-0.09628307693088979,-0.06954660576884307,-0.10556456761960997,-0.12595976419486168,-0.16966713552054413,-0.14527809400736488,-0.19501206509829414,-0.267790871705888,0.0007027341973782826,-0.03916912954122325,-0.044364701254930285,-0.12046548026079937,-0.07917275574896263,-0.028709575699500688,-0.04009531991560024,-0.05301501109156794,-0.1384268414175947,-0.12462973891315299,-0.1400343785479317,-0.11525088062352078,-0.12136358854106018,-0.05850013201677084,-0.059660641971518914,-0.05762945859274941,-0.11750373761673226,-0.13913965914531298,-0.1385698433964229,-0.09275265718976133,-0.1830747313063394,-0.2449181280591746,-0.0007576453885701262,-0.10392549376241236,-0.05506783746597608,-0.1342105741188148,-0.0728711548536584,-0.06483064565514052,-0.06366771272217793,-0.0430497640011951,-0.1562365399561673,-0.13032486515971797,-0.1832455446571761,-0.13177994147133584,-0.12827140398608844,-0.060864610046202056,-0.07654197682406086,-0.05372933583376556,-0.11876083815357008,-0.1442409986030404,-0.1348859573668124,-0.11154935499880905,-0.2707491990617989,-0.21916866806999222,-0.06167886043249661,-0.14730501311583813,-0.1189423231889781,-0.158039365325218,-0.1109453106784251,-0.09226275885711582,-0.09836461278808475,-0.05587350093329515,-0.28946694845710197,-0.13939114451604154,-0.24099942410027644,-0.1142098657691151,-0.12287944331517787,-0.12597715738181764,-0.1137560627633081,-0.15585280937621493,-0.1029817486061188,-0.13398823963992762,-0.11863504631161054,-0.044959262169962065,-0.3532300396268037,-0.20851875441176662],\"type\":\"scatter3d\"}],                        {\"template\":{\"data\":{\"histogram2dcontour\":[{\"type\":\"histogram2dcontour\",\"colorbar\":{\"outlinewidth\":0,\"ticks\":\"\"},\"colorscale\":[[0.0,\"#0d0887\"],[0.1111111111111111,\"#46039f\"],[0.2222222222222222,\"#7201a8\"],[0.3333333333333333,\"#9c179e\"],[0.4444444444444444,\"#bd3786\"],[0.5555555555555556,\"#d8576b\"],[0.6666666666666666,\"#ed7953\"],[0.7777777777777778,\"#fb9f3a\"],[0.8888888888888888,\"#fdca26\"],[1.0,\"#f0f921\"]]}],\"choropleth\":[{\"type\":\"choropleth\",\"colorbar\":{\"outlinewidth\":0,\"ticks\":\"\"}}],\"histogram2d\":[{\"type\":\"histogram2d\",\"colorbar\":{\"outlinewidth\":0,\"ticks\":\"\"},\"colorscale\":[[0.0,\"#0d0887\"],[0.1111111111111111,\"#46039f\"],[0.2222222222222222,\"#7201a8\"],[0.3333333333333333,\"#9c179e\"],[0.4444444444444444,\"#bd3786\"],[0.5555555555555556,\"#d8576b\"],[0.6666666666666666,\"#ed7953\"],[0.7777777777777778,\"#fb9f3a\"],[0.8888888888888888,\"#fdca26\"],[1.0,\"#f0f921\"]]}],\"heatmap\":[{\"type\":\"heatmap\",\"colorbar\":{\"outlinewidth\":0,\"ticks\":\"\"},\"colorscale\":[[0.0,\"#0d0887\"],[0.1111111111111111,\"#46039f\"],[0.2222222222222222,\"#7201a8\"],[0.3333333333333333,\"#9c179e\"],[0.4444444444444444,\"#bd3786\"],[0.5555555555555556,\"#d8576b\"],[0.6666666666666666,\"#ed7953\"],[0.7777777777777778,\"#fb9f3a\"],[0.8888888888888888,\"#fdca26\"],[1.0,\"#f0f921\"]]}],\"heatmapgl\":[{\"type\":\"heatmapgl\",\"colorbar\":{\"outlinewidth\":0,\"ticks\":\"\"},\"colorscale\":[[0.0,\"#0d0887\"],[0.1111111111111111,\"#46039f\"],[0.2222222222222222,\"#7201a8\"],[0.3333333333333333,\"#9c179e\"],[0.4444444444444444,\"#bd3786\"],[0.5555555555555556,\"#d8576b\"],[0.6666666666666666,\"#ed7953\"],[0.7777777777777778,\"#fb9f3a\"],[0.8888888888888888,\"#fdca26\"],[1.0,\"#f0f921\"]]}],\"contourcarpet\":[{\"type\":\"contourcarpet\",\"colorbar\":{\"outlinewidth\":0,\"ticks\":\"\"}}],\"contour\":[{\"type\":\"contour\",\"colorbar\":{\"outlinewidth\":0,\"ticks\":\"\"},\"colorscale\":[[0.0,\"#0d0887\"],[0.1111111111111111,\"#46039f\"],[0.2222222222222222,\"#7201a8\"],[0.3333333333333333,\"#9c179e\"],[0.4444444444444444,\"#bd3786\"],[0.5555555555555556,\"#d8576b\"],[0.6666666666666666,\"#ed7953\"],[0.7777777777777778,\"#fb9f3a\"],[0.8888888888888888,\"#fdca26\"],[1.0,\"#f0f921\"]]}],\"surface\":[{\"type\":\"surface\",\"colorbar\":{\"outlinewidth\":0,\"ticks\":\"\"},\"colorscale\":[[0.0,\"#0d0887\"],[0.1111111111111111,\"#46039f\"],[0.2222222222222222,\"#7201a8\"],[0.3333333333333333,\"#9c179e\"],[0.4444444444444444,\"#bd3786\"],[0.5555555555555556,\"#d8576b\"],[0.6666666666666666,\"#ed7953\"],[0.7777777777777778,\"#fb9f3a\"],[0.8888888888888888,\"#fdca26\"],[1.0,\"#f0f921\"]]}],\"mesh3d\":[{\"type\":\"mesh3d\",\"colorbar\":{\"outlinewidth\":0,\"ticks\":\"\"}}],\"scatter\":[{\"fillpattern\":{\"fillmode\":\"overlay\",\"size\":10,\"solidity\":0.2},\"type\":\"scatter\"}],\"parcoords\":[{\"type\":\"parcoords\",\"line\":{\"colorbar\":{\"outlinewidth\":0,\"ticks\":\"\"}}}],\"scatterpolargl\":[{\"type\":\"scatterpolargl\",\"marker\":{\"colorbar\":{\"outlinewidth\":0,\"ticks\":\"\"}}}],\"bar\":[{\"error_x\":{\"color\":\"#2a3f5f\"},\"error_y\":{\"color\":\"#2a3f5f\"},\"marker\":{\"line\":{\"color\":\"#E5ECF6\",\"width\":0.5},\"pattern\":{\"fillmode\":\"overlay\",\"size\":10,\"solidity\":0.2}},\"type\":\"bar\"}],\"scattergeo\":[{\"type\":\"scattergeo\",\"marker\":{\"colorbar\":{\"outlinewidth\":0,\"ticks\":\"\"}}}],\"scatterpolar\":[{\"type\":\"scatterpolar\",\"marker\":{\"colorbar\":{\"outlinewidth\":0,\"ticks\":\"\"}}}],\"histogram\":[{\"marker\":{\"pattern\":{\"fillmode\":\"overlay\",\"size\":10,\"solidity\":0.2}},\"type\":\"histogram\"}],\"scattergl\":[{\"type\":\"scattergl\",\"marker\":{\"colorbar\":{\"outlinewidth\":0,\"ticks\":\"\"}}}],\"scatter3d\":[{\"type\":\"scatter3d\",\"line\":{\"colorbar\":{\"outlinewidth\":0,\"ticks\":\"\"}},\"marker\":{\"colorbar\":{\"outlinewidth\":0,\"ticks\":\"\"}}}],\"scattermapbox\":[{\"type\":\"scattermapbox\",\"marker\":{\"colorbar\":{\"outlinewidth\":0,\"ticks\":\"\"}}}],\"scatterternary\":[{\"type\":\"scatterternary\",\"marker\":{\"colorbar\":{\"outlinewidth\":0,\"ticks\":\"\"}}}],\"scattercarpet\":[{\"type\":\"scattercarpet\",\"marker\":{\"colorbar\":{\"outlinewidth\":0,\"ticks\":\"\"}}}],\"carpet\":[{\"aaxis\":{\"endlinecolor\":\"#2a3f5f\",\"gridcolor\":\"white\",\"linecolor\":\"white\",\"minorgridcolor\":\"white\",\"startlinecolor\":\"#2a3f5f\"},\"baxis\":{\"endlinecolor\":\"#2a3f5f\",\"gridcolor\":\"white\",\"linecolor\":\"white\",\"minorgridcolor\":\"white\",\"startlinecolor\":\"#2a3f5f\"},\"type\":\"carpet\"}],\"table\":[{\"cells\":{\"fill\":{\"color\":\"#EBF0F8\"},\"line\":{\"color\":\"white\"}},\"header\":{\"fill\":{\"color\":\"#C8D4E3\"},\"line\":{\"color\":\"white\"}},\"type\":\"table\"}],\"barpolar\":[{\"marker\":{\"line\":{\"color\":\"#E5ECF6\",\"width\":0.5},\"pattern\":{\"fillmode\":\"overlay\",\"size\":10,\"solidity\":0.2}},\"type\":\"barpolar\"}],\"pie\":[{\"automargin\":true,\"type\":\"pie\"}]},\"layout\":{\"autotypenumbers\":\"strict\",\"colorway\":[\"#636efa\",\"#EF553B\",\"#00cc96\",\"#ab63fa\",\"#FFA15A\",\"#19d3f3\",\"#FF6692\",\"#B6E880\",\"#FF97FF\",\"#FECB52\"],\"font\":{\"color\":\"#2a3f5f\"},\"hovermode\":\"closest\",\"hoverlabel\":{\"align\":\"left\"},\"paper_bgcolor\":\"white\",\"plot_bgcolor\":\"#E5ECF6\",\"polar\":{\"bgcolor\":\"#E5ECF6\",\"angularaxis\":{\"gridcolor\":\"white\",\"linecolor\":\"white\",\"ticks\":\"\"},\"radialaxis\":{\"gridcolor\":\"white\",\"linecolor\":\"white\",\"ticks\":\"\"}},\"ternary\":{\"bgcolor\":\"#E5ECF6\",\"aaxis\":{\"gridcolor\":\"white\",\"linecolor\":\"white\",\"ticks\":\"\"},\"baxis\":{\"gridcolor\":\"white\",\"linecolor\":\"white\",\"ticks\":\"\"},\"caxis\":{\"gridcolor\":\"white\",\"linecolor\":\"white\",\"ticks\":\"\"}},\"coloraxis\":{\"colorbar\":{\"outlinewidth\":0,\"ticks\":\"\"}},\"colorscale\":{\"sequential\":[[0.0,\"#0d0887\"],[0.1111111111111111,\"#46039f\"],[0.2222222222222222,\"#7201a8\"],[0.3333333333333333,\"#9c179e\"],[0.4444444444444444,\"#bd3786\"],[0.5555555555555556,\"#d8576b\"],[0.6666666666666666,\"#ed7953\"],[0.7777777777777778,\"#fb9f3a\"],[0.8888888888888888,\"#fdca26\"],[1.0,\"#f0f921\"]],\"sequentialminus\":[[0.0,\"#0d0887\"],[0.1111111111111111,\"#46039f\"],[0.2222222222222222,\"#7201a8\"],[0.3333333333333333,\"#9c179e\"],[0.4444444444444444,\"#bd3786\"],[0.5555555555555556,\"#d8576b\"],[0.6666666666666666,\"#ed7953\"],[0.7777777777777778,\"#fb9f3a\"],[0.8888888888888888,\"#fdca26\"],[1.0,\"#f0f921\"]],\"diverging\":[[0,\"#8e0152\"],[0.1,\"#c51b7d\"],[0.2,\"#de77ae\"],[0.3,\"#f1b6da\"],[0.4,\"#fde0ef\"],[0.5,\"#f7f7f7\"],[0.6,\"#e6f5d0\"],[0.7,\"#b8e186\"],[0.8,\"#7fbc41\"],[0.9,\"#4d9221\"],[1,\"#276419\"]]},\"xaxis\":{\"gridcolor\":\"white\",\"linecolor\":\"white\",\"ticks\":\"\",\"title\":{\"standoff\":15},\"zerolinecolor\":\"white\",\"automargin\":true,\"zerolinewidth\":2},\"yaxis\":{\"gridcolor\":\"white\",\"linecolor\":\"white\",\"ticks\":\"\",\"title\":{\"standoff\":15},\"zerolinecolor\":\"white\",\"automargin\":true,\"zerolinewidth\":2},\"scene\":{\"xaxis\":{\"backgroundcolor\":\"#E5ECF6\",\"gridcolor\":\"white\",\"linecolor\":\"white\",\"showbackground\":true,\"ticks\":\"\",\"zerolinecolor\":\"white\",\"gridwidth\":2},\"yaxis\":{\"backgroundcolor\":\"#E5ECF6\",\"gridcolor\":\"white\",\"linecolor\":\"white\",\"showbackground\":true,\"ticks\":\"\",\"zerolinecolor\":\"white\",\"gridwidth\":2},\"zaxis\":{\"backgroundcolor\":\"#E5ECF6\",\"gridcolor\":\"white\",\"linecolor\":\"white\",\"showbackground\":true,\"ticks\":\"\",\"zerolinecolor\":\"white\",\"gridwidth\":2}},\"shapedefaults\":{\"line\":{\"color\":\"#2a3f5f\"}},\"annotationdefaults\":{\"arrowcolor\":\"#2a3f5f\",\"arrowhead\":0,\"arrowwidth\":1},\"geo\":{\"bgcolor\":\"white\",\"landcolor\":\"#E5ECF6\",\"subunitcolor\":\"white\",\"showland\":true,\"showlakes\":true,\"lakecolor\":\"white\"},\"title\":{\"x\":0.05},\"mapbox\":{\"style\":\"light\"}}},\"scene\":{\"domain\":{\"x\":[0.0,1.0],\"y\":[0.0,1.0]},\"xaxis\":{\"title\":{\"text\":\"predict_period\"}},\"yaxis\":{\"title\":{\"text\":\"lookback_period\"}},\"zaxis\":{\"title\":{\"text\":\"corr2\"}}},\"coloraxis\":{\"colorbar\":{\"title\":{\"text\":\"lookback_period\"}},\"colorscale\":[[0.0,\"#0d0887\"],[0.1111111111111111,\"#46039f\"],[0.2222222222222222,\"#7201a8\"],[0.3333333333333333,\"#9c179e\"],[0.4444444444444444,\"#bd3786\"],[0.5555555555555556,\"#d8576b\"],[0.6666666666666666,\"#ed7953\"],[0.7777777777777778,\"#fb9f3a\"],[0.8888888888888888,\"#fdca26\"],[1.0,\"#f0f921\"]]},\"legend\":{\"tracegroupgap\":0},\"margin\":{\"t\":60}},                        {\"responsive\": true}                    ).then(function(){\n",
       "                            \n",
       "var gd = document.getElementById('eba28cb1-ebfc-42e1-a5f7-4ff32d9d5915');\n",
       "var x = new MutationObserver(function (mutations, observer) {{\n",
       "        var display = window.getComputedStyle(gd).display;\n",
       "        if (!display || display === 'none') {{\n",
       "            console.log([gd, 'removed!']);\n",
       "            Plotly.purge(gd);\n",
       "            observer.disconnect();\n",
       "        }}\n",
       "}});\n",
       "\n",
       "// Listen for the removal of the full notebook cells\n",
       "var notebookContainer = gd.closest('#notebook-container');\n",
       "if (notebookContainer) {{\n",
       "    x.observe(notebookContainer, {childList: true});\n",
       "}}\n",
       "\n",
       "// Listen for the clearing of the current output cell\n",
       "var outputEl = gd.closest('.output');\n",
       "if (outputEl) {{\n",
       "    x.observe(outputEl, {childList: true});\n",
       "}}\n",
       "\n",
       "                        })                };                });            </script>        </div>"
      ]
     },
     "metadata": {},
     "output_type": "display_data"
    },
    {
     "data": {
      "application/vnd.plotly.v1+json": {
       "config": {
        "plotlyServerURL": "https://plot.ly"
       },
       "data": [
        {
         "hovertemplate": "predict_period=%{x}<br>lookback_period=%{marker.color}<br>corr3=%{z}<extra></extra>",
         "legendgroup": "",
         "marker": {
          "color": [
           400,
           800,
           1200,
           1600,
           2000,
           2400,
           2800,
           3200,
           3600,
           4000,
           4400,
           4800,
           5200,
           5600,
           6000,
           6400,
           6800,
           7200,
           7600,
           8000,
           8400,
           8800,
           400,
           800,
           1200,
           1600,
           2000,
           2400,
           2800,
           3200,
           3600,
           4000,
           4400,
           4800,
           5200,
           5600,
           6000,
           6400,
           6800,
           7200,
           7600,
           8000,
           8400,
           8800,
           400,
           800,
           1200,
           1600,
           2000,
           2400,
           2800,
           3200,
           3600,
           4000,
           4400,
           4800,
           5200,
           5600,
           6000,
           6400,
           6800,
           7200,
           7600,
           8000,
           8400,
           8800,
           400,
           800,
           1200,
           1600,
           2000,
           2400,
           2800,
           3200,
           3600,
           4000,
           4400,
           4800,
           5200,
           5600,
           6000,
           6400,
           6800,
           7200,
           7600,
           8000,
           8400,
           8800,
           400,
           800,
           1200,
           1600,
           2000,
           2400,
           2800,
           3200,
           3600,
           4000,
           4400,
           4800,
           5200,
           5600,
           6000,
           6400,
           6800,
           7200,
           7600,
           8000,
           8400,
           8800,
           400,
           800,
           1200,
           1600,
           2000,
           2400,
           2800,
           3200,
           3600,
           4000,
           4400,
           4800,
           5200,
           5600,
           6000,
           6400,
           6800,
           7200,
           7600,
           8000,
           8400,
           8800,
           400,
           800,
           1200,
           1600,
           2000,
           2400,
           2800,
           3200,
           3600,
           4000,
           4400,
           4800,
           5200,
           5600,
           6000,
           6400,
           6800,
           7200,
           7600,
           8000,
           8400,
           8800,
           400,
           800,
           1200,
           1600,
           2000,
           2400,
           2800,
           3200,
           3600,
           4000,
           4400,
           4800,
           5200,
           5600,
           6000,
           6400,
           6800,
           7200,
           7600,
           8000,
           8400,
           8800,
           400,
           800,
           1200,
           1600,
           2000,
           2400,
           2800,
           3200,
           3600,
           4000,
           4400,
           4800,
           5200,
           5600,
           6000,
           6400,
           6800,
           7200,
           7600,
           8000,
           8400,
           8800,
           400,
           800,
           1200,
           1600,
           2000,
           2400,
           2800,
           3200,
           3600,
           4000,
           4400,
           4800,
           5200,
           5600,
           6000,
           6400,
           6800,
           7200,
           7600,
           8000,
           8400,
           8800,
           400,
           800,
           1200,
           1600,
           2000,
           2400,
           2800,
           3200,
           3600,
           4000,
           4400,
           4800,
           5200,
           5600,
           6000,
           6400,
           6800,
           7200,
           7600,
           8000,
           8400,
           8800,
           400,
           800,
           1200,
           1600,
           2000,
           2400,
           2800,
           3200,
           3600,
           4000,
           4400,
           4800,
           5200,
           5600,
           6000,
           6400,
           6800,
           7200,
           7600,
           8000,
           8400,
           8800,
           400,
           800,
           1200,
           1600,
           2000,
           2400,
           2800,
           3200,
           3600,
           4000,
           4400,
           4800,
           5200,
           5600,
           6000,
           6400,
           6800,
           7200,
           7600,
           8000,
           8400,
           8800,
           400,
           800,
           1200,
           1600,
           2000,
           2400,
           2800,
           3200,
           3600,
           4000,
           4400,
           4800,
           5200,
           5600,
           6000,
           6400,
           6800,
           7200,
           7600,
           8000,
           8400,
           8800,
           400,
           800,
           1200,
           1600,
           2000,
           2400,
           2800,
           3200,
           3600,
           4000,
           4400,
           4800,
           5200,
           5600,
           6000,
           6400,
           6800,
           7200,
           7600,
           8000,
           8400,
           8800,
           400,
           800,
           1200,
           1600,
           2000,
           2400,
           2800,
           3200,
           3600,
           4000,
           4400,
           4800,
           5200,
           5600,
           6000,
           6400,
           6800,
           7200,
           7600,
           8000,
           8400,
           8800,
           400,
           800,
           1200,
           1600,
           2000,
           2400,
           2800,
           3200,
           3600,
           4000,
           4400,
           4800,
           5200,
           5600,
           6000,
           6400,
           6800,
           7200,
           7600,
           8000,
           8400,
           8800,
           400,
           800,
           1200,
           1600,
           2000,
           2400,
           2800,
           3200,
           3600,
           4000,
           4400,
           4800,
           5200,
           5600,
           6000,
           6400,
           6800,
           7200,
           7600,
           8000,
           8400,
           8800,
           400,
           800,
           1200,
           1600,
           2000,
           2400,
           2800,
           3200,
           3600,
           4000,
           4400,
           4800,
           5200,
           5600,
           6000,
           6400,
           6800,
           7200,
           7600,
           8000,
           8400,
           8800,
           400,
           800,
           1200,
           1600,
           2000,
           2400,
           2800,
           3200,
           3600,
           4000,
           4400,
           4800,
           5200,
           5600,
           6000,
           6400,
           6800,
           7200,
           7600,
           8000,
           8400,
           8800,
           400,
           800,
           1200,
           1600,
           2000,
           2400,
           2800,
           3200,
           3600,
           4000,
           4400,
           4800,
           5200,
           5600,
           6000,
           6400,
           6800,
           7200,
           7600,
           8000,
           8400,
           8800,
           400,
           800,
           1200,
           1600,
           2000,
           2400,
           2800,
           3200,
           3600,
           4000,
           4400,
           4800,
           5200,
           5600,
           6000,
           6400,
           6800,
           7200,
           7600,
           8000,
           8400,
           8800
          ],
          "coloraxis": "coloraxis",
          "symbol": "circle"
         },
         "mode": "markers",
         "name": "",
         "scene": "scene",
         "showlegend": false,
         "type": "scatter3d",
         "x": [
          400,
          400,
          400,
          400,
          400,
          400,
          400,
          400,
          400,
          400,
          400,
          400,
          400,
          400,
          400,
          400,
          400,
          400,
          400,
          400,
          400,
          400,
          800,
          800,
          800,
          800,
          800,
          800,
          800,
          800,
          800,
          800,
          800,
          800,
          800,
          800,
          800,
          800,
          800,
          800,
          800,
          800,
          800,
          800,
          1200,
          1200,
          1200,
          1200,
          1200,
          1200,
          1200,
          1200,
          1200,
          1200,
          1200,
          1200,
          1200,
          1200,
          1200,
          1200,
          1200,
          1200,
          1200,
          1200,
          1200,
          1200,
          1600,
          1600,
          1600,
          1600,
          1600,
          1600,
          1600,
          1600,
          1600,
          1600,
          1600,
          1600,
          1600,
          1600,
          1600,
          1600,
          1600,
          1600,
          1600,
          1600,
          1600,
          1600,
          2000,
          2000,
          2000,
          2000,
          2000,
          2000,
          2000,
          2000,
          2000,
          2000,
          2000,
          2000,
          2000,
          2000,
          2000,
          2000,
          2000,
          2000,
          2000,
          2000,
          2000,
          2000,
          2400,
          2400,
          2400,
          2400,
          2400,
          2400,
          2400,
          2400,
          2400,
          2400,
          2400,
          2400,
          2400,
          2400,
          2400,
          2400,
          2400,
          2400,
          2400,
          2400,
          2400,
          2400,
          2800,
          2800,
          2800,
          2800,
          2800,
          2800,
          2800,
          2800,
          2800,
          2800,
          2800,
          2800,
          2800,
          2800,
          2800,
          2800,
          2800,
          2800,
          2800,
          2800,
          2800,
          2800,
          3200,
          3200,
          3200,
          3200,
          3200,
          3200,
          3200,
          3200,
          3200,
          3200,
          3200,
          3200,
          3200,
          3200,
          3200,
          3200,
          3200,
          3200,
          3200,
          3200,
          3200,
          3200,
          3600,
          3600,
          3600,
          3600,
          3600,
          3600,
          3600,
          3600,
          3600,
          3600,
          3600,
          3600,
          3600,
          3600,
          3600,
          3600,
          3600,
          3600,
          3600,
          3600,
          3600,
          3600,
          4000,
          4000,
          4000,
          4000,
          4000,
          4000,
          4000,
          4000,
          4000,
          4000,
          4000,
          4000,
          4000,
          4000,
          4000,
          4000,
          4000,
          4000,
          4000,
          4000,
          4000,
          4000,
          4400,
          4400,
          4400,
          4400,
          4400,
          4400,
          4400,
          4400,
          4400,
          4400,
          4400,
          4400,
          4400,
          4400,
          4400,
          4400,
          4400,
          4400,
          4400,
          4400,
          4400,
          4400,
          4800,
          4800,
          4800,
          4800,
          4800,
          4800,
          4800,
          4800,
          4800,
          4800,
          4800,
          4800,
          4800,
          4800,
          4800,
          4800,
          4800,
          4800,
          4800,
          4800,
          4800,
          4800,
          5200,
          5200,
          5200,
          5200,
          5200,
          5200,
          5200,
          5200,
          5200,
          5200,
          5200,
          5200,
          5200,
          5200,
          5200,
          5200,
          5200,
          5200,
          5200,
          5200,
          5200,
          5200,
          5600,
          5600,
          5600,
          5600,
          5600,
          5600,
          5600,
          5600,
          5600,
          5600,
          5600,
          5600,
          5600,
          5600,
          5600,
          5600,
          5600,
          5600,
          5600,
          5600,
          5600,
          5600,
          6000,
          6000,
          6000,
          6000,
          6000,
          6000,
          6000,
          6000,
          6000,
          6000,
          6000,
          6000,
          6000,
          6000,
          6000,
          6000,
          6000,
          6000,
          6000,
          6000,
          6000,
          6000,
          6400,
          6400,
          6400,
          6400,
          6400,
          6400,
          6400,
          6400,
          6400,
          6400,
          6400,
          6400,
          6400,
          6400,
          6400,
          6400,
          6400,
          6400,
          6400,
          6400,
          6400,
          6400,
          6800,
          6800,
          6800,
          6800,
          6800,
          6800,
          6800,
          6800,
          6800,
          6800,
          6800,
          6800,
          6800,
          6800,
          6800,
          6800,
          6800,
          6800,
          6800,
          6800,
          6800,
          6800,
          7200,
          7200,
          7200,
          7200,
          7200,
          7200,
          7200,
          7200,
          7200,
          7200,
          7200,
          7200,
          7200,
          7200,
          7200,
          7200,
          7200,
          7200,
          7200,
          7200,
          7200,
          7200,
          7600,
          7600,
          7600,
          7600,
          7600,
          7600,
          7600,
          7600,
          7600,
          7600,
          7600,
          7600,
          7600,
          7600,
          7600,
          7600,
          7600,
          7600,
          7600,
          7600,
          7600,
          7600,
          8000,
          8000,
          8000,
          8000,
          8000,
          8000,
          8000,
          8000,
          8000,
          8000,
          8000,
          8000,
          8000,
          8000,
          8000,
          8000,
          8000,
          8000,
          8000,
          8000,
          8000,
          8000,
          8400,
          8400,
          8400,
          8400,
          8400,
          8400,
          8400,
          8400,
          8400,
          8400,
          8400,
          8400,
          8400,
          8400,
          8400,
          8400,
          8400,
          8400,
          8400,
          8400,
          8400,
          8400,
          8800,
          8800,
          8800,
          8800,
          8800,
          8800,
          8800,
          8800,
          8800,
          8800,
          8800,
          8800,
          8800,
          8800,
          8800,
          8800,
          8800,
          8800,
          8800,
          8800,
          8800,
          8800
         ],
         "y": [
          400,
          800,
          1200,
          1600,
          2000,
          2400,
          2800,
          3200,
          3600,
          4000,
          4400,
          4800,
          5200,
          5600,
          6000,
          6400,
          6800,
          7200,
          7600,
          8000,
          8400,
          8800,
          400,
          800,
          1200,
          1600,
          2000,
          2400,
          2800,
          3200,
          3600,
          4000,
          4400,
          4800,
          5200,
          5600,
          6000,
          6400,
          6800,
          7200,
          7600,
          8000,
          8400,
          8800,
          400,
          800,
          1200,
          1600,
          2000,
          2400,
          2800,
          3200,
          3600,
          4000,
          4400,
          4800,
          5200,
          5600,
          6000,
          6400,
          6800,
          7200,
          7600,
          8000,
          8400,
          8800,
          400,
          800,
          1200,
          1600,
          2000,
          2400,
          2800,
          3200,
          3600,
          4000,
          4400,
          4800,
          5200,
          5600,
          6000,
          6400,
          6800,
          7200,
          7600,
          8000,
          8400,
          8800,
          400,
          800,
          1200,
          1600,
          2000,
          2400,
          2800,
          3200,
          3600,
          4000,
          4400,
          4800,
          5200,
          5600,
          6000,
          6400,
          6800,
          7200,
          7600,
          8000,
          8400,
          8800,
          400,
          800,
          1200,
          1600,
          2000,
          2400,
          2800,
          3200,
          3600,
          4000,
          4400,
          4800,
          5200,
          5600,
          6000,
          6400,
          6800,
          7200,
          7600,
          8000,
          8400,
          8800,
          400,
          800,
          1200,
          1600,
          2000,
          2400,
          2800,
          3200,
          3600,
          4000,
          4400,
          4800,
          5200,
          5600,
          6000,
          6400,
          6800,
          7200,
          7600,
          8000,
          8400,
          8800,
          400,
          800,
          1200,
          1600,
          2000,
          2400,
          2800,
          3200,
          3600,
          4000,
          4400,
          4800,
          5200,
          5600,
          6000,
          6400,
          6800,
          7200,
          7600,
          8000,
          8400,
          8800,
          400,
          800,
          1200,
          1600,
          2000,
          2400,
          2800,
          3200,
          3600,
          4000,
          4400,
          4800,
          5200,
          5600,
          6000,
          6400,
          6800,
          7200,
          7600,
          8000,
          8400,
          8800,
          400,
          800,
          1200,
          1600,
          2000,
          2400,
          2800,
          3200,
          3600,
          4000,
          4400,
          4800,
          5200,
          5600,
          6000,
          6400,
          6800,
          7200,
          7600,
          8000,
          8400,
          8800,
          400,
          800,
          1200,
          1600,
          2000,
          2400,
          2800,
          3200,
          3600,
          4000,
          4400,
          4800,
          5200,
          5600,
          6000,
          6400,
          6800,
          7200,
          7600,
          8000,
          8400,
          8800,
          400,
          800,
          1200,
          1600,
          2000,
          2400,
          2800,
          3200,
          3600,
          4000,
          4400,
          4800,
          5200,
          5600,
          6000,
          6400,
          6800,
          7200,
          7600,
          8000,
          8400,
          8800,
          400,
          800,
          1200,
          1600,
          2000,
          2400,
          2800,
          3200,
          3600,
          4000,
          4400,
          4800,
          5200,
          5600,
          6000,
          6400,
          6800,
          7200,
          7600,
          8000,
          8400,
          8800,
          400,
          800,
          1200,
          1600,
          2000,
          2400,
          2800,
          3200,
          3600,
          4000,
          4400,
          4800,
          5200,
          5600,
          6000,
          6400,
          6800,
          7200,
          7600,
          8000,
          8400,
          8800,
          400,
          800,
          1200,
          1600,
          2000,
          2400,
          2800,
          3200,
          3600,
          4000,
          4400,
          4800,
          5200,
          5600,
          6000,
          6400,
          6800,
          7200,
          7600,
          8000,
          8400,
          8800,
          400,
          800,
          1200,
          1600,
          2000,
          2400,
          2800,
          3200,
          3600,
          4000,
          4400,
          4800,
          5200,
          5600,
          6000,
          6400,
          6800,
          7200,
          7600,
          8000,
          8400,
          8800,
          400,
          800,
          1200,
          1600,
          2000,
          2400,
          2800,
          3200,
          3600,
          4000,
          4400,
          4800,
          5200,
          5600,
          6000,
          6400,
          6800,
          7200,
          7600,
          8000,
          8400,
          8800,
          400,
          800,
          1200,
          1600,
          2000,
          2400,
          2800,
          3200,
          3600,
          4000,
          4400,
          4800,
          5200,
          5600,
          6000,
          6400,
          6800,
          7200,
          7600,
          8000,
          8400,
          8800,
          400,
          800,
          1200,
          1600,
          2000,
          2400,
          2800,
          3200,
          3600,
          4000,
          4400,
          4800,
          5200,
          5600,
          6000,
          6400,
          6800,
          7200,
          7600,
          8000,
          8400,
          8800,
          400,
          800,
          1200,
          1600,
          2000,
          2400,
          2800,
          3200,
          3600,
          4000,
          4400,
          4800,
          5200,
          5600,
          6000,
          6400,
          6800,
          7200,
          7600,
          8000,
          8400,
          8800,
          400,
          800,
          1200,
          1600,
          2000,
          2400,
          2800,
          3200,
          3600,
          4000,
          4400,
          4800,
          5200,
          5600,
          6000,
          6400,
          6800,
          7200,
          7600,
          8000,
          8400,
          8800,
          400,
          800,
          1200,
          1600,
          2000,
          2400,
          2800,
          3200,
          3600,
          4000,
          4400,
          4800,
          5200,
          5600,
          6000,
          6400,
          6800,
          7200,
          7600,
          8000,
          8400,
          8800
         ],
         "z": [
          -0.05363099546074379,
          -0.14366352085382547,
          -0.15168002502154362,
          -0.09722327498535473,
          -0.055842954089229596,
          -0.25258080788697496,
          -0.09653948925363644,
          -0.07412203304586276,
          -0.08673942545826607,
          -0.028124154098565553,
          -0.11218086514236389,
          -0.0670364068981807,
          -0.10593845880395732,
          -0.018184231657901194,
          -0.13934788966438458,
          -0.06518843215229747,
          0.04503254843451159,
          0.017433048182882466,
          -0.03917343671477054,
          -0.06991772214417198,
          -0.130707263304084,
          -0.17314022827153794,
          -0.1909125244654626,
          -0.1944855484740751,
          -0.12435626569552415,
          -0.2007138634900834,
          -0.20385939663365515,
          -0.19530169965431546,
          -0.04187132267467636,
          -0.118063162366456,
          -0.03787096901012836,
          -0.06080890622102728,
          -0.10020272477766458,
          -0.052250350473098325,
          -0.12367065625608549,
          -0.12245575162410904,
          -0.22213753872151304,
          -0.14393670490248991,
          0.11864327483334292,
          -0.008647003629449236,
          -0.04215981192548668,
          -0.15451167487468376,
          -0.15084447104065615,
          -0.14157470138109507,
          -0.2480691950779866,
          -0.23355577036996206,
          -0.2579569595528465,
          -0.3455285134282931,
          -0.2128094391797759,
          -0.047636998198678976,
          -0.05419884701211915,
          -0.06752918818122589,
          -0.08429848047158983,
          -0.08946674900839467,
          -0.12020767207289189,
          -0.08686430389792534,
          -0.20155960546443427,
          -0.16257004661319177,
          -0.2993339543650915,
          -0.10359993910783573,
          0.028049558964262006,
          0.011427085814262735,
          -0.09122144423166127,
          -0.24821274246603944,
          -0.13152142504363004,
          -0.22947672696050306,
          -0.17681994614103771,
          -0.2950695279710727,
          -0.46184792693989185,
          -0.3028806250564785,
          -0.03647412137891911,
          -0.009707392648785508,
          0.06621777023140289,
          -0.053865967030567716,
          -0.06377150064268226,
          -0.08381178231966437,
          -0.07268321657548871,
          -0.13320199325690674,
          -0.1828949900736034,
          -0.22938755302936362,
          -0.26962706035568995,
          -0.3332943945477105,
          -0.03896588579924293,
          -0.014886943837255638,
          -0.09848566435658539,
          -0.1387102326072104,
          -0.1471163640108132,
          -0.21266514662474567,
          -0.30981610366555,
          -0.3117039997966492,
          -0.37238484905347624,
          -0.058742171793959796,
          -0.05343879981147741,
          -0.06505465416174393,
          -0.032776022881307314,
          -0.09472028667683748,
          -0.06907847142619769,
          -0.07587532768341973,
          -0.143389887901894,
          -0.17335806906570242,
          -0.18137722047566243,
          -0.1721529949232776,
          -0.279489263949835,
          -0.17477910155701096,
          -0.0025195567453074187,
          -0.06441457236966636,
          -0.018909985188395206,
          -0.16165915730557479,
          -0.1824796762162126,
          -0.3115821604372888,
          -0.26520728480191746,
          -0.18766410288531352,
          -0.05365665854494134,
          -0.11284192845838933,
          -0.11859873995617197,
          -0.08333939535259678,
          -0.015489158889254348,
          -0.05594555287745519,
          0.0273072622393841,
          -0.002380568855774105,
          -0.09447848101651377,
          -0.09730751568892626,
          -0.133931113836685,
          -0.06594080276926023,
          -0.1819765034386646,
          0.034650604980667535,
          0.013908981023704099,
          0.01051082950824948,
          0.025550844832076768,
          -0.11063454351957638,
          -0.1647177928075102,
          -0.2785209753784663,
          -0.04892658308467873,
          -0.04355412257460793,
          -0.07184951819786176,
          -0.1822125716235493,
          -0.10670074513123916,
          -0.00743917622054192,
          0.040049462042118955,
          0.01682669398912499,
          0.07921745631753312,
          -0.010600101161582763,
          -0.012866661396976335,
          0.008049866179722174,
          0.022282733083772,
          0.03789053285574463,
          0.07032126077762282,
          0.1147139699551091,
          0.10353805271737092,
          0.09171396442676236,
          0.05813019674715826,
          0.07056868093168508,
          -0.1090913655992338,
          -0.16085838315566764,
          -0.013327964494521428,
          -0.025026358565724764,
          -0.0785717997865779,
          -0.15406694694450246,
          -0.05799701655128171,
          0.024442013772472657,
          0.04779017301416542,
          0.03610097692169406,
          0.01882975163758221,
          -0.017427963025307035,
          -0.0016907303862596038,
          0.044460868170413094,
          0.035515277032105566,
          0.09941184089800195,
          0.09196457426376664,
          0.1559737102548213,
          0.15970377843639588,
          0.09300231172139206,
          0.06058041284434982,
          0.054258990094775895,
          -0.07462538893808493,
          -0.10607185463053875,
          -0.042688721767681105,
          -0.14926674690750197,
          -0.15637873664890656,
          -0.12682862905999426,
          -0.050877540094461826,
          -0.01634114440128441,
          0.0048178379953409504,
          -0.07039896759003231,
          -0.21970959419902325,
          -0.022077310440040285,
          -0.0702036465222609,
          0.004717963187807414,
          -0.0002479818835728134,
          0.024704193732126137,
          0.02444399536145942,
          0.058398228431926526,
          0.1479723885556512,
          0.17004614150248382,
          0.07036240042660194,
          0.1217517395030937,
          -0.1453123538923365,
          -0.13536106928507557,
          -0.191343043390699,
          -0.2039153219436194,
          -0.14506435613588917,
          -0.1524496218239936,
          -0.09264314762777334,
          -0.16630627238011936,
          -0.11762771576931301,
          -0.17523177817186286,
          -0.1348052924837537,
          -0.02894064148037646,
          -0.09934329839565667,
          -0.026018173414257616,
          -0.08546546507138092,
          -0.0025218129542632552,
          -0.05796910055174999,
          0.013611480062535795,
          0.10214127333410658,
          0.0778231841672182,
          -0.058776622438926535,
          -0.07683133780640067,
          -0.15116021187355635,
          -0.08920843292973443,
          -0.16861996381735175,
          -0.15961067518968833,
          -0.11927383553913407,
          -0.14813643651650876,
          -0.17187433268449281,
          -0.1293183169937808,
          -0.0663699560653046,
          -0.017901229586275977,
          0.0015314039782152507,
          0.010533042826846263,
          -0.07107983511781542,
          -0.04058888685529779,
          -0.08796081175990685,
          -0.031018522175148628,
          -0.0581744246984673,
          -0.0271087615932403,
          0.023519301622614945,
          -0.014159710123708456,
          -0.05470583665731685,
          -0.09618014520007669,
          -0.0866664627976825,
          -0.13966931315154696,
          -0.06713577842191198,
          -0.11233286830765911,
          -0.1134388222997273,
          -0.18153183582437823,
          -0.16009942180013303,
          -0.06740766671496684,
          0.003996417062189916,
          0.03026926819090253,
          -0.006249702409333984,
          0.0030050580696773443,
          -0.08835215450985043,
          -0.030087954291296872,
          -0.07338017629809211,
          -0.05772857415029137,
          -0.061502182324336595,
          -0.06648085104545673,
          -0.02527526822464136,
          -0.04942035901701898,
          -0.07998734431106483,
          -0.048186791175786295,
          -0.12343087805971897,
          -0.12453123138249053,
          -0.06434564013724135,
          -0.1168174551642236,
          -0.1609812044988782,
          -0.2040127556394832,
          -0.13798516476436995,
          -0.038413413278712484,
          0.03328836528386531,
          0.028645912585468385,
          -0.011926009640067639,
          -0.03857622909635588,
          -0.06224973482028431,
          -0.04211165934561772,
          -0.09234129534594226,
          -0.08535520639286853,
          -0.10774386746963785,
          -0.11410924411953476,
          -0.06299613487955508,
          -0.07555011679737514,
          -0.09283512585213935,
          -0.07636703558038532,
          -0.08079985828173727,
          -0.11829068500526713,
          -0.11915908387521139,
          -0.20521592793651947,
          -0.24480004626545498,
          -0.2682408957616399,
          -0.10156306811879119,
          -0.012705512034051139,
          0.05693109586455921,
          0.017571013311072945,
          -0.07409501057380868,
          -0.05104558191439975,
          -0.09606687893255937,
          -0.06524172824546763,
          -0.14302686716800228,
          -0.122707389331521,
          -0.18861574654076596,
          -0.14474927716778835,
          -0.07343838722314464,
          -0.08445313885195295,
          -0.08116797816090421,
          -0.09287331001534996,
          -0.1009986599970542,
          -0.1714591022140373,
          -0.18096104986360875,
          -0.22948272247219711,
          -0.3012603130984959,
          -0.2658899912432682,
          -0.11430453913425884,
          -0.00899826146103187,
          0.07191556507603175,
          -0.04893381716080695,
          -0.08636154292397406,
          -0.08331121496950393,
          -0.12779909536727274,
          -0.10858315326304226,
          -0.16398450973163542,
          -0.1577411232502163,
          -0.2128108536135164,
          -0.1911540528107871,
          -0.09685450754116612,
          -0.09808432107153925,
          -0.07206209545293965,
          -0.13040402456883335,
          -0.14909494443589177,
          -0.19001636195520888,
          -0.20996954785589692,
          -0.2727977516432659,
          -0.2534282809699253,
          -0.23954061681603087,
          -0.019981111573568806,
          0.06580457852249279,
          0.0025586126331467044,
          -0.05301295866556539,
          -0.10824425934570024,
          -0.09659480544126053,
          -0.14068006303416775,
          -0.11935320939772691,
          -0.1845936759946875,
          -0.17543439972472596,
          -0.2435908067175485,
          -0.22486147241353882,
          -0.07836463390842831,
          -0.055255751872189195,
          -0.08981853543568354,
          -0.2006288412857619,
          -0.16849299340966756,
          -0.21846139413004498,
          -0.1715136542663515,
          -0.2674426983914074,
          -0.20239959002452956,
          -0.2051819477422224,
          0.10825362129122414,
          0.024957983563815875,
          0.0017555473397463759,
          -0.054051327927958456,
          -0.13274178704116107,
          -0.1157713040311782,
          -0.14634581632176571,
          -0.13868256632810544,
          -0.17555612969216386,
          -0.2135122888109266,
          -0.27464439681048763,
          -0.3189657077136525,
          -0.06774927233069161,
          -0.05655392062240079,
          -0.12863297436717813,
          -0.20905740266059272,
          -0.20443420048626101,
          -0.22703847807437216,
          -0.12722481619141807,
          -0.11883642072835647,
          0.0551215474152252,
          0.008750269805937549,
          -0.0028218275334941684,
          0.040938506584607647,
          -0.02679487651056543,
          -0.04349597727865162,
          -0.07697355241205207,
          -0.08489620426843664,
          -0.10912898729086747,
          -0.09116380570104292,
          -0.1324509899114546,
          -0.15084337048948565,
          -0.20290590229200167,
          -0.09388463882885595,
          -0.052379948652699994,
          -0.10436541035840033,
          -0.14473627453953516,
          -0.1588171059872569,
          -0.15509476221162374,
          -0.22459765524504022,
          0.011074798552502233,
          -0.06563488826562808,
          0.09261294032037705,
          -0.038699581307702006,
          -0.026608199960131113,
          0.008034424833878926,
          -0.013496165955997437,
          -0.0006263667812502191,
          -0.08113903628908659,
          -0.04872754623016891,
          -0.10587003482412335,
          -0.1006117730030111,
          -0.14416815615740786,
          -0.15486385996546284,
          -0.09475286516341266,
          -0.07877236970929674,
          -0.09776646168522947,
          -0.11543313711581112,
          -0.16626107847673574,
          -0.14212846710096227,
          -0.16976163243022738,
          -0.2228750246643251,
          -0.0009380612011555197,
          -0.025525284030248497,
          -0.031044432735457986,
          -0.1046976600725577,
          -0.06421845569383816,
          -0.030764368016497706,
          -0.04795055269053398,
          -0.0496620922935253,
          -0.11279383295094107,
          -0.10599960080081629,
          -0.12113706014171712,
          -0.10877289041713213,
          -0.10838748040049283,
          -0.07245303773570681,
          -0.0620008130628246,
          -0.06842591916515711,
          -0.10119361880367131,
          -0.12873579786506942,
          -0.14593292772916855,
          -0.10464496422724077,
          -0.16347259554705443,
          -0.19145848472519103,
          -0.0035192034601870073,
          -0.08495447580577234,
          -0.04851837091779549,
          -0.12139236862105973,
          -0.061341843773252434,
          -0.055404289685675796,
          -0.0734211013684477,
          -0.039149217386544505,
          -0.12407955775723609,
          -0.10439038798685854,
          -0.15997637610229898,
          -0.12540461738223174,
          -0.11968832406649611,
          -0.07135613697992058,
          -0.07782819688994908,
          -0.061650761964865776,
          -0.09809853877833478,
          -0.12544460172901742,
          -0.13879920900171444,
          -0.11741167515653911,
          -0.22528703797925403,
          -0.19173978393355592,
          -0.05422363577410966,
          -0.1287474222543789,
          -0.10457533751500402,
          -0.1464462710797328,
          -0.11030611749779039,
          -0.07045224595606736,
          -0.10053125958591909,
          -0.035346165848470695,
          -0.22436800606901186,
          -0.10583245771166164,
          -0.19669585132365713,
          -0.10701219693468426,
          -0.11848322244398563,
          -0.12645851732886332,
          -0.10833232374819855,
          -0.13898116321110524,
          -0.07446705401417351,
          -0.11014638384229385,
          -0.12708614676043717,
          -0.07900655409168984,
          -0.3276439683380527,
          -0.2104894153121692
         ]
        }
       ],
       "layout": {
        "coloraxis": {
         "colorbar": {
          "title": {
           "text": "lookback_period"
          }
         },
         "colorscale": [
          [
           0,
           "#0d0887"
          ],
          [
           0.1111111111111111,
           "#46039f"
          ],
          [
           0.2222222222222222,
           "#7201a8"
          ],
          [
           0.3333333333333333,
           "#9c179e"
          ],
          [
           0.4444444444444444,
           "#bd3786"
          ],
          [
           0.5555555555555556,
           "#d8576b"
          ],
          [
           0.6666666666666666,
           "#ed7953"
          ],
          [
           0.7777777777777778,
           "#fb9f3a"
          ],
          [
           0.8888888888888888,
           "#fdca26"
          ],
          [
           1,
           "#f0f921"
          ]
         ]
        },
        "legend": {
         "tracegroupgap": 0
        },
        "margin": {
         "t": 60
        },
        "scene": {
         "domain": {
          "x": [
           0,
           1
          ],
          "y": [
           0,
           1
          ]
         },
         "xaxis": {
          "title": {
           "text": "predict_period"
          }
         },
         "yaxis": {
          "title": {
           "text": "lookback_period"
          }
         },
         "zaxis": {
          "title": {
           "text": "corr3"
          }
         }
        },
        "template": {
         "data": {
          "bar": [
           {
            "error_x": {
             "color": "#2a3f5f"
            },
            "error_y": {
             "color": "#2a3f5f"
            },
            "marker": {
             "line": {
              "color": "#E5ECF6",
              "width": 0.5
             },
             "pattern": {
              "fillmode": "overlay",
              "size": 10,
              "solidity": 0.2
             }
            },
            "type": "bar"
           }
          ],
          "barpolar": [
           {
            "marker": {
             "line": {
              "color": "#E5ECF6",
              "width": 0.5
             },
             "pattern": {
              "fillmode": "overlay",
              "size": 10,
              "solidity": 0.2
             }
            },
            "type": "barpolar"
           }
          ],
          "carpet": [
           {
            "aaxis": {
             "endlinecolor": "#2a3f5f",
             "gridcolor": "white",
             "linecolor": "white",
             "minorgridcolor": "white",
             "startlinecolor": "#2a3f5f"
            },
            "baxis": {
             "endlinecolor": "#2a3f5f",
             "gridcolor": "white",
             "linecolor": "white",
             "minorgridcolor": "white",
             "startlinecolor": "#2a3f5f"
            },
            "type": "carpet"
           }
          ],
          "choropleth": [
           {
            "colorbar": {
             "outlinewidth": 0,
             "ticks": ""
            },
            "type": "choropleth"
           }
          ],
          "contour": [
           {
            "colorbar": {
             "outlinewidth": 0,
             "ticks": ""
            },
            "colorscale": [
             [
              0,
              "#0d0887"
             ],
             [
              0.1111111111111111,
              "#46039f"
             ],
             [
              0.2222222222222222,
              "#7201a8"
             ],
             [
              0.3333333333333333,
              "#9c179e"
             ],
             [
              0.4444444444444444,
              "#bd3786"
             ],
             [
              0.5555555555555556,
              "#d8576b"
             ],
             [
              0.6666666666666666,
              "#ed7953"
             ],
             [
              0.7777777777777778,
              "#fb9f3a"
             ],
             [
              0.8888888888888888,
              "#fdca26"
             ],
             [
              1,
              "#f0f921"
             ]
            ],
            "type": "contour"
           }
          ],
          "contourcarpet": [
           {
            "colorbar": {
             "outlinewidth": 0,
             "ticks": ""
            },
            "type": "contourcarpet"
           }
          ],
          "heatmap": [
           {
            "colorbar": {
             "outlinewidth": 0,
             "ticks": ""
            },
            "colorscale": [
             [
              0,
              "#0d0887"
             ],
             [
              0.1111111111111111,
              "#46039f"
             ],
             [
              0.2222222222222222,
              "#7201a8"
             ],
             [
              0.3333333333333333,
              "#9c179e"
             ],
             [
              0.4444444444444444,
              "#bd3786"
             ],
             [
              0.5555555555555556,
              "#d8576b"
             ],
             [
              0.6666666666666666,
              "#ed7953"
             ],
             [
              0.7777777777777778,
              "#fb9f3a"
             ],
             [
              0.8888888888888888,
              "#fdca26"
             ],
             [
              1,
              "#f0f921"
             ]
            ],
            "type": "heatmap"
           }
          ],
          "heatmapgl": [
           {
            "colorbar": {
             "outlinewidth": 0,
             "ticks": ""
            },
            "colorscale": [
             [
              0,
              "#0d0887"
             ],
             [
              0.1111111111111111,
              "#46039f"
             ],
             [
              0.2222222222222222,
              "#7201a8"
             ],
             [
              0.3333333333333333,
              "#9c179e"
             ],
             [
              0.4444444444444444,
              "#bd3786"
             ],
             [
              0.5555555555555556,
              "#d8576b"
             ],
             [
              0.6666666666666666,
              "#ed7953"
             ],
             [
              0.7777777777777778,
              "#fb9f3a"
             ],
             [
              0.8888888888888888,
              "#fdca26"
             ],
             [
              1,
              "#f0f921"
             ]
            ],
            "type": "heatmapgl"
           }
          ],
          "histogram": [
           {
            "marker": {
             "pattern": {
              "fillmode": "overlay",
              "size": 10,
              "solidity": 0.2
             }
            },
            "type": "histogram"
           }
          ],
          "histogram2d": [
           {
            "colorbar": {
             "outlinewidth": 0,
             "ticks": ""
            },
            "colorscale": [
             [
              0,
              "#0d0887"
             ],
             [
              0.1111111111111111,
              "#46039f"
             ],
             [
              0.2222222222222222,
              "#7201a8"
             ],
             [
              0.3333333333333333,
              "#9c179e"
             ],
             [
              0.4444444444444444,
              "#bd3786"
             ],
             [
              0.5555555555555556,
              "#d8576b"
             ],
             [
              0.6666666666666666,
              "#ed7953"
             ],
             [
              0.7777777777777778,
              "#fb9f3a"
             ],
             [
              0.8888888888888888,
              "#fdca26"
             ],
             [
              1,
              "#f0f921"
             ]
            ],
            "type": "histogram2d"
           }
          ],
          "histogram2dcontour": [
           {
            "colorbar": {
             "outlinewidth": 0,
             "ticks": ""
            },
            "colorscale": [
             [
              0,
              "#0d0887"
             ],
             [
              0.1111111111111111,
              "#46039f"
             ],
             [
              0.2222222222222222,
              "#7201a8"
             ],
             [
              0.3333333333333333,
              "#9c179e"
             ],
             [
              0.4444444444444444,
              "#bd3786"
             ],
             [
              0.5555555555555556,
              "#d8576b"
             ],
             [
              0.6666666666666666,
              "#ed7953"
             ],
             [
              0.7777777777777778,
              "#fb9f3a"
             ],
             [
              0.8888888888888888,
              "#fdca26"
             ],
             [
              1,
              "#f0f921"
             ]
            ],
            "type": "histogram2dcontour"
           }
          ],
          "mesh3d": [
           {
            "colorbar": {
             "outlinewidth": 0,
             "ticks": ""
            },
            "type": "mesh3d"
           }
          ],
          "parcoords": [
           {
            "line": {
             "colorbar": {
              "outlinewidth": 0,
              "ticks": ""
             }
            },
            "type": "parcoords"
           }
          ],
          "pie": [
           {
            "automargin": true,
            "type": "pie"
           }
          ],
          "scatter": [
           {
            "fillpattern": {
             "fillmode": "overlay",
             "size": 10,
             "solidity": 0.2
            },
            "type": "scatter"
           }
          ],
          "scatter3d": [
           {
            "line": {
             "colorbar": {
              "outlinewidth": 0,
              "ticks": ""
             }
            },
            "marker": {
             "colorbar": {
              "outlinewidth": 0,
              "ticks": ""
             }
            },
            "type": "scatter3d"
           }
          ],
          "scattercarpet": [
           {
            "marker": {
             "colorbar": {
              "outlinewidth": 0,
              "ticks": ""
             }
            },
            "type": "scattercarpet"
           }
          ],
          "scattergeo": [
           {
            "marker": {
             "colorbar": {
              "outlinewidth": 0,
              "ticks": ""
             }
            },
            "type": "scattergeo"
           }
          ],
          "scattergl": [
           {
            "marker": {
             "colorbar": {
              "outlinewidth": 0,
              "ticks": ""
             }
            },
            "type": "scattergl"
           }
          ],
          "scattermapbox": [
           {
            "marker": {
             "colorbar": {
              "outlinewidth": 0,
              "ticks": ""
             }
            },
            "type": "scattermapbox"
           }
          ],
          "scatterpolar": [
           {
            "marker": {
             "colorbar": {
              "outlinewidth": 0,
              "ticks": ""
             }
            },
            "type": "scatterpolar"
           }
          ],
          "scatterpolargl": [
           {
            "marker": {
             "colorbar": {
              "outlinewidth": 0,
              "ticks": ""
             }
            },
            "type": "scatterpolargl"
           }
          ],
          "scatterternary": [
           {
            "marker": {
             "colorbar": {
              "outlinewidth": 0,
              "ticks": ""
             }
            },
            "type": "scatterternary"
           }
          ],
          "surface": [
           {
            "colorbar": {
             "outlinewidth": 0,
             "ticks": ""
            },
            "colorscale": [
             [
              0,
              "#0d0887"
             ],
             [
              0.1111111111111111,
              "#46039f"
             ],
             [
              0.2222222222222222,
              "#7201a8"
             ],
             [
              0.3333333333333333,
              "#9c179e"
             ],
             [
              0.4444444444444444,
              "#bd3786"
             ],
             [
              0.5555555555555556,
              "#d8576b"
             ],
             [
              0.6666666666666666,
              "#ed7953"
             ],
             [
              0.7777777777777778,
              "#fb9f3a"
             ],
             [
              0.8888888888888888,
              "#fdca26"
             ],
             [
              1,
              "#f0f921"
             ]
            ],
            "type": "surface"
           }
          ],
          "table": [
           {
            "cells": {
             "fill": {
              "color": "#EBF0F8"
             },
             "line": {
              "color": "white"
             }
            },
            "header": {
             "fill": {
              "color": "#C8D4E3"
             },
             "line": {
              "color": "white"
             }
            },
            "type": "table"
           }
          ]
         },
         "layout": {
          "annotationdefaults": {
           "arrowcolor": "#2a3f5f",
           "arrowhead": 0,
           "arrowwidth": 1
          },
          "autotypenumbers": "strict",
          "coloraxis": {
           "colorbar": {
            "outlinewidth": 0,
            "ticks": ""
           }
          },
          "colorscale": {
           "diverging": [
            [
             0,
             "#8e0152"
            ],
            [
             0.1,
             "#c51b7d"
            ],
            [
             0.2,
             "#de77ae"
            ],
            [
             0.3,
             "#f1b6da"
            ],
            [
             0.4,
             "#fde0ef"
            ],
            [
             0.5,
             "#f7f7f7"
            ],
            [
             0.6,
             "#e6f5d0"
            ],
            [
             0.7,
             "#b8e186"
            ],
            [
             0.8,
             "#7fbc41"
            ],
            [
             0.9,
             "#4d9221"
            ],
            [
             1,
             "#276419"
            ]
           ],
           "sequential": [
            [
             0,
             "#0d0887"
            ],
            [
             0.1111111111111111,
             "#46039f"
            ],
            [
             0.2222222222222222,
             "#7201a8"
            ],
            [
             0.3333333333333333,
             "#9c179e"
            ],
            [
             0.4444444444444444,
             "#bd3786"
            ],
            [
             0.5555555555555556,
             "#d8576b"
            ],
            [
             0.6666666666666666,
             "#ed7953"
            ],
            [
             0.7777777777777778,
             "#fb9f3a"
            ],
            [
             0.8888888888888888,
             "#fdca26"
            ],
            [
             1,
             "#f0f921"
            ]
           ],
           "sequentialminus": [
            [
             0,
             "#0d0887"
            ],
            [
             0.1111111111111111,
             "#46039f"
            ],
            [
             0.2222222222222222,
             "#7201a8"
            ],
            [
             0.3333333333333333,
             "#9c179e"
            ],
            [
             0.4444444444444444,
             "#bd3786"
            ],
            [
             0.5555555555555556,
             "#d8576b"
            ],
            [
             0.6666666666666666,
             "#ed7953"
            ],
            [
             0.7777777777777778,
             "#fb9f3a"
            ],
            [
             0.8888888888888888,
             "#fdca26"
            ],
            [
             1,
             "#f0f921"
            ]
           ]
          },
          "colorway": [
           "#636efa",
           "#EF553B",
           "#00cc96",
           "#ab63fa",
           "#FFA15A",
           "#19d3f3",
           "#FF6692",
           "#B6E880",
           "#FF97FF",
           "#FECB52"
          ],
          "font": {
           "color": "#2a3f5f"
          },
          "geo": {
           "bgcolor": "white",
           "lakecolor": "white",
           "landcolor": "#E5ECF6",
           "showlakes": true,
           "showland": true,
           "subunitcolor": "white"
          },
          "hoverlabel": {
           "align": "left"
          },
          "hovermode": "closest",
          "mapbox": {
           "style": "light"
          },
          "paper_bgcolor": "white",
          "plot_bgcolor": "#E5ECF6",
          "polar": {
           "angularaxis": {
            "gridcolor": "white",
            "linecolor": "white",
            "ticks": ""
           },
           "bgcolor": "#E5ECF6",
           "radialaxis": {
            "gridcolor": "white",
            "linecolor": "white",
            "ticks": ""
           }
          },
          "scene": {
           "xaxis": {
            "backgroundcolor": "#E5ECF6",
            "gridcolor": "white",
            "gridwidth": 2,
            "linecolor": "white",
            "showbackground": true,
            "ticks": "",
            "zerolinecolor": "white"
           },
           "yaxis": {
            "backgroundcolor": "#E5ECF6",
            "gridcolor": "white",
            "gridwidth": 2,
            "linecolor": "white",
            "showbackground": true,
            "ticks": "",
            "zerolinecolor": "white"
           },
           "zaxis": {
            "backgroundcolor": "#E5ECF6",
            "gridcolor": "white",
            "gridwidth": 2,
            "linecolor": "white",
            "showbackground": true,
            "ticks": "",
            "zerolinecolor": "white"
           }
          },
          "shapedefaults": {
           "line": {
            "color": "#2a3f5f"
           }
          },
          "ternary": {
           "aaxis": {
            "gridcolor": "white",
            "linecolor": "white",
            "ticks": ""
           },
           "baxis": {
            "gridcolor": "white",
            "linecolor": "white",
            "ticks": ""
           },
           "bgcolor": "#E5ECF6",
           "caxis": {
            "gridcolor": "white",
            "linecolor": "white",
            "ticks": ""
           }
          },
          "title": {
           "x": 0.05
          },
          "xaxis": {
           "automargin": true,
           "gridcolor": "white",
           "linecolor": "white",
           "ticks": "",
           "title": {
            "standoff": 15
           },
           "zerolinecolor": "white",
           "zerolinewidth": 2
          },
          "yaxis": {
           "automargin": true,
           "gridcolor": "white",
           "linecolor": "white",
           "ticks": "",
           "title": {
            "standoff": 15
           },
           "zerolinecolor": "white",
           "zerolinewidth": 2
          }
         }
        }
       }
      },
      "text/html": [
       "<div>                            <div id=\"0ccf7b0a-d306-431f-a693-eb28b403e098\" class=\"plotly-graph-div\" style=\"height:525px; width:100%;\"></div>            <script type=\"text/javascript\">                require([\"plotly\"], function(Plotly) {                    window.PLOTLYENV=window.PLOTLYENV || {};                                    if (document.getElementById(\"0ccf7b0a-d306-431f-a693-eb28b403e098\")) {                    Plotly.newPlot(                        \"0ccf7b0a-d306-431f-a693-eb28b403e098\",                        [{\"hovertemplate\":\"predict_period=%{x}<br>lookback_period=%{marker.color}<br>corr3=%{z}<extra></extra>\",\"legendgroup\":\"\",\"marker\":{\"color\":[400.0,800.0,1200.0,1600.0,2000.0,2400.0,2800.0,3200.0,3600.0,4000.0,4400.0,4800.0,5200.0,5600.0,6000.0,6400.0,6800.0,7200.0,7600.0,8000.0,8400.0,8800.0,400.0,800.0,1200.0,1600.0,2000.0,2400.0,2800.0,3200.0,3600.0,4000.0,4400.0,4800.0,5200.0,5600.0,6000.0,6400.0,6800.0,7200.0,7600.0,8000.0,8400.0,8800.0,400.0,800.0,1200.0,1600.0,2000.0,2400.0,2800.0,3200.0,3600.0,4000.0,4400.0,4800.0,5200.0,5600.0,6000.0,6400.0,6800.0,7200.0,7600.0,8000.0,8400.0,8800.0,400.0,800.0,1200.0,1600.0,2000.0,2400.0,2800.0,3200.0,3600.0,4000.0,4400.0,4800.0,5200.0,5600.0,6000.0,6400.0,6800.0,7200.0,7600.0,8000.0,8400.0,8800.0,400.0,800.0,1200.0,1600.0,2000.0,2400.0,2800.0,3200.0,3600.0,4000.0,4400.0,4800.0,5200.0,5600.0,6000.0,6400.0,6800.0,7200.0,7600.0,8000.0,8400.0,8800.0,400.0,800.0,1200.0,1600.0,2000.0,2400.0,2800.0,3200.0,3600.0,4000.0,4400.0,4800.0,5200.0,5600.0,6000.0,6400.0,6800.0,7200.0,7600.0,8000.0,8400.0,8800.0,400.0,800.0,1200.0,1600.0,2000.0,2400.0,2800.0,3200.0,3600.0,4000.0,4400.0,4800.0,5200.0,5600.0,6000.0,6400.0,6800.0,7200.0,7600.0,8000.0,8400.0,8800.0,400.0,800.0,1200.0,1600.0,2000.0,2400.0,2800.0,3200.0,3600.0,4000.0,4400.0,4800.0,5200.0,5600.0,6000.0,6400.0,6800.0,7200.0,7600.0,8000.0,8400.0,8800.0,400.0,800.0,1200.0,1600.0,2000.0,2400.0,2800.0,3200.0,3600.0,4000.0,4400.0,4800.0,5200.0,5600.0,6000.0,6400.0,6800.0,7200.0,7600.0,8000.0,8400.0,8800.0,400.0,800.0,1200.0,1600.0,2000.0,2400.0,2800.0,3200.0,3600.0,4000.0,4400.0,4800.0,5200.0,5600.0,6000.0,6400.0,6800.0,7200.0,7600.0,8000.0,8400.0,8800.0,400.0,800.0,1200.0,1600.0,2000.0,2400.0,2800.0,3200.0,3600.0,4000.0,4400.0,4800.0,5200.0,5600.0,6000.0,6400.0,6800.0,7200.0,7600.0,8000.0,8400.0,8800.0,400.0,800.0,1200.0,1600.0,2000.0,2400.0,2800.0,3200.0,3600.0,4000.0,4400.0,4800.0,5200.0,5600.0,6000.0,6400.0,6800.0,7200.0,7600.0,8000.0,8400.0,8800.0,400.0,800.0,1200.0,1600.0,2000.0,2400.0,2800.0,3200.0,3600.0,4000.0,4400.0,4800.0,5200.0,5600.0,6000.0,6400.0,6800.0,7200.0,7600.0,8000.0,8400.0,8800.0,400.0,800.0,1200.0,1600.0,2000.0,2400.0,2800.0,3200.0,3600.0,4000.0,4400.0,4800.0,5200.0,5600.0,6000.0,6400.0,6800.0,7200.0,7600.0,8000.0,8400.0,8800.0,400.0,800.0,1200.0,1600.0,2000.0,2400.0,2800.0,3200.0,3600.0,4000.0,4400.0,4800.0,5200.0,5600.0,6000.0,6400.0,6800.0,7200.0,7600.0,8000.0,8400.0,8800.0,400.0,800.0,1200.0,1600.0,2000.0,2400.0,2800.0,3200.0,3600.0,4000.0,4400.0,4800.0,5200.0,5600.0,6000.0,6400.0,6800.0,7200.0,7600.0,8000.0,8400.0,8800.0,400.0,800.0,1200.0,1600.0,2000.0,2400.0,2800.0,3200.0,3600.0,4000.0,4400.0,4800.0,5200.0,5600.0,6000.0,6400.0,6800.0,7200.0,7600.0,8000.0,8400.0,8800.0,400.0,800.0,1200.0,1600.0,2000.0,2400.0,2800.0,3200.0,3600.0,4000.0,4400.0,4800.0,5200.0,5600.0,6000.0,6400.0,6800.0,7200.0,7600.0,8000.0,8400.0,8800.0,400.0,800.0,1200.0,1600.0,2000.0,2400.0,2800.0,3200.0,3600.0,4000.0,4400.0,4800.0,5200.0,5600.0,6000.0,6400.0,6800.0,7200.0,7600.0,8000.0,8400.0,8800.0,400.0,800.0,1200.0,1600.0,2000.0,2400.0,2800.0,3200.0,3600.0,4000.0,4400.0,4800.0,5200.0,5600.0,6000.0,6400.0,6800.0,7200.0,7600.0,8000.0,8400.0,8800.0,400.0,800.0,1200.0,1600.0,2000.0,2400.0,2800.0,3200.0,3600.0,4000.0,4400.0,4800.0,5200.0,5600.0,6000.0,6400.0,6800.0,7200.0,7600.0,8000.0,8400.0,8800.0,400.0,800.0,1200.0,1600.0,2000.0,2400.0,2800.0,3200.0,3600.0,4000.0,4400.0,4800.0,5200.0,5600.0,6000.0,6400.0,6800.0,7200.0,7600.0,8000.0,8400.0,8800.0],\"coloraxis\":\"coloraxis\",\"symbol\":\"circle\"},\"mode\":\"markers\",\"name\":\"\",\"scene\":\"scene\",\"showlegend\":false,\"x\":[400.0,400.0,400.0,400.0,400.0,400.0,400.0,400.0,400.0,400.0,400.0,400.0,400.0,400.0,400.0,400.0,400.0,400.0,400.0,400.0,400.0,400.0,800.0,800.0,800.0,800.0,800.0,800.0,800.0,800.0,800.0,800.0,800.0,800.0,800.0,800.0,800.0,800.0,800.0,800.0,800.0,800.0,800.0,800.0,1200.0,1200.0,1200.0,1200.0,1200.0,1200.0,1200.0,1200.0,1200.0,1200.0,1200.0,1200.0,1200.0,1200.0,1200.0,1200.0,1200.0,1200.0,1200.0,1200.0,1200.0,1200.0,1600.0,1600.0,1600.0,1600.0,1600.0,1600.0,1600.0,1600.0,1600.0,1600.0,1600.0,1600.0,1600.0,1600.0,1600.0,1600.0,1600.0,1600.0,1600.0,1600.0,1600.0,1600.0,2000.0,2000.0,2000.0,2000.0,2000.0,2000.0,2000.0,2000.0,2000.0,2000.0,2000.0,2000.0,2000.0,2000.0,2000.0,2000.0,2000.0,2000.0,2000.0,2000.0,2000.0,2000.0,2400.0,2400.0,2400.0,2400.0,2400.0,2400.0,2400.0,2400.0,2400.0,2400.0,2400.0,2400.0,2400.0,2400.0,2400.0,2400.0,2400.0,2400.0,2400.0,2400.0,2400.0,2400.0,2800.0,2800.0,2800.0,2800.0,2800.0,2800.0,2800.0,2800.0,2800.0,2800.0,2800.0,2800.0,2800.0,2800.0,2800.0,2800.0,2800.0,2800.0,2800.0,2800.0,2800.0,2800.0,3200.0,3200.0,3200.0,3200.0,3200.0,3200.0,3200.0,3200.0,3200.0,3200.0,3200.0,3200.0,3200.0,3200.0,3200.0,3200.0,3200.0,3200.0,3200.0,3200.0,3200.0,3200.0,3600.0,3600.0,3600.0,3600.0,3600.0,3600.0,3600.0,3600.0,3600.0,3600.0,3600.0,3600.0,3600.0,3600.0,3600.0,3600.0,3600.0,3600.0,3600.0,3600.0,3600.0,3600.0,4000.0,4000.0,4000.0,4000.0,4000.0,4000.0,4000.0,4000.0,4000.0,4000.0,4000.0,4000.0,4000.0,4000.0,4000.0,4000.0,4000.0,4000.0,4000.0,4000.0,4000.0,4000.0,4400.0,4400.0,4400.0,4400.0,4400.0,4400.0,4400.0,4400.0,4400.0,4400.0,4400.0,4400.0,4400.0,4400.0,4400.0,4400.0,4400.0,4400.0,4400.0,4400.0,4400.0,4400.0,4800.0,4800.0,4800.0,4800.0,4800.0,4800.0,4800.0,4800.0,4800.0,4800.0,4800.0,4800.0,4800.0,4800.0,4800.0,4800.0,4800.0,4800.0,4800.0,4800.0,4800.0,4800.0,5200.0,5200.0,5200.0,5200.0,5200.0,5200.0,5200.0,5200.0,5200.0,5200.0,5200.0,5200.0,5200.0,5200.0,5200.0,5200.0,5200.0,5200.0,5200.0,5200.0,5200.0,5200.0,5600.0,5600.0,5600.0,5600.0,5600.0,5600.0,5600.0,5600.0,5600.0,5600.0,5600.0,5600.0,5600.0,5600.0,5600.0,5600.0,5600.0,5600.0,5600.0,5600.0,5600.0,5600.0,6000.0,6000.0,6000.0,6000.0,6000.0,6000.0,6000.0,6000.0,6000.0,6000.0,6000.0,6000.0,6000.0,6000.0,6000.0,6000.0,6000.0,6000.0,6000.0,6000.0,6000.0,6000.0,6400.0,6400.0,6400.0,6400.0,6400.0,6400.0,6400.0,6400.0,6400.0,6400.0,6400.0,6400.0,6400.0,6400.0,6400.0,6400.0,6400.0,6400.0,6400.0,6400.0,6400.0,6400.0,6800.0,6800.0,6800.0,6800.0,6800.0,6800.0,6800.0,6800.0,6800.0,6800.0,6800.0,6800.0,6800.0,6800.0,6800.0,6800.0,6800.0,6800.0,6800.0,6800.0,6800.0,6800.0,7200.0,7200.0,7200.0,7200.0,7200.0,7200.0,7200.0,7200.0,7200.0,7200.0,7200.0,7200.0,7200.0,7200.0,7200.0,7200.0,7200.0,7200.0,7200.0,7200.0,7200.0,7200.0,7600.0,7600.0,7600.0,7600.0,7600.0,7600.0,7600.0,7600.0,7600.0,7600.0,7600.0,7600.0,7600.0,7600.0,7600.0,7600.0,7600.0,7600.0,7600.0,7600.0,7600.0,7600.0,8000.0,8000.0,8000.0,8000.0,8000.0,8000.0,8000.0,8000.0,8000.0,8000.0,8000.0,8000.0,8000.0,8000.0,8000.0,8000.0,8000.0,8000.0,8000.0,8000.0,8000.0,8000.0,8400.0,8400.0,8400.0,8400.0,8400.0,8400.0,8400.0,8400.0,8400.0,8400.0,8400.0,8400.0,8400.0,8400.0,8400.0,8400.0,8400.0,8400.0,8400.0,8400.0,8400.0,8400.0,8800.0,8800.0,8800.0,8800.0,8800.0,8800.0,8800.0,8800.0,8800.0,8800.0,8800.0,8800.0,8800.0,8800.0,8800.0,8800.0,8800.0,8800.0,8800.0,8800.0,8800.0,8800.0],\"y\":[400.0,800.0,1200.0,1600.0,2000.0,2400.0,2800.0,3200.0,3600.0,4000.0,4400.0,4800.0,5200.0,5600.0,6000.0,6400.0,6800.0,7200.0,7600.0,8000.0,8400.0,8800.0,400.0,800.0,1200.0,1600.0,2000.0,2400.0,2800.0,3200.0,3600.0,4000.0,4400.0,4800.0,5200.0,5600.0,6000.0,6400.0,6800.0,7200.0,7600.0,8000.0,8400.0,8800.0,400.0,800.0,1200.0,1600.0,2000.0,2400.0,2800.0,3200.0,3600.0,4000.0,4400.0,4800.0,5200.0,5600.0,6000.0,6400.0,6800.0,7200.0,7600.0,8000.0,8400.0,8800.0,400.0,800.0,1200.0,1600.0,2000.0,2400.0,2800.0,3200.0,3600.0,4000.0,4400.0,4800.0,5200.0,5600.0,6000.0,6400.0,6800.0,7200.0,7600.0,8000.0,8400.0,8800.0,400.0,800.0,1200.0,1600.0,2000.0,2400.0,2800.0,3200.0,3600.0,4000.0,4400.0,4800.0,5200.0,5600.0,6000.0,6400.0,6800.0,7200.0,7600.0,8000.0,8400.0,8800.0,400.0,800.0,1200.0,1600.0,2000.0,2400.0,2800.0,3200.0,3600.0,4000.0,4400.0,4800.0,5200.0,5600.0,6000.0,6400.0,6800.0,7200.0,7600.0,8000.0,8400.0,8800.0,400.0,800.0,1200.0,1600.0,2000.0,2400.0,2800.0,3200.0,3600.0,4000.0,4400.0,4800.0,5200.0,5600.0,6000.0,6400.0,6800.0,7200.0,7600.0,8000.0,8400.0,8800.0,400.0,800.0,1200.0,1600.0,2000.0,2400.0,2800.0,3200.0,3600.0,4000.0,4400.0,4800.0,5200.0,5600.0,6000.0,6400.0,6800.0,7200.0,7600.0,8000.0,8400.0,8800.0,400.0,800.0,1200.0,1600.0,2000.0,2400.0,2800.0,3200.0,3600.0,4000.0,4400.0,4800.0,5200.0,5600.0,6000.0,6400.0,6800.0,7200.0,7600.0,8000.0,8400.0,8800.0,400.0,800.0,1200.0,1600.0,2000.0,2400.0,2800.0,3200.0,3600.0,4000.0,4400.0,4800.0,5200.0,5600.0,6000.0,6400.0,6800.0,7200.0,7600.0,8000.0,8400.0,8800.0,400.0,800.0,1200.0,1600.0,2000.0,2400.0,2800.0,3200.0,3600.0,4000.0,4400.0,4800.0,5200.0,5600.0,6000.0,6400.0,6800.0,7200.0,7600.0,8000.0,8400.0,8800.0,400.0,800.0,1200.0,1600.0,2000.0,2400.0,2800.0,3200.0,3600.0,4000.0,4400.0,4800.0,5200.0,5600.0,6000.0,6400.0,6800.0,7200.0,7600.0,8000.0,8400.0,8800.0,400.0,800.0,1200.0,1600.0,2000.0,2400.0,2800.0,3200.0,3600.0,4000.0,4400.0,4800.0,5200.0,5600.0,6000.0,6400.0,6800.0,7200.0,7600.0,8000.0,8400.0,8800.0,400.0,800.0,1200.0,1600.0,2000.0,2400.0,2800.0,3200.0,3600.0,4000.0,4400.0,4800.0,5200.0,5600.0,6000.0,6400.0,6800.0,7200.0,7600.0,8000.0,8400.0,8800.0,400.0,800.0,1200.0,1600.0,2000.0,2400.0,2800.0,3200.0,3600.0,4000.0,4400.0,4800.0,5200.0,5600.0,6000.0,6400.0,6800.0,7200.0,7600.0,8000.0,8400.0,8800.0,400.0,800.0,1200.0,1600.0,2000.0,2400.0,2800.0,3200.0,3600.0,4000.0,4400.0,4800.0,5200.0,5600.0,6000.0,6400.0,6800.0,7200.0,7600.0,8000.0,8400.0,8800.0,400.0,800.0,1200.0,1600.0,2000.0,2400.0,2800.0,3200.0,3600.0,4000.0,4400.0,4800.0,5200.0,5600.0,6000.0,6400.0,6800.0,7200.0,7600.0,8000.0,8400.0,8800.0,400.0,800.0,1200.0,1600.0,2000.0,2400.0,2800.0,3200.0,3600.0,4000.0,4400.0,4800.0,5200.0,5600.0,6000.0,6400.0,6800.0,7200.0,7600.0,8000.0,8400.0,8800.0,400.0,800.0,1200.0,1600.0,2000.0,2400.0,2800.0,3200.0,3600.0,4000.0,4400.0,4800.0,5200.0,5600.0,6000.0,6400.0,6800.0,7200.0,7600.0,8000.0,8400.0,8800.0,400.0,800.0,1200.0,1600.0,2000.0,2400.0,2800.0,3200.0,3600.0,4000.0,4400.0,4800.0,5200.0,5600.0,6000.0,6400.0,6800.0,7200.0,7600.0,8000.0,8400.0,8800.0,400.0,800.0,1200.0,1600.0,2000.0,2400.0,2800.0,3200.0,3600.0,4000.0,4400.0,4800.0,5200.0,5600.0,6000.0,6400.0,6800.0,7200.0,7600.0,8000.0,8400.0,8800.0,400.0,800.0,1200.0,1600.0,2000.0,2400.0,2800.0,3200.0,3600.0,4000.0,4400.0,4800.0,5200.0,5600.0,6000.0,6400.0,6800.0,7200.0,7600.0,8000.0,8400.0,8800.0],\"z\":[-0.05363099546074379,-0.14366352085382547,-0.15168002502154362,-0.09722327498535473,-0.055842954089229596,-0.25258080788697496,-0.09653948925363644,-0.07412203304586276,-0.08673942545826607,-0.028124154098565553,-0.11218086514236389,-0.0670364068981807,-0.10593845880395732,-0.018184231657901194,-0.13934788966438458,-0.06518843215229747,0.04503254843451159,0.017433048182882466,-0.03917343671477054,-0.06991772214417198,-0.130707263304084,-0.17314022827153794,-0.1909125244654626,-0.1944855484740751,-0.12435626569552415,-0.2007138634900834,-0.20385939663365515,-0.19530169965431546,-0.04187132267467636,-0.118063162366456,-0.03787096901012836,-0.06080890622102728,-0.10020272477766458,-0.052250350473098325,-0.12367065625608549,-0.12245575162410904,-0.22213753872151304,-0.14393670490248991,0.11864327483334292,-0.008647003629449236,-0.04215981192548668,-0.15451167487468376,-0.15084447104065615,-0.14157470138109507,-0.2480691950779866,-0.23355577036996206,-0.2579569595528465,-0.3455285134282931,-0.2128094391797759,-0.047636998198678976,-0.05419884701211915,-0.06752918818122589,-0.08429848047158983,-0.08946674900839467,-0.12020767207289189,-0.08686430389792534,-0.20155960546443427,-0.16257004661319177,-0.2993339543650915,-0.10359993910783573,0.028049558964262006,0.011427085814262735,-0.09122144423166127,-0.24821274246603944,-0.13152142504363004,-0.22947672696050306,-0.17681994614103771,-0.2950695279710727,-0.46184792693989185,-0.3028806250564785,-0.03647412137891911,-0.009707392648785508,0.06621777023140289,-0.053865967030567716,-0.06377150064268226,-0.08381178231966437,-0.07268321657548871,-0.13320199325690674,-0.1828949900736034,-0.22938755302936362,-0.26962706035568995,-0.3332943945477105,-0.03896588579924293,-0.014886943837255638,-0.09848566435658539,-0.1387102326072104,-0.1471163640108132,-0.21266514662474567,-0.30981610366555,-0.3117039997966492,-0.37238484905347624,-0.058742171793959796,-0.05343879981147741,-0.06505465416174393,-0.032776022881307314,-0.09472028667683748,-0.06907847142619769,-0.07587532768341973,-0.143389887901894,-0.17335806906570242,-0.18137722047566243,-0.1721529949232776,-0.279489263949835,-0.17477910155701096,-0.0025195567453074187,-0.06441457236966636,-0.018909985188395206,-0.16165915730557479,-0.1824796762162126,-0.3115821604372888,-0.26520728480191746,-0.18766410288531352,-0.05365665854494134,-0.11284192845838933,-0.11859873995617197,-0.08333939535259678,-0.015489158889254348,-0.05594555287745519,0.0273072622393841,-0.002380568855774105,-0.09447848101651377,-0.09730751568892626,-0.133931113836685,-0.06594080276926023,-0.1819765034386646,0.034650604980667535,0.013908981023704099,0.01051082950824948,0.025550844832076768,-0.11063454351957638,-0.1647177928075102,-0.2785209753784663,-0.04892658308467873,-0.04355412257460793,-0.07184951819786176,-0.1822125716235493,-0.10670074513123916,-0.00743917622054192,0.040049462042118955,0.01682669398912499,0.07921745631753312,-0.010600101161582763,-0.012866661396976335,0.008049866179722174,0.022282733083772,0.03789053285574463,0.07032126077762282,0.1147139699551091,0.10353805271737092,0.09171396442676236,0.05813019674715826,0.07056868093168508,-0.1090913655992338,-0.16085838315566764,-0.013327964494521428,-0.025026358565724764,-0.0785717997865779,-0.15406694694450246,-0.05799701655128171,0.024442013772472657,0.04779017301416542,0.03610097692169406,0.01882975163758221,-0.017427963025307035,-0.0016907303862596038,0.044460868170413094,0.035515277032105566,0.09941184089800195,0.09196457426376664,0.1559737102548213,0.15970377843639588,0.09300231172139206,0.06058041284434982,0.054258990094775895,-0.07462538893808493,-0.10607185463053875,-0.042688721767681105,-0.14926674690750197,-0.15637873664890656,-0.12682862905999426,-0.050877540094461826,-0.01634114440128441,0.0048178379953409504,-0.07039896759003231,-0.21970959419902325,-0.022077310440040285,-0.0702036465222609,0.004717963187807414,-0.0002479818835728134,0.024704193732126137,0.02444399536145942,0.058398228431926526,0.1479723885556512,0.17004614150248382,0.07036240042660194,0.1217517395030937,-0.1453123538923365,-0.13536106928507557,-0.191343043390699,-0.2039153219436194,-0.14506435613588917,-0.1524496218239936,-0.09264314762777334,-0.16630627238011936,-0.11762771576931301,-0.17523177817186286,-0.1348052924837537,-0.02894064148037646,-0.09934329839565667,-0.026018173414257616,-0.08546546507138092,-0.0025218129542632552,-0.05796910055174999,0.013611480062535795,0.10214127333410658,0.0778231841672182,-0.058776622438926535,-0.07683133780640067,-0.15116021187355635,-0.08920843292973443,-0.16861996381735175,-0.15961067518968833,-0.11927383553913407,-0.14813643651650876,-0.17187433268449281,-0.1293183169937808,-0.0663699560653046,-0.017901229586275977,0.0015314039782152507,0.010533042826846263,-0.07107983511781542,-0.04058888685529779,-0.08796081175990685,-0.031018522175148628,-0.0581744246984673,-0.0271087615932403,0.023519301622614945,-0.014159710123708456,-0.05470583665731685,-0.09618014520007669,-0.0866664627976825,-0.13966931315154696,-0.06713577842191198,-0.11233286830765911,-0.1134388222997273,-0.18153183582437823,-0.16009942180013303,-0.06740766671496684,0.003996417062189916,0.03026926819090253,-0.006249702409333984,0.0030050580696773443,-0.08835215450985043,-0.030087954291296872,-0.07338017629809211,-0.05772857415029137,-0.061502182324336595,-0.06648085104545673,-0.02527526822464136,-0.04942035901701898,-0.07998734431106483,-0.048186791175786295,-0.12343087805971897,-0.12453123138249053,-0.06434564013724135,-0.1168174551642236,-0.1609812044988782,-0.2040127556394832,-0.13798516476436995,-0.038413413278712484,0.03328836528386531,0.028645912585468385,-0.011926009640067639,-0.03857622909635588,-0.06224973482028431,-0.04211165934561772,-0.09234129534594226,-0.08535520639286853,-0.10774386746963785,-0.11410924411953476,-0.06299613487955508,-0.07555011679737514,-0.09283512585213935,-0.07636703558038532,-0.08079985828173727,-0.11829068500526713,-0.11915908387521139,-0.20521592793651947,-0.24480004626545498,-0.2682408957616399,-0.10156306811879119,-0.012705512034051139,0.05693109586455921,0.017571013311072945,-0.07409501057380868,-0.05104558191439975,-0.09606687893255937,-0.06524172824546763,-0.14302686716800228,-0.122707389331521,-0.18861574654076596,-0.14474927716778835,-0.07343838722314464,-0.08445313885195295,-0.08116797816090421,-0.09287331001534996,-0.1009986599970542,-0.1714591022140373,-0.18096104986360875,-0.22948272247219711,-0.3012603130984959,-0.2658899912432682,-0.11430453913425884,-0.00899826146103187,0.07191556507603175,-0.04893381716080695,-0.08636154292397406,-0.08331121496950393,-0.12779909536727274,-0.10858315326304226,-0.16398450973163542,-0.1577411232502163,-0.2128108536135164,-0.1911540528107871,-0.09685450754116612,-0.09808432107153925,-0.07206209545293965,-0.13040402456883335,-0.14909494443589177,-0.19001636195520888,-0.20996954785589692,-0.2727977516432659,-0.2534282809699253,-0.23954061681603087,-0.019981111573568806,0.06580457852249279,0.0025586126331467044,-0.05301295866556539,-0.10824425934570024,-0.09659480544126053,-0.14068006303416775,-0.11935320939772691,-0.1845936759946875,-0.17543439972472596,-0.2435908067175485,-0.22486147241353882,-0.07836463390842831,-0.055255751872189195,-0.08981853543568354,-0.2006288412857619,-0.16849299340966756,-0.21846139413004498,-0.1715136542663515,-0.2674426983914074,-0.20239959002452956,-0.2051819477422224,0.10825362129122414,0.024957983563815875,0.0017555473397463759,-0.054051327927958456,-0.13274178704116107,-0.1157713040311782,-0.14634581632176571,-0.13868256632810544,-0.17555612969216386,-0.2135122888109266,-0.27464439681048763,-0.3189657077136525,-0.06774927233069161,-0.05655392062240079,-0.12863297436717813,-0.20905740266059272,-0.20443420048626101,-0.22703847807437216,-0.12722481619141807,-0.11883642072835647,0.0551215474152252,0.008750269805937549,-0.0028218275334941684,0.040938506584607647,-0.02679487651056543,-0.04349597727865162,-0.07697355241205207,-0.08489620426843664,-0.10912898729086747,-0.09116380570104292,-0.1324509899114546,-0.15084337048948565,-0.20290590229200167,-0.09388463882885595,-0.052379948652699994,-0.10436541035840033,-0.14473627453953516,-0.1588171059872569,-0.15509476221162374,-0.22459765524504022,0.011074798552502233,-0.06563488826562808,0.09261294032037705,-0.038699581307702006,-0.026608199960131113,0.008034424833878926,-0.013496165955997437,-0.0006263667812502191,-0.08113903628908659,-0.04872754623016891,-0.10587003482412335,-0.1006117730030111,-0.14416815615740786,-0.15486385996546284,-0.09475286516341266,-0.07877236970929674,-0.09776646168522947,-0.11543313711581112,-0.16626107847673574,-0.14212846710096227,-0.16976163243022738,-0.2228750246643251,-0.0009380612011555197,-0.025525284030248497,-0.031044432735457986,-0.1046976600725577,-0.06421845569383816,-0.030764368016497706,-0.04795055269053398,-0.0496620922935253,-0.11279383295094107,-0.10599960080081629,-0.12113706014171712,-0.10877289041713213,-0.10838748040049283,-0.07245303773570681,-0.0620008130628246,-0.06842591916515711,-0.10119361880367131,-0.12873579786506942,-0.14593292772916855,-0.10464496422724077,-0.16347259554705443,-0.19145848472519103,-0.0035192034601870073,-0.08495447580577234,-0.04851837091779549,-0.12139236862105973,-0.061341843773252434,-0.055404289685675796,-0.0734211013684477,-0.039149217386544505,-0.12407955775723609,-0.10439038798685854,-0.15997637610229898,-0.12540461738223174,-0.11968832406649611,-0.07135613697992058,-0.07782819688994908,-0.061650761964865776,-0.09809853877833478,-0.12544460172901742,-0.13879920900171444,-0.11741167515653911,-0.22528703797925403,-0.19173978393355592,-0.05422363577410966,-0.1287474222543789,-0.10457533751500402,-0.1464462710797328,-0.11030611749779039,-0.07045224595606736,-0.10053125958591909,-0.035346165848470695,-0.22436800606901186,-0.10583245771166164,-0.19669585132365713,-0.10701219693468426,-0.11848322244398563,-0.12645851732886332,-0.10833232374819855,-0.13898116321110524,-0.07446705401417351,-0.11014638384229385,-0.12708614676043717,-0.07900655409168984,-0.3276439683380527,-0.2104894153121692],\"type\":\"scatter3d\"}],                        {\"template\":{\"data\":{\"histogram2dcontour\":[{\"type\":\"histogram2dcontour\",\"colorbar\":{\"outlinewidth\":0,\"ticks\":\"\"},\"colorscale\":[[0.0,\"#0d0887\"],[0.1111111111111111,\"#46039f\"],[0.2222222222222222,\"#7201a8\"],[0.3333333333333333,\"#9c179e\"],[0.4444444444444444,\"#bd3786\"],[0.5555555555555556,\"#d8576b\"],[0.6666666666666666,\"#ed7953\"],[0.7777777777777778,\"#fb9f3a\"],[0.8888888888888888,\"#fdca26\"],[1.0,\"#f0f921\"]]}],\"choropleth\":[{\"type\":\"choropleth\",\"colorbar\":{\"outlinewidth\":0,\"ticks\":\"\"}}],\"histogram2d\":[{\"type\":\"histogram2d\",\"colorbar\":{\"outlinewidth\":0,\"ticks\":\"\"},\"colorscale\":[[0.0,\"#0d0887\"],[0.1111111111111111,\"#46039f\"],[0.2222222222222222,\"#7201a8\"],[0.3333333333333333,\"#9c179e\"],[0.4444444444444444,\"#bd3786\"],[0.5555555555555556,\"#d8576b\"],[0.6666666666666666,\"#ed7953\"],[0.7777777777777778,\"#fb9f3a\"],[0.8888888888888888,\"#fdca26\"],[1.0,\"#f0f921\"]]}],\"heatmap\":[{\"type\":\"heatmap\",\"colorbar\":{\"outlinewidth\":0,\"ticks\":\"\"},\"colorscale\":[[0.0,\"#0d0887\"],[0.1111111111111111,\"#46039f\"],[0.2222222222222222,\"#7201a8\"],[0.3333333333333333,\"#9c179e\"],[0.4444444444444444,\"#bd3786\"],[0.5555555555555556,\"#d8576b\"],[0.6666666666666666,\"#ed7953\"],[0.7777777777777778,\"#fb9f3a\"],[0.8888888888888888,\"#fdca26\"],[1.0,\"#f0f921\"]]}],\"heatmapgl\":[{\"type\":\"heatmapgl\",\"colorbar\":{\"outlinewidth\":0,\"ticks\":\"\"},\"colorscale\":[[0.0,\"#0d0887\"],[0.1111111111111111,\"#46039f\"],[0.2222222222222222,\"#7201a8\"],[0.3333333333333333,\"#9c179e\"],[0.4444444444444444,\"#bd3786\"],[0.5555555555555556,\"#d8576b\"],[0.6666666666666666,\"#ed7953\"],[0.7777777777777778,\"#fb9f3a\"],[0.8888888888888888,\"#fdca26\"],[1.0,\"#f0f921\"]]}],\"contourcarpet\":[{\"type\":\"contourcarpet\",\"colorbar\":{\"outlinewidth\":0,\"ticks\":\"\"}}],\"contour\":[{\"type\":\"contour\",\"colorbar\":{\"outlinewidth\":0,\"ticks\":\"\"},\"colorscale\":[[0.0,\"#0d0887\"],[0.1111111111111111,\"#46039f\"],[0.2222222222222222,\"#7201a8\"],[0.3333333333333333,\"#9c179e\"],[0.4444444444444444,\"#bd3786\"],[0.5555555555555556,\"#d8576b\"],[0.6666666666666666,\"#ed7953\"],[0.7777777777777778,\"#fb9f3a\"],[0.8888888888888888,\"#fdca26\"],[1.0,\"#f0f921\"]]}],\"surface\":[{\"type\":\"surface\",\"colorbar\":{\"outlinewidth\":0,\"ticks\":\"\"},\"colorscale\":[[0.0,\"#0d0887\"],[0.1111111111111111,\"#46039f\"],[0.2222222222222222,\"#7201a8\"],[0.3333333333333333,\"#9c179e\"],[0.4444444444444444,\"#bd3786\"],[0.5555555555555556,\"#d8576b\"],[0.6666666666666666,\"#ed7953\"],[0.7777777777777778,\"#fb9f3a\"],[0.8888888888888888,\"#fdca26\"],[1.0,\"#f0f921\"]]}],\"mesh3d\":[{\"type\":\"mesh3d\",\"colorbar\":{\"outlinewidth\":0,\"ticks\":\"\"}}],\"scatter\":[{\"fillpattern\":{\"fillmode\":\"overlay\",\"size\":10,\"solidity\":0.2},\"type\":\"scatter\"}],\"parcoords\":[{\"type\":\"parcoords\",\"line\":{\"colorbar\":{\"outlinewidth\":0,\"ticks\":\"\"}}}],\"scatterpolargl\":[{\"type\":\"scatterpolargl\",\"marker\":{\"colorbar\":{\"outlinewidth\":0,\"ticks\":\"\"}}}],\"bar\":[{\"error_x\":{\"color\":\"#2a3f5f\"},\"error_y\":{\"color\":\"#2a3f5f\"},\"marker\":{\"line\":{\"color\":\"#E5ECF6\",\"width\":0.5},\"pattern\":{\"fillmode\":\"overlay\",\"size\":10,\"solidity\":0.2}},\"type\":\"bar\"}],\"scattergeo\":[{\"type\":\"scattergeo\",\"marker\":{\"colorbar\":{\"outlinewidth\":0,\"ticks\":\"\"}}}],\"scatterpolar\":[{\"type\":\"scatterpolar\",\"marker\":{\"colorbar\":{\"outlinewidth\":0,\"ticks\":\"\"}}}],\"histogram\":[{\"marker\":{\"pattern\":{\"fillmode\":\"overlay\",\"size\":10,\"solidity\":0.2}},\"type\":\"histogram\"}],\"scattergl\":[{\"type\":\"scattergl\",\"marker\":{\"colorbar\":{\"outlinewidth\":0,\"ticks\":\"\"}}}],\"scatter3d\":[{\"type\":\"scatter3d\",\"line\":{\"colorbar\":{\"outlinewidth\":0,\"ticks\":\"\"}},\"marker\":{\"colorbar\":{\"outlinewidth\":0,\"ticks\":\"\"}}}],\"scattermapbox\":[{\"type\":\"scattermapbox\",\"marker\":{\"colorbar\":{\"outlinewidth\":0,\"ticks\":\"\"}}}],\"scatterternary\":[{\"type\":\"scatterternary\",\"marker\":{\"colorbar\":{\"outlinewidth\":0,\"ticks\":\"\"}}}],\"scattercarpet\":[{\"type\":\"scattercarpet\",\"marker\":{\"colorbar\":{\"outlinewidth\":0,\"ticks\":\"\"}}}],\"carpet\":[{\"aaxis\":{\"endlinecolor\":\"#2a3f5f\",\"gridcolor\":\"white\",\"linecolor\":\"white\",\"minorgridcolor\":\"white\",\"startlinecolor\":\"#2a3f5f\"},\"baxis\":{\"endlinecolor\":\"#2a3f5f\",\"gridcolor\":\"white\",\"linecolor\":\"white\",\"minorgridcolor\":\"white\",\"startlinecolor\":\"#2a3f5f\"},\"type\":\"carpet\"}],\"table\":[{\"cells\":{\"fill\":{\"color\":\"#EBF0F8\"},\"line\":{\"color\":\"white\"}},\"header\":{\"fill\":{\"color\":\"#C8D4E3\"},\"line\":{\"color\":\"white\"}},\"type\":\"table\"}],\"barpolar\":[{\"marker\":{\"line\":{\"color\":\"#E5ECF6\",\"width\":0.5},\"pattern\":{\"fillmode\":\"overlay\",\"size\":10,\"solidity\":0.2}},\"type\":\"barpolar\"}],\"pie\":[{\"automargin\":true,\"type\":\"pie\"}]},\"layout\":{\"autotypenumbers\":\"strict\",\"colorway\":[\"#636efa\",\"#EF553B\",\"#00cc96\",\"#ab63fa\",\"#FFA15A\",\"#19d3f3\",\"#FF6692\",\"#B6E880\",\"#FF97FF\",\"#FECB52\"],\"font\":{\"color\":\"#2a3f5f\"},\"hovermode\":\"closest\",\"hoverlabel\":{\"align\":\"left\"},\"paper_bgcolor\":\"white\",\"plot_bgcolor\":\"#E5ECF6\",\"polar\":{\"bgcolor\":\"#E5ECF6\",\"angularaxis\":{\"gridcolor\":\"white\",\"linecolor\":\"white\",\"ticks\":\"\"},\"radialaxis\":{\"gridcolor\":\"white\",\"linecolor\":\"white\",\"ticks\":\"\"}},\"ternary\":{\"bgcolor\":\"#E5ECF6\",\"aaxis\":{\"gridcolor\":\"white\",\"linecolor\":\"white\",\"ticks\":\"\"},\"baxis\":{\"gridcolor\":\"white\",\"linecolor\":\"white\",\"ticks\":\"\"},\"caxis\":{\"gridcolor\":\"white\",\"linecolor\":\"white\",\"ticks\":\"\"}},\"coloraxis\":{\"colorbar\":{\"outlinewidth\":0,\"ticks\":\"\"}},\"colorscale\":{\"sequential\":[[0.0,\"#0d0887\"],[0.1111111111111111,\"#46039f\"],[0.2222222222222222,\"#7201a8\"],[0.3333333333333333,\"#9c179e\"],[0.4444444444444444,\"#bd3786\"],[0.5555555555555556,\"#d8576b\"],[0.6666666666666666,\"#ed7953\"],[0.7777777777777778,\"#fb9f3a\"],[0.8888888888888888,\"#fdca26\"],[1.0,\"#f0f921\"]],\"sequentialminus\":[[0.0,\"#0d0887\"],[0.1111111111111111,\"#46039f\"],[0.2222222222222222,\"#7201a8\"],[0.3333333333333333,\"#9c179e\"],[0.4444444444444444,\"#bd3786\"],[0.5555555555555556,\"#d8576b\"],[0.6666666666666666,\"#ed7953\"],[0.7777777777777778,\"#fb9f3a\"],[0.8888888888888888,\"#fdca26\"],[1.0,\"#f0f921\"]],\"diverging\":[[0,\"#8e0152\"],[0.1,\"#c51b7d\"],[0.2,\"#de77ae\"],[0.3,\"#f1b6da\"],[0.4,\"#fde0ef\"],[0.5,\"#f7f7f7\"],[0.6,\"#e6f5d0\"],[0.7,\"#b8e186\"],[0.8,\"#7fbc41\"],[0.9,\"#4d9221\"],[1,\"#276419\"]]},\"xaxis\":{\"gridcolor\":\"white\",\"linecolor\":\"white\",\"ticks\":\"\",\"title\":{\"standoff\":15},\"zerolinecolor\":\"white\",\"automargin\":true,\"zerolinewidth\":2},\"yaxis\":{\"gridcolor\":\"white\",\"linecolor\":\"white\",\"ticks\":\"\",\"title\":{\"standoff\":15},\"zerolinecolor\":\"white\",\"automargin\":true,\"zerolinewidth\":2},\"scene\":{\"xaxis\":{\"backgroundcolor\":\"#E5ECF6\",\"gridcolor\":\"white\",\"linecolor\":\"white\",\"showbackground\":true,\"ticks\":\"\",\"zerolinecolor\":\"white\",\"gridwidth\":2},\"yaxis\":{\"backgroundcolor\":\"#E5ECF6\",\"gridcolor\":\"white\",\"linecolor\":\"white\",\"showbackground\":true,\"ticks\":\"\",\"zerolinecolor\":\"white\",\"gridwidth\":2},\"zaxis\":{\"backgroundcolor\":\"#E5ECF6\",\"gridcolor\":\"white\",\"linecolor\":\"white\",\"showbackground\":true,\"ticks\":\"\",\"zerolinecolor\":\"white\",\"gridwidth\":2}},\"shapedefaults\":{\"line\":{\"color\":\"#2a3f5f\"}},\"annotationdefaults\":{\"arrowcolor\":\"#2a3f5f\",\"arrowhead\":0,\"arrowwidth\":1},\"geo\":{\"bgcolor\":\"white\",\"landcolor\":\"#E5ECF6\",\"subunitcolor\":\"white\",\"showland\":true,\"showlakes\":true,\"lakecolor\":\"white\"},\"title\":{\"x\":0.05},\"mapbox\":{\"style\":\"light\"}}},\"scene\":{\"domain\":{\"x\":[0.0,1.0],\"y\":[0.0,1.0]},\"xaxis\":{\"title\":{\"text\":\"predict_period\"}},\"yaxis\":{\"title\":{\"text\":\"lookback_period\"}},\"zaxis\":{\"title\":{\"text\":\"corr3\"}}},\"coloraxis\":{\"colorbar\":{\"title\":{\"text\":\"lookback_period\"}},\"colorscale\":[[0.0,\"#0d0887\"],[0.1111111111111111,\"#46039f\"],[0.2222222222222222,\"#7201a8\"],[0.3333333333333333,\"#9c179e\"],[0.4444444444444444,\"#bd3786\"],[0.5555555555555556,\"#d8576b\"],[0.6666666666666666,\"#ed7953\"],[0.7777777777777778,\"#fb9f3a\"],[0.8888888888888888,\"#fdca26\"],[1.0,\"#f0f921\"]]},\"legend\":{\"tracegroupgap\":0},\"margin\":{\"t\":60}},                        {\"responsive\": true}                    ).then(function(){\n",
       "                            \n",
       "var gd = document.getElementById('0ccf7b0a-d306-431f-a693-eb28b403e098');\n",
       "var x = new MutationObserver(function (mutations, observer) {{\n",
       "        var display = window.getComputedStyle(gd).display;\n",
       "        if (!display || display === 'none') {{\n",
       "            console.log([gd, 'removed!']);\n",
       "            Plotly.purge(gd);\n",
       "            observer.disconnect();\n",
       "        }}\n",
       "}});\n",
       "\n",
       "// Listen for the removal of the full notebook cells\n",
       "var notebookContainer = gd.closest('#notebook-container');\n",
       "if (notebookContainer) {{\n",
       "    x.observe(notebookContainer, {childList: true});\n",
       "}}\n",
       "\n",
       "// Listen for the clearing of the current output cell\n",
       "var outputEl = gd.closest('.output');\n",
       "if (outputEl) {{\n",
       "    x.observe(outputEl, {childList: true});\n",
       "}}\n",
       "\n",
       "                        })                };                });            </script>        </div>"
      ]
     },
     "metadata": {},
     "output_type": "display_data"
    }
   ],
   "source": [
    "# this module test the relationship between top percentile of largest absolute past return vs future return\n",
    "# 1. correlation for top 20% largest ts1 absolute past return vs ts2 future return\n",
    "# 2. correlation for top 30% largest ts1 absolute past return vs ts2 future return\n",
    "# 3. correlation for top 50% largest ts1 absolute past return vs ts2 future return\n",
    "#%%  \n",
    "import pandas as pd\n",
    "import numpy as np\n",
    "import datetime\n",
    "import plotly.express as px\n",
    "import scipy.stats as stats\n",
    "\n",
    "# read the trading data into a pandas data frame\n",
    "df = pd.read_csv('quantTest_data.csv',header = None, names = ['date','ts1','ts2'], index_col = 0)\n",
    "corr = pd.DataFrame()\n",
    "id = 1\n",
    "# top n percentile of largest absolute past return/trend\n",
    "n1 = 20\n",
    "n2 = 30 \n",
    "n3 = 50\n",
    "#50 #10\n",
    "# i = predicted return period,  j = lookback period \n",
    "# correlation for ts1 past return vs ts2 future return\n",
    "for i in range(400, 9000, 400):\n",
    "    for j in range(400, 9000, 400):\n",
    "        r_df = pd.DataFrame(index = df.index)\n",
    "        r_df['lookback_p'] = np.log(df['ts1'].shift(i)/df['ts1'].shift(i+j)) \n",
    "        r_df['predict_p'] = np.log(df['ts2']/df['ts2'].shift(i))             \n",
    "        r_df = r_df.dropna()\n",
    "        # calculate abs return\n",
    "        r_df['lookback_abs'] = np.abs(r_df['lookback_p'])\n",
    "        # Calculate n percentile of absolute rolling_ts2 values\n",
    "        percentile_n1 = np.percentile(r_df['lookback_abs'], 100-n1)\n",
    "        percentile_n2 = np.percentile(r_df['lookback_abs'], 100-n2)\n",
    "        percentile_n3 = np.percentile(r_df['lookback_abs'], 100-n3)        \n",
    "        # Filter absolute rolling_ts2 values based on 95th percentile\n",
    "        filtered1 = r_df[r_df['lookback_abs'] >= percentile_n1]\n",
    "        filtered2 = r_df[r_df['lookback_abs'] >= percentile_n2]\n",
    "        filtered3 = r_df[r_df['lookback_abs'] >= percentile_n3]        \n",
    "        # calculate the Pearson correlation coefficient and the p-value\n",
    "        tcorr1, p_value1 = stats.pearsonr(filtered1['predict_p'], filtered1['lookback_p'])     \n",
    "        tcorr2, p_value2 = stats.pearsonr(filtered2['predict_p'], filtered2['lookback_p'])\n",
    "        tcorr3, p_value3 = stats.pearsonr(filtered3['predict_p'], filtered3['lookback_p'])\n",
    "        #corr_rolling = filtered['predict_p'].corr(filtered['lookback_p'])\n",
    "        corr.loc[id,'predict_period'] = i\n",
    "        corr.loc[id,'lookback_period'] = j\n",
    "        corr.loc[id, 'corr1'] = tcorr1\n",
    "        corr.loc[id, 'p_value1'] = p_value1\n",
    "        corr.loc[id, 'rows1'] = filtered1.shape[0]       \n",
    "        corr.loc[id, 'corr2'] = tcorr2\n",
    "        corr.loc[id, 'p_value2'] = p_value2\n",
    "        corr.loc[id, 'rows2'] = filtered1.shape[0] \n",
    "        corr.loc[id, 'corr3'] = tcorr3\n",
    "        corr.loc[id, 'p_value3'] = p_value3\n",
    "        corr.loc[id, 'rows3'] = filtered1.shape[0] \n",
    "        id+= 1\n",
    "corr.to_csv('percentile_corr.csv')   \n",
    "fig = px.scatter_3d(corr, x='predict_period', y='lookback_period', z='corr1', color='lookback_period')\n",
    "fig.show()\n",
    "\n",
    "fig2 = px.scatter_3d(corr, x='predict_period', y='lookback_period', z='corr2', color='lookback_period')\n",
    "fig2.show()\n",
    "\n",
    "fig3 = px.scatter_3d(corr, x='predict_period', y='lookback_period', z='corr3', color='lookback_period')\n",
    "fig3.show()"
   ]
  },
  {
   "cell_type": "code",
   "execution_count": null,
   "metadata": {},
   "outputs": [],
   "source": []
  }
 ],
 "metadata": {
  "kernelspec": {
   "display_name": "Python 3",
   "language": "python",
   "name": "python3"
  },
  "language_info": {
   "codemirror_mode": {
    "name": "ipython",
    "version": 3
   },
   "file_extension": ".py",
   "mimetype": "text/x-python",
   "name": "python",
   "nbconvert_exporter": "python",
   "pygments_lexer": "ipython3",
   "version": "3.7.1"
  }
 },
 "nbformat": 4,
 "nbformat_minor": 4
}
